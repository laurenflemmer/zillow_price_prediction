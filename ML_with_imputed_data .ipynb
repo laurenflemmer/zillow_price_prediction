{
 "cells": [
  {
   "cell_type": "code",
   "execution_count": 1,
   "id": "79ef5e5a-f704-4ff6-8378-ca8e32d50f2c",
   "metadata": {
    "tags": []
   },
   "outputs": [],
   "source": [
    "import gc \n",
    "import numpy as np # linear algebra\n",
    "from numpy import hstack\n",
    "from numpy import array\n",
    "import pandas as pd # data processing, CSV file I/O (e.g. pd.read_csv)\n",
    "import matplotlib.pyplot as plt  # Matlab-style plotting\n",
    "import seaborn as sns\n",
    "color = sns.color_palette()\n",
    "sns.set_style('darkgrid')\n",
    "\n",
    "from scipy import stats\n",
    "from scipy.stats import norm, skew #for some statistics"
   ]
  },
  {
   "cell_type": "code",
   "execution_count": 2,
   "id": "f8c278f5-7325-4284-b1a5-c8e234a65f8f",
   "metadata": {
    "tags": []
   },
   "outputs": [],
   "source": [
    "# read saved train data: imputed X by univariate\n",
    "df = pd.read_csv('/accounts/grad/huz4/Desktop/STAT222/univariate_imputed__full_data.csv')"
   ]
  },
  {
   "cell_type": "code",
   "execution_count": 3,
   "id": "aed3ca63-1a78-4286-99e4-d77f133da84a",
   "metadata": {
    "tags": []
   },
   "outputs": [
    {
     "data": {
      "text/plain": [
       "Index(['Unnamed: 0', 'airconditioningtypeid', 'bathroomcnt', 'bedroomcnt',\n",
       "       'buildingqualitytypeid', 'decktypeid', 'calculatedfinishedsquarefeet',\n",
       "       'fips', 'fireplacecnt', 'garagecarcnt', 'garagetotalsqft',\n",
       "       'heatingorsystemtypeid', 'lotsizesquarefeet', 'poolcnt', 'poolsizesum',\n",
       "       'pooltypeid2', 'propertylandusetypeid', 'regionidcounty', 'unitcnt',\n",
       "       'yardbuildingsqft17', 'yearbuilt', 'taxamount', 'taxdelinquencyflag',\n",
       "       'dist_to_dtla', 'dist_to_ocean', 'price'],\n",
       "      dtype='object')"
      ]
     },
     "execution_count": 3,
     "metadata": {},
     "output_type": "execute_result"
    }
   ],
   "source": [
    "df.columns"
   ]
  },
  {
   "cell_type": "code",
   "execution_count": 4,
   "id": "2f0fba5c-a6c5-48ff-95dd-2092fb3a1cca",
   "metadata": {
    "tags": []
   },
   "outputs": [],
   "source": [
    "df.drop(['Unnamed: 0','taxamount','taxdelinquencyflag'], axis = 1, inplace = True)"
   ]
  },
  {
   "cell_type": "code",
   "execution_count": 5,
   "id": "87bf85dc-4ea1-424a-b24c-af6f64a5e932",
   "metadata": {
    "tags": []
   },
   "outputs": [
    {
     "data": {
      "text/plain": [
       "Index(['airconditioningtypeid', 'bathroomcnt', 'bedroomcnt',\n",
       "       'buildingqualitytypeid', 'decktypeid', 'calculatedfinishedsquarefeet',\n",
       "       'fips', 'fireplacecnt', 'garagecarcnt', 'garagetotalsqft',\n",
       "       'heatingorsystemtypeid', 'lotsizesquarefeet', 'poolcnt', 'poolsizesum',\n",
       "       'pooltypeid2', 'propertylandusetypeid', 'regionidcounty', 'unitcnt',\n",
       "       'yardbuildingsqft17', 'yearbuilt', 'dist_to_dtla', 'dist_to_ocean',\n",
       "       'price'],\n",
       "      dtype='object')"
      ]
     },
     "execution_count": 5,
     "metadata": {},
     "output_type": "execute_result"
    }
   ],
   "source": [
    "df.columns"
   ]
  },
  {
   "cell_type": "code",
   "execution_count": 6,
   "id": "a1851044-2503-496b-9f8e-a475c996988a",
   "metadata": {
    "tags": []
   },
   "outputs": [
    {
     "data": {
      "text/plain": [
       "(2949618, 23)"
      ]
     },
     "execution_count": 6,
     "metadata": {},
     "output_type": "execute_result"
    }
   ],
   "source": [
    "df.shape"
   ]
  },
  {
   "cell_type": "code",
   "execution_count": 7,
   "id": "fb075bd1-8751-40df-b365-1da3367cef3a",
   "metadata": {
    "tags": []
   },
   "outputs": [],
   "source": [
    "float_var = [\"bathroomcnt\", \n",
    "                   \"bedroomcnt\", \n",
    "                   \"buildingqualitytypeid\", \n",
    "                   \"calculatedfinishedsquarefeet\",\n",
    "                  \"fireplacecnt\", \n",
    "                   \"garagecarcnt\", \n",
    "                   \"garagetotalsqft\",\n",
    "                   \"dist_to_dtla\", \n",
    "                   \"dist_to_ocean\", \n",
    "                   \"lotsizesquarefeet\", \n",
    "                   \"poolcnt\",\n",
    "                  \"poolsizesum\", \n",
    "                   \"unitcnt\", \n",
    "                   \"yardbuildingsqft17\",\n",
    "                    \"price\"]\n",
    "\n",
    "df_no_out = df[(np.abs(stats.zscore(df[float_var])) < 3).all(axis=1)]"
   ]
  },
  {
   "cell_type": "markdown",
   "id": "ae863276-7e11-4914-a2e6-29092cb33454",
   "metadata": {},
   "source": [
    "One of the most important steps in our data preprocessing is detecting and treating the outliers as they can negatively affect the statistical analysis and the training process of a machine learning algorithm resulting in lower accuracy. In this project, we will detect outliers using the Z-scores method, and define a threshold value of 3 and mark the datapoints whose absolute value of Z-score is greater than the threshold as outliers. Since we have imputed missing with mode/median in the EDA part, if we find any outliers in those columns, we will follow the same strategy. Otherwise, we will delete them directly"
   ]
  },
  {
   "cell_type": "code",
   "execution_count": null,
   "id": "4620e574-72ba-4dca-8d9e-648cb2fb6790",
   "metadata": {},
   "outputs": [],
   "source": [
    "# inputation with median columns\n",
    "median_df = df[[\"buildingqualitytypeid\", \"lotsizesquarefeet\", \"bathroomcnt\", \"bedroomcnt\", \"calculatedfinishedsquarefeet\",\n",
    "                      \"structuretaxvaluedollarcnt\", \"landtaxvaluedollarcnt\"]]\n",
    "\n",
    "# inputation with mode columns\n",
    "mode_df = df[[\"airconditioningtypeid\", \"heatingorsystemtypeid\", \"unitcnt\", \"fips\", \n",
    "                    \"propertylandusetypeid\", \"regionidcounty\", \"yearbuilt\"]]"
   ]
  },
  {
   "cell_type": "markdown",
   "id": "eb4cbaed-85d0-4d12-87f1-c3591e7176a1",
   "metadata": {},
   "source": [
    "remove outiler with z score greater than 3( only for continuous featrues)"
   ]
  },
  {
   "cell_type": "code",
   "execution_count": 43,
   "id": "faf72ddc-864a-4bb2-bdbb-257930ddf469",
   "metadata": {
    "tags": []
   },
   "outputs": [],
   "source": [
    "# replace outliers with median or mode\n",
    "def replace_outliers(df):\n",
    "    df = df.copy() # make a copy of the orginal Dataframe\n",
    "    for col1 in median_df.columns:\n",
    "        col_median = df[col1].median()\n",
    "        col_std = df[col1].std()\n",
    "        df[col1] = np.where(np.abs(stats.zscore(df[col1]))>3, col_median,df[col1])\n",
    "    for col2 in mode_df.columns:\n",
    "        col_mode = df[col2].mode()\n",
    "        col_std = df[col2].std()\n",
    "        df[col2] = np.where(np.abs(stats.zscore(df[col2]))>3, col_mode, df[col2])\n",
    "    return df"
   ]
  },
  {
   "cell_type": "code",
   "execution_count": null,
   "id": "8a9e3835-4076-4368-8f74-071258397322",
   "metadata": {},
   "outputs": [],
   "source": [
    "# replace outliers\n",
    "df = replace_outliers(df)"
   ]
  },
  {
   "cell_type": "code",
   "execution_count": 44,
   "id": "5639fbb3-1ca0-499b-bffe-7e505356b0a1",
   "metadata": {
    "tags": []
   },
   "outputs": [],
   "source": [
    "# delete all other outliers in the following columns\n",
    "continuous_df = df[['fireplacecnt', 'garagecarcnt', 'garagetotalsqft',\n",
    "                     'poolcnt', 'poolsizesum', 'unitcnt', 'yardbuildingsqft17',\n",
    "                     'dist_to_dtla', 'dist_to_ocean']]\n",
    "def find_outliers(col):\n",
    "    zscore_col = np.abs(stats.zscore(col))\n",
    "    keep_index = np.where(zscore_col > 3, False, True)\n",
    "    return pd.Series(keep_index, index=col.index)\n",
    "\n",
    "continuous_df_outlier_flag = continuous_df.apply(find_outliers, axis=0)\n",
    "\n",
    "# if property has no outliers in any of the columns, keep it\n",
    "no_outlier_index = np.where(continuous_df_outlier_flag.apply(all, axis=1) == True)\n",
    "df = df.iloc[no_outlier_index]"
   ]
  },
  {
   "cell_type": "code",
   "execution_count": 8,
   "id": "83a92336-e270-4d67-bb14-0a132342a1e3",
   "metadata": {
    "tags": []
   },
   "outputs": [],
   "source": [
    "## seperate the single house, emptyland and appartment for EDA plots\n",
    "condominium = df[(df['propertylandusetypeid'] == 266)]\n",
    "\n",
    "# multi-unit-home includes duplex, triplex, quadruplex\n",
    "multi_unit_home = df[(df['propertylandusetypeid'] == 246) |\n",
    "                    (df['propertylandusetypeid'] == 247) |\n",
    "                    (df['propertylandusetypeid'] == 248)]\n",
    "                       \n",
    "single_family = df[df['propertylandusetypeid'] == 261]\n",
    "\n",
    "# Planned Unit Development (townhouse)\n",
    "townhouse = df[df['propertylandusetypeid'] == 269]\n",
    "\n",
    "mobile_home = df[df['propertylandusetypeid'] == 263]"
   ]
  },
  {
   "cell_type": "code",
   "execution_count": 9,
   "id": "33010f0d-b671-4d93-8e42-83bbc40f9938",
   "metadata": {
    "tags": []
   },
   "outputs": [],
   "source": [
    "# do a 80,20 split on each data, set a seed\n",
    "import random\n",
    "random.seed(222)\n",
    "from sklearn.model_selection import train_test_split\n",
    "\n",
    "train_con, test_con = train_test_split(condominium, test_size=0.2)\n",
    "train_mul, test_mul = train_test_split(multi_unit_home, test_size=0.2)\n",
    "train_sin, test_sin = train_test_split(single_family, test_size=0.2)\n",
    "train_town, test_town = train_test_split(townhouse, test_size=0.2)\n",
    "train_mob, test_mob = train_test_split(mobile_home, test_size=0.2)"
   ]
  },
  {
   "cell_type": "code",
   "execution_count": 10,
   "id": "cdd95624-e51c-4fa4-a33c-4d346a5d5a84",
   "metadata": {
    "tags": []
   },
   "outputs": [],
   "source": [
    "#condo\n",
    "X_train_con = train_con.drop(['price'], axis =1)\n",
    "Y_train_con = train_con['price']\n",
    "X_test_con = test_con.drop(['price'], axis =1)\n",
    "Y_test_con = test_con['price']\n",
    "\n",
    "#multi_unit\n",
    "X_train_mul = train_mul.drop(['price'], axis =1)\n",
    "Y_train_mul = train_mul['price']\n",
    "X_test_mul = test_mul.drop(['price'], axis =1)\n",
    "Y_test_mul = test_mul['price']\n",
    "\n",
    "#single_family\n",
    "X_train_sin = train_sin.drop(['price'], axis =1)\n",
    "Y_train_sin = train_sin['price']\n",
    "X_test_sin = test_sin.drop(['price'], axis =1)\n",
    "Y_test_sin = test_sin['price']\n",
    "\n",
    "#townhouse\n",
    "X_train_town = train_town.drop(['price'], axis =1)\n",
    "Y_train_town = train_town['price']\n",
    "X_test_town = test_town.drop(['price'], axis =1)\n",
    "Y_test_town = test_town['price']\n",
    "\n",
    "#mobile_home\n",
    "X_train_mob = train_mob.drop(['price'], axis =1)\n",
    "Y_train_mob = train_mob['price']\n",
    "X_test_mob = test_mob.drop(['price'], axis =1)\n",
    "Y_test_mob = test_mob['price']"
   ]
  },
  {
   "cell_type": "code",
   "execution_count": 11,
   "id": "96f73529-8e9b-42f7-a12f-8947bd348d24",
   "metadata": {
    "tags": []
   },
   "outputs": [
    {
     "name": "stdout",
     "output_type": "stream",
     "text": [
      "(386736, 22)\n",
      "(386736,)\n",
      "(96684, 22)\n",
      "(96684,)\n"
     ]
    }
   ],
   "source": [
    "print(X_train_con.shape)\n",
    "print(Y_train_con.shape)\n",
    "print(X_test_con.shape)\n",
    "print(Y_test_con.shape)"
   ]
  },
  {
   "cell_type": "code",
   "execution_count": 12,
   "id": "c4e938a1-a514-4992-972d-f455180dd4b9",
   "metadata": {
    "tags": []
   },
   "outputs": [
    {
     "data": {
      "text/plain": [
       "Index(['airconditioningtypeid', 'bathroomcnt', 'bedroomcnt',\n",
       "       'buildingqualitytypeid', 'decktypeid', 'calculatedfinishedsquarefeet',\n",
       "       'fips', 'fireplacecnt', 'garagecarcnt', 'garagetotalsqft',\n",
       "       'heatingorsystemtypeid', 'lotsizesquarefeet', 'poolcnt', 'poolsizesum',\n",
       "       'pooltypeid2', 'propertylandusetypeid', 'regionidcounty', 'unitcnt',\n",
       "       'yardbuildingsqft17', 'yearbuilt', 'dist_to_dtla', 'dist_to_ocean'],\n",
       "      dtype='object')"
      ]
     },
     "execution_count": 12,
     "metadata": {},
     "output_type": "execute_result"
    }
   ],
   "source": [
    "X_train_con.columns"
   ]
  },
  {
   "cell_type": "code",
   "execution_count": 32,
   "id": "50ddeadf-710d-4134-bfae-4d5653e398be",
   "metadata": {
    "tags": []
   },
   "outputs": [
    {
     "data": {
      "text/plain": [
       "Index(['airconditioningtypeid', 'bathroomcnt', 'bedroomcnt',\n",
       "       'buildingqualitytypeid', 'decktypeid', 'calculatedfinishedsquarefeet',\n",
       "       'fips', 'fireplacecnt', 'garagecarcnt', 'garagetotalsqft',\n",
       "       'heatingorsystemtypeid', 'lotsizesquarefeet', 'poolcnt', 'poolsizesum',\n",
       "       'pooltypeid2', 'propertylandusetypeid', 'regionidcounty', 'unitcnt',\n",
       "       'yardbuildingsqft17', 'yearbuilt', 'dist_to_dtla', 'dist_to_ocean'],\n",
       "      dtype='object')"
      ]
     },
     "execution_count": 32,
     "metadata": {},
     "output_type": "execute_result"
    }
   ],
   "source": [
    "X_test_con.columns"
   ]
  },
  {
   "cell_type": "code",
   "execution_count": 13,
   "id": "a92c6a11-3a98-4449-91b7-965eb120bb6c",
   "metadata": {
    "tags": []
   },
   "outputs": [],
   "source": [
    "from sklearn.metrics import mean_squared_error\n",
    "from sklearn.metrics import mean_absolute_error\n",
    "def get_eval_metrics(models, X, y_true): \n",
    "    \"\"\"\n",
    "    Calculates MAE (Mean Absoulate Error) and RMSE (Root Mean Squared Error) on the data set for input models. \n",
    "    `models`: list of fit models \n",
    "    \"\"\"\n",
    "    for model in models: \n",
    "        y_pred= model.predict(X)\n",
    "        rmse = mean_squared_error(y_true, y_pred, squared=False)\n",
    "        mae = mean_absolute_error(y_true, y_pred)\n",
    "        print(f\"Model: {model}\")\n",
    "        print(f\"MAE: {mae}, RMSE: {rmse}\")\n",
    "\n",
    "# Test usage of RMSE function\n",
    "# get_eval_metrics([lin_reg, ridge_reg, lasso_reg], X_prepared_val, y_val)\n",
    "\n",
    "#calculate average log error \n",
    "import math\n",
    "from statistics import mean\n",
    "def get_avg_log_error(model, x, y_true):\n",
    "    \"\"\"\n",
    "    Calculate average log error on the data set for imput models\n",
    "    log error = log(true price) - log(prediction)\n",
    "    \"\"\"\n",
    "    y_pred= model.predict(x)\n",
    "    avg_log_error = mean( np.log(y_true) - np.log(y_pred))\n",
    "    print(f\"Model: {model}\")\n",
    "    print(f\"log_error: {avg_log_error}\")"
   ]
  },
  {
   "cell_type": "markdown",
   "id": "a6b4086f-9a13-4782-922c-a3364eb8e1ba",
   "metadata": {
    "tags": []
   },
   "source": [
    "# condominium"
   ]
  },
  {
   "cell_type": "markdown",
   "id": "b076c213-67b2-47fe-baba-24cc45e0c208",
   "metadata": {
    "tags": []
   },
   "source": [
    "## Random forest"
   ]
  },
  {
   "cell_type": "code",
   "execution_count": 65,
   "id": "3d7b6cb8-c29a-44eb-acbc-92800e9eed7f",
   "metadata": {
    "tags": []
   },
   "outputs": [
    {
     "data": {
      "text/html": [
       "<style>#sk-container-id-3 {color: black;background-color: white;}#sk-container-id-3 pre{padding: 0;}#sk-container-id-3 div.sk-toggleable {background-color: white;}#sk-container-id-3 label.sk-toggleable__label {cursor: pointer;display: block;width: 100%;margin-bottom: 0;padding: 0.3em;box-sizing: border-box;text-align: center;}#sk-container-id-3 label.sk-toggleable__label-arrow:before {content: \"▸\";float: left;margin-right: 0.25em;color: #696969;}#sk-container-id-3 label.sk-toggleable__label-arrow:hover:before {color: black;}#sk-container-id-3 div.sk-estimator:hover label.sk-toggleable__label-arrow:before {color: black;}#sk-container-id-3 div.sk-toggleable__content {max-height: 0;max-width: 0;overflow: hidden;text-align: left;background-color: #f0f8ff;}#sk-container-id-3 div.sk-toggleable__content pre {margin: 0.2em;color: black;border-radius: 0.25em;background-color: #f0f8ff;}#sk-container-id-3 input.sk-toggleable__control:checked~div.sk-toggleable__content {max-height: 200px;max-width: 100%;overflow: auto;}#sk-container-id-3 input.sk-toggleable__control:checked~label.sk-toggleable__label-arrow:before {content: \"▾\";}#sk-container-id-3 div.sk-estimator input.sk-toggleable__control:checked~label.sk-toggleable__label {background-color: #d4ebff;}#sk-container-id-3 div.sk-label input.sk-toggleable__control:checked~label.sk-toggleable__label {background-color: #d4ebff;}#sk-container-id-3 input.sk-hidden--visually {border: 0;clip: rect(1px 1px 1px 1px);clip: rect(1px, 1px, 1px, 1px);height: 1px;margin: -1px;overflow: hidden;padding: 0;position: absolute;width: 1px;}#sk-container-id-3 div.sk-estimator {font-family: monospace;background-color: #f0f8ff;border: 1px dotted black;border-radius: 0.25em;box-sizing: border-box;margin-bottom: 0.5em;}#sk-container-id-3 div.sk-estimator:hover {background-color: #d4ebff;}#sk-container-id-3 div.sk-parallel-item::after {content: \"\";width: 100%;border-bottom: 1px solid gray;flex-grow: 1;}#sk-container-id-3 div.sk-label:hover label.sk-toggleable__label {background-color: #d4ebff;}#sk-container-id-3 div.sk-serial::before {content: \"\";position: absolute;border-left: 1px solid gray;box-sizing: border-box;top: 0;bottom: 0;left: 50%;z-index: 0;}#sk-container-id-3 div.sk-serial {display: flex;flex-direction: column;align-items: center;background-color: white;padding-right: 0.2em;padding-left: 0.2em;position: relative;}#sk-container-id-3 div.sk-item {position: relative;z-index: 1;}#sk-container-id-3 div.sk-parallel {display: flex;align-items: stretch;justify-content: center;background-color: white;position: relative;}#sk-container-id-3 div.sk-item::before, #sk-container-id-3 div.sk-parallel-item::before {content: \"\";position: absolute;border-left: 1px solid gray;box-sizing: border-box;top: 0;bottom: 0;left: 50%;z-index: -1;}#sk-container-id-3 div.sk-parallel-item {display: flex;flex-direction: column;z-index: 1;position: relative;background-color: white;}#sk-container-id-3 div.sk-parallel-item:first-child::after {align-self: flex-end;width: 50%;}#sk-container-id-3 div.sk-parallel-item:last-child::after {align-self: flex-start;width: 50%;}#sk-container-id-3 div.sk-parallel-item:only-child::after {width: 0;}#sk-container-id-3 div.sk-dashed-wrapped {border: 1px dashed gray;margin: 0 0.4em 0.5em 0.4em;box-sizing: border-box;padding-bottom: 0.4em;background-color: white;}#sk-container-id-3 div.sk-label label {font-family: monospace;font-weight: bold;display: inline-block;line-height: 1.2em;}#sk-container-id-3 div.sk-label-container {text-align: center;}#sk-container-id-3 div.sk-container {/* jupyter's `normalize.less` sets `[hidden] { display: none; }` but bootstrap.min.css set `[hidden] { display: none !important; }` so we also need the `!important` here to be able to override the default hidden behavior on the sphinx rendered scikit-learn.org. See: https://github.com/scikit-learn/scikit-learn/issues/21755 */display: inline-block !important;position: relative;}#sk-container-id-3 div.sk-text-repr-fallback {display: none;}</style><div id=\"sk-container-id-3\" class=\"sk-top-container\"><div class=\"sk-text-repr-fallback\"><pre>RandomForestRegressor(max_depth=50, max_features=0.6, min_samples_leaf=16,\n",
       "                      n_estimators=400, n_jobs=-1)</pre><b>In a Jupyter environment, please rerun this cell to show the HTML representation or trust the notebook. <br />On GitHub, the HTML representation is unable to render, please try loading this page with nbviewer.org.</b></div><div class=\"sk-container\" hidden><div class=\"sk-item\"><div class=\"sk-estimator sk-toggleable\"><input class=\"sk-toggleable__control sk-hidden--visually\" id=\"sk-estimator-id-3\" type=\"checkbox\" checked><label for=\"sk-estimator-id-3\" class=\"sk-toggleable__label sk-toggleable__label-arrow\">RandomForestRegressor</label><div class=\"sk-toggleable__content\"><pre>RandomForestRegressor(max_depth=50, max_features=0.6, min_samples_leaf=16,\n",
       "                      n_estimators=400, n_jobs=-1)</pre></div></div></div></div></div>"
      ],
      "text/plain": [
       "RandomForestRegressor(max_depth=50, max_features=0.6, min_samples_leaf=16,\n",
       "                      n_estimators=400, n_jobs=-1)"
      ]
     },
     "execution_count": 65,
     "metadata": {},
     "output_type": "execute_result"
    }
   ],
   "source": [
    "best_params ={'max_depth': 50,\n",
    "              'n_estimators': 400,\n",
    "            'max_features': 0.6,\n",
    "            'min_samples_leaf': 16,\n",
    "             'n_jobs':-1}\n",
    "ran_forest_con = RandomForestRegressor(**best_params)\n",
    "ran_forest_con.fit(X_train_con, Y_train_con)"
   ]
  },
  {
   "cell_type": "code",
   "execution_count": 68,
   "id": "8a3e5c6b-6891-4c1d-817f-5215ea1d4b21",
   "metadata": {
    "tags": []
   },
   "outputs": [
    {
     "name": "stdout",
     "output_type": "stream",
     "text": [
      "Model: RandomForestRegressor(max_depth=50, max_features=0.6, min_samples_leaf=16,\n",
      "                      n_estimators=400, n_jobs=-1)\n",
      "MAE: 94904.9706800773, RMSE: 190289.15422734304\n"
     ]
    }
   ],
   "source": [
    "get_eval_metrics([ran_forest_con], X_test_con, Y_test_con)"
   ]
  },
  {
   "cell_type": "code",
   "execution_count": 69,
   "id": "5bdcd2c2-9fe0-40bd-b57b-46c02abe4c19",
   "metadata": {
    "tags": []
   },
   "outputs": [
    {
     "name": "stdout",
     "output_type": "stream",
     "text": [
      "Model: RandomForestRegressor(max_depth=50, max_features=0.6, min_samples_leaf=16,\n",
      "                      n_estimators=400, n_jobs=-1)\n",
      "log_error: -0.07570456309515025\n"
     ]
    }
   ],
   "source": [
    "get_avg_log_error(ran_forest_con, X_test_con, Y_test_con)"
   ]
  },
  {
   "cell_type": "markdown",
   "id": "81c3cfd0-e7ce-4536-bef3-ee5fbed71b6c",
   "metadata": {
    "tags": []
   },
   "source": [
    "## Gradient Boosting(XGBoost)"
   ]
  },
  {
   "cell_type": "code",
   "execution_count": 285,
   "id": "aa256fa1-8fec-4e64-92ec-8823768fe057",
   "metadata": {
    "tags": []
   },
   "outputs": [
    {
     "data": {
      "text/plain": [
       "(93276, 22)"
      ]
     },
     "execution_count": 285,
     "metadata": {},
     "output_type": "execute_result"
    }
   ],
   "source": [
    "X_test_con.shape"
   ]
  },
  {
   "cell_type": "code",
   "execution_count": 286,
   "id": "6d10c20c-3b19-4a29-8c9f-4e67127ad6a5",
   "metadata": {
    "tags": []
   },
   "outputs": [
    {
     "data": {
      "text/plain": [
       "(373104, 23)"
      ]
     },
     "execution_count": 286,
     "metadata": {},
     "output_type": "execute_result"
    }
   ],
   "source": [
    "train_con.shape"
   ]
  },
  {
   "cell_type": "code",
   "execution_count": 14,
   "id": "879aa6ca-305e-4609-bb7f-bbb42e0f7286",
   "metadata": {
    "tags": []
   },
   "outputs": [],
   "source": [
    "import xgboost as xgb\n",
    "from sklearn.model_selection import cross_val_score\n",
    "from sklearn.metrics import mean_squared_error, mean_absolute_error, make_scorer"
   ]
  },
  {
   "cell_type": "code",
   "execution_count": 15,
   "id": "2b9ac500-ce75-48fe-864c-b406792d7e98",
   "metadata": {
    "tags": []
   },
   "outputs": [],
   "source": [
    "# do a 80,20 split on data for validation, set a seed\n",
    "import random\n",
    "random.seed(222)\n",
    "from sklearn.model_selection import train_test_split\n",
    "\n",
    "#set validation set for early stopping\n",
    "train_con, valid_con = train_test_split(train_con, test_size=0.2)\n",
    "\n",
    "X_train_con = train_con.drop(['price'], axis =1)\n",
    "Y_train_con = train_con['price']\n",
    "X_valid_con = valid_con.drop(['price'], axis =1)\n",
    "Y_valid_con = valid_con['price']"
   ]
  },
  {
   "cell_type": "code",
   "execution_count": 16,
   "id": "ec820410-ccf9-4f6b-9a7f-2e51c54f0a61",
   "metadata": {
    "tags": []
   },
   "outputs": [
    {
     "name": "stdout",
     "output_type": "stream",
     "text": [
      "Training ...\n",
      "[20:15:23] WARNING: ../src/objective/regression_obj.cu:213: reg:linear is now deprecated in favor of reg:squarederror.\n",
      "[20:15:23] WARNING: ../src/learner.cc:767: \n",
      "Parameters: { \"silent\" } are not used.\n",
      "\n"
     ]
    },
    {
     "name": "stderr",
     "output_type": "stream",
     "text": [
      "/accounts/grad/huz4/.local/lib/python3.11/site-packages/xgboost/core.py:617: FutureWarning: Pass `evals` as keyword args.\n",
      "  warnings.warn(msg, FutureWarning)\n"
     ]
    },
    {
     "name": "stdout",
     "output_type": "stream",
     "text": [
      "[0]\ttrain-mae:258174.58190\tvalid-mae:258269.50014\n",
      "[50]\ttrain-mae:105350.06108\tvalid-mae:107007.64799\n",
      "[100]\ttrain-mae:101922.86473\tvalid-mae:104348.63790\n",
      "[150]\ttrain-mae:99849.03891\tvalid-mae:102827.16678\n",
      "[200]\ttrain-mae:98450.32233\tvalid-mae:101829.15571\n",
      "[250]\ttrain-mae:97071.21039\tvalid-mae:100903.70325\n",
      "[300]\ttrain-mae:96179.63796\tvalid-mae:100393.27725\n",
      "[310]\ttrain-mae:96093.69644\tvalid-mae:100379.12695\n",
      "Predicting on test ...\n",
      "mean log error 0.0783548214264479\n",
      "Done!\n"
     ]
    },
    {
     "name": "stderr",
     "output_type": "stream",
     "text": [
      "/tmp/ipykernel_883612/1414060588.py:27: RuntimeWarning: invalid value encountered in log\n",
      "  logerror = np.log(p_test_con) - np.log(Y_test_con)\n"
     ]
    }
   ],
   "source": [
    "d_train = xgb.DMatrix(X_train_con, label=Y_train_con, enable_categorical=True)\n",
    "d_valid = xgb.DMatrix(X_valid_con, label=Y_valid_con, enable_categorical=True)\n",
    "\n",
    "\n",
    "print('Training ...')\n",
    "\n",
    "params = {}\n",
    "params['eta'] = 0.3\n",
    "params['objective'] = 'reg:linear'\n",
    "params['eval_metric'] = 'mae'\n",
    "params['max_depth'] = 4\n",
    "params['silent'] = 1\n",
    "\n",
    "watchlist = [(d_train, 'train'), (d_valid, 'valid')]\n",
    "clf = xgb.train(params, d_train, 10000, watchlist, early_stopping_rounds=10, verbose_eval=50)\n",
    "\n",
    "\n",
    "\n",
    "d_test = xgb.DMatrix(X_test_con, enable_categorical=True)\n",
    "\n",
    "\n",
    "print('Predicting on test ...')\n",
    "\n",
    "p_test_con = clf.predict(d_test)\n",
    "\n",
    "import math\n",
    "logerror = np.log(p_test_con) - np.log(Y_test_con)\n",
    "print('mean log error', np.mean(logerror))\n",
    "print('Done!')"
   ]
  },
  {
   "cell_type": "code",
   "execution_count": 20,
   "id": "d3eb1b5d-24cd-4add-9241-42c6a379b1e4",
   "metadata": {
    "tags": []
   },
   "outputs": [
    {
     "name": "stdout",
     "output_type": "stream",
     "text": [
      "Model: <xgboost.core.Booster object at 0x7f73aca82d90>\n",
      "MAE: 100491.97787057297, RMSE: 193060.81682497496\n"
     ]
    }
   ],
   "source": [
    "get_eval_metrics([clf], d_test, Y_test_con)"
   ]
  },
  {
   "cell_type": "code",
   "execution_count": 17,
   "id": "ac75ba7e-75ab-46ff-baed-5e1195e4a828",
   "metadata": {
    "tags": []
   },
   "outputs": [
    {
     "data": {
      "text/plain": [
       "<AxesSubplot: title={'center': 'Feature importance'}, xlabel='F score', ylabel='Features'>"
      ]
     },
     "execution_count": 17,
     "metadata": {},
     "output_type": "execute_result"
    },
    {
     "data": {
      "image/png": "[encoded data removed]",
      "text/plain": [
       "<Figure size 640x480 with 1 Axes>"
      ]
     },
     "metadata": {},
     "output_type": "display_data"
    }
   ],
   "source": [
    "from xgboost import plot_importance\n",
    "plot_importance(clf, max_num_features = 15)"
   ]
  },
  {
   "cell_type": "code",
   "execution_count": 21,
   "id": "211726bb-0986-4784-b5ac-2c6c242034c1",
   "metadata": {
    "tags": []
   },
   "outputs": [
    {
     "name": "stderr",
     "output_type": "stream",
     "text": [
      "/accounts/grad/huz4/.local/lib/python3.11/site-packages/lightgbm/engine.py:181: UserWarning: 'early_stopping_rounds' argument is deprecated and will be removed in a future release of LightGBM. Pass 'early_stopping()' callback via 'callbacks' argument instead.\n",
      "  _log_warning(\"'early_stopping_rounds' argument is deprecated and will be removed in a future release of LightGBM. \"\n",
      "/accounts/grad/huz4/.local/lib/python3.11/site-packages/lightgbm/engine.py:239: UserWarning: 'verbose_eval' argument is deprecated and will be removed in a future release of LightGBM. Pass 'log_evaluation()' callback via 'callbacks' argument instead.\n",
      "  _log_warning(\"'verbose_eval' argument is deprecated and will be removed in a future release of LightGBM. \"\n"
     ]
    },
    {
     "name": "stdout",
     "output_type": "stream",
     "text": [
      "[LightGBM] [Warning] Auto-choosing row-wise multi-threading, the overhead of testing was 0.026698 seconds.\n",
      "You can set `force_row_wise=true` to remove the overhead.\n",
      "And if memory is not enough, you can set `force_col_wise=true`.\n",
      "[LightGBM] [Info] Total Bins 1374\n",
      "[LightGBM] [Info] Number of data points in the train set: 309388, number of used features: 17\n",
      "[LightGBM] [Info] Start training from score 366311.708806\n",
      "Training until validation scores don't improve for 10 rounds\n",
      "[LightGBM] [Warning] No further splits with positive gain, best gain: -inf\n",
      "[50]\tvalid_0's l1: 118661\n",
      "[100]\tvalid_0's l1: 109202\n",
      "[150]\tvalid_0's l1: 106201\n",
      "[200]\tvalid_0's l1: 104817\n",
      "[250]\tvalid_0's l1: 103933\n",
      "[300]\tvalid_0's l1: 103320\n",
      "[350]\tvalid_0's l1: 102785\n",
      "[400]\tvalid_0's l1: 102280\n",
      "[LightGBM] [Warning] No further splits with positive gain, best gain: -inf\n",
      "[450]\tvalid_0's l1: 101905\n",
      "[500]\tvalid_0's l1: 101550\n",
      "Did not meet early stopping. Best iteration is:\n",
      "[500]\tvalid_0's l1: 101550\n",
      "Done!\n"
     ]
    }
   ],
   "source": [
    "import lightgbm as lgb\n",
    "d_train = lgb.Dataset(X_train_con, label=Y_train_con)\n",
    "d_valid = lgb.Dataset(X_valid_con, label=Y_valid_con)\n",
    "\n",
    "params = {}\n",
    "params['learning_rate'] = 0.03\n",
    "params['boosting_type'] = 'gbdt'\n",
    "params['objective'] = 'regression'\n",
    "params['metric'] = 'mae'\n",
    "params['sub_feature'] = 0.5\n",
    "params['num_leaves'] = 60\n",
    "params['min_data'] = 500\n",
    "params['min_hessian'] = 1\n",
    "\n",
    "watchlist = [d_valid]\n",
    "clf = lgb.train(params, d_train, 500, watchlist,early_stopping_rounds=10, verbose_eval=50)\n",
    "\n",
    "print('Done!')"
   ]
  },
  {
   "cell_type": "code",
   "execution_count": 22,
   "id": "0ba0f3bd-69b7-4002-8904-a20ec2da0cd0",
   "metadata": {
    "tags": []
   },
   "outputs": [
    {
     "name": "stdout",
     "output_type": "stream",
     "text": [
      "Model: <lightgbm.basic.Booster object at 0x7f73643349d0>\n",
      "MAE: 101824.21691938603, RMSE: 204108.76732939942\n"
     ]
    }
   ],
   "source": [
    "# testing set error\n",
    "get_eval_metrics([clf], X_test_con, Y_test_con)"
   ]
  },
  {
   "cell_type": "code",
   "execution_count": 23,
   "id": "49aee58b-27dd-4290-9ad3-ea90f7c16215",
   "metadata": {
    "tags": []
   },
   "outputs": [
    {
     "name": "stdout",
     "output_type": "stream",
     "text": [
      "mean log error 0.08362266303693461\n"
     ]
    }
   ],
   "source": [
    "# testing log error\n",
    "def replace_negative_with_one(lst):\n",
    "    return [max(1, num) for num in lst]\n",
    "\n",
    "p_test = clf.predict(X_test_con)\n",
    "p_test = replace_negative_with_one(p_test)\n",
    "import math\n",
    "logerror = np.log(p_test) - np.log(Y_test_con)\n",
    "print('mean log error', np.mean(logerror))"
   ]
  },
  {
   "cell_type": "markdown",
   "id": "cd6cff13-3265-4f45-a13d-9a7a2bd5395f",
   "metadata": {
    "tags": []
   },
   "source": [
    "## Gradient Boosting(AdaBoost)"
   ]
  },
  {
   "cell_type": "code",
   "execution_count": 38,
   "id": "a52aecfa-727f-48be-aec6-9f78883b9b50",
   "metadata": {
    "tags": []
   },
   "outputs": [],
   "source": [
    "#Ada boosting regression model\n",
    "from sklearn.datasets import make_regression\n",
    "from sklearn.ensemble import AdaBoostRegressor\n",
    "from sklearn.tree import DecisionTreeRegressor\n",
    "from sklearn import tree\n",
    "from sklearn.model_selection import GridSearchCV\n",
    "from sklearn.model_selection import KFold\n",
    "from sklearn.model_selection import cross_val_score"
   ]
  },
  {
   "cell_type": "code",
   "execution_count": null,
   "id": "b87026f5-4763-4404-aa36-5c3de05841f7",
   "metadata": {},
   "outputs": [],
   "source": [
    "ada = AdaBoostRegressor()\n",
    "ada.fit(X_train_con, Y_train_con)\n",
    "# training MAE and RMSE\n",
    "get_eval_metrics([ada], X_train_con, Y_train_con)\n",
    "# testing MAE and RMSE\n",
    "get_eval_metrics([ada], X_test_con, Y_test_con)\n",
    "#average log error\n",
    "get_avg_log_error(ada, X_test_con, Y_test_con)"
   ]
  },
  {
   "cell_type": "markdown",
   "id": "c0ac5215-fc42-4067-944d-8f646089152e",
   "metadata": {
    "tags": [],
    "user_expressions": []
   },
   "source": [
    "## Linear Regression"
   ]
  },
  {
   "cell_type": "code",
   "execution_count": 53,
   "id": "e84d9d08-e235-42da-bb3d-5ec50cbdd2c8",
   "metadata": {
    "tags": []
   },
   "outputs": [],
   "source": [
    "#linear regression\n",
    "from sklearn import linear_model"
   ]
  },
  {
   "cell_type": "code",
   "execution_count": 54,
   "id": "ce432402-1681-4945-818f-e3c97186116e",
   "metadata": {
    "tags": []
   },
   "outputs": [
    {
     "name": "stdout",
     "output_type": "stream",
     "text": [
      "[ 5.48658476e+11 -6.95440184e+03 -5.43734253e+02 -3.50305688e+03\n",
      " -2.21257414e+10  2.64127175e+04  7.91342018e+11 -1.32795793e+04\n",
      "  1.32070557e+04  2.04948711e+08 -4.82941192e+11  1.30795557e+04\n",
      " -1.32591248e+02 -1.68968494e+03 -4.19683768e+08 -1.34353254e+08\n",
      "  6.78248585e+10  3.17290923e+04  2.00805048e+03 -1.17954657e+03\n",
      "  4.90754123e+05  4.56184806e+05  3.81714966e+02  1.71606885e+03\n",
      "  8.40106069e+11 -4.64647868e+12 -5.19513716e+12 -5.74379573e+12\n",
      " -2.57210892e+11 -1.35452783e+12 -3.54916170e+12 -5.74642851e+12\n",
      " -1.39995781e+12 -9.17016608e+11 -4.34075408e+11  4.88657330e+10\n",
      " -2.46386838e+06  2.46357172e+12 -5.26348733e+12  3.42945409e+12\n",
      "  3.91239530e+12  5.36121888e+12 -3.33172257e+12 -2.84878135e+12\n",
      " -2.70109715e+13  2.58353254e+13 -2.10216997e+13  0.00000000e+00\n",
      "  0.00000000e+00  0.00000000e+00  0.00000000e+00  0.00000000e+00\n",
      "  0.00000000e+00  0.00000000e+00  0.00000000e+00  0.00000000e+00\n",
      "  0.00000000e+00  0.00000000e+00  0.00000000e+00  0.00000000e+00\n",
      "  0.00000000e+00  0.00000000e+00  2.58353254e+13 -2.10216997e+13\n",
      " -2.70109715e+13 -5.42043687e+08 -1.22429788e+08 -7.58865477e+11\n",
      "  7.01433457e+11  6.07040943e+10  6.07040992e+10]\n"
     ]
    }
   ],
   "source": [
    "#fitting regression model\n",
    "regr = linear_model.LinearRegression()\n",
    "regr.fit(X_train_con, Y_train_con)\n",
    "print(regr.coef_)"
   ]
  },
  {
   "cell_type": "code",
   "execution_count": 34,
   "id": "06dd7ded-5ece-4bbb-b9a4-9dda726e115f",
   "metadata": {
    "tags": []
   },
   "outputs": [
    {
     "name": "stdout",
     "output_type": "stream",
     "text": [
      "Model: LinearRegression()\n",
      "MAE: 32000.71557357754, RMSE: 54660.355543825484\n",
      "Model: LinearRegression()\n",
      "MAE: 31872.86856055413, RMSE: 54637.19570343414\n"
     ]
    }
   ],
   "source": [
    "# training MAE and RMSE\n",
    "get_eval_metrics([regr], X_train_con, Y_train_con)\n",
    "# testing MAE and RMSE\n",
    "get_eval_metrics([regr], X_test_con, Y_test_con)\n",
    "#average log error\n",
    "get_avg_log error(ada, X_test_con, Y_test_con)"
   ]
  },
  {
   "cell_type": "markdown",
   "id": "6cb1c4fa-aec2-430c-b550-14714838376c",
   "metadata": {
    "tags": []
   },
   "source": [
    "# multi_unit_home"
   ]
  },
  {
   "cell_type": "markdown",
   "id": "5af72129-b5a0-46e4-94ca-12e8f02e6006",
   "metadata": {
    "tags": []
   },
   "source": [
    "## Random forest"
   ]
  },
  {
   "cell_type": "code",
   "execution_count": 71,
   "id": "da517fa7-a092-4c0b-ae3c-c454c394a0f9",
   "metadata": {
    "tags": []
   },
   "outputs": [
    {
     "data": {
      "text/html": [
       "<style>#sk-container-id-5 {color: black;background-color: white;}#sk-container-id-5 pre{padding: 0;}#sk-container-id-5 div.sk-toggleable {background-color: white;}#sk-container-id-5 label.sk-toggleable__label {cursor: pointer;display: block;width: 100%;margin-bottom: 0;padding: 0.3em;box-sizing: border-box;text-align: center;}#sk-container-id-5 label.sk-toggleable__label-arrow:before {content: \"▸\";float: left;margin-right: 0.25em;color: #696969;}#sk-container-id-5 label.sk-toggleable__label-arrow:hover:before {color: black;}#sk-container-id-5 div.sk-estimator:hover label.sk-toggleable__label-arrow:before {color: black;}#sk-container-id-5 div.sk-toggleable__content {max-height: 0;max-width: 0;overflow: hidden;text-align: left;background-color: #f0f8ff;}#sk-container-id-5 div.sk-toggleable__content pre {margin: 0.2em;color: black;border-radius: 0.25em;background-color: #f0f8ff;}#sk-container-id-5 input.sk-toggleable__control:checked~div.sk-toggleable__content {max-height: 200px;max-width: 100%;overflow: auto;}#sk-container-id-5 input.sk-toggleable__control:checked~label.sk-toggleable__label-arrow:before {content: \"▾\";}#sk-container-id-5 div.sk-estimator input.sk-toggleable__control:checked~label.sk-toggleable__label {background-color: #d4ebff;}#sk-container-id-5 div.sk-label input.sk-toggleable__control:checked~label.sk-toggleable__label {background-color: #d4ebff;}#sk-container-id-5 input.sk-hidden--visually {border: 0;clip: rect(1px 1px 1px 1px);clip: rect(1px, 1px, 1px, 1px);height: 1px;margin: -1px;overflow: hidden;padding: 0;position: absolute;width: 1px;}#sk-container-id-5 div.sk-estimator {font-family: monospace;background-color: #f0f8ff;border: 1px dotted black;border-radius: 0.25em;box-sizing: border-box;margin-bottom: 0.5em;}#sk-container-id-5 div.sk-estimator:hover {background-color: #d4ebff;}#sk-container-id-5 div.sk-parallel-item::after {content: \"\";width: 100%;border-bottom: 1px solid gray;flex-grow: 1;}#sk-container-id-5 div.sk-label:hover label.sk-toggleable__label {background-color: #d4ebff;}#sk-container-id-5 div.sk-serial::before {content: \"\";position: absolute;border-left: 1px solid gray;box-sizing: border-box;top: 0;bottom: 0;left: 50%;z-index: 0;}#sk-container-id-5 div.sk-serial {display: flex;flex-direction: column;align-items: center;background-color: white;padding-right: 0.2em;padding-left: 0.2em;position: relative;}#sk-container-id-5 div.sk-item {position: relative;z-index: 1;}#sk-container-id-5 div.sk-parallel {display: flex;align-items: stretch;justify-content: center;background-color: white;position: relative;}#sk-container-id-5 div.sk-item::before, #sk-container-id-5 div.sk-parallel-item::before {content: \"\";position: absolute;border-left: 1px solid gray;box-sizing: border-box;top: 0;bottom: 0;left: 50%;z-index: -1;}#sk-container-id-5 div.sk-parallel-item {display: flex;flex-direction: column;z-index: 1;position: relative;background-color: white;}#sk-container-id-5 div.sk-parallel-item:first-child::after {align-self: flex-end;width: 50%;}#sk-container-id-5 div.sk-parallel-item:last-child::after {align-self: flex-start;width: 50%;}#sk-container-id-5 div.sk-parallel-item:only-child::after {width: 0;}#sk-container-id-5 div.sk-dashed-wrapped {border: 1px dashed gray;margin: 0 0.4em 0.5em 0.4em;box-sizing: border-box;padding-bottom: 0.4em;background-color: white;}#sk-container-id-5 div.sk-label label {font-family: monospace;font-weight: bold;display: inline-block;line-height: 1.2em;}#sk-container-id-5 div.sk-label-container {text-align: center;}#sk-container-id-5 div.sk-container {/* jupyter's `normalize.less` sets `[hidden] { display: none; }` but bootstrap.min.css set `[hidden] { display: none !important; }` so we also need the `!important` here to be able to override the default hidden behavior on the sphinx rendered scikit-learn.org. See: https://github.com/scikit-learn/scikit-learn/issues/21755 */display: inline-block !important;position: relative;}#sk-container-id-5 div.sk-text-repr-fallback {display: none;}</style><div id=\"sk-container-id-5\" class=\"sk-top-container\"><div class=\"sk-text-repr-fallback\"><pre>RandomForestRegressor(max_depth=50, max_features=0.6, min_samples_leaf=16,\n",
       "                      n_estimators=400, n_jobs=-1)</pre><b>In a Jupyter environment, please rerun this cell to show the HTML representation or trust the notebook. <br />On GitHub, the HTML representation is unable to render, please try loading this page with nbviewer.org.</b></div><div class=\"sk-container\" hidden><div class=\"sk-item\"><div class=\"sk-estimator sk-toggleable\"><input class=\"sk-toggleable__control sk-hidden--visually\" id=\"sk-estimator-id-5\" type=\"checkbox\" checked><label for=\"sk-estimator-id-5\" class=\"sk-toggleable__label sk-toggleable__label-arrow\">RandomForestRegressor</label><div class=\"sk-toggleable__content\"><pre>RandomForestRegressor(max_depth=50, max_features=0.6, min_samples_leaf=16,\n",
       "                      n_estimators=400, n_jobs=-1)</pre></div></div></div></div></div>"
      ],
      "text/plain": [
       "RandomForestRegressor(max_depth=50, max_features=0.6, min_samples_leaf=16,\n",
       "                      n_estimators=400, n_jobs=-1)"
      ]
     },
     "execution_count": 71,
     "metadata": {},
     "output_type": "execute_result"
    }
   ],
   "source": [
    "best_params ={'max_depth': 50,\n",
    "              'n_estimators': 400,\n",
    "            'max_features': 0.6,\n",
    "            'min_samples_leaf': 16,\n",
    "             'n_jobs':-1}\n",
    "ran_forest_mul = RandomForestRegressor(**best_params)\n",
    "ran_forest_mul.fit(X_train_mul, Y_train_mul)"
   ]
  },
  {
   "cell_type": "code",
   "execution_count": 73,
   "id": "0ab17fa0-56ec-40e1-b5cb-9fb5961b98ee",
   "metadata": {
    "tags": []
   },
   "outputs": [
    {
     "name": "stdout",
     "output_type": "stream",
     "text": [
      "Model: RandomForestRegressor(max_depth=50, max_features=0.6, min_samples_leaf=16,\n",
      "                      n_estimators=400, n_jobs=-1)\n",
      "MAE: 190536.51483493406, RMSE: 301986.5334762679\n"
     ]
    }
   ],
   "source": [
    "get_eval_metrics([ran_forest_mul], X_test_mul, Y_test_mul)"
   ]
  },
  {
   "cell_type": "code",
   "execution_count": 74,
   "id": "0b4de7c0-cc9f-4057-9b52-b85fff77b479",
   "metadata": {
    "tags": []
   },
   "outputs": [
    {
     "name": "stdout",
     "output_type": "stream",
     "text": [
      "Model: RandomForestRegressor(max_depth=50, max_features=0.6, min_samples_leaf=16,\n",
      "                      n_estimators=400, n_jobs=-1)\n",
      "log_error: -0.2290743445972561\n"
     ]
    }
   ],
   "source": [
    "get_avg_log_error(ran_forest_mul, X_test_mul, Y_test_mul)"
   ]
  },
  {
   "cell_type": "markdown",
   "id": "509891ca-17e1-4f6b-9ebb-b0236e979c42",
   "metadata": {
    "tags": []
   },
   "source": [
    "## Gradient Boosting(XGBoost)"
   ]
  },
  {
   "cell_type": "code",
   "execution_count": 24,
   "id": "02b9491e-3273-4b82-acd3-fadeaa65c719",
   "metadata": {
    "tags": []
   },
   "outputs": [],
   "source": [
    "train_mul, valid_mul = train_test_split(train_mul, test_size=0.2)\n",
    "#set validation set for early stopping\n",
    "\n",
    "X_train_mul = train_mul.drop(['price'], axis =1)\n",
    "Y_train_mul = train_mul['price']\n",
    "X_valid_mul = valid_mul.drop(['price'], axis =1)\n",
    "Y_valid_mul = valid_mul['price']\n"
   ]
  },
  {
   "cell_type": "code",
   "execution_count": 25,
   "id": "236e437e-f85a-4d3b-b261-9364fa8e05c9",
   "metadata": {
    "tags": []
   },
   "outputs": [
    {
     "data": {
      "text/plain": [
       "(38976, 22)"
      ]
     },
     "execution_count": 25,
     "metadata": {},
     "output_type": "execute_result"
    }
   ],
   "source": [
    "X_test_mul.shape"
   ]
  },
  {
   "cell_type": "code",
   "execution_count": 31,
   "id": "835439a3-4f05-427c-9020-68532dfc20a6",
   "metadata": {
    "tags": []
   },
   "outputs": [
    {
     "name": "stdout",
     "output_type": "stream",
     "text": [
      "Training ...\n",
      "[20:21:46] WARNING: ../src/objective/regression_obj.cu:213: reg:linear is now deprecated in favor of reg:squarederror.\n",
      "[20:21:46] WARNING: ../src/learner.cc:767: \n",
      "Parameters: { \"silent\" } are not used.\n",
      "\n"
     ]
    },
    {
     "name": "stderr",
     "output_type": "stream",
     "text": [
      "/accounts/grad/huz4/.local/lib/python3.11/site-packages/xgboost/core.py:617: FutureWarning: Pass `evals` as keyword args.\n",
      "  warnings.warn(msg, FutureWarning)\n"
     ]
    },
    {
     "name": "stdout",
     "output_type": "stream",
     "text": [
      "[0]\ttrain-mae:384974.94016\tvalid-mae:384068.13954\n",
      "[50]\ttrain-mae:195745.26468\tvalid-mae:195151.88857\n",
      "[84]\ttrain-mae:191737.68275\tvalid-mae:191721.82397\n",
      "Predicting on test ...\n",
      "mean log error 0.17509414318737151\n",
      "Done!\n"
     ]
    }
   ],
   "source": [
    "d_train_mul = xgb.DMatrix(X_train_mul, label=Y_train_mul, enable_categorical=True)\n",
    "d_valid_mul = xgb.DMatrix(X_valid_mul, label=Y_valid_mul, enable_categorical=True)\n",
    "\n",
    "\n",
    "print('Training ...')\n",
    "\n",
    "params = {}\n",
    "params['eta'] = 0.03\n",
    "params['objective'] = 'reg:linear'\n",
    "params['eval_metric'] = 'mae'\n",
    "params['max_depth'] = 4\n",
    "params['silent'] = 1\n",
    "\n",
    "watchlist = [(d_train_mul, 'train'), (d_valid_mul, 'valid')]\n",
    "clf_mul = xgb.train(params, d_train_mul, 10000, watchlist, early_stopping_rounds=10, verbose_eval=50)\n",
    "\n",
    "\n",
    "\n",
    "d_test_mul = xgb.DMatrix(X_test_mul, enable_categorical=True)\n",
    "\n",
    "\n",
    "print('Predicting on test ...')\n",
    "\n",
    "p_test_mul = clf_mul.predict(d_test_mul)\n",
    "p_test_mul = replace_negative_with_one(p_test_mul)\n",
    "import math\n",
    "logerror = np.log(p_test_mul) - np.log(Y_test_mul)\n",
    "print('mean log error', np.mean(logerror))\n",
    "print('Done!')"
   ]
  },
  {
   "cell_type": "code",
   "execution_count": 27,
   "id": "8587ec86-eab2-4332-adac-f90c8b4768c0",
   "metadata": {
    "tags": []
   },
   "outputs": [
    {
     "name": "stdout",
     "output_type": "stream",
     "text": [
      "Model: <xgboost.core.Booster object at 0x7f734fd7b710>\n",
      "MAE: 192919.7009461752, RMSE: 314309.54500593577\n"
     ]
    }
   ],
   "source": [
    "# testing set error\n",
    "get_eval_metrics([clf_mul], d_test_mul, Y_test_mul)"
   ]
  },
  {
   "cell_type": "code",
   "execution_count": 47,
   "id": "adc630fc-eb33-4e3b-b9af-5433174fbb40",
   "metadata": {
    "tags": []
   },
   "outputs": [
    {
     "data": {
      "text/plain": [
       "<AxesSubplot: title={'center': 'Feature importance'}, xlabel='F score', ylabel='Features'>"
      ]
     },
     "execution_count": 47,
     "metadata": {},
     "output_type": "execute_result"
    },
    {
     "data": {
      "image/png": "[encoded data removed]",
      "text/plain": [
       "<Figure size 640x480 with 1 Axes>"
      ]
     },
     "metadata": {},
     "output_type": "display_data"
    }
   ],
   "source": [
    "from xgboost import plot_importance\n",
    "plot_importance(clf_mul, max_num_features = 15)"
   ]
  },
  {
   "cell_type": "code",
   "execution_count": 28,
   "id": "12cd4805-7918-4c43-995b-d595a6009cae",
   "metadata": {
    "tags": []
   },
   "outputs": [
    {
     "name": "stderr",
     "output_type": "stream",
     "text": [
      "/accounts/grad/huz4/.local/lib/python3.11/site-packages/lightgbm/engine.py:181: UserWarning: 'early_stopping_rounds' argument is deprecated and will be removed in a future release of LightGBM. Pass 'early_stopping()' callback via 'callbacks' argument instead.\n",
      "  _log_warning(\"'early_stopping_rounds' argument is deprecated and will be removed in a future release of LightGBM. \"\n",
      "/accounts/grad/huz4/.local/lib/python3.11/site-packages/lightgbm/engine.py:239: UserWarning: 'verbose_eval' argument is deprecated and will be removed in a future release of LightGBM. Pass 'log_evaluation()' callback via 'callbacks' argument instead.\n",
      "  _log_warning(\"'verbose_eval' argument is deprecated and will be removed in a future release of LightGBM. \"\n"
     ]
    },
    {
     "name": "stdout",
     "output_type": "stream",
     "text": [
      "[LightGBM] [Warning] Auto-choosing row-wise multi-threading, the overhead of testing was 0.007103 seconds.\n",
      "You can set `force_row_wise=true` to remove the overhead.\n",
      "And if memory is not enough, you can set `force_col_wise=true`.\n",
      "[LightGBM] [Info] Total Bins 1276\n",
      "[LightGBM] [Info] Number of data points in the train set: 124722, number of used features: 17\n",
      "[LightGBM] [Info] Start training from score 396863.530572\n",
      "Training until validation scores don't improve for 10 rounds\n",
      "[50]\tvalid_0's l1: 195243\n",
      "[100]\tvalid_0's l1: 192471\n",
      "[150]\tvalid_0's l1: 191873\n",
      "[200]\tvalid_0's l1: 191765\n",
      "Early stopping, best iteration is:\n",
      "[191]\tvalid_0's l1: 191756\n",
      "Done!\n"
     ]
    }
   ],
   "source": [
    "d_train = lgb.Dataset(X_train_mul, label=Y_train_mul)\n",
    "d_valid = lgb.Dataset(X_valid_mul, label=Y_valid_mul)\n",
    "\n",
    "params = {}\n",
    "params['learning_rate'] = 0.03\n",
    "params['boosting_type'] = 'gbdt'\n",
    "params['objective'] = 'regression'\n",
    "params['metric'] = 'mae'\n",
    "params['sub_feature'] = 0.5\n",
    "params['num_leaves'] = 60\n",
    "params['min_data'] = 500\n",
    "params['min_hessian'] = 1\n",
    "\n",
    "watchlist = [d_valid]\n",
    "clf_mul = lgb.train(params, d_train, 500, watchlist,early_stopping_rounds=10, verbose_eval=50)\n",
    "\n",
    "print('Done!')"
   ]
  },
  {
   "cell_type": "code",
   "execution_count": 29,
   "id": "639792d5-5aeb-4c26-af8f-c7ab3528cfdd",
   "metadata": {
    "tags": []
   },
   "outputs": [
    {
     "name": "stdout",
     "output_type": "stream",
     "text": [
      "Model: <lightgbm.basic.Booster object at 0x7f734fd64f90>\n",
      "MAE: 192034.3871152348, RMSE: 306093.760073505\n"
     ]
    }
   ],
   "source": [
    "# testing set error\n",
    "get_eval_metrics([clf_mul], X_test_mul, Y_test_mul)"
   ]
  },
  {
   "cell_type": "code",
   "execution_count": 30,
   "id": "8561cc67-9fab-4803-8467-024814551b11",
   "metadata": {
    "tags": []
   },
   "outputs": [
    {
     "name": "stdout",
     "output_type": "stream",
     "text": [
      "mean log error 0.23360800267648665\n"
     ]
    }
   ],
   "source": [
    "# testing log error\n",
    "\n",
    "p_test = clf_mul.predict(X_test_mul)\n",
    "p_test = replace_negative_with_one(p_test)\n",
    "import math\n",
    "logerror = np.log(p_test) - np.log(Y_test_mul)\n",
    "print('mean log error', np.mean(logerror))"
   ]
  },
  {
   "cell_type": "markdown",
   "id": "ee0a0de5-7469-4609-923e-aece5656e184",
   "metadata": {
    "tags": []
   },
   "source": [
    "## Gradient Boosting(AdaBoost)"
   ]
  },
  {
   "cell_type": "code",
   "execution_count": 55,
   "id": "b6ca2cf0-6c88-426e-b7c6-31e3706a3ef0",
   "metadata": {
    "tags": []
   },
   "outputs": [
    {
     "name": "stdout",
     "output_type": "stream",
     "text": [
      "Model: AdaBoostRegressor()\n",
      "MAE: 127042.02117239841, RMSE: 151822.35542778383\n",
      "Model: AdaBoostRegressor()\n",
      "MAE: 126344.89613312043, RMSE: 151576.64718266492\n"
     ]
    }
   ],
   "source": [
    "ada = AdaBoostRegressor()\n",
    "ada.fit(X_train_mul, Y_train_mul)\n",
    "# training MAE and RMSE\n",
    "get_eval_metrics([ada], X_train_mul, Y_train_mul)\n",
    "# testing MAE and RMSE\n",
    "get_eval_metrics([ada], X_test_mul, Y_test_mul)\n",
    "#average log error\n",
    "get_avg_log error(ada, X_test_con, Y_test_con)"
   ]
  },
  {
   "cell_type": "markdown",
   "id": "00f92f38-742e-4984-8899-919dac407317",
   "metadata": {
    "tags": []
   },
   "source": [
    "## Linear Regression"
   ]
  },
  {
   "cell_type": "code",
   "execution_count": 56,
   "id": "8065725e-5fb8-4c9a-bf95-0752510aeed1",
   "metadata": {
    "tags": []
   },
   "outputs": [
    {
     "name": "stdout",
     "output_type": "stream",
     "text": [
      "[ 1.34739108e+13 -1.56418811e+03  3.45114941e+03 -2.27153125e+03\n",
      " -4.46203125e+02 -1.08489844e+03 -7.29945312e+02 -6.40771484e+02\n",
      " -2.34214258e+03 -2.14843750e-02  1.36277344e+03 -3.28735547e+03\n",
      "  2.45392969e+03  2.34375000e-02 -1.25474648e+04 -9.47509473e+03\n",
      " -2.75712891e+01  5.12990928e+04 -3.53235767e+03 -1.70700928e+02\n",
      "  4.89556595e+05  4.44763381e+05 -1.94653125e+03 -3.94620117e+03\n",
      "  8.08434647e+13  2.92968750e-03  0.00000000e+00 -8.08434647e+13\n",
      "  0.00000000e+00  2.69478216e+13 -2.69478216e+13  0.00000000e+00\n",
      "  0.00000000e+00  0.00000000e+00  0.00000000e+00  0.00000000e+00\n",
      "  0.00000000e+00  0.00000000e+00  3.77649782e+03  9.55846717e+02\n",
      "  0.00000000e+00  0.00000000e+00 -7.58041870e+03  2.88522046e+03\n",
      "  1.30444749e+00  3.41454163e+01 -1.99372140e+01  3.72148312e+03\n",
      "  2.07653445e+03 -5.78461152e+03  0.00000000e+00  0.00000000e+00\n",
      "  0.00000000e+00  0.00000000e+00  0.00000000e+00  0.00000000e+00\n",
      "  0.00000000e+00  0.00000000e+00  0.00000000e+00  0.00000000e+00\n",
      "  0.00000000e+00  0.00000000e+00  3.41454163e+01 -1.99372140e+01\n",
      "  1.30444749e+00  1.25474056e+04 -1.25474051e+04  6.75231910e+00\n",
      " -6.76322690e+00 -4.81525299e+02  4.81556514e+02]\n"
     ]
    }
   ],
   "source": [
    "#fitting regression model\n",
    "regr = linear_model.LinearRegression()\n",
    "regr.fit(X_train_mul, Y_train_mul)\n",
    "print(regr.coef_)"
   ]
  },
  {
   "cell_type": "code",
   "execution_count": 57,
   "id": "b3922bd6-1254-4beb-99fe-5ad26096efdf",
   "metadata": {
    "tags": []
   },
   "outputs": [
    {
     "name": "stdout",
     "output_type": "stream",
     "text": [
      "Model: LinearRegression()\n",
      "MAE: 30682.305887101033, RMSE: 58824.13258301638\n",
      "Model: LinearRegression()\n",
      "MAE: 31165.94747873954, RMSE: 59078.37137954393\n"
     ]
    }
   ],
   "source": [
    "# training MAE and RMSE\n",
    "get_eval_metrics([regr], X_train_mul, Y_train_mul)\n",
    "# testing MAE and RMSE\n",
    "get_eval_metrics([regr], X_test_mul, Y_test_mul)\n",
    "#average log error\n",
    "get_avg_log error(ada, X_test_con, Y_test_con)"
   ]
  },
  {
   "cell_type": "markdown",
   "id": "d7679c28-b48e-4b97-a99a-432122d11798",
   "metadata": {
    "tags": []
   },
   "source": [
    "# single_family"
   ]
  },
  {
   "cell_type": "markdown",
   "id": "bb01baa8-8079-4ccb-b823-799423f8561a",
   "metadata": {
    "tags": []
   },
   "source": [
    "## Random forest"
   ]
  },
  {
   "cell_type": "code",
   "execution_count": 75,
   "id": "5dbbbbef-1fd2-4451-8283-46f2c991c2e7",
   "metadata": {
    "tags": []
   },
   "outputs": [
    {
     "data": {
      "text/html": [
       "<style>#sk-container-id-6 {color: black;background-color: white;}#sk-container-id-6 pre{padding: 0;}#sk-container-id-6 div.sk-toggleable {background-color: white;}#sk-container-id-6 label.sk-toggleable__label {cursor: pointer;display: block;width: 100%;margin-bottom: 0;padding: 0.3em;box-sizing: border-box;text-align: center;}#sk-container-id-6 label.sk-toggleable__label-arrow:before {content: \"▸\";float: left;margin-right: 0.25em;color: #696969;}#sk-container-id-6 label.sk-toggleable__label-arrow:hover:before {color: black;}#sk-container-id-6 div.sk-estimator:hover label.sk-toggleable__label-arrow:before {color: black;}#sk-container-id-6 div.sk-toggleable__content {max-height: 0;max-width: 0;overflow: hidden;text-align: left;background-color: #f0f8ff;}#sk-container-id-6 div.sk-toggleable__content pre {margin: 0.2em;color: black;border-radius: 0.25em;background-color: #f0f8ff;}#sk-container-id-6 input.sk-toggleable__control:checked~div.sk-toggleable__content {max-height: 200px;max-width: 100%;overflow: auto;}#sk-container-id-6 input.sk-toggleable__control:checked~label.sk-toggleable__label-arrow:before {content: \"▾\";}#sk-container-id-6 div.sk-estimator input.sk-toggleable__control:checked~label.sk-toggleable__label {background-color: #d4ebff;}#sk-container-id-6 div.sk-label input.sk-toggleable__control:checked~label.sk-toggleable__label {background-color: #d4ebff;}#sk-container-id-6 input.sk-hidden--visually {border: 0;clip: rect(1px 1px 1px 1px);clip: rect(1px, 1px, 1px, 1px);height: 1px;margin: -1px;overflow: hidden;padding: 0;position: absolute;width: 1px;}#sk-container-id-6 div.sk-estimator {font-family: monospace;background-color: #f0f8ff;border: 1px dotted black;border-radius: 0.25em;box-sizing: border-box;margin-bottom: 0.5em;}#sk-container-id-6 div.sk-estimator:hover {background-color: #d4ebff;}#sk-container-id-6 div.sk-parallel-item::after {content: \"\";width: 100%;border-bottom: 1px solid gray;flex-grow: 1;}#sk-container-id-6 div.sk-label:hover label.sk-toggleable__label {background-color: #d4ebff;}#sk-container-id-6 div.sk-serial::before {content: \"\";position: absolute;border-left: 1px solid gray;box-sizing: border-box;top: 0;bottom: 0;left: 50%;z-index: 0;}#sk-container-id-6 div.sk-serial {display: flex;flex-direction: column;align-items: center;background-color: white;padding-right: 0.2em;padding-left: 0.2em;position: relative;}#sk-container-id-6 div.sk-item {position: relative;z-index: 1;}#sk-container-id-6 div.sk-parallel {display: flex;align-items: stretch;justify-content: center;background-color: white;position: relative;}#sk-container-id-6 div.sk-item::before, #sk-container-id-6 div.sk-parallel-item::before {content: \"\";position: absolute;border-left: 1px solid gray;box-sizing: border-box;top: 0;bottom: 0;left: 50%;z-index: -1;}#sk-container-id-6 div.sk-parallel-item {display: flex;flex-direction: column;z-index: 1;position: relative;background-color: white;}#sk-container-id-6 div.sk-parallel-item:first-child::after {align-self: flex-end;width: 50%;}#sk-container-id-6 div.sk-parallel-item:last-child::after {align-self: flex-start;width: 50%;}#sk-container-id-6 div.sk-parallel-item:only-child::after {width: 0;}#sk-container-id-6 div.sk-dashed-wrapped {border: 1px dashed gray;margin: 0 0.4em 0.5em 0.4em;box-sizing: border-box;padding-bottom: 0.4em;background-color: white;}#sk-container-id-6 div.sk-label label {font-family: monospace;font-weight: bold;display: inline-block;line-height: 1.2em;}#sk-container-id-6 div.sk-label-container {text-align: center;}#sk-container-id-6 div.sk-container {/* jupyter's `normalize.less` sets `[hidden] { display: none; }` but bootstrap.min.css set `[hidden] { display: none !important; }` so we also need the `!important` here to be able to override the default hidden behavior on the sphinx rendered scikit-learn.org. See: https://github.com/scikit-learn/scikit-learn/issues/21755 */display: inline-block !important;position: relative;}#sk-container-id-6 div.sk-text-repr-fallback {display: none;}</style><div id=\"sk-container-id-6\" class=\"sk-top-container\"><div class=\"sk-text-repr-fallback\"><pre>RandomForestRegressor(max_depth=50, max_features=0.6, min_samples_leaf=16,\n",
       "                      n_estimators=400, n_jobs=-1)</pre><b>In a Jupyter environment, please rerun this cell to show the HTML representation or trust the notebook. <br />On GitHub, the HTML representation is unable to render, please try loading this page with nbviewer.org.</b></div><div class=\"sk-container\" hidden><div class=\"sk-item\"><div class=\"sk-estimator sk-toggleable\"><input class=\"sk-toggleable__control sk-hidden--visually\" id=\"sk-estimator-id-6\" type=\"checkbox\" checked><label for=\"sk-estimator-id-6\" class=\"sk-toggleable__label sk-toggleable__label-arrow\">RandomForestRegressor</label><div class=\"sk-toggleable__content\"><pre>RandomForestRegressor(max_depth=50, max_features=0.6, min_samples_leaf=16,\n",
       "                      n_estimators=400, n_jobs=-1)</pre></div></div></div></div></div>"
      ],
      "text/plain": [
       "RandomForestRegressor(max_depth=50, max_features=0.6, min_samples_leaf=16,\n",
       "                      n_estimators=400, n_jobs=-1)"
      ]
     },
     "execution_count": 75,
     "metadata": {},
     "output_type": "execute_result"
    }
   ],
   "source": [
    "best_params ={'max_depth': 50,\n",
    "              'n_estimators': 400,\n",
    "            'max_features': 0.6,\n",
    "            'min_samples_leaf': 16,\n",
    "             'n_jobs':-1}\n",
    "ran_forest_sin = RandomForestRegressor(**best_params)\n",
    "ran_forest_sin.fit(X_train_sin, Y_train_sin)"
   ]
  },
  {
   "cell_type": "code",
   "execution_count": 76,
   "id": "195cfac9-ae3d-46c4-b8a6-dcd1d2c5f9a6",
   "metadata": {
    "tags": []
   },
   "outputs": [
    {
     "name": "stdout",
     "output_type": "stream",
     "text": [
      "Model: RandomForestRegressor(max_depth=50, max_features=0.6, min_samples_leaf=16,\n",
      "                      n_estimators=400, n_jobs=-1)\n",
      "MAE: 191745.10908351338, RMSE: 444593.6177041965\n"
     ]
    }
   ],
   "source": [
    "get_eval_metrics([ran_forest_sin], X_test_sin, Y_test_sin)"
   ]
  },
  {
   "cell_type": "code",
   "execution_count": 77,
   "id": "084a654d-0519-4164-a048-a2e97eb5fb37",
   "metadata": {
    "tags": []
   },
   "outputs": [
    {
     "name": "stdout",
     "output_type": "stream",
     "text": [
      "Model: RandomForestRegressor(max_depth=50, max_features=0.6, min_samples_leaf=16,\n",
      "                      n_estimators=400, n_jobs=-1)\n",
      "log_error: -0.18797317720978773\n"
     ]
    }
   ],
   "source": [
    "get_avg_log_error(ran_forest_sin, X_test_sin, Y_test_sin)"
   ]
  },
  {
   "cell_type": "markdown",
   "id": "954c658e-09ed-4e57-abb2-09fcd4864d2a",
   "metadata": {
    "tags": []
   },
   "source": [
    "## Gradient Boosting(XGBoost)"
   ]
  },
  {
   "cell_type": "code",
   "execution_count": 32,
   "id": "d1301036-fc88-4821-a888-4b620d5458f5",
   "metadata": {
    "tags": []
   },
   "outputs": [],
   "source": [
    "train_sin, valid_sin = train_test_split(train_sin, test_size=0.2)\n",
    "#set validation set for early stopping\n",
    "\n",
    "X_train_sin = train_sin.drop(['price'], axis =1)\n",
    "Y_train_sin = train_sin['price']\n",
    "X_valid_sin = valid_sin.drop(['price'], axis =1)\n",
    "Y_valid_sin = valid_sin['price']"
   ]
  },
  {
   "cell_type": "code",
   "execution_count": 33,
   "id": "581d9f40-a59d-462d-9c35-64a70cb8aec2",
   "metadata": {
    "tags": []
   },
   "outputs": [
    {
     "data": {
      "text/plain": [
       "(1376938, 22)"
      ]
     },
     "execution_count": 33,
     "metadata": {},
     "output_type": "execute_result"
    }
   ],
   "source": [
    "X_train_sin.shape"
   ]
  },
  {
   "cell_type": "code",
   "execution_count": 34,
   "id": "bd007d63-5dae-46f4-ac1d-2a1de5e69b89",
   "metadata": {
    "tags": []
   },
   "outputs": [
    {
     "name": "stdout",
     "output_type": "stream",
     "text": [
      "Training ...\n",
      "[20:23:44] WARNING: ../src/objective/regression_obj.cu:213: reg:linear is now deprecated in favor of reg:squarederror.\n",
      "[20:23:44] WARNING: ../src/learner.cc:767: \n",
      "Parameters: { \"silent\" } are not used.\n",
      "\n"
     ]
    },
    {
     "name": "stderr",
     "output_type": "stream",
     "text": [
      "/accounts/grad/huz4/.local/lib/python3.11/site-packages/xgboost/core.py:617: FutureWarning: Pass `evals` as keyword args.\n",
      "  warnings.warn(msg, FutureWarning)\n"
     ]
    },
    {
     "name": "stdout",
     "output_type": "stream",
     "text": [
      "[0]\ttrain-mae:333152.30789\tvalid-mae:333692.13707\n",
      "[50]\ttrain-mae:200652.76806\tvalid-mae:202102.03771\n",
      "[100]\ttrain-mae:197321.39596\tvalid-mae:199922.14250\n",
      "[150]\ttrain-mae:195441.61132\tvalid-mae:198810.18635\n",
      "[184]\ttrain-mae:194555.47232\tvalid-mae:198452.35478\n",
      "Predicting on test ...\n",
      "mean log error 0.188961890394218\n",
      "Done!\n"
     ]
    },
    {
     "name": "stderr",
     "output_type": "stream",
     "text": [
      "/tmp/ipykernel_883612/2667676359.py:27: RuntimeWarning: invalid value encountered in log\n",
      "  logerror = np.log(p_test_sin) - np.log(Y_test_sin)\n"
     ]
    }
   ],
   "source": [
    "d_train_sin = xgb.DMatrix(X_train_sin, label=Y_train_sin, enable_categorical= True)\n",
    "d_valid_sin = xgb.DMatrix(X_valid_sin, label=Y_valid_sin, enable_categorical= True)\n",
    "\n",
    "\n",
    "print('Training ...')\n",
    "\n",
    "params = {}\n",
    "params['eta'] = 0.3\n",
    "params['objective'] = 'reg:linear'\n",
    "params['eval_metric'] = 'mae'\n",
    "params['max_depth'] = 4\n",
    "params['silent'] = 1\n",
    "\n",
    "watchlist = [(d_train_sin, 'train'), (d_valid_sin, 'valid')]\n",
    "clf_sin = xgb.train(params, d_train_sin, 10000, watchlist, early_stopping_rounds=10, verbose_eval=50)\n",
    "\n",
    "\n",
    "\n",
    "d_test_sin = xgb.DMatrix(X_test_sin, enable_categorical= True)\n",
    "\n",
    "\n",
    "print('Predicting on test ...')\n",
    "\n",
    "p_test_sin = clf_sin.predict(d_test_sin)\n",
    "\n",
    "import math\n",
    "logerror = np.log(p_test_sin) - np.log(Y_test_sin)\n",
    "print('mean log error', np.mean(logerror))\n",
    "print('Done!')"
   ]
  },
  {
   "cell_type": "code",
   "execution_count": 35,
   "id": "98507c3a-b8a5-4f7f-a320-500e36ae6e57",
   "metadata": {
    "tags": []
   },
   "outputs": [
    {
     "name": "stdout",
     "output_type": "stream",
     "text": [
      "Model: <xgboost.core.Booster object at 0x7f73ac123d50>\n",
      "MAE: 199036.47572283816, RMSE: 455536.0105888341\n"
     ]
    }
   ],
   "source": [
    "# testing set error\n",
    "get_eval_metrics([clf_sin], d_test_sin, Y_test_sin)"
   ]
  },
  {
   "cell_type": "code",
   "execution_count": 53,
   "id": "691be694-4845-4763-a6cd-b8b7714b3033",
   "metadata": {
    "tags": []
   },
   "outputs": [
    {
     "data": {
      "text/plain": [
       "<AxesSubplot: title={'center': 'Feature importance'}, xlabel='F score', ylabel='Features'>"
      ]
     },
     "execution_count": 53,
     "metadata": {},
     "output_type": "execute_result"
    },
    {
     "data": {
      "image/png": "[encoded data removed]",
      "text/plain": [
       "<Figure size 640x480 with 1 Axes>"
      ]
     },
     "metadata": {},
     "output_type": "display_data"
    }
   ],
   "source": [
    "from xgboost import plot_importance\n",
    "plot_importance(clf_sin, max_num_features = 15)"
   ]
  },
  {
   "cell_type": "code",
   "execution_count": 36,
   "id": "0c04b135-ac78-4b3e-8fe0-a9c14b6d2d76",
   "metadata": {
    "tags": []
   },
   "outputs": [
    {
     "name": "stderr",
     "output_type": "stream",
     "text": [
      "/accounts/grad/huz4/.local/lib/python3.11/site-packages/lightgbm/engine.py:181: UserWarning: 'early_stopping_rounds' argument is deprecated and will be removed in a future release of LightGBM. Pass 'early_stopping()' callback via 'callbacks' argument instead.\n",
      "  _log_warning(\"'early_stopping_rounds' argument is deprecated and will be removed in a future release of LightGBM. \"\n",
      "/accounts/grad/huz4/.local/lib/python3.11/site-packages/lightgbm/engine.py:239: UserWarning: 'verbose_eval' argument is deprecated and will be removed in a future release of LightGBM. Pass 'log_evaluation()' callback via 'callbacks' argument instead.\n",
      "  _log_warning(\"'verbose_eval' argument is deprecated and will be removed in a future release of LightGBM. \"\n"
     ]
    },
    {
     "name": "stdout",
     "output_type": "stream",
     "text": [
      "[LightGBM] [Warning] Auto-choosing row-wise multi-threading, the overhead of testing was 0.144043 seconds.\n",
      "You can set `force_row_wise=true` to remove the overhead.\n",
      "And if memory is not enough, you can set `force_col_wise=true`.\n",
      "[LightGBM] [Info] Total Bins 2021\n",
      "[LightGBM] [Info] Number of data points in the train set: 1376938, number of used features: 21\n",
      "[LightGBM] [Info] Start training from score 461619.798122\n",
      "Training until validation scores don't improve for 10 rounds\n",
      "[50]\tvalid_0's l1: 212444\n",
      "[100]\tvalid_0's l1: 201474\n",
      "[150]\tvalid_0's l1: 198335\n",
      "[200]\tvalid_0's l1: 197310\n",
      "[250]\tvalid_0's l1: 196694\n",
      "[300]\tvalid_0's l1: 196274\n",
      "[350]\tvalid_0's l1: 195929\n",
      "[400]\tvalid_0's l1: 195586\n",
      "[450]\tvalid_0's l1: 195310\n",
      "[500]\tvalid_0's l1: 195040\n",
      "Did not meet early stopping. Best iteration is:\n",
      "[499]\tvalid_0's l1: 195040\n",
      "Done!\n"
     ]
    }
   ],
   "source": [
    "d_train = lgb.Dataset(X_train_sin, label=Y_train_sin)\n",
    "d_valid = lgb.Dataset(X_valid_sin, label=Y_valid_sin)\n",
    "\n",
    "params = {}\n",
    "params['learning_rate'] = 0.03\n",
    "params['boosting_type'] = 'gbdt'\n",
    "params['objective'] = 'regression'\n",
    "params['metric'] = 'mae'\n",
    "params['sub_feature'] = 0.5\n",
    "params['num_leaves'] = 60\n",
    "params['min_data'] = 500\n",
    "params['min_hessian'] = 1\n",
    "\n",
    "watchlist = [d_valid]\n",
    "clf_sin = lgb.train(params, d_train, 500, watchlist,early_stopping_rounds=10, verbose_eval=50)\n",
    "\n",
    "print('Done!')"
   ]
  },
  {
   "cell_type": "code",
   "execution_count": 37,
   "id": "af1adbfb-b5f9-4a6e-956f-778cfebbb9d1",
   "metadata": {
    "tags": []
   },
   "outputs": [
    {
     "name": "stdout",
     "output_type": "stream",
     "text": [
      "Model: <lightgbm.basic.Booster object at 0x7f735c3a1650>\n",
      "MAE: 195931.11941131135, RMSE: 451040.20677945483\n"
     ]
    }
   ],
   "source": [
    "# testing set error\n",
    "get_eval_metrics([clf_sin], X_test_sin, Y_test_sin)"
   ]
  },
  {
   "cell_type": "code",
   "execution_count": 39,
   "id": "adf84bea-0844-4486-8c5b-7732f6f9cda3",
   "metadata": {
    "tags": []
   },
   "outputs": [
    {
     "name": "stdout",
     "output_type": "stream",
     "text": [
      "mean log error 0.18179983549165607\n"
     ]
    }
   ],
   "source": [
    "# testing log error\n",
    "p_test = clf_sin.predict(X_test_sin)\n",
    "p_test = replace_negative_with_one(p_test)\n",
    "import math\n",
    "logerror = np.log(p_test) - np.log(Y_test_sin)\n",
    "print('mean log error', np.mean(logerror))"
   ]
  },
  {
   "cell_type": "markdown",
   "id": "b2a464f0-d91a-4f56-b7ef-a95d7d1cb218",
   "metadata": {
    "tags": []
   },
   "source": [
    "## Gradient Boosting(AdaBoost)"
   ]
  },
  {
   "cell_type": "code",
   "execution_count": 65,
   "id": "61fc675b-edeb-4191-bb48-6c00fc3765ba",
   "metadata": {
    "tags": []
   },
   "outputs": [
    {
     "name": "stdout",
     "output_type": "stream",
     "text": [
      "Model: AdaBoostRegressor()\n",
      "MAE: 254846.8011691013, RMSE: 292522.85173059\n",
      "Model: AdaBoostRegressor()\n",
      "MAE: 254758.31829444793, RMSE: 292282.52530328865\n"
     ]
    }
   ],
   "source": [
    "ada = AdaBoostRegressor()\n",
    "ada.fit(X_train_sin, Y_train_sin)\n",
    "# training MAE and RMSE\n",
    "get_eval_metrics([ada], X_train_sin, Y_train_sin)\n",
    "# testing MAE and RMSE\n",
    "get_eval_metrics([ada], X_test_sin, Y_test_sin)\n",
    "#average log error\n",
    "get_avg_log error(ada, X_test_con, Y_test_con)"
   ]
  },
  {
   "cell_type": "markdown",
   "id": "5a7f1496-e3b7-45cb-893d-079531b9c550",
   "metadata": {
    "tags": []
   },
   "source": [
    "## Linear Regression"
   ]
  },
  {
   "cell_type": "code",
   "execution_count": 66,
   "id": "b4bd865d-7b01-40ed-8eea-5a0ae1865d49",
   "metadata": {
    "tags": []
   },
   "outputs": [
    {
     "name": "stdout",
     "output_type": "stream",
     "text": [
      "[ 9.14704143e+11  6.97283750e+02  1.64305347e+03 -3.51811963e+03\n",
      " -2.76156520e+09  4.89893237e+03 -1.93507250e+11 -4.36891028e+03\n",
      "  3.02854492e+02 -9.82385291e+03  3.76211080e+10 -3.12257407e+04\n",
      " -2.14596973e+03 -3.35409949e+03  1.66788697e+07  1.68812935e+06\n",
      " -5.53126676e+09  6.25691394e+03 -5.22705078e+02 -5.52122070e+02\n",
      "  4.98743233e+05  4.47978162e+05 -9.61033508e+02  2.25299564e+03\n",
      "  2.81033945e+12 -6.33670195e+12 -7.25140611e+12 -8.16611029e+12\n",
      "  9.80931168e+11 -8.48477100e+11 -4.50729371e+12  8.08705013e+11\n",
      "  4.70115075e+11  4.32493927e+11  1.04893461e+06  3.57251690e+11\n",
      "  3.19630658e+11  1.69146185e+11  7.71083932e+11  9.39040866e+10\n",
      "  0.00000000e+00 -5.65804667e+10  6.20599487e+11  5.82978397e+11\n",
      " -3.37408462e+11 -3.22845329e+12  3.94610107e+12  0.00000000e+00\n",
      "  0.00000000e+00  0.00000000e+00  0.00000000e+00  0.00000000e+00\n",
      "  0.00000000e+00  0.00000000e+00  0.00000000e+00  0.00000000e+00\n",
      "  0.00000000e+00  0.00000000e+00  0.00000000e+00  0.00000000e+00\n",
      "  0.00000000e+00  0.00000000e+00 -3.22845329e+12  3.94610107e+12\n",
      " -3.37408462e+11  8.13637919e+06 -8.55136457e+06 -1.13957801e+11\n",
      "  6.83054927e+10 -1.29094169e+09 -1.29093580e+09]\n"
     ]
    }
   ],
   "source": [
    "#fitting regression model\n",
    "regr = linear_model.LinearRegression()\n",
    "regr.fit(X_train_sin, Y_train_sin)\n",
    "print(regr.coef_)"
   ]
  },
  {
   "cell_type": "code",
   "execution_count": 67,
   "id": "3ebfe3c6-d329-425f-a37f-e54134c0df9f",
   "metadata": {
    "tags": []
   },
   "outputs": [
    {
     "name": "stdout",
     "output_type": "stream",
     "text": [
      "Model: LinearRegression()\n",
      "MAE: 30169.799318088568, RMSE: 62163.795997813126\n",
      "Model: LinearRegression()\n",
      "MAE: 30088.42956602657, RMSE: 61025.32020421493\n"
     ]
    }
   ],
   "source": [
    "# training MAE and RMSE\n",
    "get_eval_metrics([regr], X_train_sin, Y_train_sin)\n",
    "# testing MAE and RMSE\n",
    "get_eval_metrics([regr], X_test_sin, Y_test_sin)\n",
    "#average log error\n",
    "get_avg_log error(ada, X_test_con, Y_test_con)"
   ]
  },
  {
   "cell_type": "markdown",
   "id": "1de88225-4282-4e50-b1ae-de73c08b0b19",
   "metadata": {
    "tags": []
   },
   "source": [
    "# townhouse"
   ]
  },
  {
   "cell_type": "markdown",
   "id": "fcb47a8d-7dd3-48c7-a888-1032fc6a9bb6",
   "metadata": {
    "tags": []
   },
   "source": [
    "## Random forest"
   ]
  },
  {
   "cell_type": "code",
   "execution_count": 78,
   "id": "91201329-21b7-456e-8e02-7dd1588bccdd",
   "metadata": {
    "tags": []
   },
   "outputs": [
    {
     "data": {
      "text/html": [
       "<style>#sk-container-id-7 {color: black;background-color: white;}#sk-container-id-7 pre{padding: 0;}#sk-container-id-7 div.sk-toggleable {background-color: white;}#sk-container-id-7 label.sk-toggleable__label {cursor: pointer;display: block;width: 100%;margin-bottom: 0;padding: 0.3em;box-sizing: border-box;text-align: center;}#sk-container-id-7 label.sk-toggleable__label-arrow:before {content: \"▸\";float: left;margin-right: 0.25em;color: #696969;}#sk-container-id-7 label.sk-toggleable__label-arrow:hover:before {color: black;}#sk-container-id-7 div.sk-estimator:hover label.sk-toggleable__label-arrow:before {color: black;}#sk-container-id-7 div.sk-toggleable__content {max-height: 0;max-width: 0;overflow: hidden;text-align: left;background-color: #f0f8ff;}#sk-container-id-7 div.sk-toggleable__content pre {margin: 0.2em;color: black;border-radius: 0.25em;background-color: #f0f8ff;}#sk-container-id-7 input.sk-toggleable__control:checked~div.sk-toggleable__content {max-height: 200px;max-width: 100%;overflow: auto;}#sk-container-id-7 input.sk-toggleable__control:checked~label.sk-toggleable__label-arrow:before {content: \"▾\";}#sk-container-id-7 div.sk-estimator input.sk-toggleable__control:checked~label.sk-toggleable__label {background-color: #d4ebff;}#sk-container-id-7 div.sk-label input.sk-toggleable__control:checked~label.sk-toggleable__label {background-color: #d4ebff;}#sk-container-id-7 input.sk-hidden--visually {border: 0;clip: rect(1px 1px 1px 1px);clip: rect(1px, 1px, 1px, 1px);height: 1px;margin: -1px;overflow: hidden;padding: 0;position: absolute;width: 1px;}#sk-container-id-7 div.sk-estimator {font-family: monospace;background-color: #f0f8ff;border: 1px dotted black;border-radius: 0.25em;box-sizing: border-box;margin-bottom: 0.5em;}#sk-container-id-7 div.sk-estimator:hover {background-color: #d4ebff;}#sk-container-id-7 div.sk-parallel-item::after {content: \"\";width: 100%;border-bottom: 1px solid gray;flex-grow: 1;}#sk-container-id-7 div.sk-label:hover label.sk-toggleable__label {background-color: #d4ebff;}#sk-container-id-7 div.sk-serial::before {content: \"\";position: absolute;border-left: 1px solid gray;box-sizing: border-box;top: 0;bottom: 0;left: 50%;z-index: 0;}#sk-container-id-7 div.sk-serial {display: flex;flex-direction: column;align-items: center;background-color: white;padding-right: 0.2em;padding-left: 0.2em;position: relative;}#sk-container-id-7 div.sk-item {position: relative;z-index: 1;}#sk-container-id-7 div.sk-parallel {display: flex;align-items: stretch;justify-content: center;background-color: white;position: relative;}#sk-container-id-7 div.sk-item::before, #sk-container-id-7 div.sk-parallel-item::before {content: \"\";position: absolute;border-left: 1px solid gray;box-sizing: border-box;top: 0;bottom: 0;left: 50%;z-index: -1;}#sk-container-id-7 div.sk-parallel-item {display: flex;flex-direction: column;z-index: 1;position: relative;background-color: white;}#sk-container-id-7 div.sk-parallel-item:first-child::after {align-self: flex-end;width: 50%;}#sk-container-id-7 div.sk-parallel-item:last-child::after {align-self: flex-start;width: 50%;}#sk-container-id-7 div.sk-parallel-item:only-child::after {width: 0;}#sk-container-id-7 div.sk-dashed-wrapped {border: 1px dashed gray;margin: 0 0.4em 0.5em 0.4em;box-sizing: border-box;padding-bottom: 0.4em;background-color: white;}#sk-container-id-7 div.sk-label label {font-family: monospace;font-weight: bold;display: inline-block;line-height: 1.2em;}#sk-container-id-7 div.sk-label-container {text-align: center;}#sk-container-id-7 div.sk-container {/* jupyter's `normalize.less` sets `[hidden] { display: none; }` but bootstrap.min.css set `[hidden] { display: none !important; }` so we also need the `!important` here to be able to override the default hidden behavior on the sphinx rendered scikit-learn.org. See: https://github.com/scikit-learn/scikit-learn/issues/21755 */display: inline-block !important;position: relative;}#sk-container-id-7 div.sk-text-repr-fallback {display: none;}</style><div id=\"sk-container-id-7\" class=\"sk-top-container\"><div class=\"sk-text-repr-fallback\"><pre>RandomForestRegressor(max_depth=50, max_features=0.6, min_samples_leaf=16,\n",
       "                      n_estimators=400, n_jobs=-1)</pre><b>In a Jupyter environment, please rerun this cell to show the HTML representation or trust the notebook. <br />On GitHub, the HTML representation is unable to render, please try loading this page with nbviewer.org.</b></div><div class=\"sk-container\" hidden><div class=\"sk-item\"><div class=\"sk-estimator sk-toggleable\"><input class=\"sk-toggleable__control sk-hidden--visually\" id=\"sk-estimator-id-7\" type=\"checkbox\" checked><label for=\"sk-estimator-id-7\" class=\"sk-toggleable__label sk-toggleable__label-arrow\">RandomForestRegressor</label><div class=\"sk-toggleable__content\"><pre>RandomForestRegressor(max_depth=50, max_features=0.6, min_samples_leaf=16,\n",
       "                      n_estimators=400, n_jobs=-1)</pre></div></div></div></div></div>"
      ],
      "text/plain": [
       "RandomForestRegressor(max_depth=50, max_features=0.6, min_samples_leaf=16,\n",
       "                      n_estimators=400, n_jobs=-1)"
      ]
     },
     "execution_count": 78,
     "metadata": {},
     "output_type": "execute_result"
    }
   ],
   "source": [
    "best_params ={'max_depth': 50,\n",
    "              'n_estimators': 400,\n",
    "            'max_features': 0.6,\n",
    "            'min_samples_leaf': 16,\n",
    "             'n_jobs':-1}\n",
    "ran_forest_town = RandomForestRegressor(**best_params)\n",
    "ran_forest_town.fit(X_train_town, Y_train_town)"
   ]
  },
  {
   "cell_type": "code",
   "execution_count": 79,
   "id": "433c1160-d95b-4a16-8fd4-6312e966828b",
   "metadata": {
    "tags": []
   },
   "outputs": [
    {
     "name": "stdout",
     "output_type": "stream",
     "text": [
      "Model: RandomForestRegressor(max_depth=50, max_features=0.6, min_samples_leaf=16,\n",
      "                      n_estimators=400, n_jobs=-1)\n",
      "MAE: 120384.85041366312, RMSE: 255886.01063963637\n"
     ]
    }
   ],
   "source": [
    "get_eval_metrics([ran_forest_town], X_test_town, Y_test_town)"
   ]
  },
  {
   "cell_type": "code",
   "execution_count": 81,
   "id": "3d7ccc26-5f05-4b21-bfdc-7be2b59d6aa8",
   "metadata": {
    "tags": []
   },
   "outputs": [
    {
     "name": "stdout",
     "output_type": "stream",
     "text": [
      "Model: RandomForestRegressor(max_depth=50, max_features=0.6, min_samples_leaf=16,\n",
      "                      n_estimators=400, n_jobs=-1)\n",
      "log_error: -0.24924787523932057\n"
     ]
    }
   ],
   "source": [
    "get_avg_log_error(ran_forest_town, X_test_town, Y_test_town)"
   ]
  },
  {
   "cell_type": "markdown",
   "id": "ef4dd70c-a062-418c-89ff-b4ce7d1bd9f8",
   "metadata": {
    "tags": []
   },
   "source": [
    "## Gradient Boosting(XGBoost)"
   ]
  },
  {
   "cell_type": "code",
   "execution_count": 40,
   "id": "f9c70637-4ec6-4d8b-9ee4-38e1c56bfc8c",
   "metadata": {
    "tags": []
   },
   "outputs": [],
   "source": [
    "train_town, valid_town = train_test_split(train_town, test_size=0.2)\n",
    "#set validation set for early stopping\n",
    "\n",
    "X_train_town = train_town.drop(['price'], axis =1)\n",
    "Y_train_town = train_town['price']\n",
    "X_valid_town = valid_town.drop(['price'], axis =1)\n",
    "Y_valid_town = valid_town['price']"
   ]
  },
  {
   "cell_type": "code",
   "execution_count": 41,
   "id": "94ebfcce-42e1-4d27-ac75-8f9e3484ca5d",
   "metadata": {
    "tags": []
   },
   "outputs": [
    {
     "name": "stdout",
     "output_type": "stream",
     "text": [
      "Training ...\n",
      "[20:56:25] WARNING: ../src/objective/regression_obj.cu:213: reg:linear is now deprecated in favor of reg:squarederror.\n",
      "[20:56:25] WARNING: ../src/learner.cc:767: \n",
      "Parameters: { \"silent\" } are not used.\n",
      "\n",
      "[0]\ttrain-mae:347294.02659\tvalid-mae:349105.68949\n"
     ]
    },
    {
     "name": "stderr",
     "output_type": "stream",
     "text": [
      "/accounts/grad/huz4/.local/lib/python3.11/site-packages/xgboost/core.py:617: FutureWarning: Pass `evals` as keyword args.\n",
      "  warnings.warn(msg, FutureWarning)\n"
     ]
    },
    {
     "name": "stdout",
     "output_type": "stream",
     "text": [
      "[50]\ttrain-mae:117481.42409\tvalid-mae:123182.59492\n",
      "[100]\ttrain-mae:112113.01402\tvalid-mae:121023.65105\n",
      "[150]\ttrain-mae:108397.27323\tvalid-mae:119964.21619\n",
      "Predicting on test ...\n",
      "mean log error 0.20001519200990872\n",
      "Done!\n"
     ]
    },
    {
     "name": "stderr",
     "output_type": "stream",
     "text": [
      "/tmp/ipykernel_883612/3772116903.py:27: RuntimeWarning: invalid value encountered in log\n",
      "  logerror = np.log(p_test_town) - np.log(Y_test_town)\n"
     ]
    }
   ],
   "source": [
    "d_train_town = xgb.DMatrix(X_train_town, label=Y_train_town)\n",
    "d_valid_town = xgb.DMatrix(X_valid_town, label=Y_valid_town)\n",
    "\n",
    "\n",
    "print('Training ...')\n",
    "\n",
    "params = {}\n",
    "params['eta'] = 0.3\n",
    "params['objective'] = 'reg:linear'\n",
    "params['eval_metric'] = 'mae'\n",
    "params['max_depth'] = 4\n",
    "params['silent'] = 1\n",
    "\n",
    "watchlist = [(d_train_town, 'train'), (d_valid_town, 'valid')]\n",
    "clf_town = xgb.train(params, d_train_town, 10000, watchlist, early_stopping_rounds=10, verbose_eval=50)\n",
    "\n",
    "\n",
    "\n",
    "d_test_town = xgb.DMatrix(X_test_town)\n",
    "\n",
    "\n",
    "print('Predicting on test ...')\n",
    "\n",
    "p_test_town = clf_town.predict(d_test_town)\n",
    "\n",
    "import math\n",
    "logerror = np.log(p_test_town) - np.log(Y_test_town)\n",
    "print('mean log error', np.mean(logerror))\n",
    "print('Done!')"
   ]
  },
  {
   "cell_type": "code",
   "execution_count": 42,
   "id": "2752713f-8e1e-43e3-8cd7-d06fea58fbf6",
   "metadata": {
    "tags": []
   },
   "outputs": [
    {
     "name": "stdout",
     "output_type": "stream",
     "text": [
      "Model: <xgboost.core.Booster object at 0x7f734fd79450>\n",
      "MAE: 120510.19336620711, RMSE: 246737.37561986936\n"
     ]
    }
   ],
   "source": [
    "# testing set error\n",
    "get_eval_metrics([clf_town], d_test_town, Y_test_town)"
   ]
  },
  {
   "cell_type": "code",
   "execution_count": 56,
   "id": "b08c5135-6944-4650-8f32-3337973d13f4",
   "metadata": {
    "tags": []
   },
   "outputs": [
    {
     "data": {
      "text/plain": [
       "<AxesSubplot: title={'center': 'Feature importance'}, xlabel='F score', ylabel='Features'>"
      ]
     },
     "execution_count": 56,
     "metadata": {},
     "output_type": "execute_result"
    },
    {
     "data": {
      "image/png": "[encoded data removed]",
      "text/plain": [
       "<Figure size 640x480 with 1 Axes>"
      ]
     },
     "metadata": {},
     "output_type": "display_data"
    }
   ],
   "source": [
    "from xgboost import plot_importance\n",
    "plot_importance(clf_town, max_num_features = 15)"
   ]
  },
  {
   "cell_type": "code",
   "execution_count": 43,
   "id": "0aac4725-26a5-4f6a-9621-55b926bf8f87",
   "metadata": {
    "tags": []
   },
   "outputs": [
    {
     "name": "stderr",
     "output_type": "stream",
     "text": [
      "/accounts/grad/huz4/.local/lib/python3.11/site-packages/lightgbm/engine.py:181: UserWarning: 'early_stopping_rounds' argument is deprecated and will be removed in a future release of LightGBM. Pass 'early_stopping()' callback via 'callbacks' argument instead.\n",
      "  _log_warning(\"'early_stopping_rounds' argument is deprecated and will be removed in a future release of LightGBM. \"\n",
      "/accounts/grad/huz4/.local/lib/python3.11/site-packages/lightgbm/engine.py:239: UserWarning: 'verbose_eval' argument is deprecated and will be removed in a future release of LightGBM. Pass 'log_evaluation()' callback via 'callbacks' argument instead.\n",
      "  _log_warning(\"'verbose_eval' argument is deprecated and will be removed in a future release of LightGBM. \"\n"
     ]
    },
    {
     "name": "stdout",
     "output_type": "stream",
     "text": [
      "[LightGBM] [Warning] Auto-choosing col-wise multi-threading, the overhead of testing was 0.003583 seconds.\n",
      "You can set `force_col_wise=true` to remove the overhead.\n",
      "[LightGBM] [Info] Total Bins 1129\n",
      "[LightGBM] [Info] Number of data points in the train set: 39377, number of used features: 9\n",
      "[LightGBM] [Info] Start training from score 490309.886406\n",
      "Training until validation scores don't improve for 10 rounds\n",
      "[LightGBM] [Warning] No further splits with positive gain, best gain: -inf\n",
      "[LightGBM] [Warning] No further splits with positive gain, best gain: -inf\n",
      "[LightGBM] [Warning] No further splits with positive gain, best gain: -inf\n",
      "[LightGBM] [Warning] No further splits with positive gain, best gain: -inf\n",
      "[LightGBM] [Warning] No further splits with positive gain, best gain: -inf\n",
      "[LightGBM] [Warning] No further splits with positive gain, best gain: -inf\n",
      "[LightGBM] [Warning] No further splits with positive gain, best gain: -inf\n",
      "[LightGBM] [Warning] No further splits with positive gain, best gain: -inf\n",
      "[LightGBM] [Warning] No further splits with positive gain, best gain: -inf\n",
      "[LightGBM] [Warning] No further splits with positive gain, best gain: -inf\n",
      "[LightGBM] [Warning] No further splits with positive gain, best gain: -inf\n",
      "[LightGBM] [Warning] No further splits with positive gain, best gain: -inf\n",
      "[LightGBM] [Warning] No further splits with positive gain, best gain: -inf\n",
      "[LightGBM] [Warning] No further splits with positive gain, best gain: -inf\n",
      "[LightGBM] [Warning] No further splits with positive gain, best gain: -inf\n",
      "[LightGBM] [Warning] No further splits with positive gain, best gain: -inf\n",
      "[LightGBM] [Warning] No further splits with positive gain, best gain: -inf\n",
      "[LightGBM] [Warning] No further splits with positive gain, best gain: -inf\n",
      "[LightGBM] [Warning] No further splits with positive gain, best gain: -inf\n",
      "[LightGBM] [Warning] No further splits with positive gain, best gain: -inf\n",
      "[LightGBM] [Warning] No further splits with positive gain, best gain: -inf\n",
      "[LightGBM] [Warning] No further splits with positive gain, best gain: -inf\n",
      "[LightGBM] [Warning] No further splits with positive gain, best gain: -inf\n",
      "[LightGBM] [Warning] No further splits with positive gain, best gain: -inf\n",
      "[50]\tvalid_0's l1: 140224\n",
      "[LightGBM] [Warning] No further splits with positive gain, best gain: -inf\n",
      "[LightGBM] [Warning] No further splits with positive gain, best gain: -inf\n",
      "[LightGBM] [Warning] No further splits with positive gain, best gain: -inf\n",
      "[LightGBM] [Warning] No further splits with positive gain, best gain: -inf\n",
      "[LightGBM] [Warning] No further splits with positive gain, best gain: -inf\n",
      "[LightGBM] [Warning] No further splits with positive gain, best gain: -inf\n",
      "[LightGBM] [Warning] No further splits with positive gain, best gain: -inf\n",
      "[LightGBM] [Warning] No further splits with positive gain, best gain: -inf\n",
      "[LightGBM] [Warning] No further splits with positive gain, best gain: -inf\n",
      "[LightGBM] [Warning] No further splits with positive gain, best gain: -inf\n",
      "[LightGBM] [Warning] No further splits with positive gain, best gain: -inf\n",
      "[LightGBM] [Warning] No further splits with positive gain, best gain: -inf\n",
      "[LightGBM] [Warning] No further splits with positive gain, best gain: -inf\n",
      "[LightGBM] [Warning] No further splits with positive gain, best gain: -inf\n",
      "[LightGBM] [Warning] No further splits with positive gain, best gain: -inf\n",
      "[LightGBM] [Warning] No further splits with positive gain, best gain: -inf\n",
      "[LightGBM] [Warning] No further splits with positive gain, best gain: -inf\n",
      "[LightGBM] [Warning] No further splits with positive gain, best gain: -inf\n",
      "[LightGBM] [Warning] No further splits with positive gain, best gain: -inf\n",
      "[LightGBM] [Warning] No further splits with positive gain, best gain: -inf\n",
      "[LightGBM] [Warning] No further splits with positive gain, best gain: -inf\n",
      "[100]\tvalid_0's l1: 127605\n",
      "[LightGBM] [Warning] No further splits with positive gain, best gain: -inf\n",
      "[LightGBM] [Warning] No further splits with positive gain, best gain: -inf\n",
      "[LightGBM] [Warning] No further splits with positive gain, best gain: -inf\n",
      "[LightGBM] [Warning] No further splits with positive gain, best gain: -inf\n",
      "[LightGBM] [Warning] No further splits with positive gain, best gain: -inf\n",
      "[LightGBM] [Warning] No further splits with positive gain, best gain: -inf\n",
      "[LightGBM] [Warning] No further splits with positive gain, best gain: -inf\n",
      "[LightGBM] [Warning] No further splits with positive gain, best gain: -inf\n",
      "[LightGBM] [Warning] No further splits with positive gain, best gain: -inf\n",
      "[LightGBM] [Warning] No further splits with positive gain, best gain: -inf\n",
      "[LightGBM] [Warning] No further splits with positive gain, best gain: -inf\n",
      "[LightGBM] [Warning] No further splits with positive gain, best gain: -inf\n",
      "[LightGBM] [Warning] No further splits with positive gain, best gain: -inf\n",
      "[LightGBM] [Warning] No further splits with positive gain, best gain: -inf\n",
      "[LightGBM] [Warning] No further splits with positive gain, best gain: -inf\n",
      "[LightGBM] [Warning] No further splits with positive gain, best gain: -inf\n",
      "[150]\tvalid_0's l1: 124898\n",
      "[LightGBM] [Warning] No further splits with positive gain, best gain: -inf\n",
      "[LightGBM] [Warning] No further splits with positive gain, best gain: -inf\n",
      "[LightGBM] [Warning] No further splits with positive gain, best gain: -inf\n",
      "[LightGBM] [Warning] No further splits with positive gain, best gain: -inf\n",
      "[LightGBM] [Warning] No further splits with positive gain, best gain: -inf\n",
      "[LightGBM] [Warning] No further splits with positive gain, best gain: -inf\n",
      "[LightGBM] [Warning] No further splits with positive gain, best gain: -inf\n",
      "[LightGBM] [Warning] No further splits with positive gain, best gain: -inf\n",
      "[LightGBM] [Warning] No further splits with positive gain, best gain: -inf\n",
      "[LightGBM] [Warning] No further splits with positive gain, best gain: -inf\n",
      "[LightGBM] [Warning] No further splits with positive gain, best gain: -inf\n",
      "[LightGBM] [Warning] No further splits with positive gain, best gain: -inf\n",
      "[LightGBM] [Warning] No further splits with positive gain, best gain: -inf\n",
      "[LightGBM] [Warning] No further splits with positive gain, best gain: -inf\n",
      "[LightGBM] [Warning] No further splits with positive gain, best gain: -inf\n",
      "[LightGBM] [Warning] No further splits with positive gain, best gain: -inf\n",
      "[LightGBM] [Warning] No further splits with positive gain, best gain: -inf\n",
      "[LightGBM] [Warning] No further splits with positive gain, best gain: -inf\n",
      "[LightGBM] [Warning] No further splits with positive gain, best gain: -inf\n",
      "[LightGBM] [Warning] No further splits with positive gain, best gain: -inf\n",
      "[LightGBM] [Warning] No further splits with positive gain, best gain: -inf\n",
      "[LightGBM] [Warning] No further splits with positive gain, best gain: -inf\n",
      "[LightGBM] [Warning] No further splits with positive gain, best gain: -inf\n",
      "[LightGBM] [Warning] No further splits with positive gain, best gain: -inf\n",
      "[LightGBM] [Warning] No further splits with positive gain, best gain: -inf\n",
      "[LightGBM] [Warning] No further splits with positive gain, best gain: -inf\n",
      "[200]\tvalid_0's l1: 123707\n",
      "[LightGBM] [Warning] No further splits with positive gain, best gain: -inf\n",
      "[LightGBM] [Warning] No further splits with positive gain, best gain: -inf\n",
      "[LightGBM] [Warning] No further splits with positive gain, best gain: -inf\n",
      "[LightGBM] [Warning] No further splits with positive gain, best gain: -inf\n",
      "[LightGBM] [Warning] No further splits with positive gain, best gain: -inf\n",
      "[LightGBM] [Warning] No further splits with positive gain, best gain: -inf\n",
      "[LightGBM] [Warning] No further splits with positive gain, best gain: -inf\n",
      "[LightGBM] [Warning] No further splits with positive gain, best gain: -inf\n",
      "[LightGBM] [Warning] No further splits with positive gain, best gain: -inf\n",
      "[LightGBM] [Warning] No further splits with positive gain, best gain: -inf\n",
      "[LightGBM] [Warning] No further splits with positive gain, best gain: -inf\n",
      "[LightGBM] [Warning] No further splits with positive gain, best gain: -inf\n",
      "[LightGBM] [Warning] No further splits with positive gain, best gain: -inf\n",
      "[LightGBM] [Warning] No further splits with positive gain, best gain: -inf\n",
      "[LightGBM] [Warning] No further splits with positive gain, best gain: -inf\n",
      "[LightGBM] [Warning] No further splits with positive gain, best gain: -inf\n",
      "[LightGBM] [Warning] No further splits with positive gain, best gain: -inf\n",
      "[LightGBM] [Warning] No further splits with positive gain, best gain: -inf\n",
      "[250]\tvalid_0's l1: 122888\n",
      "[LightGBM] [Warning] No further splits with positive gain, best gain: -inf\n",
      "[LightGBM] [Warning] No further splits with positive gain, best gain: -inf\n",
      "[LightGBM] [Warning] No further splits with positive gain, best gain: -inf\n",
      "[LightGBM] [Warning] No further splits with positive gain, best gain: -inf\n",
      "[LightGBM] [Warning] No further splits with positive gain, best gain: -inf\n",
      "[LightGBM] [Warning] No further splits with positive gain, best gain: -inf\n",
      "[LightGBM] [Warning] No further splits with positive gain, best gain: -inf\n",
      "[LightGBM] [Warning] No further splits with positive gain, best gain: -inf\n",
      "[LightGBM] [Warning] No further splits with positive gain, best gain: -inf\n",
      "[LightGBM] [Warning] No further splits with positive gain, best gain: -inf\n",
      "[LightGBM] [Warning] No further splits with positive gain, best gain: -inf\n",
      "[LightGBM] [Warning] No further splits with positive gain, best gain: -inf\n",
      "[LightGBM] [Warning] No further splits with positive gain, best gain: -inf\n",
      "[LightGBM] [Warning] No further splits with positive gain, best gain: -inf\n",
      "[LightGBM] [Warning] No further splits with positive gain, best gain: -inf\n",
      "[LightGBM] [Warning] No further splits with positive gain, best gain: -inf\n",
      "[LightGBM] [Warning] No further splits with positive gain, best gain: -inf\n",
      "[LightGBM] [Warning] No further splits with positive gain, best gain: -inf\n",
      "[LightGBM] [Warning] No further splits with positive gain, best gain: -inf\n",
      "[300]\tvalid_0's l1: 122272\n",
      "[LightGBM] [Warning] No further splits with positive gain, best gain: -inf\n",
      "[LightGBM] [Warning] No further splits with positive gain, best gain: -inf\n",
      "[LightGBM] [Warning] No further splits with positive gain, best gain: -inf\n",
      "[LightGBM] [Warning] No further splits with positive gain, best gain: -inf\n",
      "[LightGBM] [Warning] No further splits with positive gain, best gain: -inf\n",
      "[LightGBM] [Warning] No further splits with positive gain, best gain: -inf\n",
      "[LightGBM] [Warning] No further splits with positive gain, best gain: -inf\n",
      "[LightGBM] [Warning] No further splits with positive gain, best gain: -inf\n",
      "[LightGBM] [Warning] No further splits with positive gain, best gain: -inf\n",
      "[LightGBM] [Warning] No further splits with positive gain, best gain: -inf\n",
      "[LightGBM] [Warning] No further splits with positive gain, best gain: -inf\n",
      "[LightGBM] [Warning] No further splits with positive gain, best gain: -inf\n",
      "[LightGBM] [Warning] No further splits with positive gain, best gain: -inf\n",
      "[LightGBM] [Warning] No further splits with positive gain, best gain: -inf\n",
      "[LightGBM] [Warning] No further splits with positive gain, best gain: -inf\n",
      "[LightGBM] [Warning] No further splits with positive gain, best gain: -inf\n",
      "[LightGBM] [Warning] No further splits with positive gain, best gain: -inf\n",
      "[LightGBM] [Warning] No further splits with positive gain, best gain: -inf\n",
      "[LightGBM] [Warning] No further splits with positive gain, best gain: -inf\n",
      "[LightGBM] [Warning] No further splits with positive gain, best gain: -inf\n",
      "[350]\tvalid_0's l1: 121829\n",
      "[LightGBM] [Warning] No further splits with positive gain, best gain: -inf\n",
      "[LightGBM] [Warning] No further splits with positive gain, best gain: -inf\n",
      "[LightGBM] [Warning] No further splits with positive gain, best gain: -inf\n",
      "[LightGBM] [Warning] No further splits with positive gain, best gain: -inf\n",
      "[LightGBM] [Warning] No further splits with positive gain, best gain: -inf\n",
      "[LightGBM] [Warning] No further splits with positive gain, best gain: -inf\n",
      "[LightGBM] [Warning] No further splits with positive gain, best gain: -inf\n",
      "[LightGBM] [Warning] No further splits with positive gain, best gain: -inf\n",
      "[LightGBM] [Warning] No further splits with positive gain, best gain: -inf\n",
      "[LightGBM] [Warning] No further splits with positive gain, best gain: -inf\n",
      "[LightGBM] [Warning] No further splits with positive gain, best gain: -inf\n",
      "[LightGBM] [Warning] No further splits with positive gain, best gain: -inf\n",
      "[LightGBM] [Warning] No further splits with positive gain, best gain: -inf\n",
      "[LightGBM] [Warning] No further splits with positive gain, best gain: -inf\n",
      "[LightGBM] [Warning] No further splits with positive gain, best gain: -inf\n",
      "[LightGBM] [Warning] No further splits with positive gain, best gain: -inf\n",
      "[LightGBM] [Warning] No further splits with positive gain, best gain: -inf\n",
      "[LightGBM] [Warning] No further splits with positive gain, best gain: -inf\n",
      "[LightGBM] [Warning] No further splits with positive gain, best gain: -inf\n",
      "[400]\tvalid_0's l1: 121415\n",
      "[LightGBM] [Warning] No further splits with positive gain, best gain: -inf\n",
      "[LightGBM] [Warning] No further splits with positive gain, best gain: -inf\n",
      "[LightGBM] [Warning] No further splits with positive gain, best gain: -inf\n",
      "[LightGBM] [Warning] No further splits with positive gain, best gain: -inf\n",
      "[LightGBM] [Warning] No further splits with positive gain, best gain: -inf\n",
      "[LightGBM] [Warning] No further splits with positive gain, best gain: -inf\n",
      "[LightGBM] [Warning] No further splits with positive gain, best gain: -inf\n",
      "[LightGBM] [Warning] No further splits with positive gain, best gain: -inf\n",
      "[LightGBM] [Warning] No further splits with positive gain, best gain: -inf\n",
      "[LightGBM] [Warning] No further splits with positive gain, best gain: -inf\n",
      "[LightGBM] [Warning] No further splits with positive gain, best gain: -inf\n",
      "[LightGBM] [Warning] No further splits with positive gain, best gain: -inf\n",
      "[LightGBM] [Warning] No further splits with positive gain, best gain: -inf\n",
      "[LightGBM] [Warning] No further splits with positive gain, best gain: -inf\n",
      "[LightGBM] [Warning] No further splits with positive gain, best gain: -inf\n",
      "[LightGBM] [Warning] No further splits with positive gain, best gain: -inf\n",
      "[LightGBM] [Warning] No further splits with positive gain, best gain: -inf\n",
      "[LightGBM] [Warning] No further splits with positive gain, best gain: -inf\n",
      "[LightGBM] [Warning] No further splits with positive gain, best gain: -inf\n",
      "[LightGBM] [Warning] No further splits with positive gain, best gain: -inf\n",
      "[LightGBM] [Warning] No further splits with positive gain, best gain: -inf\n",
      "[LightGBM] [Warning] No further splits with positive gain, best gain: -inf\n",
      "[LightGBM] [Warning] No further splits with positive gain, best gain: -inf\n",
      "[LightGBM] [Warning] No further splits with positive gain, best gain: -inf\n",
      "[LightGBM] [Warning] No further splits with positive gain, best gain: -inf\n",
      "[450]\tvalid_0's l1: 121156\n",
      "[LightGBM] [Warning] No further splits with positive gain, best gain: -inf\n",
      "[LightGBM] [Warning] No further splits with positive gain, best gain: -inf\n",
      "[LightGBM] [Warning] No further splits with positive gain, best gain: -inf\n",
      "[LightGBM] [Warning] No further splits with positive gain, best gain: -inf\n",
      "Early stopping, best iteration is:\n",
      "[446]\tvalid_0's l1: 121124\n",
      "Done!\n"
     ]
    }
   ],
   "source": [
    "d_train = lgb.Dataset(X_train_town, label=Y_train_town)\n",
    "d_valid = lgb.Dataset(X_valid_town, label=Y_valid_town)\n",
    "\n",
    "params = {}\n",
    "params['learning_rate'] = 0.03\n",
    "params['boosting_type'] = 'gbdt'\n",
    "params['objective'] = 'regression'\n",
    "params['metric'] = 'mae'\n",
    "params['sub_feature'] = 0.5\n",
    "params['num_leaves'] = 60\n",
    "params['min_data'] = 500\n",
    "params['min_hessian'] = 1\n",
    "\n",
    "watchlist = [d_valid]\n",
    "clf_town = lgb.train(params, d_train, 500, watchlist,early_stopping_rounds=10, verbose_eval=50)\n",
    "\n",
    "print('Done!')"
   ]
  },
  {
   "cell_type": "code",
   "execution_count": 44,
   "id": "020aab14-b499-4870-8d68-dc2d8983f30e",
   "metadata": {
    "tags": []
   },
   "outputs": [
    {
     "name": "stdout",
     "output_type": "stream",
     "text": [
      "Model: <lightgbm.basic.Booster object at 0x7f734fd3cf90>\n",
      "MAE: 123085.95211696962, RMSE: 263361.2140531274\n"
     ]
    }
   ],
   "source": [
    "# testing set error\n",
    "get_eval_metrics([clf_town], X_test_town, Y_test_town)"
   ]
  },
  {
   "cell_type": "code",
   "execution_count": 45,
   "id": "8e7c5d52-c21d-4120-a5ad-a7b47332ff38",
   "metadata": {
    "tags": []
   },
   "outputs": [
    {
     "name": "stdout",
     "output_type": "stream",
     "text": [
      "mean log error 0.21932224797453626\n"
     ]
    }
   ],
   "source": [
    "# testing log error\n",
    "p_test = clf_town.predict(X_test_town)\n",
    "p_test = replace_negative_with_one(p_test)\n",
    "import math\n",
    "logerror = np.log(p_test) - np.log(Y_test_town)\n",
    "print('mean log error', np.mean(logerror))"
   ]
  },
  {
   "cell_type": "markdown",
   "id": "5a3bb608-ce10-4791-bdd0-93f1cf8706e1",
   "metadata": {
    "tags": []
   },
   "source": [
    "## Gradient Boosting(AdaBoost)"
   ]
  },
  {
   "cell_type": "code",
   "execution_count": 62,
   "id": "9bf1c431-92ea-4777-af2b-740fae7def02",
   "metadata": {
    "tags": []
   },
   "outputs": [
    {
     "name": "stdout",
     "output_type": "stream",
     "text": [
      "Model: AdaBoostRegressor()\n",
      "MAE: 122570.7273981219, RMSE: 145035.4344592369\n",
      "Model: AdaBoostRegressor()\n",
      "MAE: 123454.14709660552, RMSE: 145519.21521441775\n"
     ]
    }
   ],
   "source": [
    "ada = AdaBoostRegressor()\n",
    "ada.fit(X_train_town, Y_train_town)\n",
    "# training MAE and RMSE\n",
    "get_eval_metrics([ada], X_train_town, Y_train_town)\n",
    "# testing MAE and RMSE\n",
    "get_eval_metrics([ada], X_test_town, Y_test_town)\n",
    "#average log error\n",
    "get_avg_log error(ada, X_test_con, Y_test_con)"
   ]
  },
  {
   "cell_type": "markdown",
   "id": "58b62bdd-b4a9-48d1-8e2f-3c7066ea678d",
   "metadata": {
    "tags": []
   },
   "source": [
    "## Linear Regression"
   ]
  },
  {
   "cell_type": "code",
   "execution_count": 63,
   "id": "5bf32824-7c91-4e1c-95c0-40a7462d5cb1",
   "metadata": {
    "tags": []
   },
   "outputs": [
    {
     "name": "stdout",
     "output_type": "stream",
     "text": [
      "[-5.82058647e-12 -5.80053820e+03 -1.51365476e+02  3.85861069e+03\n",
      "  2.91038305e-11  2.37361595e+04 -5.12776212e+03  2.91038305e-11\n",
      "  2.91038305e-11 -4.36557457e-11  7.97038889e+03  7.78975245e+03\n",
      " -1.84447419e+02  2.91038305e-11  0.00000000e+00 -2.91038305e-11\n",
      " -2.37330737e+02 -2.97101411e+04  0.00000000e+00 -1.92115887e+03\n",
      "  4.46974719e+05  4.36713331e+05  2.50639733e+04  4.32663349e+03\n",
      "  0.00000000e+00  0.00000000e+00  0.00000000e+00  0.00000000e+00\n",
      "  0.00000000e+00  0.00000000e+00  0.00000000e+00  0.00000000e+00\n",
      "  0.00000000e+00  0.00000000e+00  0.00000000e+00  0.00000000e+00\n",
      "  0.00000000e+00  0.00000000e+00 -4.14338567e+03 -9.80503034e+02\n",
      "  0.00000000e+00  0.00000000e+00  0.00000000e+00  5.12388870e+03\n",
      "  3.55530328e+01  4.80161095e+01 -8.35691423e+01  0.00000000e+00\n",
      "  0.00000000e+00  0.00000000e+00  0.00000000e+00  0.00000000e+00\n",
      "  0.00000000e+00  0.00000000e+00  0.00000000e+00  0.00000000e+00\n",
      "  0.00000000e+00  0.00000000e+00  0.00000000e+00  0.00000000e+00\n",
      "  0.00000000e+00  0.00000000e+00  4.80161095e+01 -8.35691423e+01\n",
      "  3.55530328e+01  0.00000000e+00  0.00000000e+00  0.00000000e+00\n",
      "  0.00000000e+00 -1.19086030e+03  1.19086030e+03]\n"
     ]
    }
   ],
   "source": [
    "#fitting regression model\n",
    "regr = linear_model.LinearRegression()\n",
    "regr.fit(X_train_town, Y_train_town)\n",
    "print(regr.coef_)"
   ]
  },
  {
   "cell_type": "code",
   "execution_count": 64,
   "id": "d4eddc41-e32e-4381-951e-f3b689e3dac9",
   "metadata": {
    "tags": []
   },
   "outputs": [
    {
     "name": "stdout",
     "output_type": "stream",
     "text": [
      "Model: LinearRegression()\n",
      "MAE: 39591.988832050825, RMSE: 67022.67771771182\n",
      "Model: LinearRegression()\n",
      "MAE: 38409.987217459166, RMSE: 61553.44256872763\n"
     ]
    }
   ],
   "source": [
    "# training MAE and RMSE\n",
    "get_eval_metrics([regr], X_train_town, Y_train_town)\n",
    "# testing MAE and RMSE\n",
    "get_eval_metrics([regr], X_test_town, Y_test_town)\n",
    "#average log error\n",
    "get_avg_log error(ada, X_test_con, Y_test_con)"
   ]
  },
  {
   "cell_type": "markdown",
   "id": "5a3cd2b5-e076-4696-8b9d-08bae2650643",
   "metadata": {
    "tags": []
   },
   "source": [
    "# mobile_home"
   ]
  },
  {
   "cell_type": "markdown",
   "id": "4821771f-c299-4a41-9302-bc9efda531a0",
   "metadata": {
    "tags": []
   },
   "source": [
    "best_params ={'max_depth': 50,\n",
    "              'n_estimators': 400,\n",
    "            'max_features': 0.6,\n",
    "            'min_samples_leaf': 16,\n",
    "             'n_jobs':-1}\n",
    "ran_forest_town = RandomForestRegressor(**best_params)\n",
    "ran_forest_town.fit(X_train_town, Y_train_town)## Random forest"
   ]
  },
  {
   "cell_type": "code",
   "execution_count": 82,
   "id": "898cd3c8-c502-4cb4-b1fc-ecd6918d8b1b",
   "metadata": {
    "tags": []
   },
   "outputs": [
    {
     "data": {
      "text/html": [
       "<style>#sk-container-id-8 {color: black;background-color: white;}#sk-container-id-8 pre{padding: 0;}#sk-container-id-8 div.sk-toggleable {background-color: white;}#sk-container-id-8 label.sk-toggleable__label {cursor: pointer;display: block;width: 100%;margin-bottom: 0;padding: 0.3em;box-sizing: border-box;text-align: center;}#sk-container-id-8 label.sk-toggleable__label-arrow:before {content: \"▸\";float: left;margin-right: 0.25em;color: #696969;}#sk-container-id-8 label.sk-toggleable__label-arrow:hover:before {color: black;}#sk-container-id-8 div.sk-estimator:hover label.sk-toggleable__label-arrow:before {color: black;}#sk-container-id-8 div.sk-toggleable__content {max-height: 0;max-width: 0;overflow: hidden;text-align: left;background-color: #f0f8ff;}#sk-container-id-8 div.sk-toggleable__content pre {margin: 0.2em;color: black;border-radius: 0.25em;background-color: #f0f8ff;}#sk-container-id-8 input.sk-toggleable__control:checked~div.sk-toggleable__content {max-height: 200px;max-width: 100%;overflow: auto;}#sk-container-id-8 input.sk-toggleable__control:checked~label.sk-toggleable__label-arrow:before {content: \"▾\";}#sk-container-id-8 div.sk-estimator input.sk-toggleable__control:checked~label.sk-toggleable__label {background-color: #d4ebff;}#sk-container-id-8 div.sk-label input.sk-toggleable__control:checked~label.sk-toggleable__label {background-color: #d4ebff;}#sk-container-id-8 input.sk-hidden--visually {border: 0;clip: rect(1px 1px 1px 1px);clip: rect(1px, 1px, 1px, 1px);height: 1px;margin: -1px;overflow: hidden;padding: 0;position: absolute;width: 1px;}#sk-container-id-8 div.sk-estimator {font-family: monospace;background-color: #f0f8ff;border: 1px dotted black;border-radius: 0.25em;box-sizing: border-box;margin-bottom: 0.5em;}#sk-container-id-8 div.sk-estimator:hover {background-color: #d4ebff;}#sk-container-id-8 div.sk-parallel-item::after {content: \"\";width: 100%;border-bottom: 1px solid gray;flex-grow: 1;}#sk-container-id-8 div.sk-label:hover label.sk-toggleable__label {background-color: #d4ebff;}#sk-container-id-8 div.sk-serial::before {content: \"\";position: absolute;border-left: 1px solid gray;box-sizing: border-box;top: 0;bottom: 0;left: 50%;z-index: 0;}#sk-container-id-8 div.sk-serial {display: flex;flex-direction: column;align-items: center;background-color: white;padding-right: 0.2em;padding-left: 0.2em;position: relative;}#sk-container-id-8 div.sk-item {position: relative;z-index: 1;}#sk-container-id-8 div.sk-parallel {display: flex;align-items: stretch;justify-content: center;background-color: white;position: relative;}#sk-container-id-8 div.sk-item::before, #sk-container-id-8 div.sk-parallel-item::before {content: \"\";position: absolute;border-left: 1px solid gray;box-sizing: border-box;top: 0;bottom: 0;left: 50%;z-index: -1;}#sk-container-id-8 div.sk-parallel-item {display: flex;flex-direction: column;z-index: 1;position: relative;background-color: white;}#sk-container-id-8 div.sk-parallel-item:first-child::after {align-self: flex-end;width: 50%;}#sk-container-id-8 div.sk-parallel-item:last-child::after {align-self: flex-start;width: 50%;}#sk-container-id-8 div.sk-parallel-item:only-child::after {width: 0;}#sk-container-id-8 div.sk-dashed-wrapped {border: 1px dashed gray;margin: 0 0.4em 0.5em 0.4em;box-sizing: border-box;padding-bottom: 0.4em;background-color: white;}#sk-container-id-8 div.sk-label label {font-family: monospace;font-weight: bold;display: inline-block;line-height: 1.2em;}#sk-container-id-8 div.sk-label-container {text-align: center;}#sk-container-id-8 div.sk-container {/* jupyter's `normalize.less` sets `[hidden] { display: none; }` but bootstrap.min.css set `[hidden] { display: none !important; }` so we also need the `!important` here to be able to override the default hidden behavior on the sphinx rendered scikit-learn.org. See: https://github.com/scikit-learn/scikit-learn/issues/21755 */display: inline-block !important;position: relative;}#sk-container-id-8 div.sk-text-repr-fallback {display: none;}</style><div id=\"sk-container-id-8\" class=\"sk-top-container\"><div class=\"sk-text-repr-fallback\"><pre>RandomForestRegressor(max_depth=50, max_features=0.6, min_samples_leaf=16,\n",
       "                      n_estimators=400, n_jobs=-1)</pre><b>In a Jupyter environment, please rerun this cell to show the HTML representation or trust the notebook. <br />On GitHub, the HTML representation is unable to render, please try loading this page with nbviewer.org.</b></div><div class=\"sk-container\" hidden><div class=\"sk-item\"><div class=\"sk-estimator sk-toggleable\"><input class=\"sk-toggleable__control sk-hidden--visually\" id=\"sk-estimator-id-8\" type=\"checkbox\" checked><label for=\"sk-estimator-id-8\" class=\"sk-toggleable__label sk-toggleable__label-arrow\">RandomForestRegressor</label><div class=\"sk-toggleable__content\"><pre>RandomForestRegressor(max_depth=50, max_features=0.6, min_samples_leaf=16,\n",
       "                      n_estimators=400, n_jobs=-1)</pre></div></div></div></div></div>"
      ],
      "text/plain": [
       "RandomForestRegressor(max_depth=50, max_features=0.6, min_samples_leaf=16,\n",
       "                      n_estimators=400, n_jobs=-1)"
      ]
     },
     "execution_count": 82,
     "metadata": {},
     "output_type": "execute_result"
    }
   ],
   "source": [
    "best_params ={'max_depth': 50,\n",
    "              'n_estimators': 400,\n",
    "            'max_features': 0.6,\n",
    "            'min_samples_leaf': 16,\n",
    "             'n_jobs':-1}\n",
    "ran_forest_mob = RandomForestRegressor(**best_params)\n",
    "ran_forest_mob.fit(X_train_mob, Y_train_mob)"
   ]
  },
  {
   "cell_type": "code",
   "execution_count": 83,
   "id": "671e4a52-928e-4da5-a975-5349e8dfcfcc",
   "metadata": {
    "tags": []
   },
   "outputs": [
    {
     "name": "stdout",
     "output_type": "stream",
     "text": [
      "Model: RandomForestRegressor(max_depth=50, max_features=0.6, min_samples_leaf=16,\n",
      "                      n_estimators=400, n_jobs=-1)\n",
      "MAE: 19799.724760974746, RMSE: 75307.7989344847\n"
     ]
    }
   ],
   "source": [
    "get_eval_metrics([ran_forest_mob], X_test_mob, Y_test_mob)"
   ]
  },
  {
   "cell_type": "code",
   "execution_count": 84,
   "id": "e50ef966-d622-4405-a551-31e4d33d17c4",
   "metadata": {
    "tags": []
   },
   "outputs": [
    {
     "name": "stdout",
     "output_type": "stream",
     "text": [
      "Model: RandomForestRegressor(max_depth=50, max_features=0.6, min_samples_leaf=16,\n",
      "                      n_estimators=400, n_jobs=-1)\n",
      "log_error: -0.30515427686743535\n"
     ]
    }
   ],
   "source": [
    "get_avg_log_error(ran_forest_mob, X_test_mob, Y_test_mob)"
   ]
  },
  {
   "cell_type": "markdown",
   "id": "c2072485-c656-4386-bbb6-5a5d8e149735",
   "metadata": {
    "tags": []
   },
   "source": [
    "## Gradient Boosting(XGBoost)"
   ]
  },
  {
   "cell_type": "code",
   "execution_count": 46,
   "id": "614907c8-7ef5-4630-87da-04613f3b7644",
   "metadata": {
    "tags": []
   },
   "outputs": [],
   "source": [
    "train_mob, valid_mob = train_test_split(train_mob, test_size=0.2)\n",
    "#set validation set for early stopping\n",
    "\n",
    "X_train_mob = train_mob.drop(['price'], axis =1)\n",
    "Y_train_mob= train_mob['price']\n",
    "X_valid_mob = valid_mob.drop(['price'], axis =1)\n",
    "Y_valid_mob = valid_mob['price']"
   ]
  },
  {
   "cell_type": "code",
   "execution_count": 47,
   "id": "bb7dcbc7-2b96-456e-95d4-9583971ed8c2",
   "metadata": {
    "tags": []
   },
   "outputs": [
    {
     "name": "stdout",
     "output_type": "stream",
     "text": [
      "Training ...\n",
      "[20:58:16] WARNING: ../src/objective/regression_obj.cu:213: reg:linear is now deprecated in favor of reg:squarederror.\n",
      "[20:58:16] WARNING: ../src/learner.cc:767: \n",
      "Parameters: { \"silent\" } are not used.\n",
      "\n",
      "[0]\ttrain-mae:31746.10788\tvalid-mae:30857.08837\n"
     ]
    },
    {
     "name": "stderr",
     "output_type": "stream",
     "text": [
      "/accounts/grad/huz4/.local/lib/python3.11/site-packages/xgboost/core.py:617: FutureWarning: Pass `evals` as keyword args.\n",
      "  warnings.warn(msg, FutureWarning)\n"
     ]
    },
    {
     "name": "stdout",
     "output_type": "stream",
     "text": [
      "[50]\ttrain-mae:19725.23489\tvalid-mae:21424.68288\n",
      "[88]\ttrain-mae:18524.11869\tvalid-mae:21163.61273\n",
      "Predicting on test ...\n",
      "mean log error 0.32964289539790576\n",
      "Done!\n"
     ]
    },
    {
     "name": "stderr",
     "output_type": "stream",
     "text": [
      "/tmp/ipykernel_883612/4240336220.py:27: RuntimeWarning: invalid value encountered in log\n",
      "  logerror = np.log(p_test_mob) - np.log(Y_test_mob)\n"
     ]
    }
   ],
   "source": [
    "d_train_mob = xgb.DMatrix(X_train_mob, label=Y_train_mob)\n",
    "d_valid_mob = xgb.DMatrix(X_valid_mob, label=Y_valid_mob)\n",
    "\n",
    "\n",
    "print('Training ...')\n",
    "\n",
    "params = {}\n",
    "params['eta'] = 0.3\n",
    "params['objective'] = 'reg:linear'\n",
    "params['eval_metric'] = 'mae'\n",
    "params['max_depth'] = 4\n",
    "params['silent'] = 1\n",
    "\n",
    "watchlist = [(d_train_mob, 'train'), (d_valid_mob, 'valid')]\n",
    "clf_mob = xgb.train(params, d_train_mob, 10000, watchlist, early_stopping_rounds=10, verbose_eval=50)\n",
    "\n",
    "\n",
    "\n",
    "d_test_mob = xgb.DMatrix(X_test_mob)\n",
    "\n",
    "\n",
    "print('Predicting on test ...')\n",
    "\n",
    "p_test_mob = clf_mob.predict(d_test_mob)\n",
    "\n",
    "import math\n",
    "logerror = np.log(p_test_mob) - np.log(Y_test_mob)\n",
    "print('mean log error', np.mean(logerror))\n",
    "print('Done!')"
   ]
  },
  {
   "cell_type": "code",
   "execution_count": 48,
   "id": "9c599695-7599-4b8a-9512-7400564a8d53",
   "metadata": {
    "tags": []
   },
   "outputs": [
    {
     "name": "stdout",
     "output_type": "stream",
     "text": [
      "Model: <xgboost.core.Booster object at 0x7f738c1a0050>\n",
      "MAE: 20754.559561620015, RMSE: 72630.96827259648\n"
     ]
    }
   ],
   "source": [
    "# testing set error\n",
    "get_eval_metrics([clf_mob], d_test_mob, Y_test_mob)"
   ]
  },
  {
   "cell_type": "code",
   "execution_count": 59,
   "id": "e1d624be-9053-4048-b418-ce8dc6a579f0",
   "metadata": {
    "tags": []
   },
   "outputs": [
    {
     "data": {
      "text/plain": [
       "<AxesSubplot: title={'center': 'Feature importance'}, xlabel='F score', ylabel='Features'>"
      ]
     },
     "execution_count": 59,
     "metadata": {},
     "output_type": "execute_result"
    },
    {
     "data": {
      "image/png": "[encoded data removed]",
      "text/plain": [
       "<Figure size 640x480 with 1 Axes>"
      ]
     },
     "metadata": {},
     "output_type": "display_data"
    }
   ],
   "source": [
    "from xgboost import plot_importance\n",
    "plot_importance(clf_mob, max_num_features = 15)"
   ]
  },
  {
   "cell_type": "code",
   "execution_count": 49,
   "id": "cede2948-1c33-431b-9881-7dff5561beac",
   "metadata": {
    "tags": []
   },
   "outputs": [
    {
     "name": "stderr",
     "output_type": "stream",
     "text": [
      "/accounts/grad/huz4/.local/lib/python3.11/site-packages/lightgbm/engine.py:181: UserWarning: 'early_stopping_rounds' argument is deprecated and will be removed in a future release of LightGBM. Pass 'early_stopping()' callback via 'callbacks' argument instead.\n",
      "  _log_warning(\"'early_stopping_rounds' argument is deprecated and will be removed in a future release of LightGBM. \"\n",
      "/accounts/grad/huz4/.local/lib/python3.11/site-packages/lightgbm/engine.py:239: UserWarning: 'verbose_eval' argument is deprecated and will be removed in a future release of LightGBM. Pass 'log_evaluation()' callback via 'callbacks' argument instead.\n",
      "  _log_warning(\"'verbose_eval' argument is deprecated and will be removed in a future release of LightGBM. \"\n"
     ]
    },
    {
     "name": "stdout",
     "output_type": "stream",
     "text": [
      "[LightGBM] [Warning] Auto-choosing row-wise multi-threading, the overhead of testing was 0.001189 seconds.\n",
      "You can set `force_row_wise=true` to remove the overhead.\n",
      "And if memory is not enough, you can set `force_col_wise=true`.\n",
      "[LightGBM] [Info] Total Bins 1110\n",
      "[LightGBM] [Info] Number of data points in the train set: 18462, number of used features: 10\n",
      "[LightGBM] [Info] Start training from score 43577.961813\n",
      "[LightGBM] [Warning] No further splits with positive gain, best gain: -inf\n",
      "Training until validation scores don't improve for 10 rounds\n",
      "[LightGBM] [Warning] No further splits with positive gain, best gain: -inf\n",
      "[LightGBM] [Warning] No further splits with positive gain, best gain: -inf\n",
      "[LightGBM] [Warning] No further splits with positive gain, best gain: -inf\n",
      "[LightGBM] [Warning] No further splits with positive gain, best gain: -inf\n",
      "[LightGBM] [Warning] No further splits with positive gain, best gain: -inf\n",
      "[LightGBM] [Warning] No further splits with positive gain, best gain: -inf\n",
      "[LightGBM] [Warning] No further splits with positive gain, best gain: -inf\n",
      "[LightGBM] [Warning] No further splits with positive gain, best gain: -inf\n",
      "[LightGBM] [Warning] No further splits with positive gain, best gain: -inf\n",
      "[LightGBM] [Warning] No further splits with positive gain, best gain: -inf\n",
      "[LightGBM] [Warning] No further splits with positive gain, best gain: -inf\n",
      "[LightGBM] [Warning] No further splits with positive gain, best gain: -inf\n",
      "[LightGBM] [Warning] No further splits with positive gain, best gain: -inf\n",
      "[LightGBM] [Warning] No further splits with positive gain, best gain: -inf\n",
      "[LightGBM] [Warning] No further splits with positive gain, best gain: -inf\n",
      "[LightGBM] [Warning] No further splits with positive gain, best gain: -inf\n",
      "[LightGBM] [Warning] No further splits with positive gain, best gain: -inf\n",
      "[LightGBM] [Warning] No further splits with positive gain, best gain: -inf\n",
      "[LightGBM] [Warning] No further splits with positive gain, best gain: -inf\n",
      "[LightGBM] [Warning] No further splits with positive gain, best gain: -inf\n",
      "[LightGBM] [Warning] No further splits with positive gain, best gain: -inf\n",
      "[LightGBM] [Warning] No further splits with positive gain, best gain: -inf\n",
      "[LightGBM] [Warning] No further splits with positive gain, best gain: -inf\n",
      "[LightGBM] [Warning] No further splits with positive gain, best gain: -inf\n",
      "[LightGBM] [Warning] No further splits with positive gain, best gain: -inf\n",
      "[LightGBM] [Warning] No further splits with positive gain, best gain: -inf\n",
      "[LightGBM] [Warning] No further splits with positive gain, best gain: -inf\n",
      "[LightGBM] [Warning] No further splits with positive gain, best gain: -inf\n",
      "[LightGBM] [Warning] No further splits with positive gain, best gain: -inf\n",
      "[LightGBM] [Warning] No further splits with positive gain, best gain: -inf\n",
      "[LightGBM] [Warning] No further splits with positive gain, best gain: -inf\n",
      "[LightGBM] [Warning] No further splits with positive gain, best gain: -inf\n",
      "[LightGBM] [Warning] No further splits with positive gain, best gain: -inf\n",
      "[LightGBM] [Warning] No further splits with positive gain, best gain: -inf\n",
      "[LightGBM] [Warning] No further splits with positive gain, best gain: -inf\n",
      "[LightGBM] [Warning] No further splits with positive gain, best gain: -inf\n",
      "[LightGBM] [Warning] No further splits with positive gain, best gain: -inf\n",
      "[LightGBM] [Warning] No further splits with positive gain, best gain: -inf\n",
      "[LightGBM] [Warning] No further splits with positive gain, best gain: -inf\n",
      "[LightGBM] [Warning] No further splits with positive gain, best gain: -inf\n",
      "[LightGBM] [Warning] No further splits with positive gain, best gain: -inf\n",
      "[LightGBM] [Warning] No further splits with positive gain, best gain: -inf\n",
      "[LightGBM] [Warning] No further splits with positive gain, best gain: -inf\n",
      "[LightGBM] [Warning] No further splits with positive gain, best gain: -inf\n",
      "[LightGBM] [Warning] No further splits with positive gain, best gain: -inf\n",
      "[LightGBM] [Warning] No further splits with positive gain, best gain: -inf\n",
      "[LightGBM] [Warning] No further splits with positive gain, best gain: -inf\n",
      "[LightGBM] [Warning] No further splits with positive gain, best gain: -inf\n",
      "[LightGBM] [Warning] No further splits with positive gain, best gain: -inf\n",
      "[50]\tvalid_0's l1: 26720.9\n",
      "[LightGBM] [Warning] No further splits with positive gain, best gain: -inf\n",
      "[LightGBM] [Warning] No further splits with positive gain, best gain: -inf\n",
      "[LightGBM] [Warning] No further splits with positive gain, best gain: -inf\n",
      "[LightGBM] [Warning] No further splits with positive gain, best gain: -inf\n",
      "[LightGBM] [Warning] No further splits with positive gain, best gain: -inf\n",
      "[LightGBM] [Warning] No further splits with positive gain, best gain: -inf\n",
      "[LightGBM] [Warning] No further splits with positive gain, best gain: -inf\n",
      "[LightGBM] [Warning] No further splits with positive gain, best gain: -inf\n",
      "[LightGBM] [Warning] No further splits with positive gain, best gain: -inf\n",
      "[LightGBM] [Warning] No further splits with positive gain, best gain: -inf\n",
      "[LightGBM] [Warning] No further splits with positive gain, best gain: -inf\n",
      "[LightGBM] [Warning] No further splits with positive gain, best gain: -inf\n",
      "[LightGBM] [Warning] No further splits with positive gain, best gain: -inf\n",
      "[LightGBM] [Warning] No further splits with positive gain, best gain: -inf\n",
      "[LightGBM] [Warning] No further splits with positive gain, best gain: -inf\n",
      "[LightGBM] [Warning] No further splits with positive gain, best gain: -inf\n",
      "[LightGBM] [Warning] No further splits with positive gain, best gain: -inf\n",
      "[LightGBM] [Warning] No further splits with positive gain, best gain: -inf\n",
      "[LightGBM] [Warning] No further splits with positive gain, best gain: -inf\n",
      "[LightGBM] [Warning] No further splits with positive gain, best gain: -inf\n",
      "[LightGBM] [Warning] No further splits with positive gain, best gain: -inf\n",
      "[LightGBM] [Warning] No further splits with positive gain, best gain: -inf\n",
      "[LightGBM] [Warning] No further splits with positive gain, best gain: -inf\n",
      "[LightGBM] [Warning] No further splits with positive gain, best gain: -inf\n",
      "[LightGBM] [Warning] No further splits with positive gain, best gain: -inf\n",
      "[LightGBM] [Warning] No further splits with positive gain, best gain: -inf\n",
      "[LightGBM] [Warning] No further splits with positive gain, best gain: -inf\n",
      "[LightGBM] [Warning] No further splits with positive gain, best gain: -inf\n",
      "[LightGBM] [Warning] No further splits with positive gain, best gain: -inf\n",
      "[LightGBM] [Warning] No further splits with positive gain, best gain: -inf\n",
      "[LightGBM] [Warning] No further splits with positive gain, best gain: -inf\n",
      "[LightGBM] [Warning] No further splits with positive gain, best gain: -inf\n",
      "[LightGBM] [Warning] No further splits with positive gain, best gain: -inf\n",
      "[LightGBM] [Warning] No further splits with positive gain, best gain: -inf\n",
      "[LightGBM] [Warning] No further splits with positive gain, best gain: -inf\n",
      "[LightGBM] [Warning] No further splits with positive gain, best gain: -inf\n",
      "[LightGBM] [Warning] No further splits with positive gain, best gain: -inf\n",
      "[LightGBM] [Warning] No further splits with positive gain, best gain: -inf\n",
      "[LightGBM] [Warning] No further splits with positive gain, best gain: -inf\n",
      "[LightGBM] [Warning] No further splits with positive gain, best gain: -inf\n",
      "[LightGBM] [Warning] No further splits with positive gain, best gain: -inf\n",
      "[LightGBM] [Warning] No further splits with positive gain, best gain: -inf\n",
      "[LightGBM] [Warning] No further splits with positive gain, best gain: -inf\n",
      "[LightGBM] [Warning] No further splits with positive gain, best gain: -inf\n",
      "[LightGBM] [Warning] No further splits with positive gain, best gain: -inf\n",
      "[LightGBM] [Warning] No further splits with positive gain, best gain: -inf\n",
      "[LightGBM] [Warning] No further splits with positive gain, best gain: -inf\n",
      "[LightGBM] [Warning] No further splits with positive gain, best gain: -inf\n",
      "[LightGBM] [Warning] No further splits with positive gain, best gain: -inf\n",
      "[LightGBM] [Warning] No further splits with positive gain, best gain: -inf\n",
      "[100]\tvalid_0's l1: 24957.8\n",
      "[LightGBM] [Warning] No further splits with positive gain, best gain: -inf\n",
      "[LightGBM] [Warning] No further splits with positive gain, best gain: -inf\n",
      "[LightGBM] [Warning] No further splits with positive gain, best gain: -inf\n",
      "[LightGBM] [Warning] No further splits with positive gain, best gain: -inf\n",
      "[LightGBM] [Warning] No further splits with positive gain, best gain: -inf\n",
      "[LightGBM] [Warning] No further splits with positive gain, best gain: -inf\n",
      "[LightGBM] [Warning] No further splits with positive gain, best gain: -inf\n",
      "[LightGBM] [Warning] No further splits with positive gain, best gain: -inf\n",
      "[LightGBM] [Warning] No further splits with positive gain, best gain: -inf\n",
      "[LightGBM] [Warning] No further splits with positive gain, best gain: -inf\n",
      "[LightGBM] [Warning] No further splits with positive gain, best gain: -inf\n",
      "[LightGBM] [Warning] No further splits with positive gain, best gain: -inf\n",
      "[LightGBM] [Warning] No further splits with positive gain, best gain: -inf\n",
      "[LightGBM] [Warning] No further splits with positive gain, best gain: -inf\n",
      "[LightGBM] [Warning] No further splits with positive gain, best gain: -inf\n",
      "[LightGBM] [Warning] No further splits with positive gain, best gain: -inf\n",
      "[LightGBM] [Warning] No further splits with positive gain, best gain: -inf\n",
      "[LightGBM] [Warning] No further splits with positive gain, best gain: -inf\n",
      "[LightGBM] [Warning] No further splits with positive gain, best gain: -inf\n",
      "[LightGBM] [Warning] No further splits with positive gain, best gain: -inf\n",
      "[LightGBM] [Warning] No further splits with positive gain, best gain: -inf\n",
      "[LightGBM] [Warning] No further splits with positive gain, best gain: -inf\n",
      "[LightGBM] [Warning] No further splits with positive gain, best gain: -inf\n",
      "[LightGBM] [Warning] No further splits with positive gain, best gain: -inf\n",
      "[LightGBM] [Warning] No further splits with positive gain, best gain: -inf\n",
      "[LightGBM] [Warning] No further splits with positive gain, best gain: -inf\n",
      "[LightGBM] [Warning] No further splits with positive gain, best gain: -inf\n",
      "[LightGBM] [Warning] No further splits with positive gain, best gain: -inf\n",
      "[LightGBM] [Warning] No further splits with positive gain, best gain: -inf\n",
      "[LightGBM] [Warning] No further splits with positive gain, best gain: -inf\n",
      "[LightGBM] [Warning] No further splits with positive gain, best gain: -inf\n",
      "[LightGBM] [Warning] No further splits with positive gain, best gain: -inf\n",
      "[LightGBM] [Warning] No further splits with positive gain, best gain: -inf\n",
      "[LightGBM] [Warning] No further splits with positive gain, best gain: -inf\n",
      "[LightGBM] [Warning] No further splits with positive gain, best gain: -inf\n",
      "[LightGBM] [Warning] No further splits with positive gain, best gain: -inf\n",
      "[LightGBM] [Warning] No further splits with positive gain, best gain: -inf\n",
      "[LightGBM] [Warning] No further splits with positive gain, best gain: -inf\n",
      "[LightGBM] [Warning] No further splits with positive gain, best gain: -inf\n",
      "[LightGBM] [Warning] No further splits with positive gain, best gain: -inf\n",
      "[LightGBM] [Warning] No further splits with positive gain, best gain: -inf\n",
      "[LightGBM] [Warning] No further splits with positive gain, best gain: -inf\n",
      "[LightGBM] [Warning] No further splits with positive gain, best gain: -inf\n",
      "[LightGBM] [Warning] No further splits with positive gain, best gain: -inf\n",
      "[LightGBM] [Warning] No further splits with positive gain, best gain: -inf\n",
      "[LightGBM] [Warning] No further splits with positive gain, best gain: -inf\n",
      "[LightGBM] [Warning] No further splits with positive gain, best gain: -inf\n",
      "[LightGBM] [Warning] No further splits with positive gain, best gain: -inf\n",
      "[LightGBM] [Warning] No further splits with positive gain, best gain: -inf\n",
      "[LightGBM] [Warning] No further splits with positive gain, best gain: -inf\n",
      "[150]\tvalid_0's l1: 24420.4\n",
      "[LightGBM] [Warning] No further splits with positive gain, best gain: -inf\n",
      "[LightGBM] [Warning] No further splits with positive gain, best gain: -inf\n",
      "[LightGBM] [Warning] No further splits with positive gain, best gain: -inf\n",
      "[LightGBM] [Warning] No further splits with positive gain, best gain: -inf\n",
      "[LightGBM] [Warning] No further splits with positive gain, best gain: -inf\n",
      "[LightGBM] [Warning] No further splits with positive gain, best gain: -inf\n",
      "[LightGBM] [Warning] No further splits with positive gain, best gain: -inf\n",
      "[LightGBM] [Warning] No further splits with positive gain, best gain: -inf\n",
      "[LightGBM] [Warning] No further splits with positive gain, best gain: -inf\n",
      "[LightGBM] [Warning] No further splits with positive gain, best gain: -inf\n",
      "[LightGBM] [Warning] No further splits with positive gain, best gain: -inf\n",
      "[LightGBM] [Warning] No further splits with positive gain, best gain: -inf\n",
      "[LightGBM] [Warning] No further splits with positive gain, best gain: -inf\n",
      "[LightGBM] [Warning] No further splits with positive gain, best gain: -inf\n",
      "[LightGBM] [Warning] No further splits with positive gain, best gain: -inf\n",
      "[LightGBM] [Warning] No further splits with positive gain, best gain: -inf\n",
      "[LightGBM] [Warning] No further splits with positive gain, best gain: -inf\n",
      "[LightGBM] [Warning] No further splits with positive gain, best gain: -inf\n",
      "[LightGBM] [Warning] No further splits with positive gain, best gain: -inf\n",
      "[LightGBM] [Warning] No further splits with positive gain, best gain: -inf\n",
      "[LightGBM] [Warning] No further splits with positive gain, best gain: -inf\n",
      "[LightGBM] [Warning] No further splits with positive gain, best gain: -inf\n",
      "[LightGBM] [Warning] No further splits with positive gain, best gain: -inf\n",
      "[LightGBM] [Warning] No further splits with positive gain, best gain: -inf\n",
      "[LightGBM] [Warning] No further splits with positive gain, best gain: -inf\n",
      "[LightGBM] [Warning] No further splits with positive gain, best gain: -inf\n",
      "[LightGBM] [Warning] No further splits with positive gain, best gain: -inf\n",
      "[LightGBM] [Warning] No further splits with positive gain, best gain: -inf\n",
      "[LightGBM] [Warning] No further splits with positive gain, best gain: -inf\n",
      "[LightGBM] [Warning] No further splits with positive gain, best gain: -inf\n",
      "[LightGBM] [Warning] No further splits with positive gain, best gain: -inf\n",
      "[LightGBM] [Warning] No further splits with positive gain, best gain: -inf\n",
      "[LightGBM] [Warning] No further splits with positive gain, best gain: -inf\n",
      "[LightGBM] [Warning] No further splits with positive gain, best gain: -inf\n",
      "[LightGBM] [Warning] No further splits with positive gain, best gain: -inf\n",
      "[LightGBM] [Warning] No further splits with positive gain, best gain: -inf\n",
      "[LightGBM] [Warning] No further splits with positive gain, best gain: -inf\n",
      "[LightGBM] [Warning] No further splits with positive gain, best gain: -inf\n",
      "[LightGBM] [Warning] No further splits with positive gain, best gain: -inf\n",
      "[LightGBM] [Warning] No further splits with positive gain, best gain: -inf\n",
      "[LightGBM] [Warning] No further splits with positive gain, best gain: -inf\n",
      "[LightGBM] [Warning] No further splits with positive gain, best gain: -inf\n",
      "[LightGBM] [Warning] No further splits with positive gain, best gain: -inf\n",
      "[LightGBM] [Warning] No further splits with positive gain, best gain: -inf\n",
      "[LightGBM] [Warning] No further splits with positive gain, best gain: -inf\n",
      "[LightGBM] [Warning] No further splits with positive gain, best gain: -inf\n",
      "[LightGBM] [Warning] No further splits with positive gain, best gain: -inf\n",
      "[LightGBM] [Warning] No further splits with positive gain, best gain: -inf\n",
      "[LightGBM] [Warning] No further splits with positive gain, best gain: -inf\n",
      "[LightGBM] [Warning] No further splits with positive gain, best gain: -inf\n",
      "[200]\tvalid_0's l1: 24032.3\n",
      "[LightGBM] [Warning] No further splits with positive gain, best gain: -inf\n",
      "[LightGBM] [Warning] No further splits with positive gain, best gain: -inf\n",
      "[LightGBM] [Warning] No further splits with positive gain, best gain: -inf\n",
      "[LightGBM] [Warning] No further splits with positive gain, best gain: -inf\n",
      "[LightGBM] [Warning] No further splits with positive gain, best gain: -inf\n",
      "[LightGBM] [Warning] No further splits with positive gain, best gain: -inf\n",
      "[LightGBM] [Warning] No further splits with positive gain, best gain: -inf\n",
      "[LightGBM] [Warning] No further splits with positive gain, best gain: -inf\n",
      "[LightGBM] [Warning] No further splits with positive gain, best gain: -inf\n",
      "[LightGBM] [Warning] No further splits with positive gain, best gain: -inf\n",
      "[LightGBM] [Warning] No further splits with positive gain, best gain: -inf\n",
      "[LightGBM] [Warning] No further splits with positive gain, best gain: -inf\n",
      "[LightGBM] [Warning] No further splits with positive gain, best gain: -inf\n",
      "[LightGBM] [Warning] No further splits with positive gain, best gain: -inf\n",
      "[LightGBM] [Warning] No further splits with positive gain, best gain: -inf\n",
      "[LightGBM] [Warning] No further splits with positive gain, best gain: -inf\n",
      "[LightGBM] [Warning] No further splits with positive gain, best gain: -inf\n",
      "[LightGBM] [Warning] No further splits with positive gain, best gain: -inf\n",
      "[LightGBM] [Warning] No further splits with positive gain, best gain: -inf\n",
      "[LightGBM] [Warning] No further splits with positive gain, best gain: -inf\n",
      "[LightGBM] [Warning] No further splits with positive gain, best gain: -inf\n",
      "[LightGBM] [Warning] No further splits with positive gain, best gain: -inf\n",
      "[LightGBM] [Warning] No further splits with positive gain, best gain: -inf\n",
      "[LightGBM] [Warning] No further splits with positive gain, best gain: -inf\n",
      "[LightGBM] [Warning] No further splits with positive gain, best gain: -inf\n",
      "[LightGBM] [Warning] No further splits with positive gain, best gain: -inf\n",
      "[LightGBM] [Warning] No further splits with positive gain, best gain: -inf\n",
      "[LightGBM] [Warning] No further splits with positive gain, best gain: -inf\n",
      "[LightGBM] [Warning] No further splits with positive gain, best gain: -inf\n",
      "[LightGBM] [Warning] No further splits with positive gain, best gain: -inf\n",
      "[LightGBM] [Warning] No further splits with positive gain, best gain: -inf\n",
      "[LightGBM] [Warning] No further splits with positive gain, best gain: -inf\n",
      "[LightGBM] [Warning] No further splits with positive gain, best gain: -inf\n",
      "[LightGBM] [Warning] No further splits with positive gain, best gain: -inf\n",
      "[LightGBM] [Warning] No further splits with positive gain, best gain: -inf\n",
      "[LightGBM] [Warning] No further splits with positive gain, best gain: -inf\n",
      "[LightGBM] [Warning] No further splits with positive gain, best gain: -inf\n",
      "[LightGBM] [Warning] No further splits with positive gain, best gain: -inf\n",
      "[LightGBM] [Warning] No further splits with positive gain, best gain: -inf\n",
      "[LightGBM] [Warning] No further splits with positive gain, best gain: -inf\n",
      "[LightGBM] [Warning] No further splits with positive gain, best gain: -inf\n",
      "[LightGBM] [Warning] No further splits with positive gain, best gain: -inf\n",
      "[LightGBM] [Warning] No further splits with positive gain, best gain: -inf\n",
      "[LightGBM] [Warning] No further splits with positive gain, best gain: -inf\n",
      "[LightGBM] [Warning] No further splits with positive gain, best gain: -inf\n",
      "[LightGBM] [Warning] No further splits with positive gain, best gain: -inf\n",
      "[LightGBM] [Warning] No further splits with positive gain, best gain: -inf\n",
      "[LightGBM] [Warning] No further splits with positive gain, best gain: -inf\n",
      "[LightGBM] [Warning] No further splits with positive gain, best gain: -inf\n",
      "[LightGBM] [Warning] No further splits with positive gain, best gain: -inf\n",
      "[250]\tvalid_0's l1: 23695.7\n",
      "[LightGBM] [Warning] No further splits with positive gain, best gain: -inf\n",
      "[LightGBM] [Warning] No further splits with positive gain, best gain: -inf\n",
      "[LightGBM] [Warning] No further splits with positive gain, best gain: -inf\n",
      "[LightGBM] [Warning] No further splits with positive gain, best gain: -inf\n",
      "[LightGBM] [Warning] No further splits with positive gain, best gain: -inf\n",
      "[LightGBM] [Warning] No further splits with positive gain, best gain: -inf\n",
      "[LightGBM] [Warning] No further splits with positive gain, best gain: -inf\n",
      "[LightGBM] [Warning] No further splits with positive gain, best gain: -inf\n",
      "[LightGBM] [Warning] No further splits with positive gain, best gain: -inf\n",
      "[LightGBM] [Warning] No further splits with positive gain, best gain: -inf\n",
      "[LightGBM] [Warning] No further splits with positive gain, best gain: -inf\n",
      "[LightGBM] [Warning] No further splits with positive gain, best gain: -inf\n",
      "[LightGBM] [Warning] No further splits with positive gain, best gain: -inf\n",
      "[LightGBM] [Warning] No further splits with positive gain, best gain: -inf\n",
      "[LightGBM] [Warning] No further splits with positive gain, best gain: -inf\n",
      "[LightGBM] [Warning] No further splits with positive gain, best gain: -inf\n",
      "[LightGBM] [Warning] No further splits with positive gain, best gain: -inf\n",
      "[LightGBM] [Warning] No further splits with positive gain, best gain: -inf\n",
      "[LightGBM] [Warning] No further splits with positive gain, best gain: -inf\n",
      "[LightGBM] [Warning] No further splits with positive gain, best gain: -inf\n",
      "[LightGBM] [Warning] No further splits with positive gain, best gain: -inf\n",
      "[LightGBM] [Warning] No further splits with positive gain, best gain: -inf\n",
      "[LightGBM] [Warning] No further splits with positive gain, best gain: -inf\n",
      "[LightGBM] [Warning] No further splits with positive gain, best gain: -inf\n",
      "[LightGBM] [Warning] No further splits with positive gain, best gain: -inf\n",
      "[LightGBM] [Warning] No further splits with positive gain, best gain: -inf\n",
      "[LightGBM] [Warning] No further splits with positive gain, best gain: -inf\n",
      "[LightGBM] [Warning] No further splits with positive gain, best gain: -inf\n",
      "[LightGBM] [Warning] No further splits with positive gain, best gain: -inf\n",
      "[LightGBM] [Warning] No further splits with positive gain, best gain: -inf\n",
      "[LightGBM] [Warning] No further splits with positive gain, best gain: -inf\n",
      "[LightGBM] [Warning] No further splits with positive gain, best gain: -inf\n",
      "[LightGBM] [Warning] No further splits with positive gain, best gain: -inf\n",
      "[LightGBM] [Warning] No further splits with positive gain, best gain: -inf\n",
      "[LightGBM] [Warning] No further splits with positive gain, best gain: -inf\n",
      "[LightGBM] [Warning] No further splits with positive gain, best gain: -inf\n",
      "[LightGBM] [Warning] No further splits with positive gain, best gain: -inf\n",
      "[LightGBM] [Warning] No further splits with positive gain, best gain: -inf\n",
      "[LightGBM] [Warning] No further splits with positive gain, best gain: -inf\n",
      "[LightGBM] [Warning] No further splits with positive gain, best gain: -inf\n",
      "[LightGBM] [Warning] No further splits with positive gain, best gain: -inf\n",
      "[LightGBM] [Warning] No further splits with positive gain, best gain: -inf\n",
      "[LightGBM] [Warning] No further splits with positive gain, best gain: -inf\n",
      "[LightGBM] [Warning] No further splits with positive gain, best gain: -inf\n",
      "[LightGBM] [Warning] No further splits with positive gain, best gain: -inf\n",
      "[LightGBM] [Warning] No further splits with positive gain, best gain: -inf\n",
      "[LightGBM] [Warning] No further splits with positive gain, best gain: -inf\n",
      "[LightGBM] [Warning] No further splits with positive gain, best gain: -inf\n",
      "[LightGBM] [Warning] No further splits with positive gain, best gain: -inf\n",
      "[LightGBM] [Warning] No further splits with positive gain, best gain: -inf\n",
      "[300]\tvalid_0's l1: 23396.3\n",
      "[LightGBM] [Warning] No further splits with positive gain, best gain: -inf\n",
      "[LightGBM] [Warning] No further splits with positive gain, best gain: -inf\n",
      "[LightGBM] [Warning] No further splits with positive gain, best gain: -inf\n",
      "[LightGBM] [Warning] No further splits with positive gain, best gain: -inf\n",
      "[LightGBM] [Warning] No further splits with positive gain, best gain: -inf\n",
      "[LightGBM] [Warning] No further splits with positive gain, best gain: -inf\n",
      "[LightGBM] [Warning] No further splits with positive gain, best gain: -inf\n",
      "[LightGBM] [Warning] No further splits with positive gain, best gain: -inf\n",
      "[LightGBM] [Warning] No further splits with positive gain, best gain: -inf\n",
      "[LightGBM] [Warning] No further splits with positive gain, best gain: -inf\n",
      "[LightGBM] [Warning] No further splits with positive gain, best gain: -inf\n",
      "[LightGBM] [Warning] No further splits with positive gain, best gain: -inf\n",
      "[LightGBM] [Warning] No further splits with positive gain, best gain: -inf\n",
      "[LightGBM] [Warning] No further splits with positive gain, best gain: -inf\n",
      "[LightGBM] [Warning] No further splits with positive gain, best gain: -inf\n",
      "[LightGBM] [Warning] No further splits with positive gain, best gain: -inf\n",
      "[LightGBM] [Warning] No further splits with positive gain, best gain: -inf\n",
      "[LightGBM] [Warning] No further splits with positive gain, best gain: -inf\n",
      "[LightGBM] [Warning] No further splits with positive gain, best gain: -inf\n",
      "[LightGBM] [Warning] No further splits with positive gain, best gain: -inf\n",
      "[LightGBM] [Warning] No further splits with positive gain, best gain: -inf\n",
      "[LightGBM] [Warning] No further splits with positive gain, best gain: -inf\n",
      "[LightGBM] [Warning] No further splits with positive gain, best gain: -inf\n",
      "[LightGBM] [Warning] No further splits with positive gain, best gain: -inf\n",
      "[LightGBM] [Warning] No further splits with positive gain, best gain: -inf\n",
      "[LightGBM] [Warning] No further splits with positive gain, best gain: -inf\n",
      "[LightGBM] [Warning] No further splits with positive gain, best gain: -inf\n",
      "[LightGBM] [Warning] No further splits with positive gain, best gain: -inf\n",
      "[LightGBM] [Warning] No further splits with positive gain, best gain: -inf\n",
      "[LightGBM] [Warning] No further splits with positive gain, best gain: -inf\n",
      "[LightGBM] [Warning] No further splits with positive gain, best gain: -inf\n",
      "[LightGBM] [Warning] No further splits with positive gain, best gain: -inf\n",
      "[LightGBM] [Warning] No further splits with positive gain, best gain: -inf\n",
      "[LightGBM] [Warning] No further splits with positive gain, best gain: -inf\n",
      "[LightGBM] [Warning] No further splits with positive gain, best gain: -inf\n",
      "[LightGBM] [Warning] No further splits with positive gain, best gain: -inf\n",
      "[LightGBM] [Warning] No further splits with positive gain, best gain: -inf\n",
      "[LightGBM] [Warning] No further splits with positive gain, best gain: -inf\n",
      "[LightGBM] [Warning] No further splits with positive gain, best gain: -inf\n",
      "[LightGBM] [Warning] No further splits with positive gain, best gain: -inf\n",
      "[LightGBM] [Warning] No further splits with positive gain, best gain: -inf\n",
      "[LightGBM] [Warning] No further splits with positive gain, best gain: -inf\n",
      "[LightGBM] [Warning] No further splits with positive gain, best gain: -inf\n",
      "[LightGBM] [Warning] No further splits with positive gain, best gain: -inf\n",
      "[LightGBM] [Warning] No further splits with positive gain, best gain: -inf\n",
      "[LightGBM] [Warning] No further splits with positive gain, best gain: -inf\n",
      "[LightGBM] [Warning] No further splits with positive gain, best gain: -inf\n",
      "[LightGBM] [Warning] No further splits with positive gain, best gain: -inf\n",
      "[LightGBM] [Warning] No further splits with positive gain, best gain: -inf\n",
      "[LightGBM] [Warning] No further splits with positive gain, best gain: -inf\n",
      "[350]\tvalid_0's l1: 23140.8\n",
      "[LightGBM] [Warning] No further splits with positive gain, best gain: -inf\n",
      "[LightGBM] [Warning] No further splits with positive gain, best gain: -inf\n",
      "[LightGBM] [Warning] No further splits with positive gain, best gain: -inf\n",
      "[LightGBM] [Warning] No further splits with positive gain, best gain: -inf\n",
      "[LightGBM] [Warning] No further splits with positive gain, best gain: -inf\n",
      "[LightGBM] [Warning] No further splits with positive gain, best gain: -inf\n",
      "[LightGBM] [Warning] No further splits with positive gain, best gain: -inf\n",
      "[LightGBM] [Warning] No further splits with positive gain, best gain: -inf\n",
      "[LightGBM] [Warning] No further splits with positive gain, best gain: -inf\n",
      "[LightGBM] [Warning] No further splits with positive gain, best gain: -inf\n",
      "[LightGBM] [Warning] No further splits with positive gain, best gain: -inf\n",
      "[LightGBM] [Warning] No further splits with positive gain, best gain: -inf\n",
      "[LightGBM] [Warning] No further splits with positive gain, best gain: -inf\n",
      "[LightGBM] [Warning] No further splits with positive gain, best gain: -inf\n",
      "[LightGBM] [Warning] No further splits with positive gain, best gain: -inf\n",
      "[LightGBM] [Warning] No further splits with positive gain, best gain: -inf\n",
      "[LightGBM] [Warning] No further splits with positive gain, best gain: -inf\n",
      "[LightGBM] [Warning] No further splits with positive gain, best gain: -inf\n",
      "[LightGBM] [Warning] No further splits with positive gain, best gain: -inf\n",
      "[LightGBM] [Warning] No further splits with positive gain, best gain: -inf\n",
      "[LightGBM] [Warning] No further splits with positive gain, best gain: -inf\n",
      "[LightGBM] [Warning] No further splits with positive gain, best gain: -inf\n",
      "[LightGBM] [Warning] No further splits with positive gain, best gain: -inf\n",
      "[LightGBM] [Warning] No further splits with positive gain, best gain: -inf\n",
      "[LightGBM] [Warning] No further splits with positive gain, best gain: -inf\n",
      "[LightGBM] [Warning] No further splits with positive gain, best gain: -inf\n",
      "[LightGBM] [Warning] No further splits with positive gain, best gain: -inf\n",
      "[LightGBM] [Warning] No further splits with positive gain, best gain: -inf\n",
      "[LightGBM] [Warning] No further splits with positive gain, best gain: -inf\n",
      "[LightGBM] [Warning] No further splits with positive gain, best gain: -inf\n",
      "[LightGBM] [Warning] No further splits with positive gain, best gain: -inf\n",
      "[LightGBM] [Warning] No further splits with positive gain, best gain: -inf\n",
      "[LightGBM] [Warning] No further splits with positive gain, best gain: -inf\n",
      "[LightGBM] [Warning] No further splits with positive gain, best gain: -inf\n",
      "[LightGBM] [Warning] No further splits with positive gain, best gain: -inf\n",
      "[LightGBM] [Warning] No further splits with positive gain, best gain: -inf\n",
      "[LightGBM] [Warning] No further splits with positive gain, best gain: -inf\n",
      "[LightGBM] [Warning] No further splits with positive gain, best gain: -inf\n",
      "[LightGBM] [Warning] No further splits with positive gain, best gain: -inf\n",
      "[LightGBM] [Warning] No further splits with positive gain, best gain: -inf\n",
      "[LightGBM] [Warning] No further splits with positive gain, best gain: -inf\n",
      "[LightGBM] [Warning] No further splits with positive gain, best gain: -inf\n",
      "[LightGBM] [Warning] No further splits with positive gain, best gain: -inf\n",
      "[LightGBM] [Warning] No further splits with positive gain, best gain: -inf\n",
      "[LightGBM] [Warning] No further splits with positive gain, best gain: -inf\n",
      "[LightGBM] [Warning] No further splits with positive gain, best gain: -inf\n",
      "[LightGBM] [Warning] No further splits with positive gain, best gain: -inf\n",
      "[LightGBM] [Warning] No further splits with positive gain, best gain: -inf\n",
      "[LightGBM] [Warning] No further splits with positive gain, best gain: -inf\n",
      "[LightGBM] [Warning] No further splits with positive gain, best gain: -inf\n",
      "[400]\tvalid_0's l1: 22967.8\n",
      "[LightGBM] [Warning] No further splits with positive gain, best gain: -inf\n",
      "[LightGBM] [Warning] No further splits with positive gain, best gain: -inf\n",
      "[LightGBM] [Warning] No further splits with positive gain, best gain: -inf\n",
      "[LightGBM] [Warning] No further splits with positive gain, best gain: -inf\n",
      "[LightGBM] [Warning] No further splits with positive gain, best gain: -inf\n",
      "[LightGBM] [Warning] No further splits with positive gain, best gain: -inf\n",
      "[LightGBM] [Warning] No further splits with positive gain, best gain: -inf\n",
      "[LightGBM] [Warning] No further splits with positive gain, best gain: -inf\n",
      "[LightGBM] [Warning] No further splits with positive gain, best gain: -inf\n",
      "[LightGBM] [Warning] No further splits with positive gain, best gain: -inf\n",
      "[LightGBM] [Warning] No further splits with positive gain, best gain: -inf\n",
      "[LightGBM] [Warning] No further splits with positive gain, best gain: -inf\n",
      "[LightGBM] [Warning] No further splits with positive gain, best gain: -inf\n",
      "[LightGBM] [Warning] No further splits with positive gain, best gain: -inf\n",
      "[LightGBM] [Warning] No further splits with positive gain, best gain: -inf\n",
      "[LightGBM] [Warning] No further splits with positive gain, best gain: -inf\n",
      "[LightGBM] [Warning] No further splits with positive gain, best gain: -inf\n",
      "[LightGBM] [Warning] No further splits with positive gain, best gain: -inf\n",
      "[LightGBM] [Warning] No further splits with positive gain, best gain: -inf\n",
      "[LightGBM] [Warning] No further splits with positive gain, best gain: -inf\n",
      "[LightGBM] [Warning] No further splits with positive gain, best gain: -inf\n",
      "[LightGBM] [Warning] No further splits with positive gain, best gain: -inf\n",
      "[LightGBM] [Warning] No further splits with positive gain, best gain: -inf\n",
      "[LightGBM] [Warning] No further splits with positive gain, best gain: -inf\n",
      "[LightGBM] [Warning] No further splits with positive gain, best gain: -inf\n",
      "[LightGBM] [Warning] No further splits with positive gain, best gain: -inf\n",
      "[LightGBM] [Warning] No further splits with positive gain, best gain: -inf\n",
      "[LightGBM] [Warning] No further splits with positive gain, best gain: -inf\n",
      "[LightGBM] [Warning] No further splits with positive gain, best gain: -inf\n",
      "[LightGBM] [Warning] No further splits with positive gain, best gain: -inf\n",
      "[LightGBM] [Warning] No further splits with positive gain, best gain: -inf\n",
      "[LightGBM] [Warning] No further splits with positive gain, best gain: -inf\n",
      "[LightGBM] [Warning] No further splits with positive gain, best gain: -inf\n",
      "[LightGBM] [Warning] No further splits with positive gain, best gain: -inf\n",
      "[LightGBM] [Warning] No further splits with positive gain, best gain: -inf\n",
      "[LightGBM] [Warning] No further splits with positive gain, best gain: -inf\n",
      "[LightGBM] [Warning] No further splits with positive gain, best gain: -inf\n",
      "[LightGBM] [Warning] No further splits with positive gain, best gain: -inf\n",
      "[LightGBM] [Warning] No further splits with positive gain, best gain: -inf\n",
      "[LightGBM] [Warning] No further splits with positive gain, best gain: -inf\n",
      "[LightGBM] [Warning] No further splits with positive gain, best gain: -inf\n",
      "[LightGBM] [Warning] No further splits with positive gain, best gain: -inf\n",
      "[LightGBM] [Warning] No further splits with positive gain, best gain: -inf\n",
      "[LightGBM] [Warning] No further splits with positive gain, best gain: -inf\n",
      "[LightGBM] [Warning] No further splits with positive gain, best gain: -inf\n",
      "[LightGBM] [Warning] No further splits with positive gain, best gain: -inf\n",
      "[LightGBM] [Warning] No further splits with positive gain, best gain: -inf\n",
      "[LightGBM] [Warning] No further splits with positive gain, best gain: -inf\n",
      "[LightGBM] [Warning] No further splits with positive gain, best gain: -inf\n",
      "[LightGBM] [Warning] No further splits with positive gain, best gain: -inf\n",
      "[450]\tvalid_0's l1: 22764.4\n",
      "[LightGBM] [Warning] No further splits with positive gain, best gain: -inf\n",
      "[LightGBM] [Warning] No further splits with positive gain, best gain: -inf\n",
      "[LightGBM] [Warning] No further splits with positive gain, best gain: -inf\n",
      "[LightGBM] [Warning] No further splits with positive gain, best gain: -inf\n",
      "[LightGBM] [Warning] No further splits with positive gain, best gain: -inf\n",
      "[LightGBM] [Warning] No further splits with positive gain, best gain: -inf\n",
      "[LightGBM] [Warning] No further splits with positive gain, best gain: -inf\n",
      "[LightGBM] [Warning] No further splits with positive gain, best gain: -inf\n",
      "[LightGBM] [Warning] No further splits with positive gain, best gain: -inf\n",
      "[LightGBM] [Warning] No further splits with positive gain, best gain: -inf\n",
      "[LightGBM] [Warning] No further splits with positive gain, best gain: -inf\n",
      "[LightGBM] [Warning] No further splits with positive gain, best gain: -inf\n",
      "[LightGBM] [Warning] No further splits with positive gain, best gain: -inf\n",
      "[LightGBM] [Warning] No further splits with positive gain, best gain: -inf\n",
      "[LightGBM] [Warning] No further splits with positive gain, best gain: -inf\n",
      "[LightGBM] [Warning] No further splits with positive gain, best gain: -inf\n",
      "[LightGBM] [Warning] No further splits with positive gain, best gain: -inf\n",
      "[LightGBM] [Warning] No further splits with positive gain, best gain: -inf\n",
      "[LightGBM] [Warning] No further splits with positive gain, best gain: -inf\n",
      "[LightGBM] [Warning] No further splits with positive gain, best gain: -inf\n",
      "[LightGBM] [Warning] No further splits with positive gain, best gain: -inf\n",
      "[LightGBM] [Warning] No further splits with positive gain, best gain: -inf\n",
      "[LightGBM] [Warning] No further splits with positive gain, best gain: -inf\n",
      "[LightGBM] [Warning] No further splits with positive gain, best gain: -inf\n",
      "[LightGBM] [Warning] No further splits with positive gain, best gain: -inf\n",
      "[LightGBM] [Warning] No further splits with positive gain, best gain: -inf\n",
      "[LightGBM] [Warning] No further splits with positive gain, best gain: -inf\n",
      "[LightGBM] [Warning] No further splits with positive gain, best gain: -inf\n",
      "[LightGBM] [Warning] No further splits with positive gain, best gain: -inf\n",
      "[LightGBM] [Warning] No further splits with positive gain, best gain: -inf\n",
      "[LightGBM] [Warning] No further splits with positive gain, best gain: -inf\n",
      "[LightGBM] [Warning] No further splits with positive gain, best gain: -inf\n",
      "[LightGBM] [Warning] No further splits with positive gain, best gain: -inf\n",
      "[LightGBM] [Warning] No further splits with positive gain, best gain: -inf\n",
      "[LightGBM] [Warning] No further splits with positive gain, best gain: -inf\n",
      "[LightGBM] [Warning] No further splits with positive gain, best gain: -inf\n",
      "[LightGBM] [Warning] No further splits with positive gain, best gain: -inf\n",
      "[LightGBM] [Warning] No further splits with positive gain, best gain: -inf\n",
      "[LightGBM] [Warning] No further splits with positive gain, best gain: -inf\n",
      "[LightGBM] [Warning] No further splits with positive gain, best gain: -inf\n",
      "[LightGBM] [Warning] No further splits with positive gain, best gain: -inf\n",
      "[LightGBM] [Warning] No further splits with positive gain, best gain: -inf\n",
      "[LightGBM] [Warning] No further splits with positive gain, best gain: -inf\n",
      "[LightGBM] [Warning] No further splits with positive gain, best gain: -inf\n",
      "[LightGBM] [Warning] No further splits with positive gain, best gain: -inf\n",
      "[LightGBM] [Warning] No further splits with positive gain, best gain: -inf\n",
      "[LightGBM] [Warning] No further splits with positive gain, best gain: -inf\n",
      "[LightGBM] [Warning] No further splits with positive gain, best gain: -inf\n",
      "[LightGBM] [Warning] No further splits with positive gain, best gain: -inf\n",
      "[LightGBM] [Warning] No further splits with positive gain, best gain: -inf\n",
      "[500]\tvalid_0's l1: 22650.6\n",
      "Did not meet early stopping. Best iteration is:\n",
      "[497]\tvalid_0's l1: 22646.7\n",
      "Done!\n"
     ]
    }
   ],
   "source": [
    "d_train = lgb.Dataset(X_train_mob, label=Y_train_mob)\n",
    "d_valid = lgb.Dataset(X_valid_mob, label=Y_valid_mob)\n",
    "\n",
    "params = {}\n",
    "params['learning_rate'] = 0.03\n",
    "params['boosting_type'] = 'gbdt'\n",
    "params['objective'] = 'regression'\n",
    "params['metric'] = 'mae'\n",
    "params['sub_feature'] = 0.5\n",
    "params['num_leaves'] = 60\n",
    "params['min_data'] = 500\n",
    "params['min_hessian'] = 1\n",
    "\n",
    "watchlist = [d_valid]\n",
    "clf_mob = lgb.train(params, d_train, 500, watchlist,early_stopping_rounds=10, verbose_eval=50)\n",
    "\n",
    "print('Done!')"
   ]
  },
  {
   "cell_type": "code",
   "execution_count": 50,
   "id": "df1a0275-4dc0-43fa-803d-f31ea39e9f13",
   "metadata": {
    "tags": []
   },
   "outputs": [
    {
     "name": "stdout",
     "output_type": "stream",
     "text": [
      "Model: <lightgbm.basic.Booster object at 0x7f73a8687a50>\n",
      "MAE: 22569.505062385975, RMSE: 79034.24372217778\n"
     ]
    }
   ],
   "source": [
    "# testing set error\n",
    "get_eval_metrics([clf_mob], X_test_mob, Y_test_mob)"
   ]
  },
  {
   "cell_type": "code",
   "execution_count": 51,
   "id": "83b73c6d-9924-41b5-8164-a46822fa25ff",
   "metadata": {
    "tags": []
   },
   "outputs": [
    {
     "name": "stdout",
     "output_type": "stream",
     "text": [
      "mean log error 0.3376563715626506\n"
     ]
    }
   ],
   "source": [
    "# testing log error\n",
    "\n",
    "p_test = clf_mob.predict(X_test_mob)\n",
    "p_test = replace_negative_with_one(p_test)\n",
    "import math\n",
    "logerror = np.log(p_test) - np.log(Y_test_mob)\n",
    "print('mean log error', np.mean(logerror))"
   ]
  },
  {
   "cell_type": "markdown",
   "id": "2ad30207-3b4d-4626-838e-fa7941aa3ac9",
   "metadata": {
    "tags": []
   },
   "source": [
    "## Gradient Boosting(AdaBoost)"
   ]
  },
  {
   "cell_type": "code",
   "execution_count": 59,
   "id": "08ef8269-ba7e-4ab4-8d3c-2efc0a2f720d",
   "metadata": {
    "tags": []
   },
   "outputs": [
    {
     "name": "stdout",
     "output_type": "stream",
     "text": [
      "Model: AdaBoostRegressor()\n",
      "MAE: 68140.43917512514, RMSE: 70891.87278956277\n",
      "Model: AdaBoostRegressor()\n",
      "MAE: 68588.90481014225, RMSE: 71203.7193121193\n"
     ]
    }
   ],
   "source": [
    "ada = AdaBoostRegressor()\n",
    "ada.fit(X_train_mob, Y_train_mob)\n",
    "# training MAE and RMSE\n",
    "get_eval_metrics([ada], X_train_mob, Y_train_mob)\n",
    "# testing MAE and RMSE\n",
    "get_eval_metrics([ada], X_test_mob, Y_test_mob)\n",
    "#average log error\n",
    "get_avg_log error(ada, X_test_con, Y_test_con)"
   ]
  },
  {
   "cell_type": "markdown",
   "id": "91274336-8652-4f55-88b5-30fc732cb351",
   "metadata": {
    "tags": []
   },
   "source": [
    "## Linear Regression"
   ]
  },
  {
   "cell_type": "code",
   "execution_count": 60,
   "id": "b5b01dba-df3c-4219-af64-0adeb3f6cb63",
   "metadata": {
    "tags": []
   },
   "outputs": [
    {
     "name": "stdout",
     "output_type": "stream",
     "text": [
      "[-9.09226828e+03  9.50586513e+04 -6.19838660e+02 -5.39994276e+03\n",
      "  5.32296126e+02  6.55393453e+04  1.84644790e+02 -1.02617848e+04\n",
      "  3.57449579e+04  3.63797881e-11 -1.13653353e+04  2.02898029e+04\n",
      "  2.77053088e+04  9.65201252e-11 -5.82076609e-11  1.45519152e-11\n",
      " -3.08586966e+01 -1.21057474e+05  9.34581714e+03 -4.67018495e+02\n",
      "  3.21592345e+05  1.46570595e+05  8.21780796e+02 -1.78049442e+03\n",
      "  2.27306707e+03  0.00000000e+00  0.00000000e+00  0.00000000e+00\n",
      "  0.00000000e+00 -2.27306707e+03  0.00000000e+00  0.00000000e+00\n",
      "  0.00000000e+00  0.00000000e+00  0.00000000e+00  0.00000000e+00\n",
      "  0.00000000e+00  0.00000000e+00  2.27306707e+03  0.00000000e+00\n",
      "  0.00000000e+00  0.00000000e+00  0.00000000e+00 -2.27306707e+03\n",
      " -1.29861226e+00 -1.70283621e+00  3.00144847e+00  0.00000000e+00\n",
      "  0.00000000e+00  0.00000000e+00  0.00000000e+00  0.00000000e+00\n",
      "  0.00000000e+00  0.00000000e+00  0.00000000e+00  0.00000000e+00\n",
      "  0.00000000e+00  0.00000000e+00  0.00000000e+00  0.00000000e+00\n",
      "  0.00000000e+00  0.00000000e+00 -1.70283621e+00  3.00144847e+00\n",
      " -1.29861226e+00  0.00000000e+00  0.00000000e+00 -8.06509281e+00\n",
      "  8.06509281e+00 -1.10989275e+04  1.10989275e+04]\n"
     ]
    }
   ],
   "source": [
    "#fitting regression model\n",
    "regr = linear_model.LinearRegression()\n",
    "regr.fit(X_train_mob, Y_train_mob)\n",
    "print(regr.coef_)"
   ]
  },
  {
   "cell_type": "code",
   "execution_count": null,
   "id": "6446e2af-56d6-4f54-9803-72ce1cb6da85",
   "metadata": {},
   "outputs": [],
   "source": [
    "# training MAE and RMSE\n",
    "get_eval_metrics([regr], X_train_town, Y_train_town)\n",
    "# testing MAE and RMSE\n",
    "get_eval_metrics([regr], X_test_town, Y_test_town)\n",
    "#average log error\n",
    "get_avg_log error(ada, X_test_con, Y_test_con)"
   ]
  },
  {
   "cell_type": "markdown",
   "id": "c276b0c5-6dc9-4634-b646-e95ddfeff6f7",
   "metadata": {
    "tags": [],
    "user_expressions": []
   },
   "source": [
    "## Full data"
   ]
  },
  {
   "cell_type": "markdown",
   "id": "fe63aa46-6b11-48c7-801f-942118ac5400",
   "metadata": {
    "tags": [],
    "user_expressions": []
   },
   "source": [
    "## Random forest"
   ]
  },
  {
   "cell_type": "code",
   "execution_count": 52,
   "id": "43b64c70-bbd6-481e-9b3a-4848d37794bd",
   "metadata": {
    "tags": []
   },
   "outputs": [],
   "source": [
    "# do a 80,20 split on each data, set a seed\n",
    "import random\n",
    "random.seed(222)\n",
    "from sklearn.model_selection import train_test_split\n",
    "train_df, test_df = train_test_split(df, test_size=0.2)"
   ]
  },
  {
   "cell_type": "code",
   "execution_count": 53,
   "id": "7e87445c-380b-469c-b288-f3727c815714",
   "metadata": {
    "tags": []
   },
   "outputs": [],
   "source": [
    "X_train = train_df.drop(['price'], axis =1)\n",
    "Y_train = train_df['price']\n",
    "X_test = test_df.drop(['price'], axis =1)\n",
    "Y_test = test_df['price']"
   ]
  },
  {
   "cell_type": "code",
   "execution_count": 55,
   "id": "ffb1f47e-d0f3-401e-a507-cf27ac190e5c",
   "metadata": {
    "tags": []
   },
   "outputs": [],
   "source": [
    "from sklearn.ensemble import RandomForestRegressor\n",
    "from sklearn.model_selection import RandomizedSearchCV\n",
    "from sklearn.model_selection import GridSearchCV"
   ]
  },
  {
   "cell_type": "code",
   "execution_count": 79,
   "id": "34a40f25-6f80-40ee-9012-a385e9034abf",
   "metadata": {
    "tags": []
   },
   "outputs": [],
   "source": [
    "# Fraction of original dataset given to any individual tree\n",
    "max_samples = [0.1, 0.2]\n",
    "# Number of features to consider at every split\n",
    "max_features = ['auto', 0.4, 0.6, 0.8, 0.9]\n",
    "# Maximum number of levels in tree\n",
    "max_depth = [int(x) for x in np.linspace(50, 100, num = 4)]\n",
    "# max_depth.append(None)\n",
    "# Minimum number of samples required at each leaf node\n",
    "min_samples_leaf = [16, 32, 48]\n",
    "\n",
    "# Create the tuning grid\n",
    "param_grid = {\n",
    "    'max_samples': max_samples,\n",
    "    'max_features': max_features,\n",
    "    'max_depth': max_depth,\n",
    "    'min_samples_leaf': min_samples_leaf,\n",
    "}"
   ]
  },
  {
   "cell_type": "code",
   "execution_count": null,
   "id": "23ab8242-5c76-4c32-8434-25fe95803f13",
   "metadata": {
    "tags": []
   },
   "outputs": [
    {
     "name": "stdout",
     "output_type": "stream",
     "text": [
      "Fitting 3 folds for each of 20 candidates, totalling 60 fits\n"
     ]
    },
    {
     "name": "stderr",
     "output_type": "stream",
     "text": [
      "/usr/local/linux/mambaforge-3.11/lib/python3.11/site-packages/sklearn/ensemble/_forest.py:416: FutureWarning: `max_features='auto'` has been deprecated in 1.1 and will be removed in 1.3. To keep the past behaviour, explicitly set `max_features=1.0` or remove this parameter as it is also the default value for RandomForestRegressors and ExtraTreesRegressors.\n",
      "  warn(\n",
      "/usr/local/linux/mambaforge-3.11/lib/python3.11/site-packages/sklearn/ensemble/_forest.py:416: FutureWarning: `max_features='auto'` has been deprecated in 1.1 and will be removed in 1.3. To keep the past behaviour, explicitly set `max_features=1.0` or remove this parameter as it is also the default value for RandomForestRegressors and ExtraTreesRegressors.\n",
      "  warn(\n",
      "/usr/local/linux/mambaforge-3.11/lib/python3.11/site-packages/sklearn/ensemble/_forest.py:416: FutureWarning: `max_features='auto'` has been deprecated in 1.1 and will be removed in 1.3. To keep the past behaviour, explicitly set `max_features=1.0` or remove this parameter as it is also the default value for RandomForestRegressors and ExtraTreesRegressors.\n",
      "  warn(\n"
     ]
    }
   ],
   "source": [
    "###### Random Grid Sample Code #######\n",
    "# Use the random grid to narrow down best hyperparameters\n",
    "\n",
    "# First create the base model to tune\n",
    "rf = RandomForestRegressor(max_samples=0.1)\n",
    "\n",
    "# Random search of parameters, using 3 fold cross validation, \n",
    "# search across 20 different combinations, and use all available cores\n",
    "rf_random = RandomizedSearchCV(estimator=rf, param_distributions=param_grid, n_iter=20, cv=3, verbose=2, random_state=42, n_jobs=-1)\n",
    "\n",
    "# Fit the random search model\n",
    "rf_random.fit(X_train, Y_train)"
   ]
  },
  {
   "cell_type": "code",
   "execution_count": 84,
   "id": "f021600b-2985-4389-8127-fce585d40e6c",
   "metadata": {
    "tags": []
   },
   "outputs": [
    {
     "data": {
      "text/plain": [
       "{'min_samples_leaf': 16,\n",
       " 'max_samples': 0.1,\n",
       " 'max_features': 'auto',\n",
       " 'max_depth': 50}"
      ]
     },
     "execution_count": 84,
     "metadata": {},
     "output_type": "execute_result"
    }
   ],
   "source": [
    "# Output the best estimator from grid search and it's hyperparameters \n",
    "rf_random.best_params_"
   ]
  },
  {
   "cell_type": "code",
   "execution_count": 57,
   "id": "119251bc-926d-46f7-8b57-e315b5cc41f9",
   "metadata": {
    "tags": []
   },
   "outputs": [
    {
     "data": {
      "text/html": [
       "<style>#sk-container-id-1 {color: black;background-color: white;}#sk-container-id-1 pre{padding: 0;}#sk-container-id-1 div.sk-toggleable {background-color: white;}#sk-container-id-1 label.sk-toggleable__label {cursor: pointer;display: block;width: 100%;margin-bottom: 0;padding: 0.3em;box-sizing: border-box;text-align: center;}#sk-container-id-1 label.sk-toggleable__label-arrow:before {content: \"▸\";float: left;margin-right: 0.25em;color: #696969;}#sk-container-id-1 label.sk-toggleable__label-arrow:hover:before {color: black;}#sk-container-id-1 div.sk-estimator:hover label.sk-toggleable__label-arrow:before {color: black;}#sk-container-id-1 div.sk-toggleable__content {max-height: 0;max-width: 0;overflow: hidden;text-align: left;background-color: #f0f8ff;}#sk-container-id-1 div.sk-toggleable__content pre {margin: 0.2em;color: black;border-radius: 0.25em;background-color: #f0f8ff;}#sk-container-id-1 input.sk-toggleable__control:checked~div.sk-toggleable__content {max-height: 200px;max-width: 100%;overflow: auto;}#sk-container-id-1 input.sk-toggleable__control:checked~label.sk-toggleable__label-arrow:before {content: \"▾\";}#sk-container-id-1 div.sk-estimator input.sk-toggleable__control:checked~label.sk-toggleable__label {background-color: #d4ebff;}#sk-container-id-1 div.sk-label input.sk-toggleable__control:checked~label.sk-toggleable__label {background-color: #d4ebff;}#sk-container-id-1 input.sk-hidden--visually {border: 0;clip: rect(1px 1px 1px 1px);clip: rect(1px, 1px, 1px, 1px);height: 1px;margin: -1px;overflow: hidden;padding: 0;position: absolute;width: 1px;}#sk-container-id-1 div.sk-estimator {font-family: monospace;background-color: #f0f8ff;border: 1px dotted black;border-radius: 0.25em;box-sizing: border-box;margin-bottom: 0.5em;}#sk-container-id-1 div.sk-estimator:hover {background-color: #d4ebff;}#sk-container-id-1 div.sk-parallel-item::after {content: \"\";width: 100%;border-bottom: 1px solid gray;flex-grow: 1;}#sk-container-id-1 div.sk-label:hover label.sk-toggleable__label {background-color: #d4ebff;}#sk-container-id-1 div.sk-serial::before {content: \"\";position: absolute;border-left: 1px solid gray;box-sizing: border-box;top: 0;bottom: 0;left: 50%;z-index: 0;}#sk-container-id-1 div.sk-serial {display: flex;flex-direction: column;align-items: center;background-color: white;padding-right: 0.2em;padding-left: 0.2em;position: relative;}#sk-container-id-1 div.sk-item {position: relative;z-index: 1;}#sk-container-id-1 div.sk-parallel {display: flex;align-items: stretch;justify-content: center;background-color: white;position: relative;}#sk-container-id-1 div.sk-item::before, #sk-container-id-1 div.sk-parallel-item::before {content: \"\";position: absolute;border-left: 1px solid gray;box-sizing: border-box;top: 0;bottom: 0;left: 50%;z-index: -1;}#sk-container-id-1 div.sk-parallel-item {display: flex;flex-direction: column;z-index: 1;position: relative;background-color: white;}#sk-container-id-1 div.sk-parallel-item:first-child::after {align-self: flex-end;width: 50%;}#sk-container-id-1 div.sk-parallel-item:last-child::after {align-self: flex-start;width: 50%;}#sk-container-id-1 div.sk-parallel-item:only-child::after {width: 0;}#sk-container-id-1 div.sk-dashed-wrapped {border: 1px dashed gray;margin: 0 0.4em 0.5em 0.4em;box-sizing: border-box;padding-bottom: 0.4em;background-color: white;}#sk-container-id-1 div.sk-label label {font-family: monospace;font-weight: bold;display: inline-block;line-height: 1.2em;}#sk-container-id-1 div.sk-label-container {text-align: center;}#sk-container-id-1 div.sk-container {/* jupyter's `normalize.less` sets `[hidden] { display: none; }` but bootstrap.min.css set `[hidden] { display: none !important; }` so we also need the `!important` here to be able to override the default hidden behavior on the sphinx rendered scikit-learn.org. See: https://github.com/scikit-learn/scikit-learn/issues/21755 */display: inline-block !important;position: relative;}#sk-container-id-1 div.sk-text-repr-fallback {display: none;}</style><div id=\"sk-container-id-1\" class=\"sk-top-container\"><div class=\"sk-text-repr-fallback\"><pre>RandomForestRegressor(max_depth=50, max_features=0.6, min_samples_leaf=16,\n",
       "                      n_estimators=400, n_jobs=-1)</pre><b>In a Jupyter environment, please rerun this cell to show the HTML representation or trust the notebook. <br />On GitHub, the HTML representation is unable to render, please try loading this page with nbviewer.org.</b></div><div class=\"sk-container\" hidden><div class=\"sk-item\"><div class=\"sk-estimator sk-toggleable\"><input class=\"sk-toggleable__control sk-hidden--visually\" id=\"sk-estimator-id-1\" type=\"checkbox\" checked><label for=\"sk-estimator-id-1\" class=\"sk-toggleable__label sk-toggleable__label-arrow\">RandomForestRegressor</label><div class=\"sk-toggleable__content\"><pre>RandomForestRegressor(max_depth=50, max_features=0.6, min_samples_leaf=16,\n",
       "                      n_estimators=400, n_jobs=-1)</pre></div></div></div></div></div>"
      ],
      "text/plain": [
       "RandomForestRegressor(max_depth=50, max_features=0.6, min_samples_leaf=16,\n",
       "                      n_estimators=400, n_jobs=-1)"
      ]
     },
     "execution_count": 57,
     "metadata": {},
     "output_type": "execute_result"
    }
   ],
   "source": [
    "best_params ={'max_depth': 50,\n",
    "              'n_estimators': 400,\n",
    "            'max_features': 0.6,\n",
    "            'min_samples_leaf': 16,\n",
    "             'n_jobs':-1}\n",
    "ran_forest = RandomForestRegressor(**best_params)\n",
    "ran_forest.fit(X_train, Y_train)"
   ]
  },
  {
   "cell_type": "code",
   "execution_count": 63,
   "id": "bc19b34b-1488-4a8b-bc06-dae5fae7a8ee",
   "metadata": {
    "tags": []
   },
   "outputs": [
    {
     "name": "stdout",
     "output_type": "stream",
     "text": [
      "Model: RandomForestRegressor(max_depth=50, max_features=0.6, min_samples_leaf=16,\n",
      "                      n_estimators=400, n_jobs=-1)\n",
      "MAE: 249307.94853857326, RMSE: 696254.7599032137\n"
     ]
    }
   ],
   "source": [
    "get_eval_metrics([ran_forest], X_test, Y_test)"
   ]
  },
  {
   "cell_type": "code",
   "execution_count": 64,
   "id": "1c20001f-9103-4e5c-9b9c-e54ea35f711b",
   "metadata": {
    "tags": []
   },
   "outputs": [
    {
     "name": "stdout",
     "output_type": "stream",
     "text": [
      "Model: RandomForestRegressor(max_depth=50, max_features=0.6, min_samples_leaf=16,\n",
      "                      n_estimators=400, n_jobs=-1)\n",
      "log_error: -0.34595346573625996\n"
     ]
    }
   ],
   "source": [
    "get_avg_log_error(ran_forest, X_test, Y_test)"
   ]
  },
  {
   "cell_type": "markdown",
   "id": "9c8d97b8-408c-4f41-b9e9-aa49eb43f11b",
   "metadata": {
    "tags": []
   },
   "source": [
    "## Gradient Boosting(XGBoost)"
   ]
  },
  {
   "cell_type": "code",
   "execution_count": 60,
   "id": "8df9defb-c931-4baf-b753-08299f28beb6",
   "metadata": {
    "tags": []
   },
   "outputs": [],
   "source": [
    "import xgboost as xgb\n",
    "from sklearn.model_selection import cross_val_score\n",
    "from sklearn.metrics import mean_squared_error, mean_absolute_error, make_scorer"
   ]
  },
  {
   "cell_type": "code",
   "execution_count": 61,
   "id": "b5eaa4b8-092d-4658-9818-8f0b8154e21c",
   "metadata": {
    "tags": []
   },
   "outputs": [],
   "source": [
    "# do a 80,20 split on each data, set a seed\n",
    "import random\n",
    "random.seed(222)\n",
    "from sklearn.model_selection import train_test_split\n",
    "train_df, test_df = train_test_split(df, test_size=0.2)"
   ]
  },
  {
   "cell_type": "code",
   "execution_count": 62,
   "id": "25dcc805-a74f-4e30-b8c2-77b62af5de0c",
   "metadata": {
    "tags": []
   },
   "outputs": [],
   "source": [
    "# split vaild set for early stopping\n",
    "\n",
    "train_df, vaild_df = train_test_split(train_df, test_size=0.2)\n",
    "X_train = train_df.drop(['price'], axis =1)\n",
    "Y_train = train_df['price']\n",
    "X_vaild = vaild_df.drop(['price'], axis =1)\n",
    "Y_vaild = vaild_df['price']\n",
    "X_test = test_df.drop(['price'], axis =1)\n",
    "Y_test = test_df['price']"
   ]
  },
  {
   "cell_type": "code",
   "execution_count": 65,
   "id": "3b7474a6-d2fd-43b1-9847-7a3ed2a17bd0",
   "metadata": {
    "tags": []
   },
   "outputs": [
    {
     "name": "stdout",
     "output_type": "stream",
     "text": [
      "Training ...\n",
      "[17:07:59] WARNING: ../src/objective/regression_obj.cu:213: reg:linear is now deprecated in favor of reg:squarederror.\n",
      "[17:07:59] WARNING: ../src/learner.cc:767: \n",
      "Parameters: { \"silent\" } are not used.\n",
      "\n",
      "[0]\ttrain-mae:430162.71674\tvalid-mae:429917.50771\n",
      "[50]\ttrain-mae:193145.82355\tvalid-mae:195734.11064\n",
      "[100]\ttrain-mae:181345.19050\tvalid-mae:185396.51702\n",
      "[150]\ttrain-mae:179849.07725\tvalid-mae:184748.80081\n",
      "[200]\ttrain-mae:178346.37989\tvalid-mae:183796.98371\n",
      "[250]\ttrain-mae:176896.89767\tvalid-mae:182955.68122\n",
      "[300]\ttrain-mae:175491.34372\tvalid-mae:182234.46060\n",
      "[350]\ttrain-mae:174402.76652\tvalid-mae:181751.53221\n",
      "[400]\ttrain-mae:173573.87441\tvalid-mae:181412.67342\n",
      "[450]\ttrain-mae:172719.41284\tvalid-mae:181066.01723\n",
      "[500]\ttrain-mae:171972.58151\tvalid-mae:180845.07657\n",
      "[550]\ttrain-mae:171285.44004\tvalid-mae:180583.77526\n",
      "[600]\ttrain-mae:170587.76342\tvalid-mae:180378.64524\n",
      "[650]\ttrain-mae:170067.15878\tvalid-mae:180228.98429\n",
      "[700]\ttrain-mae:169597.44432\tvalid-mae:180107.10196\n",
      "[750]\ttrain-mae:169058.61390\tvalid-mae:179941.65030\n",
      "[780]\ttrain-mae:168799.24700\tvalid-mae:179902.99597\n",
      "Predicting on test ...\n"
     ]
    },
    {
     "name": "stderr",
     "output_type": "stream",
     "text": [
      "/tmp/ipykernel_419230/3824090160.py:27: RuntimeWarning: invalid value encountered in log\n",
      "  logerror = np.log(p_test) - np.log(Y_test)\n"
     ]
    },
    {
     "name": "stdout",
     "output_type": "stream",
     "text": [
      "mean log error 0.17984133420777218\n"
     ]
    }
   ],
   "source": [
    "d_train = xgb.DMatrix(X_train, label=Y_train, enable_categorical= True)\n",
    "d_valid = xgb.DMatrix(X_vaild, label=Y_vaild, enable_categorical= True)\n",
    "\n",
    "\n",
    "print('Training ...')\n",
    "\n",
    "params = {}\n",
    "params['eta'] = 0.03\n",
    "params['objective'] = 'reg:linear'\n",
    "params['eval_metric'] = 'mae'\n",
    "params['max_depth'] = 9\n",
    "params['silent'] = 1\n",
    "\n",
    "watchlist = [(d_train, 'train'), (d_valid, 'valid')]\n",
    "clf = xgb.train(params, d_train, 10000, watchlist, early_stopping_rounds=10, verbose_eval=50)\n",
    "\n",
    "\n",
    "\n",
    "d_test = xgb.DMatrix(X_test, enable_categorical= True)\n",
    "\n",
    "\n",
    "print('Predicting on test ...')\n",
    "\n",
    "p_test = clf.predict(d_test)\n",
    "\n",
    "import math\n",
    "logerror = np.log(p_test) - np.log(Y_test)\n",
    "print('mean log error', np.mean(logerror))"
   ]
  },
  {
   "cell_type": "code",
   "execution_count": 66,
   "id": "128a05d2-2088-4255-89d5-b1cd48f7fc76",
   "metadata": {
    "tags": []
   },
   "outputs": [
    {
     "data": {
      "text/plain": [
       "<AxesSubplot: title={'center': 'Feature importance'}, xlabel='F score', ylabel='Features'>"
      ]
     },
     "execution_count": 66,
     "metadata": {},
     "output_type": "execute_result"
    },
    {
     "data": {
      "image/png": "[encoded data removed]",
      "text/plain": [
       "<Figure size 640x480 with 1 Axes>"
      ]
     },
     "metadata": {},
     "output_type": "display_data"
    }
   ],
   "source": [
    "from xgboost import plot_importance\n",
    "plot_importance(clf, max_num_features = 15)"
   ]
  },
  {
   "cell_type": "code",
   "execution_count": null,
   "id": "a9718dd1-ef41-4415-9faa-9b2c7d63040b",
   "metadata": {
    "tags": []
   },
   "outputs": [
    {
     "name": "stdout",
     "output_type": "stream",
     "text": [
      "Fitting 5 folds for each of 28 candidates, totalling 140 fits\n"
     ]
    }
   ],
   "source": [
    "from sklearn.metrics import mean_squared_error\n",
    "from sklearn.model_selection import RandomizedSearchCV\n",
    "from sklearn.model_selection import GridSearchCV\n",
    "\n",
    "xgbModel = xgb.XGBRegressor()\n",
    "\n",
    "# define hyperparameters\n",
    "params = {'max_depth': [3,4,5,6,7,8,9], \n",
    "          'colsample_bytree': [0.3, 0.5], 'subsample': [0.6, 0.8]}\n",
    "\n",
    "\n",
    "gridSearchModel = GridSearchCV(estimator=xgbModel, \n",
    "                   param_grid=params, verbose=50, n_jobs=2, \n",
    "                   scoring='neg_mean_squared_error')\n",
    "gridSearchModel.fit(X_train, Y_train)\n",
    "\n",
    "print(\"Best parameters from Grid Search:\", gridSearchModel.best_params_)"
   ]
  },
  {
   "cell_type": "code",
   "execution_count": 22,
   "id": "534a3435-37f4-45b8-8335-49f312e93a52",
   "metadata": {
    "tags": []
   },
   "outputs": [
    {
     "data": {
      "text/plain": [
       "{'colsample_bytree': 0.5, 'max_depth': 9, 'subsample': 0.8}"
      ]
     },
     "execution_count": 22,
     "metadata": {},
     "output_type": "execute_result"
    }
   ],
   "source": [
    " gridSearchModel.best_params_"
   ]
  },
  {
   "cell_type": "code",
   "execution_count": 19,
   "id": "c85d39f8-2a91-4c76-b1dd-e43912c18cf9",
   "metadata": {},
   "outputs": [
    {
     "name": "stdout",
     "output_type": "stream",
     "text": [
      "Model: XGBRegressor(base_score=0.5, booster='gbtree', colsample_bylevel=1,\n",
      "             colsample_bynode=1, colsample_bytree=1, gamma=0, gpu_id=-1,\n",
      "             importance_type='gain', interaction_constraints='',\n",
      "             learning_rate=0.3, max_delta_step=0, max_depth=6,\n",
      "             min_child_weight=1, missing=nan, monotone_constraints='()',\n",
      "             n_estimators=10000, n_jobs=0, num_parallel_tree=1, random_state=42,\n",
      "             reg_alpha=0, reg_lambda=1, scale_pos_weight=1, subsample=1,\n",
      "             tree_method='exact', validate_parameters=1, verbosity=None)\n",
      "MAE: 15754.003342989326, RMSE: 42784.2160122243\n"
     ]
    }
   ],
   "source": [
    "fit_params={'early_stopping_rounds': 10, \n",
    "            'eval_metric': 'mae',\n",
    "            'verbose': False,\n",
    "            'eval_set': [[X_test, Y_test]]}\n",
    "\n",
    "get_eval_metrics([xgb_base], X_test, Y_test)\n",
    "#get_cross_val_scores([xgb_base], X_prepared, y_train, cv=3, fit_params=fit_params)"
   ]
  },
  {
   "cell_type": "markdown",
   "id": "c954ecdf-789e-4331-a54b-de6e917f2a29",
   "metadata": {
    "tags": []
   },
   "source": [
    "## Gradient Boosting(AdaBoost)"
   ]
  },
  {
   "cell_type": "code",
   "execution_count": 89,
   "id": "eb829e7f-6d68-4b64-a11d-d8ebd456d982",
   "metadata": {},
   "outputs": [
    {
     "name": "stdout",
     "output_type": "stream",
     "text": [
      "1 -46344833059.82762\n",
      "2 -25277656474.2639\n",
      "3 -14718396893.084488\n",
      "4 -9509117727.822412\n",
      "5 -6491091189.639197\n",
      "6 -5235825061.61236\n",
      "7 -4462703574.433343\n",
      "8 -3972578443.5325613\n",
      "9 -3617737163.849251\n"
     ]
    }
   ],
   "source": [
    "#purpose of the baseline model is to compare it to the performance of our model that utilizes adaBoost\n",
    "#a tree with a depth of 3 had the lowest amount of error\n",
    "crossvalidation=KFold(n_splits=10,shuffle=True,random_state=1)\n",
    "\n",
    "for depth in range (1,10):\n",
    "    tree_regressor=tree.DecisionTreeRegressor(max_depth=depth,random_state=1)\n",
    "    if tree_regressor.fit(X_train, Y_train).tree_.max_depth<depth:\n",
    "        break\n",
    "    score=np.mean(cross_val_score(tree_regressor,X_train, Y_train,scoring='neg_mean_squared_error', cv=crossvalidation,n_jobs=1))\n",
    "    print(depth, score)"
   ]
  },
  {
   "cell_type": "code",
   "execution_count": 128,
   "id": "57ca6e7a-face-4fcd-9905-0672c8d0120a",
   "metadata": {},
   "outputs": [],
   "source": [
    "ada = AdaBoostRegressor()\n",
    "search_grid={'n_estimators':[100,500,1000],\n",
    "             'learning_rate':[.001,0.01,.1],\n",
    "             'random_state':[1]}\n",
    "\n",
    "search = GridSearchCV(estimator = ada,\n",
    "                    param_grid = search_grid,\n",
    "                    scoring ='neg_mean_squared_error',\n",
    "                    n_jobs = -1,\n",
    "                    cv = crossvalidation)\n",
    "search.fit(X_train, Y_train)\n",
    "print(search.best_params_)\n",
    "print(search.best_score_)"
   ]
  },
  {
   "cell_type": "code",
   "execution_count": 92,
   "id": "f7ab893c-207d-4ab4-aa48-c162a02be5cd",
   "metadata": {},
   "outputs": [
    {
     "name": "stdout",
     "output_type": "stream",
     "text": [
      "Model: AdaBoostRegressor()\n",
      "MAE: 175854.97522283802, RMSE: 203864.9193521019\n",
      "Model: AdaBoostRegressor()\n",
      "MAE: 175826.61547409772, RMSE: 203935.5422394603\n"
     ]
    }
   ],
   "source": [
    "ada = AdaBoostRegressor()\n",
    "ada.fit(X_train, Y_train)\n",
    "# training MAE and RMSE\n",
    "get_eval_metrics([ada], X_train, Y_train)\n",
    "# testing MAE and RMSE\n",
    "get_eval_metrics([ada], X_test, Y_test)\n",
    "#average log error\n",
    "get_avg_log error(ada, X_test_con, Y_test_con)"
   ]
  },
  {
   "cell_type": "markdown",
   "id": "e7297d11-00fe-4d83-848b-8d594496b1c5",
   "metadata": {
    "tags": []
   },
   "source": [
    "## Linear regression"
   ]
  },
  {
   "cell_type": "code",
   "execution_count": 119,
   "id": "ada5e6a1-81b7-4f0e-b46b-33512ad9745c",
   "metadata": {},
   "outputs": [
    {
     "name": "stdout",
     "output_type": "stream",
     "text": [
      "[-6.56272808e+11  1.00751248e+03  2.68272766e+03 -3.19451050e+03\n",
      "  4.08433502e+11  7.55978748e+03  5.51273284e+11 -4.89239258e+03\n",
      "  2.43095020e+03 -1.38912742e+04  3.24438859e+11  1.01560955e+04\n",
      " -1.90344568e+03 -4.94258398e+03 -1.65736409e+09  6.41091129e+09\n",
      "  9.51869690e+10  2.65769340e+04 -9.14770752e+02 -5.52596191e+02\n",
      "  4.93124990e+05  4.48810549e+05 -1.01782025e+03  1.73415332e+03\n",
      " -4.08312728e+12  2.47960081e+12  3.13587362e+12  3.79214639e+12\n",
      " -2.77058166e+12 -1.45803603e+12  1.16705518e+12  6.11508726e+12\n",
      "  3.19513753e+12  2.87069866e+12  2.54625983e+12  2.22182092e+12\n",
      "  1.89738213e+12  5.99626639e+11  5.79064842e+12 -4.92509575e+10\n",
      " -3.73689949e+11 -1.34700651e+12  4.49289296e+12  4.16845413e+12\n",
      " -3.73844915e+13  4.29336697e+13 -8.28442015e+12 -3.74608239e+12\n",
      " -3.75249331e+12 -3.75890423e+12 -3.83583515e+12 -3.84224606e+12\n",
      " -3.85506813e+12 -3.86147883e+12 -3.86788974e+12 -3.87430064e+12\n",
      " -3.88071155e+12 -3.89353335e+12 -3.93199887e+12 -3.95764261e+12\n",
      " -2.36773642e+12 -2.47031099e+12  4.29336716e+13 -8.28435026e+12\n",
      " -3.73845037e+13 -1.04608986e+09  6.11266004e+08  1.34904130e+13\n",
      " -1.34661981e+13  2.54988460e+11  2.54988466e+11]\n"
     ]
    }
   ],
   "source": [
    "#fitting regression model\n",
    "regr = linear_model.LinearRegression()\n",
    "regr.fit(X_train, Y_train)\n",
    "print(regr.coef_)"
   ]
  },
  {
   "cell_type": "code",
   "execution_count": 31,
   "id": "18eba2d1-18d6-469e-92ad-5142830ff55e",
   "metadata": {},
   "outputs": [
    {
     "name": "stdout",
     "output_type": "stream",
     "text": [
      "Model: LinearRegression()\n",
      "MAE: 31168.51443039537, RMSE: 61800.389676774495\n",
      "Model: LinearRegression()\n",
      "MAE: 53933803.32921106, RMSE: 35666460711.091\n"
     ]
    }
   ],
   "source": [
    "# training MAE and RMSE\n",
    "get_eval_metrics([regr], X_train, Y_train)\n",
    "# testing MAE and RMSE\n",
    "get_eval_metrics([regr], X_test, Y_test)\n",
    "#average log error\n",
    "get_avg_log error(ada, X_test_con, Y_test_con)"
   ]
  }
 ],
 "metadata": {
  "kernelspec": {
   "display_name": "Python 3 (ipykernel)",
   "language": "python",
   "name": "python3"
  },
  "language_info": {
   "codemirror_mode": {
    "name": "ipython",
    "version": 3
   },
   "file_extension": ".py",
   "mimetype": "text/x-python",
   "name": "python",
   "nbconvert_exporter": "python",
   "pygments_lexer": "ipython3",
   "version": "3.11.0"
  }
 },
 "nbformat": 4,
 "nbformat_minor": 5
}
