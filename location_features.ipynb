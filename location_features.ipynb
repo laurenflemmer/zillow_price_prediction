{
 "cells": [
  {
   "attachments": {},
   "cell_type": "markdown",
   "metadata": {},
   "source": [
    "## Adding new location-based features\n",
    "In the Los Angeles area, some zip codes are so desirable that a home simply being in a particular zipcode drives up the price of the home. Therefore, whether or not a home belongs to a desirable/expensive zip code may be a useful and informative feature for predicting the value of a home. In the year 2016, the most expensive zip codes to live in were the following (Note that only zip codes with median home price > 2 million are included):\n",
    "- Los Angeles County\n",
    "    1. 90210 (Beverly Hills) - Median home price: $3,885,000\n",
    "    2. 90402 (Santa Monica) - Median home price: $3,280,000\n",
    "    3. 90272 (Pacific Palisades) - Median home price: $3,110,000\n",
    "    4. 90077 (Bel Air) - Median home price: $2,860,000\n",
    "    5. 90266 (Manhattan Beach) - Median home price: $2,750,000\n",
    "    6. 90291 (Venice) - Median home price: $2,440,000\n",
    "    7. 90254 (Hermosa Beach) - Median home price: $2,275,000\n",
    "    8. 90275 (Rancho Palos Verdes) - Median home price: $2,162,500\n",
    "- Orange County\n",
    "    1. 92657 (Newport Coast) - Median home price: $4,000,000\n",
    "    2. 92662 (Newport Beach) - Median home price: $3,600,000\n",
    "    3. 92661 (Newport Beach) - Median home price: $3,300,000\n",
    "    4. 92625 (Corona del Mar) - Median home price: $2,700,000\n",
    "    5. 92651 (Laguna Beach) - Median home price: $2,500,000\n",
    "    6. 92660 (Newport Beach) - Median home price: $2,070,000 "
   ]
  },
  {
   "attachments": {},
   "cell_type": "markdown",
   "metadata": {},
   "source": [
    "### Option 1: Binary variable\n",
    "One option to represent this data is to simply create binary variables for each of these zip codes- for each property in the dataset, we give it a value of \"1\" if it belongs to the zip code, and a \"0\" if it doesn't."
   ]
  },
  {
   "cell_type": "code",
   "execution_count": 1,
   "metadata": {},
   "outputs": [],
   "source": [
    "import pandas as pd\n",
    "\n",
    "# read in data\n",
    "train_data = pd.read_csv()\n",
    "test_data = pd.read_csv('/Users/laurenflemmer/Desktop/zillow_proj/data/test_data.csv')\n",
    "\n",
    "def binary_location_importance(data):\n",
    "    binary_feat_data = data\n",
    "\n",
    "    # create binary feature for each zip code\n",
    "    binary_feat_data['in_90210'] = (binary_feat_data['regionidzip'] == 90210).astype(int)\n",
    "    binary_feat_data['in_90402'] = (binary_feat_data['regionidzip'] == 90402).astype(int)\n",
    "    binary_feat_data['in_90272'] = (binary_feat_data['regionidzip'] == 90272).astype(int)\n",
    "    binary_feat_data['in_90077'] = (binary_feat_data['regionidzip'] == 90077).astype(int)\n",
    "    binary_feat_data['in_90266'] = (binary_feat_data['regionidzip'] == 90266).astype(int)\n",
    "    binary_feat_data['in_90291'] = (binary_feat_data['regionidzip'] == 90291).astype(int)\n",
    "    binary_feat_data['in_90254'] = (binary_feat_data['regionidzip'] == 90254).astype(int)\n",
    "    binary_feat_data['in_90275'] = (binary_feat_data['regionidzip'] == 90275).astype(int)\n",
    "\n",
    "    binary_feat_data['in_92657'] = (binary_feat_data['regionidzip'] == 92657).astype(int)\n",
    "    binary_feat_data['in_92662'] = (binary_feat_data['regionidzip'] == 92662).astype(int)\n",
    "    binary_feat_data['in_92661'] = (binary_feat_data['regionidzip'] == 92661).astype(int)\n",
    "    binary_feat_data['in_92625'] = (binary_feat_data['regionidzip'] == 92625).astype(int)\n",
    "    binary_feat_data['in_92651'] = (binary_feat_data['regionidzip'] == 92651).astype(int)\n",
    "    binary_feat_data['in_92660'] = (binary_feat_data['regionidzip'] == 92660).astype(int)\n",
    "\n",
    "    return binary_feat_data\n"
   ]
  },
  {
   "attachments": {},
   "cell_type": "markdown",
   "metadata": {},
   "source": [
    "### Option 2: Small numeric value [CHOSE THIS ONE]\n",
    "Although all of these zip codes are expensive and desirable, some are more expensive than others, which is a relationship we might want to have present in our data. So, another way to represent that a property belongs to a certain zip code, while taking into account the median home price of that zip code in 2016, we can multiply the binary variable by a small number which represents the median home price. For example, if a home is in Beverly Hills (90210), instead of the having 'in_90210' = 1, we can have 'in_90210' = 3.885."
   ]
  },
  {
   "cell_type": "code",
   "execution_count": 2,
   "metadata": {},
   "outputs": [],
   "source": [
    "\n",
    "def numeric_location_importance(binary_feat_data):\n",
    "    numeric_feat_data = binary_feat_data\n",
    "\n",
    "    # create binary feature for each zip code\n",
    "    numeric_feat_data['in_90210'] = binary_feat_data['in_90210']*3.885\n",
    "    numeric_feat_data['in_90402'] = binary_feat_data['in_90402']*3.28\n",
    "    numeric_feat_data['in_90272'] = binary_feat_data['in_90272']*3.11\n",
    "    numeric_feat_data['in_90077'] = binary_feat_data['in_90077']*2.86\n",
    "    numeric_feat_data['in_90266'] = binary_feat_data['in_90266']*2.75\n",
    "    numeric_feat_data['in_90291'] = binary_feat_data['in_90291']*2.44\n",
    "    numeric_feat_data['in_90254'] = binary_feat_data['in_90254']*2.275\n",
    "    numeric_feat_data['in_90275'] = binary_feat_data['in_90275']*2.1625\n",
    "\n",
    "    numeric_feat_data['in_92657'] = binary_feat_data['in_92657']*4\n",
    "    numeric_feat_data['in_92662'] = binary_feat_data['in_92662']*3.6\n",
    "    numeric_feat_data['in_92661'] = binary_feat_data['in_92661']*3.3\n",
    "    numeric_feat_data['in_92625'] = binary_feat_data['in_92625']*2.7\n",
    "    numeric_feat_data['in_92651'] = binary_feat_data['in_92651']*2.5\n",
    "    numeric_feat_data['in_92660'] = binary_feat_data['in_92660']*2.07\n",
    "\n",
    "    return numeric_feat_data\n"
   ]
  },
  {
   "cell_type": "code",
   "execution_count": null,
   "metadata": {},
   "outputs": [],
   "source": [
    "train_data_step1 = binary_location_importance(train_data)\n",
    "train_data_final = numeric_location_importance(train_data_step1)\n",
    "\n",
    "test_data_step1 = binary_location_importance(test_data)\n",
    "test_data_final = numeric_location_importance(test_data_step1)\n",
    "\n",
    "# export updated test and train files\n",
    "train_data_final.to_csv('/Users/laurenflemmer/Desktop/train_data.csv')\n",
    "test_data_final.to_csv('/Users/laurenflemmer/Desktop/test_data.csv')"
   ]
  }
 ],
 "metadata": {
  "kernelspec": {
   "display_name": "Python 3",
   "language": "python",
   "name": "python3"
  },
  "language_info": {
   "codemirror_mode": {
    "name": "ipython",
    "version": 3
   },
   "file_extension": ".py",
   "mimetype": "text/x-python",
   "name": "python",
   "nbconvert_exporter": "python",
   "pygments_lexer": "ipython3",
   "version": "3.8.9"
  },
  "orig_nbformat": 4
 },
 "nbformat": 4,
 "nbformat_minor": 2
}
