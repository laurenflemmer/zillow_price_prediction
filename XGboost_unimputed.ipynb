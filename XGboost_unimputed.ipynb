{
 "cells": [
  {
   "cell_type": "markdown",
   "id": "bc4df4d2-c4fd-4d4b-95da-f6bdb6f71f81",
   "metadata": {
    "tags": [],
    "user_expressions": []
   },
   "source": [
    "## Try XGboost for the unimputed data"
   ]
  },
  {
   "cell_type": "code",
   "execution_count": 136,
   "id": "2161fa22-056b-4ce6-b177-b0c8a050e520",
   "metadata": {
    "tags": []
   },
   "outputs": [],
   "source": [
    "import pandas as pd\n",
    "import numpy as np\n",
    "import matplotlib.pyplot as plt\n",
    "import seaborn as sns\n",
    "import warnings\n",
    "warnings.simplefilter(action='ignore', category=FutureWarning)"
   ]
  },
  {
   "cell_type": "code",
   "execution_count": 2,
   "id": "61a3ccc2-31a1-48ba-bf85-4fe053265baa",
   "metadata": {
    "tags": []
   },
   "outputs": [
    {
     "data": {
      "text/plain": [
       "0"
      ]
     },
     "execution_count": 2,
     "metadata": {},
     "output_type": "execute_result"
    }
   ],
   "source": [
    "import gc\n",
    "gc.collect()"
   ]
  },
  {
   "cell_type": "code",
   "execution_count": 3,
   "id": "927bb376-9a19-4f87-8eea-0ed9445ec0b0",
   "metadata": {
    "tags": []
   },
   "outputs": [],
   "source": [
    "df = pd.read_csv('/accounts/grad/huz4/Desktop/STAT222/full_data.csv')"
   ]
  },
  {
   "cell_type": "markdown",
   "id": "6f9e1772-8739-466f-af68-bbfb33f39ccb",
   "metadata": {
    "tags": [],
    "user_expressions": []
   },
   "source": [
    "### Preprocessing data"
   ]
  },
  {
   "cell_type": "code",
   "execution_count": 4,
   "id": "697f7774-69df-4b3b-9165-4f6e4afe775e",
   "metadata": {
    "tags": []
   },
   "outputs": [],
   "source": [
    "X = df.drop(['taxvaluedollarcnt'], axis =1)\n",
    "Y = df['taxvaluedollarcnt']"
   ]
  },
  {
   "cell_type": "code",
   "execution_count": 5,
   "id": "e467cf86-acc9-4888-bf63-064280bdb638",
   "metadata": {
    "tags": []
   },
   "outputs": [],
   "source": [
    "drop_feat = [\"finishedsquarefeet13\", \"finishedsquarefeet15\", \"finishedfloor1squarefeet\", \"finishedsquarefeet50\",\n",
    "             \"storytypeid\", \"architecturalstyletypeid\", \"buildingclasstypeid\", \"typeconstructiontypeid\", \"finishedsquarefeet6\",\n",
    "             \"pooltypeid10\", \"pooltypeid7\", \"hashottuborspa\", \"fireplaceflag\", \"threequarterbathnbr\", \"calculatedbathnbr\",\n",
    "             \"fullbathcnt\", \"numberofstories\", \"rawcensustractandblock\", \"censustractandblock\",\n",
    "             \"finishedsquarefeet12\", \"assessmentyear\", \"roomcnt\", \"structuretaxvaluedollarcnt\",\"landtaxvaluedollarcnt\",\n",
    "             \"propertyzoningdesc\", \"regionidneighborhood\", \"regionidzip\", \"taxdelinquencyyear\",\"taxamount\",\n",
    "             \"propertycountylandusecode\", \"regionidcity\", \"parcelid\", \"basementsqft\", \"yardbuildingsqft26\", \"latitude\", \"longitude\",\n",
    "             \"taxdelinquencyflag\"\n",
    "            ]"
   ]
  },
  {
   "cell_type": "code",
   "execution_count": 6,
   "id": "26b4549a-82d3-4bce-9f06-d42c93cf4b98",
   "metadata": {
    "tags": []
   },
   "outputs": [],
   "source": [
    "X = X.drop(columns = drop_feat, axis =1)"
   ]
  },
  {
   "cell_type": "code",
   "execution_count": 7,
   "id": "e0106bc8-de83-4347-8d34-3997ba5f4db3",
   "metadata": {
    "tags": []
   },
   "outputs": [
    {
     "data": {
      "text/plain": [
       "22"
      ]
     },
     "execution_count": 7,
     "metadata": {},
     "output_type": "execute_result"
    }
   ],
   "source": [
    "len(list(X.columns))"
   ]
  },
  {
   "cell_type": "code",
   "execution_count": 8,
   "id": "4c615527-5ec6-45a6-a11f-cd4d250db6e7",
   "metadata": {
    "tags": []
   },
   "outputs": [],
   "source": [
    "convert_to_int = [\"yearbuilt\"] \n",
    "convert_to_category= [\"airconditioningtypeid\", \n",
    "                    \"heatingorsystemtypeid\", \n",
    "                    \"fips\", \n",
    "                    \"propertylandusetypeid\", \n",
    "                    \"regionidcounty\", \n",
    "                    \"pooltypeid2\", \n",
    "                    \"decktypeid\"] \n",
    "convert_to_float= [\"bathroomcnt\", \n",
    "                   \"bedroomcnt\", \n",
    "                   \"buildingqualitytypeid\", \n",
    "                   \"calculatedfinishedsquarefeet\",\n",
    "                  \"fireplacecnt\", \n",
    "                   \"garagecarcnt\", \n",
    "                   \"garagetotalsqft\",\n",
    "                   \"dist_to_dtla\", \n",
    "                   \"dist_to_ocean\", \n",
    "                   \"lotsizesquarefeet\", \n",
    "                   \"poolcnt\",\n",
    "                  \"poolsizesum\", \n",
    "                   \"unitcnt\", \n",
    "                   \"yardbuildingsqft17\"]"
   ]
  },
  {
   "cell_type": "code",
   "execution_count": 9,
   "id": "60de3cdc-62a1-41af-869c-14cee8b24cfc",
   "metadata": {
    "tags": []
   },
   "outputs": [
    {
     "name": "stdout",
     "output_type": "stream",
     "text": [
      "<class 'pandas.core.frame.DataFrame'>\n",
      "RangeIndex: 2980943 entries, 0 to 2980942\n",
      "Data columns (total 22 columns):\n",
      " #   Column                        Dtype   \n",
      "---  ------                        -----   \n",
      " 0   airconditioningtypeid         category\n",
      " 1   bathroomcnt                   float64 \n",
      " 2   bedroomcnt                    float64 \n",
      " 3   buildingqualitytypeid         float64 \n",
      " 4   decktypeid                    category\n",
      " 5   calculatedfinishedsquarefeet  float64 \n",
      " 6   fips                          category\n",
      " 7   fireplacecnt                  float64 \n",
      " 8   garagecarcnt                  float64 \n",
      " 9   garagetotalsqft               float64 \n",
      " 10  heatingorsystemtypeid         category\n",
      " 11  lotsizesquarefeet             float64 \n",
      " 12  poolcnt                       float64 \n",
      " 13  poolsizesum                   float64 \n",
      " 14  pooltypeid2                   category\n",
      " 15  propertylandusetypeid         category\n",
      " 16  regionidcounty                category\n",
      " 17  unitcnt                       float64 \n",
      " 18  yardbuildingsqft17            float64 \n",
      " 19  yearbuilt                     float64 \n",
      " 20  dist_to_dtla                  float64 \n",
      " 21  dist_to_ocean                 float64 \n",
      "dtypes: category(7), float64(15)\n",
      "memory usage: 361.0 MB\n"
     ]
    }
   ],
   "source": [
    "for var in convert_to_category: \n",
    "    X[var] = X[var].astype('category')\n",
    "\n",
    "for var in convert_to_float:\n",
    "    X[var] = X[var].astype(\"float\")\n",
    "    \n",
    "X.info(verbose=True)"
   ]
  },
  {
   "cell_type": "code",
   "execution_count": 10,
   "id": "17f0bffa-e6fe-4e05-a357-85df3a0d57be",
   "metadata": {
    "tags": []
   },
   "outputs": [
    {
     "data": {
      "text/html": [
       "<div>\n",
       "<style scoped>\n",
       "    .dataframe tbody tr th:only-of-type {\n",
       "        vertical-align: middle;\n",
       "    }\n",
       "\n",
       "    .dataframe tbody tr th {\n",
       "        vertical-align: top;\n",
       "    }\n",
       "\n",
       "    .dataframe thead th {\n",
       "        text-align: right;\n",
       "    }\n",
       "</style>\n",
       "<table border=\"1\" class=\"dataframe\">\n",
       "  <thead>\n",
       "    <tr style=\"text-align: right;\">\n",
       "      <th></th>\n",
       "      <th>airconditioningtypeid</th>\n",
       "      <th>bathroomcnt</th>\n",
       "      <th>bedroomcnt</th>\n",
       "      <th>buildingqualitytypeid</th>\n",
       "      <th>decktypeid</th>\n",
       "      <th>calculatedfinishedsquarefeet</th>\n",
       "      <th>fips</th>\n",
       "      <th>fireplacecnt</th>\n",
       "      <th>garagecarcnt</th>\n",
       "      <th>garagetotalsqft</th>\n",
       "      <th>...</th>\n",
       "      <th>poolsizesum</th>\n",
       "      <th>pooltypeid2</th>\n",
       "      <th>propertylandusetypeid</th>\n",
       "      <th>regionidcounty</th>\n",
       "      <th>unitcnt</th>\n",
       "      <th>yardbuildingsqft17</th>\n",
       "      <th>yearbuilt</th>\n",
       "      <th>dist_to_dtla</th>\n",
       "      <th>dist_to_ocean</th>\n",
       "      <th>price</th>\n",
       "    </tr>\n",
       "  </thead>\n",
       "  <tbody>\n",
       "    <tr>\n",
       "      <th>0</th>\n",
       "      <td>NaN</td>\n",
       "      <td>0.0</td>\n",
       "      <td>0.0</td>\n",
       "      <td>NaN</td>\n",
       "      <td>NaN</td>\n",
       "      <td>NaN</td>\n",
       "      <td>6037.0</td>\n",
       "      <td>NaN</td>\n",
       "      <td>NaN</td>\n",
       "      <td>NaN</td>\n",
       "      <td>...</td>\n",
       "      <td>NaN</td>\n",
       "      <td>NaN</td>\n",
       "      <td>269.0</td>\n",
       "      <td>3101.0</td>\n",
       "      <td>NaN</td>\n",
       "      <td>NaN</td>\n",
       "      <td>NaN</td>\n",
       "      <td>23.946820</td>\n",
       "      <td>31.192136</td>\n",
       "      <td>9.0</td>\n",
       "    </tr>\n",
       "    <tr>\n",
       "      <th>1</th>\n",
       "      <td>NaN</td>\n",
       "      <td>0.0</td>\n",
       "      <td>0.0</td>\n",
       "      <td>NaN</td>\n",
       "      <td>NaN</td>\n",
       "      <td>NaN</td>\n",
       "      <td>6037.0</td>\n",
       "      <td>NaN</td>\n",
       "      <td>NaN</td>\n",
       "      <td>NaN</td>\n",
       "      <td>...</td>\n",
       "      <td>NaN</td>\n",
       "      <td>NaN</td>\n",
       "      <td>261.0</td>\n",
       "      <td>3101.0</td>\n",
       "      <td>NaN</td>\n",
       "      <td>NaN</td>\n",
       "      <td>NaN</td>\n",
       "      <td>22.292166</td>\n",
       "      <td>32.836755</td>\n",
       "      <td>27516.0</td>\n",
       "    </tr>\n",
       "    <tr>\n",
       "      <th>2</th>\n",
       "      <td>NaN</td>\n",
       "      <td>0.0</td>\n",
       "      <td>0.0</td>\n",
       "      <td>NaN</td>\n",
       "      <td>NaN</td>\n",
       "      <td>73026.0</td>\n",
       "      <td>6037.0</td>\n",
       "      <td>NaN</td>\n",
       "      <td>NaN</td>\n",
       "      <td>NaN</td>\n",
       "      <td>...</td>\n",
       "      <td>NaN</td>\n",
       "      <td>NaN</td>\n",
       "      <td>47.0</td>\n",
       "      <td>3101.0</td>\n",
       "      <td>2.0</td>\n",
       "      <td>NaN</td>\n",
       "      <td>1959.0</td>\n",
       "      <td>9.152931</td>\n",
       "      <td>4.340954</td>\n",
       "      <td>1434941.0</td>\n",
       "    </tr>\n",
       "    <tr>\n",
       "      <th>3</th>\n",
       "      <td>NaN</td>\n",
       "      <td>0.0</td>\n",
       "      <td>0.0</td>\n",
       "      <td>6.0</td>\n",
       "      <td>NaN</td>\n",
       "      <td>5068.0</td>\n",
       "      <td>6037.0</td>\n",
       "      <td>NaN</td>\n",
       "      <td>NaN</td>\n",
       "      <td>NaN</td>\n",
       "      <td>...</td>\n",
       "      <td>NaN</td>\n",
       "      <td>NaN</td>\n",
       "      <td>47.0</td>\n",
       "      <td>3101.0</td>\n",
       "      <td>NaN</td>\n",
       "      <td>NaN</td>\n",
       "      <td>1948.0</td>\n",
       "      <td>12.661995</td>\n",
       "      <td>43.593469</td>\n",
       "      <td>1174475.0</td>\n",
       "    </tr>\n",
       "    <tr>\n",
       "      <th>4</th>\n",
       "      <td>NaN</td>\n",
       "      <td>0.0</td>\n",
       "      <td>0.0</td>\n",
       "      <td>NaN</td>\n",
       "      <td>NaN</td>\n",
       "      <td>1776.0</td>\n",
       "      <td>6037.0</td>\n",
       "      <td>NaN</td>\n",
       "      <td>NaN</td>\n",
       "      <td>NaN</td>\n",
       "      <td>...</td>\n",
       "      <td>NaN</td>\n",
       "      <td>NaN</td>\n",
       "      <td>31.0</td>\n",
       "      <td>3101.0</td>\n",
       "      <td>1.0</td>\n",
       "      <td>NaN</td>\n",
       "      <td>1947.0</td>\n",
       "      <td>12.634968</td>\n",
       "      <td>50.087402</td>\n",
       "      <td>440101.0</td>\n",
       "    </tr>\n",
       "    <tr>\n",
       "      <th>5</th>\n",
       "      <td>NaN</td>\n",
       "      <td>0.0</td>\n",
       "      <td>0.0</td>\n",
       "      <td>4.0</td>\n",
       "      <td>NaN</td>\n",
       "      <td>2400.0</td>\n",
       "      <td>6037.0</td>\n",
       "      <td>NaN</td>\n",
       "      <td>NaN</td>\n",
       "      <td>NaN</td>\n",
       "      <td>...</td>\n",
       "      <td>NaN</td>\n",
       "      <td>NaN</td>\n",
       "      <td>31.0</td>\n",
       "      <td>3101.0</td>\n",
       "      <td>NaN</td>\n",
       "      <td>NaN</td>\n",
       "      <td>1943.0</td>\n",
       "      <td>11.263157</td>\n",
       "      <td>46.842204</td>\n",
       "      <td>287634.0</td>\n",
       "    </tr>\n",
       "    <tr>\n",
       "      <th>6</th>\n",
       "      <td>NaN</td>\n",
       "      <td>0.0</td>\n",
       "      <td>0.0</td>\n",
       "      <td>NaN</td>\n",
       "      <td>NaN</td>\n",
       "      <td>NaN</td>\n",
       "      <td>6037.0</td>\n",
       "      <td>NaN</td>\n",
       "      <td>NaN</td>\n",
       "      <td>NaN</td>\n",
       "      <td>...</td>\n",
       "      <td>NaN</td>\n",
       "      <td>NaN</td>\n",
       "      <td>260.0</td>\n",
       "      <td>3101.0</td>\n",
       "      <td>NaN</td>\n",
       "      <td>NaN</td>\n",
       "      <td>NaN</td>\n",
       "      <td>8.094312</td>\n",
       "      <td>48.508329</td>\n",
       "      <td>563029.0</td>\n",
       "    </tr>\n",
       "    <tr>\n",
       "      <th>7</th>\n",
       "      <td>NaN</td>\n",
       "      <td>0.0</td>\n",
       "      <td>0.0</td>\n",
       "      <td>NaN</td>\n",
       "      <td>NaN</td>\n",
       "      <td>3611.0</td>\n",
       "      <td>6037.0</td>\n",
       "      <td>NaN</td>\n",
       "      <td>NaN</td>\n",
       "      <td>NaN</td>\n",
       "      <td>...</td>\n",
       "      <td>NaN</td>\n",
       "      <td>NaN</td>\n",
       "      <td>31.0</td>\n",
       "      <td>3101.0</td>\n",
       "      <td>NaN</td>\n",
       "      <td>NaN</td>\n",
       "      <td>1946.0</td>\n",
       "      <td>9.204413</td>\n",
       "      <td>50.612104</td>\n",
       "      <td>698984.0</td>\n",
       "    </tr>\n",
       "    <tr>\n",
       "      <th>8</th>\n",
       "      <td>NaN</td>\n",
       "      <td>0.0</td>\n",
       "      <td>0.0</td>\n",
       "      <td>NaN</td>\n",
       "      <td>NaN</td>\n",
       "      <td>NaN</td>\n",
       "      <td>6037.0</td>\n",
       "      <td>NaN</td>\n",
       "      <td>NaN</td>\n",
       "      <td>NaN</td>\n",
       "      <td>...</td>\n",
       "      <td>NaN</td>\n",
       "      <td>NaN</td>\n",
       "      <td>269.0</td>\n",
       "      <td>3101.0</td>\n",
       "      <td>NaN</td>\n",
       "      <td>NaN</td>\n",
       "      <td>NaN</td>\n",
       "      <td>12.557375</td>\n",
       "      <td>53.161581</td>\n",
       "      <td>9.0</td>\n",
       "    </tr>\n",
       "    <tr>\n",
       "      <th>9</th>\n",
       "      <td>NaN</td>\n",
       "      <td>0.0</td>\n",
       "      <td>0.0</td>\n",
       "      <td>4.0</td>\n",
       "      <td>NaN</td>\n",
       "      <td>3754.0</td>\n",
       "      <td>6037.0</td>\n",
       "      <td>NaN</td>\n",
       "      <td>NaN</td>\n",
       "      <td>NaN</td>\n",
       "      <td>...</td>\n",
       "      <td>NaN</td>\n",
       "      <td>NaN</td>\n",
       "      <td>31.0</td>\n",
       "      <td>3101.0</td>\n",
       "      <td>NaN</td>\n",
       "      <td>NaN</td>\n",
       "      <td>1978.0</td>\n",
       "      <td>19.581543</td>\n",
       "      <td>48.384518</td>\n",
       "      <td>265184.0</td>\n",
       "    </tr>\n",
       "  </tbody>\n",
       "</table>\n",
       "<p>10 rows × 23 columns</p>\n",
       "</div>"
      ],
      "text/plain": [
       "  airconditioningtypeid  bathroomcnt  bedroomcnt  buildingqualitytypeid   \n",
       "0                   NaN          0.0         0.0                    NaN  \\\n",
       "1                   NaN          0.0         0.0                    NaN   \n",
       "2                   NaN          0.0         0.0                    NaN   \n",
       "3                   NaN          0.0         0.0                    6.0   \n",
       "4                   NaN          0.0         0.0                    NaN   \n",
       "5                   NaN          0.0         0.0                    4.0   \n",
       "6                   NaN          0.0         0.0                    NaN   \n",
       "7                   NaN          0.0         0.0                    NaN   \n",
       "8                   NaN          0.0         0.0                    NaN   \n",
       "9                   NaN          0.0         0.0                    4.0   \n",
       "\n",
       "  decktypeid  calculatedfinishedsquarefeet    fips  fireplacecnt   \n",
       "0        NaN                           NaN  6037.0           NaN  \\\n",
       "1        NaN                           NaN  6037.0           NaN   \n",
       "2        NaN                       73026.0  6037.0           NaN   \n",
       "3        NaN                        5068.0  6037.0           NaN   \n",
       "4        NaN                        1776.0  6037.0           NaN   \n",
       "5        NaN                        2400.0  6037.0           NaN   \n",
       "6        NaN                           NaN  6037.0           NaN   \n",
       "7        NaN                        3611.0  6037.0           NaN   \n",
       "8        NaN                           NaN  6037.0           NaN   \n",
       "9        NaN                        3754.0  6037.0           NaN   \n",
       "\n",
       "   garagecarcnt  garagetotalsqft  ... poolsizesum  pooltypeid2   \n",
       "0           NaN              NaN  ...         NaN          NaN  \\\n",
       "1           NaN              NaN  ...         NaN          NaN   \n",
       "2           NaN              NaN  ...         NaN          NaN   \n",
       "3           NaN              NaN  ...         NaN          NaN   \n",
       "4           NaN              NaN  ...         NaN          NaN   \n",
       "5           NaN              NaN  ...         NaN          NaN   \n",
       "6           NaN              NaN  ...         NaN          NaN   \n",
       "7           NaN              NaN  ...         NaN          NaN   \n",
       "8           NaN              NaN  ...         NaN          NaN   \n",
       "9           NaN              NaN  ...         NaN          NaN   \n",
       "\n",
       "   propertylandusetypeid  regionidcounty unitcnt yardbuildingsqft17 yearbuilt   \n",
       "0                  269.0          3101.0     NaN                NaN       NaN  \\\n",
       "1                  261.0          3101.0     NaN                NaN       NaN   \n",
       "2                   47.0          3101.0     2.0                NaN    1959.0   \n",
       "3                   47.0          3101.0     NaN                NaN    1948.0   \n",
       "4                   31.0          3101.0     1.0                NaN    1947.0   \n",
       "5                   31.0          3101.0     NaN                NaN    1943.0   \n",
       "6                  260.0          3101.0     NaN                NaN       NaN   \n",
       "7                   31.0          3101.0     NaN                NaN    1946.0   \n",
       "8                  269.0          3101.0     NaN                NaN       NaN   \n",
       "9                   31.0          3101.0     NaN                NaN    1978.0   \n",
       "\n",
       "   dist_to_dtla  dist_to_ocean      price  \n",
       "0     23.946820      31.192136        9.0  \n",
       "1     22.292166      32.836755    27516.0  \n",
       "2      9.152931       4.340954  1434941.0  \n",
       "3     12.661995      43.593469  1174475.0  \n",
       "4     12.634968      50.087402   440101.0  \n",
       "5     11.263157      46.842204   287634.0  \n",
       "6      8.094312      48.508329   563029.0  \n",
       "7      9.204413      50.612104   698984.0  \n",
       "8     12.557375      53.161581        9.0  \n",
       "9     19.581543      48.384518   265184.0  \n",
       "\n",
       "[10 rows x 23 columns]"
      ]
     },
     "execution_count": 10,
     "metadata": {},
     "output_type": "execute_result"
    }
   ],
   "source": [
    "X['price'] = Y\n",
    "processed_df = X\n",
    "processed_df.head(10)"
   ]
  },
  {
   "cell_type": "code",
   "execution_count": 11,
   "id": "6902ba27-ab85-4de8-9517-26a5d6e41d5c",
   "metadata": {
    "tags": []
   },
   "outputs": [
    {
     "data": {
      "text/plain": [
       "(2980943, 23)"
      ]
     },
     "execution_count": 11,
     "metadata": {},
     "output_type": "execute_result"
    }
   ],
   "source": [
    "processed_df.shape"
   ]
  },
  {
   "cell_type": "code",
   "execution_count": 12,
   "id": "b70bf1c7-e4ab-4241-990d-392e886dc8d9",
   "metadata": {
    "tags": []
   },
   "outputs": [],
   "source": [
    "for c, dtype in zip(processed_df.columns, processed_df.dtypes):\n",
    "    if dtype == np.float64:\n",
    "        processed_df[c] = processed_df[c].astype(np.float32)"
   ]
  },
  {
   "cell_type": "code",
   "execution_count": 13,
   "id": "fb05fe88-54e9-4ed4-9721-70643d6d9a06",
   "metadata": {
    "tags": []
   },
   "outputs": [],
   "source": [
    "processed_df.dropna(subset=['price'], inplace = True)"
   ]
  },
  {
   "cell_type": "code",
   "execution_count": 14,
   "id": "184b1f41-b62f-4b55-b944-de5ef93638b6",
   "metadata": {
    "tags": []
   },
   "outputs": [
    {
     "data": {
      "text/plain": [
       "0"
      ]
     },
     "execution_count": 14,
     "metadata": {},
     "output_type": "execute_result"
    }
   ],
   "source": [
    "sum(processed_df['price'].isna())"
   ]
  },
  {
   "cell_type": "markdown",
   "id": "a51d94c5-ebea-47ae-bd1d-a83fa7573158",
   "metadata": {
    "tags": [],
    "user_expressions": []
   },
   "source": [
    "### Train Test split for processed data"
   ]
  },
  {
   "cell_type": "code",
   "execution_count": 16,
   "id": "5a988e02-1998-4a42-9cec-fb1ed98e5012",
   "metadata": {
    "tags": []
   },
   "outputs": [],
   "source": [
    "# do a 80,20 split on data, set a seed\n",
    "import random\n",
    "random.seed(222)\n",
    "from sklearn.model_selection import train_test_split\n",
    "\n",
    "train_df, test_df = train_test_split(processed_df, test_size=0.2)\n",
    "X_train = train_df.drop(['price'], axis =1)\n",
    "Y_train = train_df['price']\n",
    "X_test = test_df.drop(['price'], axis =1)\n",
    "Y_test = test_df['price']"
   ]
  },
  {
   "cell_type": "code",
   "execution_count": 17,
   "id": "21ebecd8-6d54-4903-8ba4-f13752c8836d",
   "metadata": {
    "tags": []
   },
   "outputs": [
    {
     "name": "stdout",
     "output_type": "stream",
     "text": [
      "(2359694, 22)\n",
      "(2359694,)\n",
      "(589924, 22)\n",
      "(589924,)\n"
     ]
    }
   ],
   "source": [
    "print(X_train.shape)\n",
    "print(Y_train.shape)\n",
    "print(X_test.shape)\n",
    "print(Y_test.shape)"
   ]
  },
  {
   "cell_type": "code",
   "execution_count": 18,
   "id": "798dfadc-1940-40f8-9d20-96c414c6a1b5",
   "metadata": {
    "tags": []
   },
   "outputs": [
    {
     "data": {
      "text/plain": [
       "airconditioningtypeid           category\n",
       "bathroomcnt                      float32\n",
       "bedroomcnt                       float32\n",
       "buildingqualitytypeid            float32\n",
       "decktypeid                      category\n",
       "calculatedfinishedsquarefeet     float32\n",
       "fips                            category\n",
       "fireplacecnt                     float32\n",
       "garagecarcnt                     float32\n",
       "garagetotalsqft                  float32\n",
       "heatingorsystemtypeid           category\n",
       "lotsizesquarefeet                float32\n",
       "poolcnt                          float32\n",
       "poolsizesum                      float32\n",
       "pooltypeid2                     category\n",
       "propertylandusetypeid           category\n",
       "regionidcounty                  category\n",
       "unitcnt                          float32\n",
       "yardbuildingsqft17               float32\n",
       "yearbuilt                        float32\n",
       "dist_to_dtla                     float32\n",
       "dist_to_ocean                    float32\n",
       "dtype: object"
      ]
     },
     "execution_count": 18,
     "metadata": {},
     "output_type": "execute_result"
    }
   ],
   "source": [
    "X_train.dtypes"
   ]
  },
  {
   "cell_type": "code",
   "execution_count": 15,
   "id": "bcce3c66-e384-4747-8c0d-ec2c659049a1",
   "metadata": {
    "tags": []
   },
   "outputs": [],
   "source": [
    "from sklearn.metrics import mean_squared_error\n",
    "from sklearn.metrics import mean_absolute_error\n",
    "def get_eval_metrics(models, X, y_true): \n",
    "    \"\"\"\n",
    "    Calculates MAE (Mean Absoulate Error) and RMSE (Root Mean Squared Error) on the data set for input models. \n",
    "    `models`: list of fit models \n",
    "    \"\"\"\n",
    "    for model in models: \n",
    "        y_pred= model.predict(X)\n",
    "        rmse = mean_squared_error(y_true, y_pred, squared=False)\n",
    "        mae = mean_absolute_error(y_true, y_pred)\n",
    "        print(f\"Model: {model}\")\n",
    "        print(f\"MAE: {mae}, RMSE: {rmse}\")\n",
    "\n",
    "# Test usage of RMSE function\n",
    "# get_eval_metrics([lin_reg, ridge_reg, lasso_reg], X_prepared_val, y_val)\n",
    "\n",
    "#calculate average log error \n",
    "import math\n",
    "from statistics import mean\n",
    "def get_avg_log_error(model, x, y_true):\n",
    "    \"\"\"\n",
    "    Calculate average log error on the data set for imput models\n",
    "    log error = log(true price) - log(prediction)\n",
    "    \"\"\"\n",
    "    y_pred= model.predict(x)\n",
    "    avg_log_error = mean( np.log(y_true) - np.log(y_pred))\n",
    "    print(f\"Model: {model}\")\n",
    "    print(f\"log_error: {avg_log_error}\")"
   ]
  },
  {
   "cell_type": "markdown",
   "id": "a525cc46-4b43-4181-8c7e-4468474edf37",
   "metadata": {
    "tags": [],
    "user_expressions": []
   },
   "source": [
    "### fit XGboost with unimputed data"
   ]
  },
  {
   "cell_type": "code",
   "execution_count": 128,
   "id": "66ac6b17-0322-4d99-a2dd-a174fb2079ea",
   "metadata": {
    "tags": []
   },
   "outputs": [],
   "source": [
    "import xgboost as xgb\n",
    "from sklearn.model_selection import cross_val_score\n",
    "from sklearn.metrics import mean_squared_error, mean_absolute_error, make_scorer"
   ]
  },
  {
   "cell_type": "code",
   "execution_count": 129,
   "id": "42ed09fa-0cdd-4873-ac71-037619acf401",
   "metadata": {
    "tags": []
   },
   "outputs": [],
   "source": [
    "#set validation set for early stopping\n",
    "train, valid = train_test_split(train_df, test_size=0.2)\n",
    "\n",
    "X_train = train.drop(['price'], axis =1)\n",
    "Y_train = train['price']\n",
    "X_valid = valid.drop(['price'], axis =1)\n",
    "Y_valid = valid['price']"
   ]
  },
  {
   "cell_type": "code",
   "execution_count": 130,
   "id": "181bb52a-a976-4bff-8d29-ae5338ebb5cb",
   "metadata": {
    "tags": []
   },
   "outputs": [
    {
     "name": "stdout",
     "output_type": "stream",
     "text": [
      "(1887755, 22)\n",
      "(1887755,)\n"
     ]
    }
   ],
   "source": [
    "print(X_train.shape)\n",
    "print(Y_train.shape)"
   ]
  },
  {
   "cell_type": "code",
   "execution_count": 145,
   "id": "093a1138-f864-4e43-9006-92e567cba200",
   "metadata": {
    "tags": []
   },
   "outputs": [
    {
     "name": "stdout",
     "output_type": "stream",
     "text": [
      "Training ...\n",
      "[20:50:14] WARNING: ../src/objective/regression_obj.cu:213: reg:linear is now deprecated in favor of reg:squarederror.\n",
      "[20:50:15] WARNING: ../src/learner.cc:767: \n",
      "Parameters: { \"silent\" } are not used.\n",
      "\n",
      "[0]\ttrain-mae:319962.07153\tvalid-mae:320628.57489\n",
      "[50]\ttrain-mae:172774.31272\tvalid-mae:182015.58552\n",
      "[100]\ttrain-mae:166966.91521\tvalid-mae:180783.19854\n",
      "[150]\ttrain-mae:163242.25870\tvalid-mae:180170.23475\n",
      "[167]\ttrain-mae:161880.31008\tvalid-mae:180052.99424\n",
      "Done!\n"
     ]
    }
   ],
   "source": [
    "# fit xgboost\n",
    "\n",
    "d_train = xgb.DMatrix(X_train, label=Y_train, enable_categorical=True)\n",
    "d_valid = xgb.DMatrix(X_valid, label=Y_valid, enable_categorical=True)\n",
    "\n",
    "\n",
    "print('Training ...')\n",
    "\n",
    "params = {}\n",
    "params['eta'] = 0.3\n",
    "params['objective'] = 'reg:linear'\n",
    "params['eval_metric'] = 'mae'\n",
    "params['max_depth'] = 9\n",
    "params['silent'] = 1\n",
    "\n",
    "watchlist = [(d_train, 'train'), (d_valid, 'valid')]\n",
    "clf = xgb.train(params, d_train, 10000, watchlist, early_stopping_rounds=10, verbose_eval=50)\n",
    "\n",
    "\n",
    "\n",
    "d_test = xgb.DMatrix(X_test, enable_categorical=True)\n",
    "\n",
    "print('Done!')"
   ]
  },
  {
   "cell_type": "code",
   "execution_count": 152,
   "id": "d14cac55-7407-42a0-a604-fc0bef199c42",
   "metadata": {},
   "outputs": [
    {
     "name": "stdout",
     "output_type": "stream",
     "text": [
      "Model: <xgboost.core.Booster object at 0x7f5993bc7430>\n",
      "MAE: 161812.84375, RMSE: 287877.46875\n"
     ]
    }
   ],
   "source": [
    "# training set error\n",
    "get_eval_metrics([clf], d_train, Y_train)"
   ]
  },
  {
   "cell_type": "code",
   "execution_count": 153,
   "id": "90f869d0-598f-45c0-aa54-6e2997c5bc80",
   "metadata": {
    "tags": []
   },
   "outputs": [
    {
     "name": "stdout",
     "output_type": "stream",
     "text": [
      "mean log error 0.15373242875705392\n"
     ]
    }
   ],
   "source": [
    "# training set log error\n",
    "def replace_negative_with_one(lst):\n",
    "    return [max(1, num) for num in lst]\n",
    "d_train = xgb.DMatrix(X_train, enable_categorical=True)\n",
    "p_train = clf.predict(d_train)\n",
    "p_train = replace_negative_with_one(p_train)\n",
    "import math\n",
    "logerror = np.log(p_train) - np.log(Y_train)\n",
    "print('mean log error', np.mean(logerror))"
   ]
  },
  {
   "cell_type": "code",
   "execution_count": 154,
   "id": "6faecd54-dd62-4aa3-90f7-703231749bbc",
   "metadata": {
    "tags": []
   },
   "outputs": [
    {
     "name": "stdout",
     "output_type": "stream",
     "text": [
      "Model: <xgboost.core.Booster object at 0x7f5993bc7430>\n",
      "MAE: 179039.203125, RMSE: 532766.875\n"
     ]
    }
   ],
   "source": [
    "# testing set error\n",
    "get_eval_metrics([clf], d_test, Y_test)"
   ]
  },
  {
   "cell_type": "code",
   "execution_count": 150,
   "id": "48c6932b-9fcf-4e60-9467-c1cc937f4e42",
   "metadata": {
    "tags": []
   },
   "outputs": [
    {
     "name": "stdout",
     "output_type": "stream",
     "text": [
      "mean log error 0.15364209590195155\n"
     ]
    }
   ],
   "source": [
    "# testing set log error\n",
    "d_test = xgb.DMatrix(X_test, enable_categorical=True)\n",
    "p_test = clf.predict(d_test)\n",
    "p_test = replace_negative_with_one(p_test)\n",
    "import math\n",
    "logerror = np.log(p_test) - np.log(Y_test)\n",
    "print('mean log error', np.mean(logerror))"
   ]
  },
  {
   "cell_type": "code",
   "execution_count": 151,
   "id": "cb83cc1f-c5a3-4f90-9745-6b1445991f5a",
   "metadata": {
    "tags": []
   },
   "outputs": [
    {
     "data": {
      "text/plain": [
       "<AxesSubplot:title={'center':'Feature importance'}, xlabel='F score', ylabel='Features'>"
      ]
     },
     "execution_count": 151,
     "metadata": {},
     "output_type": "execute_result"
    },
    {
     "data": {
      "image/png": "[encoded data removed]",
      "text/plain": [
       "<Figure size 432x288 with 1 Axes>"
      ]
     },
     "metadata": {
      "needs_background": "light"
     },
     "output_type": "display_data"
    }
   ],
   "source": [
    "from xgboost import plot_importance\n",
    "plot_importance(clf, max_num_features = 15)"
   ]
  },
  {
   "cell_type": "markdown",
   "id": "68246684-0d15-42a0-9d54-26f6b7c581da",
   "metadata": {
    "tags": [],
    "user_expressions": []
   },
   "source": [
    "## lightGBM"
   ]
  },
  {
   "cell_type": "code",
   "execution_count": 22,
   "id": "71794a99-7114-4a89-8a0c-ab3312f99005",
   "metadata": {},
   "outputs": [],
   "source": [
    "import lightgbm as lgb"
   ]
  },
  {
   "cell_type": "code",
   "execution_count": 137,
   "id": "9b946b05-38eb-48c0-8355-8d9e7d7faa66",
   "metadata": {
    "tags": []
   },
   "outputs": [
    {
     "name": "stderr",
     "output_type": "stream",
     "text": [
      "/accounts/grad/huz4/.local/lib/python3.10/site-packages/lightgbm/engine.py:181: UserWarning: 'early_stopping_rounds' argument is deprecated and will be removed in a future release of LightGBM. Pass 'early_stopping()' callback via 'callbacks' argument instead.\n",
      "  _log_warning(\"'early_stopping_rounds' argument is deprecated and will be removed in a future release of LightGBM. \"\n",
      "/accounts/grad/huz4/.local/lib/python3.10/site-packages/lightgbm/engine.py:239: UserWarning: 'verbose_eval' argument is deprecated and will be removed in a future release of LightGBM. Pass 'log_evaluation()' callback via 'callbacks' argument instead.\n",
      "  _log_warning(\"'verbose_eval' argument is deprecated and will be removed in a future release of LightGBM. \"\n"
     ]
    },
    {
     "name": "stdout",
     "output_type": "stream",
     "text": [
      "[LightGBM] [Warning] Auto-choosing row-wise multi-threading, the overhead of testing was 0.214831 seconds.\n",
      "You can set `force_row_wise=true` to remove the overhead.\n",
      "And if memory is not enough, you can set `force_col_wise=true`.\n",
      "[LightGBM] [Info] Total Bins 2053\n",
      "[LightGBM] [Info] Number of data points in the train set: 1887755, number of used features: 22\n"
     ]
    },
    {
     "name": "stderr",
     "output_type": "stream",
     "text": [
      "/accounts/grad/huz4/.local/lib/python3.10/site-packages/lightgbm/basic.py:1780: UserWarning: Overriding the parameters from Reference Dataset.\n",
      "  _log_warning('Overriding the parameters from Reference Dataset.')\n",
      "/accounts/grad/huz4/.local/lib/python3.10/site-packages/lightgbm/basic.py:1513: UserWarning: categorical_column in param dict is overridden.\n",
      "  _log_warning(f'{cat_alias} in param dict is overridden.')\n"
     ]
    },
    {
     "name": "stdout",
     "output_type": "stream",
     "text": [
      "[LightGBM] [Info] Start training from score 443005.233897\n",
      "Training until validation scores don't improve for 10 rounds\n",
      "[50]\tvalid_0's l1: 202748\n",
      "[100]\tvalid_0's l1: 191556\n",
      "[150]\tvalid_0's l1: 188269\n",
      "[200]\tvalid_0's l1: 187016\n",
      "[250]\tvalid_0's l1: 186385\n",
      "[300]\tvalid_0's l1: 185860\n",
      "[350]\tvalid_0's l1: 185390\n",
      "[400]\tvalid_0's l1: 185164\n",
      "[450]\tvalid_0's l1: 184917\n",
      "[500]\tvalid_0's l1: 184660\n",
      "Did not meet early stopping. Best iteration is:\n",
      "[500]\tvalid_0's l1: 184660\n",
      "Predicting on test ...\n",
      "mean log error 0.1806403047764396\n",
      "Done!\n"
     ]
    },
    {
     "name": "stderr",
     "output_type": "stream",
     "text": [
      "/tmp/ipykernel_3975493/4107701984.py:24: RuntimeWarning: invalid value encountered in log\n",
      "  logerror = np.log(p_test) - np.log(Y_test)\n"
     ]
    }
   ],
   "source": [
    "import lightgbm as lgb\n",
    "d_train = lgb.Dataset(X_train, label=Y_train)\n",
    "d_valid = lgb.Dataset(X_valid, label=Y_valid)\n",
    "\n",
    "params = {}\n",
    "params['learning_rate'] = 0.03\n",
    "params['boosting_type'] = 'gbdt'\n",
    "params['objective'] = 'regression'\n",
    "params['metric'] = 'mae'\n",
    "params['sub_feature'] = 0.5\n",
    "params['num_leaves'] = 60\n",
    "params['min_data'] = 500\n",
    "params['min_hessian'] = 1\n",
    "\n",
    "watchlist = [d_valid]\n",
    "clf_lg = lgb.train(params, d_train, 500, watchlist,early_stopping_rounds=10, verbose_eval=50)\n"
   ]
  },
  {
   "cell_type": "code",
   "execution_count": 138,
   "id": "bf133817-a3f0-4667-a9e9-377426057343",
   "metadata": {
    "tags": []
   },
   "outputs": [
    {
     "name": "stdout",
     "output_type": "stream",
     "text": [
      "Model: <lightgbm.basic.Booster object at 0x7f599790ff10>\n",
      "MAE: 182663.5814151817, RMSE: 590384.13749887\n"
     ]
    }
   ],
   "source": [
    "# training set error\n",
    "get_eval_metrics([clf_lg], X_train, Y_train)"
   ]
  },
  {
   "cell_type": "code",
   "execution_count": 139,
   "id": "fc8cf1ab-aaac-4299-a4ad-64857ef53de0",
   "metadata": {
    "tags": []
   },
   "outputs": [
    {
     "name": "stdout",
     "output_type": "stream",
     "text": [
      "mean log error 0.15401763795051962\n"
     ]
    }
   ],
   "source": [
    "# training log error\n",
    "p_train = clf_lg.predict(X_train)\n",
    "p_train = replace_negative_with_one(p_train)\n",
    "import math\n",
    "logerror = np.log(p_train) - np.log(Y_train)\n",
    "print('mean log error', np.mean(logerror))"
   ]
  },
  {
   "cell_type": "code",
   "execution_count": 140,
   "id": "9d98e64e-24db-40b8-9245-3e470ce7c8d3",
   "metadata": {
    "tags": []
   },
   "outputs": [
    {
     "name": "stdout",
     "output_type": "stream",
     "text": [
      "Model: <lightgbm.basic.Booster object at 0x7f599790ff10>\n",
      "MAE: 184478.94691150624, RMSE: 699186.3887487471\n"
     ]
    }
   ],
   "source": [
    "# testing set error\n",
    "get_eval_metrics([clf_lg], X_test, Y_test)"
   ]
  },
  {
   "cell_type": "code",
   "execution_count": 143,
   "id": "cf1ba64f-40e6-4dc2-a755-6f73e678a320",
   "metadata": {
    "tags": []
   },
   "outputs": [
    {
     "name": "stdout",
     "output_type": "stream",
     "text": [
      "mean log error 0.2091178792565197\n"
     ]
    }
   ],
   "source": [
    "# testing log error\n",
    "p_test = clf_lg.predict(X_test_mul)\n",
    "p_test = replace_negative_with_one(p_test)\n",
    "import math\n",
    "logerror = np.log(p_test) - np.log(Y_test_mul)\n",
    "print('mean log error', np.mean(logerror))"
   ]
  },
  {
   "cell_type": "code",
   "execution_count": 144,
   "id": "d3aed1ba-50c0-45c0-aa15-b36c50578572",
   "metadata": {
    "tags": []
   },
   "outputs": [
    {
     "data": {
      "text/plain": [
       "<AxesSubplot:title={'center':'Feature importance'}, xlabel='Feature importance', ylabel='Features'>"
      ]
     },
     "execution_count": 144,
     "metadata": {},
     "output_type": "execute_result"
    },
    {
     "data": {
      "image/png": "[encoded data removed]",
      "text/plain": [
       "<Figure size 432x288 with 1 Axes>"
      ]
     },
     "metadata": {
      "needs_background": "light"
     },
     "output_type": "display_data"
    }
   ],
   "source": [
    "from lightgbm import plot_importance\n",
    "plot_importance(clf_lg, max_num_features = 15)"
   ]
  },
  {
   "cell_type": "markdown",
   "id": "c9763ce8-d2d7-424f-bb16-6b0ba902fb65",
   "metadata": {
    "tags": [],
    "user_expressions": []
   },
   "source": [
    "# Try models on splitted data set by housing types"
   ]
  },
  {
   "cell_type": "code",
   "execution_count": 19,
   "id": "5bee1896-7f81-455a-8f2d-01292d1fd3f5",
   "metadata": {},
   "outputs": [],
   "source": [
    "## seperate the single house, emptyland and appartment for EDA plots\n",
    "condominium = processed_df[(processed_df['propertylandusetypeid'] == 266)]\n",
    "\n",
    "# multi-unit-home includes duplex, triplex, quadruplex\n",
    "multi_unit_home = processed_df[(processed_df['propertylandusetypeid'] == 246) |\n",
    "                    (processed_df['propertylandusetypeid'] == 247) |\n",
    "                    (processed_df['propertylandusetypeid'] == 248)]\n",
    "                       \n",
    "single_family = processed_df[processed_df['propertylandusetypeid'] == 261]\n",
    "\n",
    "# Planned Unit Development (townhouse)\n",
    "townhouse = processed_df[processed_df['propertylandusetypeid'] == 269]\n",
    "\n",
    "mobile_home = processed_df[processed_df['propertylandusetypeid'] == 263]"
   ]
  },
  {
   "cell_type": "code",
   "execution_count": 20,
   "id": "1a080054-d8a6-4098-b18b-98d6eb0baa2e",
   "metadata": {
    "tags": []
   },
   "outputs": [],
   "source": [
    "# do a 80,20 split on each data, set a seed\n",
    "import random\n",
    "random.seed(222)\n",
    "from sklearn.model_selection import train_test_split\n",
    "\n",
    "train_con, test_con = train_test_split(condominium, test_size=0.2)\n",
    "train_mul, test_mul = train_test_split(multi_unit_home, test_size=0.2)\n",
    "train_sin, test_sin = train_test_split(single_family, test_size=0.2)\n",
    "train_town, test_town = train_test_split(townhouse, test_size=0.2)\n",
    "train_mob, test_mob = train_test_split(mobile_home, test_size=0.2)"
   ]
  },
  {
   "cell_type": "code",
   "execution_count": 21,
   "id": "61144608-36b8-4f23-bbd0-0e8b2e2718ab",
   "metadata": {
    "tags": []
   },
   "outputs": [],
   "source": [
    "#condo\n",
    "X_train_con = train_con.drop(['price'], axis =1)\n",
    "Y_train_con = train_con['price']\n",
    "X_test_con = test_con.drop(['price'], axis =1)\n",
    "Y_test_con = test_con['price']\n",
    "\n",
    "#multi_unit\n",
    "X_train_mul = train_mul.drop(['price'], axis =1)\n",
    "Y_train_mul = train_mul['price']\n",
    "X_test_mul = test_mul.drop(['price'], axis =1)\n",
    "Y_test_mul = test_mul['price']\n",
    "\n",
    "#single_family\n",
    "X_train_sin = train_sin.drop(['price'], axis =1)\n",
    "Y_train_sin = train_sin['price']\n",
    "X_test_sin = test_sin.drop(['price'], axis =1)\n",
    "Y_test_sin = test_sin['price']\n",
    "\n",
    "#townhouse\n",
    "X_train_town = train_town.drop(['price'], axis =1)\n",
    "Y_train_town = train_town['price']\n",
    "X_test_town = test_town.drop(['price'], axis =1)\n",
    "Y_test_town = test_town['price']\n",
    "\n",
    "#mobile_home\n",
    "X_train_mob = train_mob.drop(['price'], axis =1)\n",
    "Y_train_mob = train_mob['price']\n",
    "X_test_mob = test_mob.drop(['price'], axis =1)\n",
    "Y_test_mob = test_mob['price']"
   ]
  },
  {
   "cell_type": "code",
   "execution_count": 22,
   "id": "863ec505-27be-4a1d-bd6c-90f2d807d277",
   "metadata": {
    "tags": []
   },
   "outputs": [
    {
     "name": "stdout",
     "output_type": "stream",
     "text": [
      "(386736, 22)\n",
      "(386736,)\n",
      "(96684, 22)\n",
      "(96684,)\n"
     ]
    }
   ],
   "source": [
    "print(X_train_con.shape)\n",
    "print(Y_train_con.shape)\n",
    "print(X_test_con.shape)\n",
    "print(Y_test_con.shape)"
   ]
  },
  {
   "cell_type": "markdown",
   "id": "a9acf55f-14e6-48ba-952b-56a13cff8551",
   "metadata": {
    "tags": [],
    "user_expressions": []
   },
   "source": [
    "### Condo"
   ]
  },
  {
   "cell_type": "markdown",
   "id": "493faac9-1987-46d9-b8e5-06fa20be8e9f",
   "metadata": {
    "tags": [],
    "user_expressions": []
   },
   "source": [
    "### xgboost"
   ]
  },
  {
   "cell_type": "code",
   "execution_count": 23,
   "id": "a9862bf0-cded-4ce3-a92d-080583783f68",
   "metadata": {
    "tags": []
   },
   "outputs": [],
   "source": [
    "# do a 80,20 split on data for validation, set a seed\n",
    "import random\n",
    "random.seed(222)\n",
    "from sklearn.model_selection import train_test_split\n",
    "\n",
    "#set validation set for early stopping\n",
    "train_con, valid_con = train_test_split(train_con, test_size=0.2)\n",
    "\n",
    "X_train_con = train_con.drop(['price'], axis =1)\n",
    "Y_train_con = train_con['price']\n",
    "X_valid_con = valid_con.drop(['price'], axis =1)\n",
    "Y_valid_con = valid_con['price']"
   ]
  },
  {
   "cell_type": "code",
   "execution_count": 23,
   "id": "ccfd786b-4a57-4ff8-856e-6f0e526a9d6c",
   "metadata": {
    "tags": []
   },
   "outputs": [
    {
     "name": "stdout",
     "output_type": "stream",
     "text": [
      "Training ...\n",
      "[15:57:30] WARNING: ../src/objective/regression_obj.cu:213: reg:linear is now deprecated in favor of reg:squarederror.\n",
      "[15:57:30] WARNING: ../src/learner.cc:767: \n",
      "Parameters: { \"silent\" } are not used.\n",
      "\n",
      "[0]\ttrain-mae:258221.32563\tvalid-mae:258961.65237\n",
      "[50]\ttrain-mae:88901.94945\tvalid-mae:96341.56984\n",
      "[100]\ttrain-mae:84589.58604\tvalid-mae:95061.37512\n",
      "[150]\ttrain-mae:81612.75944\tvalid-mae:94190.35379\n",
      "[200]\ttrain-mae:79247.05578\tvalid-mae:93752.12259\n",
      "[242]\ttrain-mae:77663.95439\tvalid-mae:93625.76600\n",
      "Predicting on test ...\n",
      "mean log error 0.06482356\n",
      "Done!\n"
     ]
    },
    {
     "name": "stderr",
     "output_type": "stream",
     "text": [
      "/tmp/ipykernel_3974466/2840070794.py:29: RuntimeWarning: invalid value encountered in log\n",
      "  logerror = np.log(p_test) - np.log(Y_test_con)\n"
     ]
    }
   ],
   "source": [
    "# fit xgboost\n",
    "\n",
    "d_train = xgb.DMatrix(X_train_con, label=Y_train_con, enable_categorical=True)\n",
    "d_valid = xgb.DMatrix(X_valid_con, label=Y_valid_con, enable_categorical=True)\n",
    "\n",
    "\n",
    "print('Training ...')\n",
    "\n",
    "params = {}\n",
    "params['eta'] = 0.3\n",
    "params['objective'] = 'reg:linear'\n",
    "params['eval_metric'] = 'mae'\n",
    "params['max_depth'] = 9\n",
    "params['silent'] = 1\n",
    "\n",
    "watchlist = [(d_train, 'train'), (d_valid, 'valid')]\n",
    "clf_con = xgb.train(params, d_train, 10000, watchlist, early_stopping_rounds=10, verbose_eval=50)\n",
    "\n",
    "\n",
    "\n",
    "d_test = xgb.DMatrix(X_test_con, enable_categorical=True)\n",
    "\n",
    "print('Done!')"
   ]
  },
  {
   "cell_type": "code",
   "execution_count": 36,
   "id": "c9ff8f24-6679-468e-b4c1-ff907ab32ed5",
   "metadata": {
    "tags": []
   },
   "outputs": [
    {
     "name": "stdout",
     "output_type": "stream",
     "text": [
      "Model: <xgboost.core.Booster object at 0x7f07cf08d150>\n",
      "MAE: 77634.578125, RMSE: 113657.9765625\n"
     ]
    }
   ],
   "source": [
    "# training set error\n",
    "get_eval_metrics([clf_con], d_train, Y_train_con)"
   ]
  },
  {
   "cell_type": "code",
   "execution_count": 42,
   "id": "3bfce9b4-b731-441b-9e31-7baaa8c0d5f6",
   "metadata": {
    "tags": []
   },
   "outputs": [
    {
     "name": "stdout",
     "output_type": "stream",
     "text": [
      "mean log error 0.06087870383778639\n"
     ]
    }
   ],
   "source": [
    "# training set log error\n",
    "def replace_negative_with_one(lst):\n",
    "    return [max(1, num) for num in lst]\n",
    "d_train = xgb.DMatrix(X_train_con, enable_categorical=True)\n",
    "p_train = clf_con.predict(d_train)\n",
    "p_train = replace_negative_with_one(p_train)\n",
    "import math\n",
    "logerror = np.log(p_train) - np.log(Y_train_con)\n",
    "print('mean log error', np.mean(logerror))"
   ]
  },
  {
   "cell_type": "code",
   "execution_count": 46,
   "id": "5a69e801-4668-41ce-8a85-77a2a622cc47",
   "metadata": {
    "tags": []
   },
   "outputs": [
    {
     "name": "stdout",
     "output_type": "stream",
     "text": [
      "Model: <xgboost.core.Booster object at 0x7f07cf08d150>\n",
      "MAE: 77634.578125, RMSE: 113657.9765625\n"
     ]
    }
   ],
   "source": [
    "# testing set error\n",
    "get_eval_metrics([clf_con], d_test, Y_test_con)"
   ]
  },
  {
   "cell_type": "code",
   "execution_count": 47,
   "id": "c0aa84db-267b-4769-a491-fd5629077eaa",
   "metadata": {
    "tags": []
   },
   "outputs": [
    {
     "name": "stdout",
     "output_type": "stream",
     "text": [
      "mean log error 0.06258476782624285\n"
     ]
    }
   ],
   "source": [
    "d_test = xgb.DMatrix(X_test_con, enable_categorical=True)\n",
    "p_test = clf_con.predict(d_test)\n",
    "p_test = replace_negative_with_one(p_test)\n",
    "import math\n",
    "logerror = np.log(p_test) - np.log(Y_test_con)\n",
    "print('mean log error', np.mean(logerror))"
   ]
  },
  {
   "cell_type": "code",
   "execution_count": 48,
   "id": "1cae6686-68ab-4e7e-bfdf-22eedebc9c83",
   "metadata": {
    "tags": []
   },
   "outputs": [
    {
     "data": {
      "text/plain": [
       "<AxesSubplot:title={'center':'Feature importance'}, xlabel='F score', ylabel='Features'>"
      ]
     },
     "execution_count": 48,
     "metadata": {},
     "output_type": "execute_result"
    },
    {
     "data": {
      "image/png": "[encoded data removed]",
      "text/plain": [
       "<Figure size 432x288 with 1 Axes>"
      ]
     },
     "metadata": {
      "needs_background": "light"
     },
     "output_type": "display_data"
    }
   ],
   "source": [
    "from xgboost import plot_importance\n",
    "plot_importance(clf_con, max_num_features = 15)"
   ]
  },
  {
   "cell_type": "markdown",
   "id": "fb8548c0-8d08-46ce-9bed-2dbda05ac024",
   "metadata": {
    "tags": [],
    "user_expressions": []
   },
   "source": [
    "### LightGBM"
   ]
  },
  {
   "cell_type": "code",
   "execution_count": 156,
   "id": "b4d7d224-49f1-4072-85dd-36bceac6163a",
   "metadata": {
    "tags": []
   },
   "outputs": [
    {
     "name": "stderr",
     "output_type": "stream",
     "text": [
      "/accounts/grad/huz4/.local/lib/python3.10/site-packages/lightgbm/engine.py:181: UserWarning: 'early_stopping_rounds' argument is deprecated and will be removed in a future release of LightGBM. Pass 'early_stopping()' callback via 'callbacks' argument instead.\n",
      "  _log_warning(\"'early_stopping_rounds' argument is deprecated and will be removed in a future release of LightGBM. \"\n",
      "/accounts/grad/huz4/.local/lib/python3.10/site-packages/lightgbm/engine.py:239: UserWarning: 'verbose_eval' argument is deprecated and will be removed in a future release of LightGBM. Pass 'log_evaluation()' callback via 'callbacks' argument instead.\n",
      "  _log_warning(\"'verbose_eval' argument is deprecated and will be removed in a future release of LightGBM. \"\n"
     ]
    },
    {
     "name": "stdout",
     "output_type": "stream",
     "text": [
      "[LightGBM] [Warning] Auto-choosing row-wise multi-threading, the overhead of testing was 0.029057 seconds.\n",
      "You can set `force_row_wise=true` to remove the overhead.\n",
      "And if memory is not enough, you can set `force_col_wise=true`.\n",
      "[LightGBM] [Info] Total Bins 1383\n",
      "[LightGBM] [Info] Number of data points in the train set: 309388, number of used features: 19\n"
     ]
    },
    {
     "name": "stderr",
     "output_type": "stream",
     "text": [
      "/accounts/grad/huz4/.local/lib/python3.10/site-packages/lightgbm/basic.py:1780: UserWarning: Overriding the parameters from Reference Dataset.\n",
      "  _log_warning('Overriding the parameters from Reference Dataset.')\n",
      "/accounts/grad/huz4/.local/lib/python3.10/site-packages/lightgbm/basic.py:1513: UserWarning: categorical_column in param dict is overridden.\n",
      "  _log_warning(f'{cat_alias} in param dict is overridden.')\n"
     ]
    },
    {
     "name": "stdout",
     "output_type": "stream",
     "text": [
      "[LightGBM] [Info] Start training from score 366672.191164\n",
      "Training until validation scores don't improve for 10 rounds\n",
      "[50]\tvalid_0's l1: 118573\n",
      "[LightGBM] [Warning] No further splits with positive gain, best gain: -inf\n",
      "[100]\tvalid_0's l1: 108643\n",
      "[150]\tvalid_0's l1: 105748\n",
      "[200]\tvalid_0's l1: 104168\n",
      "[250]\tvalid_0's l1: 103296\n",
      "[300]\tvalid_0's l1: 102601\n",
      "[350]\tvalid_0's l1: 101968\n",
      "[400]\tvalid_0's l1: 101407\n",
      "[450]\tvalid_0's l1: 100972\n",
      "[500]\tvalid_0's l1: 100591\n",
      "Did not meet early stopping. Best iteration is:\n",
      "[500]\tvalid_0's l1: 100591\n",
      "Done!\n"
     ]
    }
   ],
   "source": [
    "import lightgbm as lgb\n",
    "d_train = lgb.Dataset(X_train_con, label=Y_train_con)\n",
    "d_valid = lgb.Dataset(X_valid_con, label=Y_valid_con)\n",
    "\n",
    "params = {}\n",
    "params['learning_rate'] = 0.03\n",
    "params['boosting_type'] = 'gbdt'\n",
    "params['objective'] = 'regression'\n",
    "params['metric'] = 'mae'\n",
    "params['sub_feature'] = 0.5\n",
    "params['num_leaves'] = 60\n",
    "params['min_data'] = 500\n",
    "params['min_hessian'] = 1\n",
    "\n",
    "watchlist = [d_valid]\n",
    "clf = lgb.train(params, d_train, 500, watchlist,early_stopping_rounds=10, verbose_eval=50)\n",
    "\n",
    "print('Done!')"
   ]
  },
  {
   "cell_type": "code",
   "execution_count": 157,
   "id": "cdcdab0a-0874-47a6-a829-c3af7089b58a",
   "metadata": {
    "tags": []
   },
   "outputs": [
    {
     "name": "stdout",
     "output_type": "stream",
     "text": [
      "Model: <lightgbm.basic.Booster object at 0x7f5976996aa0>\n",
      "MAE: 99428.91054005956, RMSE: 198551.77905453625\n"
     ]
    }
   ],
   "source": [
    "# training set error\n",
    "get_eval_metrics([clf], X_train_con, Y_train_con)"
   ]
  },
  {
   "cell_type": "code",
   "execution_count": 158,
   "id": "b9fea21c-d580-43fb-843b-9f1234837acc",
   "metadata": {
    "tags": []
   },
   "outputs": [
    {
     "name": "stdout",
     "output_type": "stream",
     "text": [
      "mean log error 0.08082968102020845\n"
     ]
    }
   ],
   "source": [
    "# training log error\n",
    "def replace_negative_with_one(lst):\n",
    "    return [max(1, num) for num in lst]\n",
    "\n",
    "p_train = clf.predict(X_train_con)\n",
    "p_train = replace_negative_with_one(p_train)\n",
    "import math\n",
    "logerror = np.log(p_train) - np.log(Y_train_con)\n",
    "print('mean log error', np.mean(logerror))"
   ]
  },
  {
   "cell_type": "code",
   "execution_count": 159,
   "id": "12dfc6ac-6109-4b15-9833-42553c194b8b",
   "metadata": {
    "tags": []
   },
   "outputs": [
    {
     "name": "stdout",
     "output_type": "stream",
     "text": [
      "Model: <lightgbm.basic.Booster object at 0x7f5976996aa0>\n",
      "MAE: 99871.84827326746, RMSE: 186777.76614773629\n"
     ]
    }
   ],
   "source": [
    "# testing set error\n",
    "get_eval_metrics([clf], X_test_con, Y_test_con)"
   ]
  },
  {
   "cell_type": "code",
   "execution_count": 160,
   "id": "fa1a3462-0855-4f66-83ef-2e66af3d9c24",
   "metadata": {
    "tags": []
   },
   "outputs": [
    {
     "name": "stdout",
     "output_type": "stream",
     "text": [
      "mean log error 0.08083404434979805\n"
     ]
    }
   ],
   "source": [
    "# training log error\n",
    "def replace_negative_with_one(lst):\n",
    "    return [max(1, num) for num in lst]\n",
    "\n",
    "p_test = clf.predict(X_test_con)\n",
    "p_test = replace_negative_with_one(p_test)\n",
    "import math\n",
    "logerror = np.log(p_test) - np.log(Y_test_con)\n",
    "print('mean log error', np.mean(logerror))"
   ]
  },
  {
   "cell_type": "code",
   "execution_count": 161,
   "id": "eae7f084-1912-4942-96cc-2513cf6b0ed8",
   "metadata": {},
   "outputs": [
    {
     "data": {
      "text/plain": [
       "<AxesSubplot:title={'center':'Feature importance'}, xlabel='Feature importance', ylabel='Features'>"
      ]
     },
     "execution_count": 161,
     "metadata": {},
     "output_type": "execute_result"
    },
    {
     "data": {
      "image/png": "[encoded data removed]",
      "text/plain": [
       "<Figure size 432x288 with 1 Axes>"
      ]
     },
     "metadata": {
      "needs_background": "light"
     },
     "output_type": "display_data"
    }
   ],
   "source": [
    "from lightgbm import plot_importance\n",
    "plot_importance(clf, max_num_features = 15)"
   ]
  },
  {
   "cell_type": "markdown",
   "id": "a836275f-0a61-4bdf-9a55-80560c6d4ead",
   "metadata": {
    "tags": [],
    "user_expressions": []
   },
   "source": [
    "## multi unit home"
   ]
  },
  {
   "cell_type": "markdown",
   "id": "1659ec05-6d39-4874-b0da-63e63584c2e1",
   "metadata": {
    "tags": [],
    "user_expressions": []
   },
   "source": [
    "### xgboost"
   ]
  },
  {
   "cell_type": "code",
   "execution_count": 162,
   "id": "a420ed49-d6cf-4cc5-a67e-981fbd798a17",
   "metadata": {
    "tags": []
   },
   "outputs": [],
   "source": [
    "train_mul, valid_mul = train_test_split(train_mul, test_size=0.2)\n",
    "#set validation set for early stopping\n",
    "\n",
    "X_train_mul = train_mul.drop(['price'], axis =1)\n",
    "Y_train_mul = train_mul['price']\n",
    "X_valid_mul = valid_mul.drop(['price'], axis =1)\n",
    "Y_valid_mul = valid_mul['price']"
   ]
  },
  {
   "cell_type": "code",
   "execution_count": 163,
   "id": "3ac089be-d1f1-43b7-828e-41021166a64f",
   "metadata": {
    "tags": []
   },
   "outputs": [
    {
     "name": "stdout",
     "output_type": "stream",
     "text": [
      "Training ...\n",
      "[21:10:09] WARNING: ../src/objective/regression_obj.cu:213: reg:linear is now deprecated in favor of reg:squarederror.\n",
      "[21:10:09] WARNING: ../src/learner.cc:767: \n",
      "Parameters: { \"silent\" } are not used.\n",
      "\n",
      "[0]\ttrain-mae:385885.69724\tvalid-mae:389011.43033\n",
      "[50]\ttrain-mae:195761.16826\tvalid-mae:198637.69987\n",
      "[87]\ttrain-mae:191463.34733\tvalid-mae:194587.38406\n",
      "Done!\n"
     ]
    }
   ],
   "source": [
    "d_train_mul = xgb.DMatrix(X_train_mul, label=Y_train_mul, enable_categorical=True)\n",
    "d_valid_mul = xgb.DMatrix(X_valid_mul, label=Y_valid_mul, enable_categorical=True)\n",
    "\n",
    "\n",
    "print('Training ...')\n",
    "\n",
    "params = {}\n",
    "params['eta'] = 0.03\n",
    "params['objective'] = 'reg:linear'\n",
    "params['eval_metric'] = 'mae'\n",
    "params['max_depth'] = 4\n",
    "params['silent'] = 1\n",
    "\n",
    "watchlist = [(d_train_mul, 'train'), (d_valid_mul, 'valid')]\n",
    "clf_mul = xgb.train(params, d_train_mul, 10000, watchlist, early_stopping_rounds=10, verbose_eval=50)\n",
    "\n",
    "\n",
    "\n",
    "d_test_mul = xgb.DMatrix(X_test_mul, enable_categorical=True)\n",
    "\n",
    "\n",
    "print('Done!')"
   ]
  },
  {
   "cell_type": "code",
   "execution_count": 164,
   "id": "90994cb1-f0c0-458f-ab6a-b4fc7108ae2c",
   "metadata": {
    "tags": []
   },
   "outputs": [
    {
     "name": "stdout",
     "output_type": "stream",
     "text": [
      "Model: <xgboost.core.Booster object at 0x7f599813bdf0>\n",
      "MAE: 191463.359375, RMSE: 317942.21875\n"
     ]
    }
   ],
   "source": [
    "# training set error\n",
    "get_eval_metrics([clf_mul], d_train_mul, Y_train_mul)"
   ]
  },
  {
   "cell_type": "code",
   "execution_count": 165,
   "id": "8fc5a8f8-b140-4cc0-9493-acf25efb1ba2",
   "metadata": {
    "tags": []
   },
   "outputs": [
    {
     "name": "stdout",
     "output_type": "stream",
     "text": [
      "mean log error 0.18774763\n"
     ]
    }
   ],
   "source": [
    "# training set log error\n",
    "def replace_negative_with_one(lst):\n",
    "    return [max(1, num) for num in lst]\n",
    "d_train = xgb.DMatrix(X_train_mul, enable_categorical=True)\n",
    "p_train = clf_mul.predict(d_train)\n",
    "p_train = replace_negative_with_one(p_train)\n",
    "import math\n",
    "logerror = np.log(p_train) - np.log(Y_train_mul)\n",
    "print('mean log error', np.mean(logerror))"
   ]
  },
  {
   "cell_type": "code",
   "execution_count": 166,
   "id": "9247a1d8-fe43-4428-ab6e-694a11977ab7",
   "metadata": {
    "tags": []
   },
   "outputs": [
    {
     "name": "stdout",
     "output_type": "stream",
     "text": [
      "Model: <xgboost.core.Booster object at 0x7f599813bdf0>\n",
      "MAE: 191020.53125, RMSE: 311625.625\n"
     ]
    }
   ],
   "source": [
    "# testing set error\n",
    "get_eval_metrics([clf_mul], d_test_mul, Y_test_mul)"
   ]
  },
  {
   "cell_type": "code",
   "execution_count": 167,
   "id": "6b8ba7da-c36f-4d4e-b719-fe9f9137c925",
   "metadata": {
    "tags": []
   },
   "outputs": [
    {
     "name": "stdout",
     "output_type": "stream",
     "text": [
      "mean log error 0.19889733\n"
     ]
    }
   ],
   "source": [
    "# testing set log error\n",
    "\n",
    "d_test = xgb.DMatrix(X_test_mul, enable_categorical=True)\n",
    "p_test = clf_mul.predict(d_test)\n",
    "p_test = replace_negative_with_one(p_test)\n",
    "import math\n",
    "logerror = np.log(p_test) - np.log(Y_test_mul)\n",
    "print('mean log error', np.mean(logerror))"
   ]
  },
  {
   "cell_type": "code",
   "execution_count": 168,
   "id": "aca3169f-04fb-4c14-a367-f41b91bd0ba2",
   "metadata": {},
   "outputs": [
    {
     "data": {
      "text/plain": [
       "<AxesSubplot:title={'center':'Feature importance'}, xlabel='F score', ylabel='Features'>"
      ]
     },
     "execution_count": 168,
     "metadata": {},
     "output_type": "execute_result"
    },
    {
     "data": {
      "image/png": "[encoded data removed]",
      "text/plain": [
       "<Figure size 432x288 with 1 Axes>"
      ]
     },
     "metadata": {
      "needs_background": "light"
     },
     "output_type": "display_data"
    }
   ],
   "source": [
    "from xgboost import plot_importance\n",
    "plot_importance(clf_mul, max_num_features = 15)"
   ]
  },
  {
   "cell_type": "markdown",
   "id": "add2a43a-eb6e-4780-bbf8-6f502fdbd58a",
   "metadata": {
    "tags": [],
    "user_expressions": []
   },
   "source": [
    "### lightgbm"
   ]
  },
  {
   "cell_type": "code",
   "execution_count": 169,
   "id": "df405f42-1ada-4e08-ac51-881992d69103",
   "metadata": {
    "tags": []
   },
   "outputs": [
    {
     "name": "stderr",
     "output_type": "stream",
     "text": [
      "/accounts/grad/huz4/.local/lib/python3.10/site-packages/lightgbm/engine.py:181: UserWarning: 'early_stopping_rounds' argument is deprecated and will be removed in a future release of LightGBM. Pass 'early_stopping()' callback via 'callbacks' argument instead.\n",
      "  _log_warning(\"'early_stopping_rounds' argument is deprecated and will be removed in a future release of LightGBM. \"\n",
      "/accounts/grad/huz4/.local/lib/python3.10/site-packages/lightgbm/engine.py:239: UserWarning: 'verbose_eval' argument is deprecated and will be removed in a future release of LightGBM. Pass 'log_evaluation()' callback via 'callbacks' argument instead.\n",
      "  _log_warning(\"'verbose_eval' argument is deprecated and will be removed in a future release of LightGBM. \"\n"
     ]
    },
    {
     "name": "stdout",
     "output_type": "stream",
     "text": [
      "[LightGBM] [Warning] Auto-choosing row-wise multi-threading, the overhead of testing was 0.005209 seconds.\n",
      "You can set `force_row_wise=true` to remove the overhead.\n",
      "And if memory is not enough, you can set `force_col_wise=true`.\n",
      "[LightGBM] [Info] Total Bins 1274\n",
      "[LightGBM] [Info] Number of data points in the train set: 99777, number of used features: 18\n",
      "[LightGBM] [Info] Start training from score 397800.958347\n",
      "Training until validation scores don't improve for 10 rounds\n"
     ]
    },
    {
     "name": "stderr",
     "output_type": "stream",
     "text": [
      "/accounts/grad/huz4/.local/lib/python3.10/site-packages/lightgbm/basic.py:1780: UserWarning: Overriding the parameters from Reference Dataset.\n",
      "  _log_warning('Overriding the parameters from Reference Dataset.')\n",
      "/accounts/grad/huz4/.local/lib/python3.10/site-packages/lightgbm/basic.py:1513: UserWarning: categorical_column in param dict is overridden.\n",
      "  _log_warning(f'{cat_alias} in param dict is overridden.')\n"
     ]
    },
    {
     "name": "stdout",
     "output_type": "stream",
     "text": [
      "[LightGBM] [Warning] No further splits with positive gain, best gain: -inf\n",
      "[50]\tvalid_0's l1: 198373\n",
      "[LightGBM] [Warning] No further splits with positive gain, best gain: -inf\n",
      "[100]\tvalid_0's l1: 194188\n",
      "[150]\tvalid_0's l1: 193158\n",
      "[200]\tvalid_0's l1: 192746\n",
      "[LightGBM] [Warning] No further splits with positive gain, best gain: -inf\n",
      "[250]\tvalid_0's l1: 192436\n",
      "[300]\tvalid_0's l1: 192235\n",
      "[350]\tvalid_0's l1: 192054\n",
      "[400]\tvalid_0's l1: 191943\n",
      "[450]\tvalid_0's l1: 191769\n",
      "[500]\tvalid_0's l1: 191650\n",
      "Did not meet early stopping. Best iteration is:\n",
      "[500]\tvalid_0's l1: 191650\n",
      "Done!\n"
     ]
    }
   ],
   "source": [
    "d_train = lgb.Dataset(X_train_mul, label=Y_train_mul)\n",
    "d_valid = lgb.Dataset(X_valid_mul, label=Y_valid_mul)\n",
    "\n",
    "params = {}\n",
    "params['learning_rate'] = 0.03\n",
    "params['boosting_type'] = 'gbdt'\n",
    "params['objective'] = 'regression'\n",
    "params['metric'] = 'mae'\n",
    "params['sub_feature'] = 0.5\n",
    "params['num_leaves'] = 60\n",
    "params['min_data'] = 500\n",
    "params['min_hessian'] = 1\n",
    "\n",
    "watchlist = [d_valid]\n",
    "clf_mul = lgb.train(params, d_train, 500, watchlist,early_stopping_rounds=10, verbose_eval=50)\n",
    "\n",
    "print('Done!')"
   ]
  },
  {
   "cell_type": "code",
   "execution_count": 170,
   "id": "408f67f0-5fca-4357-b301-9fe20aa71dd2",
   "metadata": {
    "tags": []
   },
   "outputs": [
    {
     "name": "stdout",
     "output_type": "stream",
     "text": [
      "Model: <lightgbm.basic.Booster object at 0x7f5993ee6dd0>\n",
      "MAE: 186076.3266536964, RMSE: 306730.55262324476\n"
     ]
    }
   ],
   "source": [
    "# training set error\n",
    "get_eval_metrics([clf_mul], X_train_mul, Y_train_mul)"
   ]
  },
  {
   "cell_type": "code",
   "execution_count": 171,
   "id": "1d10b5ae-5a22-40d5-aee1-299b5769a2cf",
   "metadata": {
    "tags": []
   },
   "outputs": [
    {
     "name": "stdout",
     "output_type": "stream",
     "text": [
      "mean log error 0.22665112272171542\n"
     ]
    }
   ],
   "source": [
    "# training log error\n",
    "p_train = clf_mul.predict(X_train_mul)\n",
    "p_train = replace_negative_with_one(p_train)\n",
    "import math\n",
    "logerror = np.log(p_train) - np.log(Y_train_mul)\n",
    "print('mean log error', np.mean(logerror))"
   ]
  },
  {
   "cell_type": "code",
   "execution_count": 172,
   "id": "348fc0c0-c06e-4c62-8437-ca5c5b304018",
   "metadata": {
    "tags": []
   },
   "outputs": [
    {
     "name": "stdout",
     "output_type": "stream",
     "text": [
      "Model: <lightgbm.basic.Booster object at 0x7f5993ee6dd0>\n",
      "MAE: 190575.9627033211, RMSE: 302244.78811089776\n"
     ]
    }
   ],
   "source": [
    "# testing set error\n",
    "get_eval_metrics([clf_mul], X_test_mul, Y_test_mul)"
   ]
  },
  {
   "cell_type": "code",
   "execution_count": 173,
   "id": "d7f6e444-185e-4ca9-aa06-e1d9a1cf48e5",
   "metadata": {
    "tags": []
   },
   "outputs": [
    {
     "name": "stdout",
     "output_type": "stream",
     "text": [
      "mean log error 0.23831958157278746\n"
     ]
    }
   ],
   "source": [
    "# testing log error\n",
    "def replace_negative_with_one(lst):\n",
    "    return [max(1, num) for num in lst]\n",
    "\n",
    "p_test = clf_mul.predict(X_test_mul)\n",
    "p_test = replace_negative_with_one(p_test)\n",
    "import math\n",
    "logerror = np.log(p_test) - np.log(Y_test_mul)\n",
    "print('mean log error', np.mean(logerror))"
   ]
  },
  {
   "cell_type": "code",
   "execution_count": 174,
   "id": "83ebdd9c-9e1c-4425-bb67-0c3a4a273e27",
   "metadata": {},
   "outputs": [
    {
     "data": {
      "text/plain": [
       "<AxesSubplot:title={'center':'Feature importance'}, xlabel='Feature importance', ylabel='Features'>"
      ]
     },
     "execution_count": 174,
     "metadata": {},
     "output_type": "execute_result"
    },
    {
     "data": {
      "image/png": "[encoded data removed]",
      "text/plain": [
       "<Figure size 432x288 with 1 Axes>"
      ]
     },
     "metadata": {
      "needs_background": "light"
     },
     "output_type": "display_data"
    }
   ],
   "source": [
    "from lightgbm import plot_importance\n",
    "plot_importance(clf_mul, max_num_features = 15)"
   ]
  },
  {
   "cell_type": "markdown",
   "id": "a72d9b64-1376-41e4-91d9-9ac57ee2a295",
   "metadata": {
    "tags": [],
    "user_expressions": []
   },
   "source": [
    "## Single Family"
   ]
  },
  {
   "cell_type": "markdown",
   "id": "17173fde-a5bf-41f7-bfbd-0f88ffafec68",
   "metadata": {
    "tags": [],
    "user_expressions": []
   },
   "source": [
    "### xgboost"
   ]
  },
  {
   "cell_type": "code",
   "execution_count": 114,
   "id": "73e4bd2d-45fb-423b-af7d-0ab1a3679aab",
   "metadata": {
    "tags": []
   },
   "outputs": [],
   "source": [
    "train_sin, valid_sin = train_test_split(train_sin, test_size=0.2)\n",
    "#set validation set for early stopping\n",
    "\n",
    "X_train_sin = train_sin.drop(['price'], axis =1)\n",
    "Y_train_sin = train_sin['price']\n",
    "X_valid_sin = valid_sin.drop(['price'], axis =1)\n",
    "Y_valid_sin = valid_sin['price']"
   ]
  },
  {
   "cell_type": "code",
   "execution_count": 115,
   "id": "b87009d0-a080-42b1-b147-2b27429b105a",
   "metadata": {
    "tags": []
   },
   "outputs": [
    {
     "name": "stdout",
     "output_type": "stream",
     "text": [
      "Training ...\n",
      "[17:26:48] WARNING: ../src/objective/regression_obj.cu:213: reg:linear is now deprecated in favor of reg:squarederror.\n",
      "[17:26:48] WARNING: ../src/learner.cc:767: \n",
      "Parameters: { \"silent\" } are not used.\n",
      "\n",
      "[0]\ttrain-mae:447719.87910\tvalid-mae:446707.13715\n",
      "[50]\ttrain-mae:216204.42006\tvalid-mae:216568.21208\n",
      "[100]\ttrain-mae:208575.76600\tvalid-mae:209275.05426\n",
      "[150]\ttrain-mae:206875.53266\tvalid-mae:207899.12762\n",
      "[200]\ttrain-mae:204371.13023\tvalid-mae:205620.81567\n",
      "[250]\ttrain-mae:202444.67529\tvalid-mae:203895.91318\n",
      "[300]\ttrain-mae:200809.62274\tvalid-mae:202435.51235\n",
      "[350]\ttrain-mae:199572.00791\tvalid-mae:201334.08534\n",
      "[400]\ttrain-mae:198831.13388\tvalid-mae:200733.44122\n",
      "[450]\ttrain-mae:198311.94155\tvalid-mae:200332.61297\n",
      "[500]\ttrain-mae:197802.63105\tvalid-mae:199927.83564\n",
      "[550]\ttrain-mae:197382.00860\tvalid-mae:199603.61351\n",
      "[600]\ttrain-mae:196891.60075\tvalid-mae:199208.03466\n",
      "[650]\ttrain-mae:196521.91491\tvalid-mae:198953.22416\n",
      "[700]\ttrain-mae:196202.79007\tvalid-mae:198724.81194\n",
      "[750]\ttrain-mae:195912.35659\tvalid-mae:198518.12782\n",
      "[800]\ttrain-mae:195616.80830\tvalid-mae:198329.03019\n",
      "[850]\ttrain-mae:195386.98371\tvalid-mae:198198.47027\n",
      "[900]\ttrain-mae:195165.67286\tvalid-mae:198059.40189\n",
      "[950]\ttrain-mae:194928.06893\tvalid-mae:197918.11950\n",
      "[1000]\ttrain-mae:194687.84324\tvalid-mae:197785.28739\n",
      "[1050]\ttrain-mae:194496.38066\tvalid-mae:197671.07713\n",
      "[1100]\ttrain-mae:194290.26681\tvalid-mae:197553.71639\n",
      "[1150]\ttrain-mae:194107.47482\tvalid-mae:197457.88456\n",
      "[1200]\ttrain-mae:193930.61160\tvalid-mae:197377.79449\n",
      "[1250]\ttrain-mae:193777.09053\tvalid-mae:197320.86606\n",
      "[1294]\ttrain-mae:193642.92021\tvalid-mae:197281.10695\n",
      "Done!\n"
     ]
    }
   ],
   "source": [
    "d_train_sin = xgb.DMatrix(X_train_sin, label=Y_train_sin, enable_categorical=True)\n",
    "d_valid_sin = xgb.DMatrix(X_valid_sin, label=Y_valid_sin, enable_categorical=True)\n",
    "\n",
    "\n",
    "print('Training ...')\n",
    "\n",
    "params = {}\n",
    "params['eta'] = 0.03\n",
    "params['objective'] = 'reg:linear'\n",
    "params['eval_metric'] = 'mae'\n",
    "params['max_depth'] = 4\n",
    "params['silent'] = 1\n",
    "\n",
    "watchlist = [(d_train_sin, 'train'), (d_valid_sin, 'valid')]\n",
    "clf_sin = xgb.train(params, d_train_sin, 10000, watchlist, early_stopping_rounds=10, verbose_eval=50)\n",
    "\n",
    "\n",
    "\n",
    "d_test_sin = xgb.DMatrix(X_test_sin, enable_categorical=True)\n",
    "\n",
    "\n",
    "print('Done!')"
   ]
  },
  {
   "cell_type": "code",
   "execution_count": 116,
   "id": "f20898b4-5f94-4068-83bd-efee3fadfa9f",
   "metadata": {
    "tags": []
   },
   "outputs": [
    {
     "name": "stdout",
     "output_type": "stream",
     "text": [
      "Model: <xgboost.core.Booster object at 0x7f599923dc30>\n",
      "MAE: 193637.203125, RMSE: 395246.09375\n"
     ]
    }
   ],
   "source": [
    "# training set error\n",
    "get_eval_metrics([clf_sin], d_train_sin, Y_train_sin)"
   ]
  },
  {
   "cell_type": "code",
   "execution_count": 117,
   "id": "3cd4f2f7-5ce7-4b0f-a5ff-036d9fcabc56",
   "metadata": {
    "tags": []
   },
   "outputs": [
    {
     "name": "stdout",
     "output_type": "stream",
     "text": [
      "mean log error 0.1856494510254671\n"
     ]
    }
   ],
   "source": [
    "# training set log error\n",
    "\n",
    "d_train = xgb.DMatrix(X_train_sin, enable_categorical=True)\n",
    "p_train = clf_sin.predict(d_train)\n",
    "p_train = replace_negative_with_one(p_train)\n",
    "import math\n",
    "logerror = np.log(p_train) - np.log(Y_train_sin)\n",
    "print('mean log error', np.mean(logerror))"
   ]
  },
  {
   "cell_type": "code",
   "execution_count": 118,
   "id": "03d939c0-c204-4912-8016-f1eb512538c4",
   "metadata": {
    "tags": []
   },
   "outputs": [
    {
     "name": "stdout",
     "output_type": "stream",
     "text": [
      "Model: <xgboost.core.Booster object at 0x7f599923dc30>\n",
      "MAE: 197485.359375, RMSE: 450473.8125\n"
     ]
    }
   ],
   "source": [
    "# testing set error\n",
    "get_eval_metrics([clf_sin], d_test_sin, Y_test_sin)"
   ]
  },
  {
   "cell_type": "code",
   "execution_count": 120,
   "id": "b33dfa15-886c-4ef2-9634-03118a73dbdb",
   "metadata": {
    "tags": []
   },
   "outputs": [
    {
     "name": "stdout",
     "output_type": "stream",
     "text": [
      "mean log error 0.18504443543782714\n"
     ]
    }
   ],
   "source": [
    "# testing set log error\n",
    "\n",
    "d_test = xgb.DMatrix(X_test_sin, enable_categorical=True)\n",
    "p_test = clf_sin.predict(d_test)\n",
    "p_test = replace_negative_with_one(p_test)\n",
    "\n",
    "logerror = np.log(p_test) - np.log(Y_test_sin)\n",
    "print('mean log error', np.mean(logerror))"
   ]
  },
  {
   "cell_type": "code",
   "execution_count": 121,
   "id": "fbc29eeb-91a3-4345-97bf-0f0c1c0569b5",
   "metadata": {
    "tags": []
   },
   "outputs": [
    {
     "data": {
      "text/plain": [
       "<AxesSubplot:title={'center':'Feature importance'}, xlabel='F score', ylabel='Features'>"
      ]
     },
     "execution_count": 121,
     "metadata": {},
     "output_type": "execute_result"
    },
    {
     "data": {
      "image/png": "[encoded data removed]",
      "text/plain": [
       "<Figure size 432x288 with 1 Axes>"
      ]
     },
     "metadata": {
      "needs_background": "light"
     },
     "output_type": "display_data"
    }
   ],
   "source": [
    "from xgboost import plot_importance\n",
    "plot_importance(clf_sin, max_num_features = 15)"
   ]
  },
  {
   "cell_type": "markdown",
   "id": "a9a959c2-e19a-4996-917c-45747614d630",
   "metadata": {
    "tags": [],
    "user_expressions": []
   },
   "source": [
    "### lightgbm"
   ]
  },
  {
   "cell_type": "code",
   "execution_count": 122,
   "id": "76ce4efd-5c06-47a3-8aee-dcb474ffe90f",
   "metadata": {
    "tags": []
   },
   "outputs": [
    {
     "name": "stderr",
     "output_type": "stream",
     "text": [
      "/accounts/grad/huz4/.local/lib/python3.10/site-packages/lightgbm/engine.py:181: UserWarning: 'early_stopping_rounds' argument is deprecated and will be removed in a future release of LightGBM. Pass 'early_stopping()' callback via 'callbacks' argument instead.\n",
      "  _log_warning(\"'early_stopping_rounds' argument is deprecated and will be removed in a future release of LightGBM. \"\n",
      "/accounts/grad/huz4/.local/lib/python3.10/site-packages/lightgbm/engine.py:239: UserWarning: 'verbose_eval' argument is deprecated and will be removed in a future release of LightGBM. Pass 'log_evaluation()' callback via 'callbacks' argument instead.\n",
      "  _log_warning(\"'verbose_eval' argument is deprecated and will be removed in a future release of LightGBM. \"\n"
     ]
    },
    {
     "name": "stdout",
     "output_type": "stream",
     "text": [
      "[LightGBM] [Warning] Auto-choosing row-wise multi-threading, the overhead of testing was 0.121657 seconds.\n",
      "You can set `force_row_wise=true` to remove the overhead.\n",
      "And if memory is not enough, you can set `force_col_wise=true`.\n",
      "[LightGBM] [Info] Total Bins 2029\n",
      "[LightGBM] [Info] Number of data points in the train set: 1101550, number of used features: 21\n"
     ]
    },
    {
     "name": "stderr",
     "output_type": "stream",
     "text": [
      "/accounts/grad/huz4/.local/lib/python3.10/site-packages/lightgbm/basic.py:1780: UserWarning: Overriding the parameters from Reference Dataset.\n",
      "  _log_warning('Overriding the parameters from Reference Dataset.')\n",
      "/accounts/grad/huz4/.local/lib/python3.10/site-packages/lightgbm/basic.py:1513: UserWarning: categorical_column in param dict is overridden.\n",
      "  _log_warning(f'{cat_alias} in param dict is overridden.')\n"
     ]
    },
    {
     "name": "stdout",
     "output_type": "stream",
     "text": [
      "[LightGBM] [Info] Start training from score 461537.191999\n",
      "Training until validation scores don't improve for 10 rounds\n",
      "[50]\tvalid_0's l1: 212233\n",
      "[100]\tvalid_0's l1: 201399\n",
      "[150]\tvalid_0's l1: 198467\n",
      "[200]\tvalid_0's l1: 197540\n",
      "[250]\tvalid_0's l1: 196992\n",
      "[300]\tvalid_0's l1: 196568\n",
      "[350]\tvalid_0's l1: 196224\n",
      "[400]\tvalid_0's l1: 195892\n",
      "[450]\tvalid_0's l1: 195569\n",
      "[500]\tvalid_0's l1: 195297\n",
      "Did not meet early stopping. Best iteration is:\n",
      "[499]\tvalid_0's l1: 195296\n",
      "Done!\n"
     ]
    }
   ],
   "source": [
    "d_train = lgb.Dataset(X_train_sin, label=Y_train_sin)\n",
    "d_valid = lgb.Dataset(X_valid_sin, label=Y_valid_sin)\n",
    "\n",
    "params = {}\n",
    "params['learning_rate'] = 0.03\n",
    "params['boosting_type'] = 'gbdt'\n",
    "params['objective'] = 'regression'\n",
    "params['metric'] = 'mae'\n",
    "params['sub_feature'] = 0.5\n",
    "params['num_leaves'] = 60\n",
    "params['min_data'] = 500\n",
    "params['min_hessian'] = 1\n",
    "\n",
    "watchlist = [d_valid]\n",
    "clf_sin = lgb.train(params, d_train, 500, watchlist,early_stopping_rounds=10, verbose_eval=50)\n",
    "\n",
    "print('Done!')"
   ]
  },
  {
   "cell_type": "code",
   "execution_count": 123,
   "id": "849afde8-baa9-4c09-827d-b20cb32aee7e",
   "metadata": {
    "tags": []
   },
   "outputs": [
    {
     "name": "stdout",
     "output_type": "stream",
     "text": [
      "Model: <lightgbm.basic.Booster object at 0x7f5994987f40>\n",
      "MAE: 193218.81208419148, RMSE: 450292.0872594605\n"
     ]
    }
   ],
   "source": [
    "# training set error\n",
    "get_eval_metrics([clf_sin], X_train_sin, Y_train_sin)"
   ]
  },
  {
   "cell_type": "code",
   "execution_count": 124,
   "id": "9f65dcc9-5425-441f-b33c-d79bb4baa4b6",
   "metadata": {
    "tags": []
   },
   "outputs": [
    {
     "name": "stdout",
     "output_type": "stream",
     "text": [
      "mean log error 0.18062942102857507\n"
     ]
    }
   ],
   "source": [
    "# training log error\n",
    "def replace_negative_with_one(lst):\n",
    "    return [max(1, num) for num in lst]\n",
    "\n",
    "p_train = clf_sin.predict(X_train_sin)\n",
    "p_train = replace_negative_with_one(p_train)\n",
    "import math\n",
    "logerror = np.log(p_train) - np.log(Y_train_sin)\n",
    "print('mean log error', np.mean(logerror))"
   ]
  },
  {
   "cell_type": "code",
   "execution_count": 125,
   "id": "2d122c36-3a07-4431-b44d-3374eca52ed2",
   "metadata": {
    "tags": []
   },
   "outputs": [
    {
     "name": "stdout",
     "output_type": "stream",
     "text": [
      "Model: <lightgbm.basic.Booster object at 0x7f5994987f40>\n",
      "MAE: 195330.34093713877, RMSE: 451593.39241966885\n"
     ]
    }
   ],
   "source": [
    "# testing set error\n",
    "get_eval_metrics([clf_sin], X_test_sin, Y_test_sin)"
   ]
  },
  {
   "cell_type": "code",
   "execution_count": 126,
   "id": "d028b600-8aa4-4c25-9b92-975d8a7de5dc",
   "metadata": {
    "tags": []
   },
   "outputs": [
    {
     "name": "stdout",
     "output_type": "stream",
     "text": [
      "mean log error 0.5086490750823917\n"
     ]
    }
   ],
   "source": [
    "# testing log error\n",
    "def replace_negative_with_one(lst):\n",
    "    return [max(1, num) for num in lst]\n",
    "\n",
    "p_test = clf_mul.predict(X_test_sin)\n",
    "p_test = replace_negative_with_one(p_test)\n",
    "import math\n",
    "logerror = np.log(p_test) - np.log(Y_test_sin)\n",
    "print('mean log error', np.mean(logerror))"
   ]
  },
  {
   "cell_type": "code",
   "execution_count": 127,
   "id": "e2e08447-11ab-4881-96b0-f53d76c8012c",
   "metadata": {
    "tags": []
   },
   "outputs": [
    {
     "data": {
      "text/plain": [
       "<AxesSubplot:title={'center':'Feature importance'}, xlabel='Feature importance', ylabel='Features'>"
      ]
     },
     "execution_count": 127,
     "metadata": {},
     "output_type": "execute_result"
    },
    {
     "data": {
      "image/png": "[encoded data removed]",
      "text/plain": [
       "<Figure size 432x288 with 1 Axes>"
      ]
     },
     "metadata": {
      "needs_background": "light"
     },
     "output_type": "display_data"
    }
   ],
   "source": [
    "from lightgbm import plot_importance\n",
    "plot_importance(clf_sin, max_num_features = 15)"
   ]
  },
  {
   "cell_type": "markdown",
   "id": "683bba39-d247-4146-98fd-539b092adb75",
   "metadata": {
    "tags": [],
    "user_expressions": []
   },
   "source": [
    "## Town house"
   ]
  },
  {
   "cell_type": "markdown",
   "id": "10d155e1-bdab-4de1-a93e-55f9cc693693",
   "metadata": {
    "tags": [],
    "user_expressions": []
   },
   "source": [
    "### xgboost"
   ]
  },
  {
   "cell_type": "code",
   "execution_count": 176,
   "id": "a5dbe04e-bb5d-4f5f-a040-81eb4ee04710",
   "metadata": {
    "tags": []
   },
   "outputs": [],
   "source": [
    "train_town, valid_town = train_test_split(train_town, test_size=0.2)\n",
    "#set validation set for early stopping\n",
    "\n",
    "X_train_town = train_town.drop(['price'], axis =1)\n",
    "Y_train_town = train_town['price']\n",
    "X_valid_town = valid_town.drop(['price'], axis =1)\n",
    "Y_valid_town = valid_town['price']"
   ]
  },
  {
   "cell_type": "code",
   "execution_count": 177,
   "id": "3d1155ed-9f5c-4efe-8e79-4d5675498edf",
   "metadata": {
    "tags": []
   },
   "outputs": [
    {
     "name": "stdout",
     "output_type": "stream",
     "text": [
      "Training ...\n",
      "[21:12:21] WARNING: ../src/objective/regression_obj.cu:213: reg:linear is now deprecated in favor of reg:squarederror.\n",
      "[21:12:21] WARNING: ../src/learner.cc:767: \n",
      "Parameters: { \"silent\" } are not used.\n",
      "\n",
      "[0]\ttrain-mae:478238.22727\tvalid-mae:478469.26532\n",
      "[50]\ttrain-mae:158433.56928\tvalid-mae:162980.87989\n",
      "[100]\ttrain-mae:132218.14010\tvalid-mae:138390.65864\n",
      "[150]\ttrain-mae:127184.14988\tvalid-mae:134266.61166\n",
      "[200]\ttrain-mae:123721.77403\tvalid-mae:131570.84457\n",
      "[250]\ttrain-mae:121144.65016\tvalid-mae:129695.05677\n",
      "[300]\ttrain-mae:119955.62759\tvalid-mae:128999.09343\n",
      "[350]\ttrain-mae:118908.02715\tvalid-mae:128290.82144\n",
      "[400]\ttrain-mae:118132.25230\tvalid-mae:127749.87627\n",
      "[450]\ttrain-mae:117434.59499\tvalid-mae:127294.61809\n",
      "[500]\ttrain-mae:116756.49649\tvalid-mae:126885.55187\n",
      "[550]\ttrain-mae:116072.71579\tvalid-mae:126490.47019\n",
      "[600]\ttrain-mae:115555.85219\tvalid-mae:126172.07281\n",
      "[650]\ttrain-mae:114973.93325\tvalid-mae:125881.07413\n",
      "[700]\ttrain-mae:114447.21781\tvalid-mae:125589.43861\n",
      "[750]\ttrain-mae:113890.16083\tvalid-mae:125374.12975\n",
      "[800]\ttrain-mae:113388.41811\tvalid-mae:125200.38321\n",
      "[850]\ttrain-mae:112797.81426\tvalid-mae:124980.24572\n",
      "[900]\ttrain-mae:112240.83862\tvalid-mae:124755.42936\n",
      "[950]\ttrain-mae:111842.01974\tvalid-mae:124610.44320\n",
      "[1000]\ttrain-mae:111402.36233\tvalid-mae:124427.40521\n",
      "[1050]\ttrain-mae:110964.87441\tvalid-mae:124229.27678\n",
      "[1100]\ttrain-mae:110574.37585\tvalid-mae:124099.63452\n",
      "[1126]\ttrain-mae:110362.81586\tvalid-mae:124040.75574\n",
      "Done!\n"
     ]
    }
   ],
   "source": [
    "d_train_town = xgb.DMatrix(X_train_town, label=Y_train_town, enable_categorical=True)\n",
    "d_valid_town = xgb.DMatrix(X_valid_town, label=Y_valid_town, enable_categorical=True)\n",
    "\n",
    "\n",
    "print('Training ...')\n",
    "\n",
    "params = {}\n",
    "params['eta'] = 0.03\n",
    "params['objective'] = 'reg:linear'\n",
    "params['eval_metric'] = 'mae'\n",
    "params['max_depth'] = 4\n",
    "params['silent'] = 1\n",
    "\n",
    "watchlist = [(d_train_town, 'train'), (d_valid_town, 'valid')]\n",
    "clf_town = xgb.train(params, d_train_town, 10000, watchlist, early_stopping_rounds=10, verbose_eval=50)\n",
    "\n",
    "\n",
    "\n",
    "d_test_town = xgb.DMatrix(X_test_town, enable_categorical=True)\n",
    "\n",
    "\n",
    "print('Done!')"
   ]
  },
  {
   "cell_type": "code",
   "execution_count": 178,
   "id": "04055aac-8d9a-4e15-9b4a-bf5e19d5a431",
   "metadata": {
    "tags": []
   },
   "outputs": [
    {
     "name": "stdout",
     "output_type": "stream",
     "text": [
      "Model: <xgboost.core.Booster object at 0x7f5994928f10>\n",
      "MAE: 110357.875, RMSE: 158572.828125\n"
     ]
    }
   ],
   "source": [
    "# training set error\n",
    "get_eval_metrics([clf_town], d_train_town, Y_train_town)"
   ]
  },
  {
   "cell_type": "code",
   "execution_count": 179,
   "id": "c6b2fe1f-ad65-4cd5-aa20-4ad52fe92e01",
   "metadata": {
    "tags": []
   },
   "outputs": [
    {
     "name": "stdout",
     "output_type": "stream",
     "text": [
      "mean log error 0.18664583684154748\n"
     ]
    }
   ],
   "source": [
    "# training set log error\n",
    "\n",
    "d_train = xgb.DMatrix(X_train_town, enable_categorical=True)\n",
    "p_train = clf_town.predict(d_train)\n",
    "p_train = replace_negative_with_one(p_train)\n",
    "import math\n",
    "logerror = np.log(p_train) - np.log(Y_train_town)\n",
    "print('mean log error', np.mean(logerror))"
   ]
  },
  {
   "cell_type": "code",
   "execution_count": 180,
   "id": "b9365df4-c0ce-43da-90a9-cee00c34dd41",
   "metadata": {
    "tags": []
   },
   "outputs": [
    {
     "name": "stdout",
     "output_type": "stream",
     "text": [
      "Model: <xgboost.core.Booster object at 0x7f5994928f10>\n",
      "MAE: 119774.8515625, RMSE: 245363.84375\n"
     ]
    }
   ],
   "source": [
    "# testing set error\n",
    "get_eval_metrics([clf_town], d_test_town, Y_test_town)"
   ]
  },
  {
   "cell_type": "code",
   "execution_count": 181,
   "id": "45575435-4d2a-4d14-a283-9b30c528b8b7",
   "metadata": {
    "tags": []
   },
   "outputs": [
    {
     "name": "stdout",
     "output_type": "stream",
     "text": [
      "mean log error 0.17782120959715805\n"
     ]
    }
   ],
   "source": [
    "# testing set log error\n",
    "\n",
    "d_test = xgb.DMatrix(X_test_town, enable_categorical=True)\n",
    "p_test = clf_town.predict(d_test)\n",
    "p_test = replace_negative_with_one(p_test)\n",
    "\n",
    "logerror = np.log(p_test) - np.log(Y_test_town)\n",
    "print('mean log error', np.mean(logerror))"
   ]
  },
  {
   "cell_type": "code",
   "execution_count": 182,
   "id": "cd9ced4a-2088-4763-9629-1483f167b3a4",
   "metadata": {
    "tags": []
   },
   "outputs": [
    {
     "data": {
      "text/plain": [
       "<AxesSubplot:title={'center':'Feature importance'}, xlabel='F score', ylabel='Features'>"
      ]
     },
     "execution_count": 182,
     "metadata": {},
     "output_type": "execute_result"
    },
    {
     "data": {
      "image/png": "[encoded data removed]",
      "text/plain": [
       "<Figure size 432x288 with 1 Axes>"
      ]
     },
     "metadata": {
      "needs_background": "light"
     },
     "output_type": "display_data"
    }
   ],
   "source": [
    "from xgboost import plot_importance\n",
    "plot_importance(clf_town, max_num_features = 15)"
   ]
  },
  {
   "cell_type": "markdown",
   "id": "d1be51af-1771-43f5-86f9-eb58b700ab00",
   "metadata": {
    "tags": []
   },
   "source": [
    "### lightgbm"
   ]
  },
  {
   "cell_type": "code",
   "execution_count": 183,
   "id": "236e4a62-95cd-4f5a-a6b1-bb5127402eef",
   "metadata": {
    "tags": []
   },
   "outputs": [
    {
     "name": "stderr",
     "output_type": "stream",
     "text": [
      "/accounts/grad/huz4/.local/lib/python3.10/site-packages/lightgbm/engine.py:181: UserWarning: 'early_stopping_rounds' argument is deprecated and will be removed in a future release of LightGBM. Pass 'early_stopping()' callback via 'callbacks' argument instead.\n",
      "  _log_warning(\"'early_stopping_rounds' argument is deprecated and will be removed in a future release of LightGBM. \"\n",
      "/accounts/grad/huz4/.local/lib/python3.10/site-packages/lightgbm/engine.py:239: UserWarning: 'verbose_eval' argument is deprecated and will be removed in a future release of LightGBM. Pass 'log_evaluation()' callback via 'callbacks' argument instead.\n",
      "  _log_warning(\"'verbose_eval' argument is deprecated and will be removed in a future release of LightGBM. \"\n",
      "/accounts/grad/huz4/.local/lib/python3.10/site-packages/lightgbm/basic.py:1780: UserWarning: Overriding the parameters from Reference Dataset.\n",
      "  _log_warning('Overriding the parameters from Reference Dataset.')\n",
      "/accounts/grad/huz4/.local/lib/python3.10/site-packages/lightgbm/basic.py:1513: UserWarning: categorical_column in param dict is overridden.\n",
      "  _log_warning(f'{cat_alias} in param dict is overridden.')\n"
     ]
    },
    {
     "name": "stdout",
     "output_type": "stream",
     "text": [
      "[LightGBM] [Warning] Auto-choosing row-wise multi-threading, the overhead of testing was 0.001333 seconds.\n",
      "You can set `force_row_wise=true` to remove the overhead.\n",
      "And if memory is not enough, you can set `force_col_wise=true`.\n",
      "[LightGBM] [Info] Total Bins 1146\n",
      "[LightGBM] [Info] Number of data points in the train set: 31501, number of used features: 14\n",
      "[LightGBM] [Info] Start training from score 492676.910796\n",
      "[LightGBM] [Warning] No further splits with positive gain, best gain: -inf\n",
      "Training until validation scores don't improve for 10 rounds\n",
      "[LightGBM] [Warning] No further splits with positive gain, best gain: -inf\n",
      "[LightGBM] [Warning] No further splits with positive gain, best gain: -inf\n",
      "[LightGBM] [Warning] No further splits with positive gain, best gain: -inf\n",
      "[LightGBM] [Warning] No further splits with positive gain, best gain: -inf\n",
      "[LightGBM] [Warning] No further splits with positive gain, best gain: -inf\n",
      "[LightGBM] [Warning] No further splits with positive gain, best gain: -inf\n",
      "[LightGBM] [Warning] No further splits with positive gain, best gain: -inf\n",
      "[LightGBM] [Warning] No further splits with positive gain, best gain: -inf\n",
      "[LightGBM] [Warning] No further splits with positive gain, best gain: -inf\n",
      "[LightGBM] [Warning] No further splits with positive gain, best gain: -inf\n",
      "[LightGBM] [Warning] No further splits with positive gain, best gain: -inf\n",
      "[LightGBM] [Warning] No further splits with positive gain, best gain: -inf\n",
      "[LightGBM] [Warning] No further splits with positive gain, best gain: -inf\n",
      "[LightGBM] [Warning] No further splits with positive gain, best gain: -inf\n",
      "[LightGBM] [Warning] No further splits with positive gain, best gain: -inf\n",
      "[LightGBM] [Warning] No further splits with positive gain, best gain: -inf\n",
      "[LightGBM] [Warning] No further splits with positive gain, best gain: -inf\n",
      "[LightGBM] [Warning] No further splits with positive gain, best gain: -inf\n",
      "[LightGBM] [Warning] No further splits with positive gain, best gain: -inf\n",
      "[LightGBM] [Warning] No further splits with positive gain, best gain: -inf\n",
      "[LightGBM] [Warning] No further splits with positive gain, best gain: -inf\n",
      "[LightGBM] [Warning] No further splits with positive gain, best gain: -inf\n",
      "[LightGBM] [Warning] No further splits with positive gain, best gain: -inf\n",
      "[LightGBM] [Warning] No further splits with positive gain, best gain: -inf\n",
      "[LightGBM] [Warning] No further splits with positive gain, best gain: -inf\n",
      "[LightGBM] [Warning] No further splits with positive gain, best gain: -inf\n",
      "[LightGBM] [Warning] No further splits with positive gain, best gain: -inf\n",
      "[LightGBM] [Warning] No further splits with positive gain, best gain: -inf\n",
      "[LightGBM] [Warning] No further splits with positive gain, best gain: -inf\n",
      "[LightGBM] [Warning] No further splits with positive gain, best gain: -inf\n",
      "[LightGBM] [Warning] No further splits with positive gain, best gain: -inf\n",
      "[LightGBM] [Warning] No further splits with positive gain, best gain: -inf\n",
      "[LightGBM] [Warning] No further splits with positive gain, best gain: -inf\n",
      "[LightGBM] [Warning] No further splits with positive gain, best gain: -inf\n",
      "[LightGBM] [Warning] No further splits with positive gain, best gain: -inf\n",
      "[LightGBM] [Warning] No further splits with positive gain, best gain: -inf\n",
      "[LightGBM] [Warning] No further splits with positive gain, best gain: -inf\n",
      "[LightGBM] [Warning] No further splits with positive gain, best gain: -inf\n",
      "[LightGBM] [Warning] No further splits with positive gain, best gain: -inf\n",
      "[LightGBM] [Warning] No further splits with positive gain, best gain: -inf\n",
      "[LightGBM] [Warning] No further splits with positive gain, best gain: -inf\n",
      "[LightGBM] [Warning] No further splits with positive gain, best gain: -inf\n",
      "[LightGBM] [Warning] No further splits with positive gain, best gain: -inf\n",
      "[LightGBM] [Warning] No further splits with positive gain, best gain: -inf\n",
      "[LightGBM] [Warning] No further splits with positive gain, best gain: -inf\n",
      "[LightGBM] [Warning] No further splits with positive gain, best gain: -inf\n",
      "[LightGBM] [Warning] No further splits with positive gain, best gain: -inf\n",
      "[LightGBM] [Warning] No further splits with positive gain, best gain: -inf\n",
      "[LightGBM] [Warning] No further splits with positive gain, best gain: -inf\n",
      "[50]\tvalid_0's l1: 143191\n",
      "[LightGBM] [Warning] No further splits with positive gain, best gain: -inf\n",
      "[LightGBM] [Warning] No further splits with positive gain, best gain: -inf\n",
      "[LightGBM] [Warning] No further splits with positive gain, best gain: -inf\n",
      "[LightGBM] [Warning] No further splits with positive gain, best gain: -inf\n",
      "[LightGBM] [Warning] No further splits with positive gain, best gain: -inf\n",
      "[LightGBM] [Warning] No further splits with positive gain, best gain: -inf\n",
      "[LightGBM] [Warning] No further splits with positive gain, best gain: -inf\n",
      "[LightGBM] [Warning] No further splits with positive gain, best gain: -inf\n",
      "[LightGBM] [Warning] No further splits with positive gain, best gain: -inf\n",
      "[LightGBM] [Warning] No further splits with positive gain, best gain: -inf\n",
      "[LightGBM] [Warning] No further splits with positive gain, best gain: -inf\n",
      "[LightGBM] [Warning] No further splits with positive gain, best gain: -inf\n",
      "[LightGBM] [Warning] No further splits with positive gain, best gain: -inf\n",
      "[LightGBM] [Warning] No further splits with positive gain, best gain: -inf\n",
      "[LightGBM] [Warning] No further splits with positive gain, best gain: -inf\n",
      "[LightGBM] [Warning] No further splits with positive gain, best gain: -inf\n",
      "[LightGBM] [Warning] No further splits with positive gain, best gain: -inf\n",
      "[LightGBM] [Warning] No further splits with positive gain, best gain: -inf\n",
      "[LightGBM] [Warning] No further splits with positive gain, best gain: -inf\n",
      "[LightGBM] [Warning] No further splits with positive gain, best gain: -inf\n",
      "[LightGBM] [Warning] No further splits with positive gain, best gain: -inf\n",
      "[LightGBM] [Warning] No further splits with positive gain, best gain: -inf\n",
      "[LightGBM] [Warning] No further splits with positive gain, best gain: -inf\n",
      "[LightGBM] [Warning] No further splits with positive gain, best gain: -inf\n",
      "[LightGBM] [Warning] No further splits with positive gain, best gain: -inf\n",
      "[LightGBM] [Warning] No further splits with positive gain, best gain: -inf\n",
      "[LightGBM] [Warning] No further splits with positive gain, best gain: -inf\n",
      "[LightGBM] [Warning] No further splits with positive gain, best gain: -inf\n",
      "[LightGBM] [Warning] No further splits with positive gain, best gain: -inf\n",
      "[LightGBM] [Warning] No further splits with positive gain, best gain: -inf\n",
      "[LightGBM] [Warning] No further splits with positive gain, best gain: -inf\n",
      "[LightGBM] [Warning] No further splits with positive gain, best gain: -inf\n",
      "[LightGBM] [Warning] No further splits with positive gain, best gain: -inf\n",
      "[LightGBM] [Warning] No further splits with positive gain, best gain: -inf\n",
      "[LightGBM] [Warning] No further splits with positive gain, best gain: -inf\n",
      "[LightGBM] [Warning] No further splits with positive gain, best gain: -inf\n",
      "[LightGBM] [Warning] No further splits with positive gain, best gain: -inf\n",
      "[LightGBM] [Warning] No further splits with positive gain, best gain: -inf\n",
      "[LightGBM] [Warning] No further splits with positive gain, best gain: -inf\n",
      "[LightGBM] [Warning] No further splits with positive gain, best gain: -inf\n",
      "[LightGBM] [Warning] No further splits with positive gain, best gain: -inf\n",
      "[LightGBM] [Warning] No further splits with positive gain, best gain: -inf\n",
      "[LightGBM] [Warning] No further splits with positive gain, best gain: -inf\n",
      "[LightGBM] [Warning] No further splits with positive gain, best gain: -inf\n",
      "[LightGBM] [Warning] No further splits with positive gain, best gain: -inf\n",
      "[LightGBM] [Warning] No further splits with positive gain, best gain: -inf\n",
      "[LightGBM] [Warning] No further splits with positive gain, best gain: -inf\n",
      "[LightGBM] [Warning] No further splits with positive gain, best gain: -inf\n",
      "[LightGBM] [Warning] No further splits with positive gain, best gain: -inf\n",
      "[LightGBM] [Warning] No further splits with positive gain, best gain: -inf\n",
      "[100]\tvalid_0's l1: 130541\n",
      "[LightGBM] [Warning] No further splits with positive gain, best gain: -inf\n",
      "[LightGBM] [Warning] No further splits with positive gain, best gain: -inf\n",
      "[LightGBM] [Warning] No further splits with positive gain, best gain: -inf\n",
      "[LightGBM] [Warning] No further splits with positive gain, best gain: -inf\n",
      "[LightGBM] [Warning] No further splits with positive gain, best gain: -inf\n",
      "[LightGBM] [Warning] No further splits with positive gain, best gain: -inf\n",
      "[LightGBM] [Warning] No further splits with positive gain, best gain: -inf\n",
      "[LightGBM] [Warning] No further splits with positive gain, best gain: -inf\n",
      "[LightGBM] [Warning] No further splits with positive gain, best gain: -inf\n",
      "[LightGBM] [Warning] No further splits with positive gain, best gain: -inf\n",
      "[LightGBM] [Warning] No further splits with positive gain, best gain: -inf\n",
      "[LightGBM] [Warning] No further splits with positive gain, best gain: -inf\n",
      "[LightGBM] [Warning] No further splits with positive gain, best gain: -inf\n",
      "[LightGBM] [Warning] No further splits with positive gain, best gain: -inf\n",
      "[LightGBM] [Warning] No further splits with positive gain, best gain: -inf\n",
      "[LightGBM] [Warning] No further splits with positive gain, best gain: -inf\n",
      "[LightGBM] [Warning] No further splits with positive gain, best gain: -inf\n",
      "[LightGBM] [Warning] No further splits with positive gain, best gain: -inf\n",
      "[LightGBM] [Warning] No further splits with positive gain, best gain: -inf\n",
      "[LightGBM] [Warning] No further splits with positive gain, best gain: -inf\n",
      "[LightGBM] [Warning] No further splits with positive gain, best gain: -inf\n",
      "[LightGBM] [Warning] No further splits with positive gain, best gain: -inf\n",
      "[LightGBM] [Warning] No further splits with positive gain, best gain: -inf\n",
      "[LightGBM] [Warning] No further splits with positive gain, best gain: -inf\n",
      "[LightGBM] [Warning] No further splits with positive gain, best gain: -inf\n",
      "[LightGBM] [Warning] No further splits with positive gain, best gain: -inf\n",
      "[LightGBM] [Warning] No further splits with positive gain, best gain: -inf\n",
      "[LightGBM] [Warning] No further splits with positive gain, best gain: -inf\n",
      "[LightGBM] [Warning] No further splits with positive gain, best gain: -inf\n",
      "[LightGBM] [Warning] No further splits with positive gain, best gain: -inf\n",
      "[LightGBM] [Warning] No further splits with positive gain, best gain: -inf\n",
      "[LightGBM] [Warning] No further splits with positive gain, best gain: -inf\n",
      "[LightGBM] [Warning] No further splits with positive gain, best gain: -inf\n",
      "[LightGBM] [Warning] No further splits with positive gain, best gain: -inf\n",
      "[LightGBM] [Warning] No further splits with positive gain, best gain: -inf\n",
      "[LightGBM] [Warning] No further splits with positive gain, best gain: -inf\n",
      "[LightGBM] [Warning] No further splits with positive gain, best gain: -inf\n",
      "[LightGBM] [Warning] No further splits with positive gain, best gain: -inf\n",
      "[LightGBM] [Warning] No further splits with positive gain, best gain: -inf\n",
      "[LightGBM] [Warning] No further splits with positive gain, best gain: -inf\n",
      "[LightGBM] [Warning] No further splits with positive gain, best gain: -inf\n",
      "[LightGBM] [Warning] No further splits with positive gain, best gain: -inf\n",
      "[LightGBM] [Warning] No further splits with positive gain, best gain: -inf\n",
      "[LightGBM] [Warning] No further splits with positive gain, best gain: -inf\n",
      "[LightGBM] [Warning] No further splits with positive gain, best gain: -inf\n",
      "[LightGBM] [Warning] No further splits with positive gain, best gain: -inf\n",
      "[LightGBM] [Warning] No further splits with positive gain, best gain: -inf\n",
      "[LightGBM] [Warning] No further splits with positive gain, best gain: -inf\n",
      "[LightGBM] [Warning] No further splits with positive gain, best gain: -inf\n",
      "[LightGBM] [Warning] No further splits with positive gain, best gain: -inf\n",
      "[150]\tvalid_0's l1: 127871\n",
      "[LightGBM] [Warning] No further splits with positive gain, best gain: -inf\n",
      "[LightGBM] [Warning] No further splits with positive gain, best gain: -inf\n",
      "[LightGBM] [Warning] No further splits with positive gain, best gain: -inf\n",
      "[LightGBM] [Warning] No further splits with positive gain, best gain: -inf\n",
      "[LightGBM] [Warning] No further splits with positive gain, best gain: -inf\n",
      "[LightGBM] [Warning] No further splits with positive gain, best gain: -inf\n",
      "[LightGBM] [Warning] No further splits with positive gain, best gain: -inf\n",
      "[LightGBM] [Warning] No further splits with positive gain, best gain: -inf\n",
      "[LightGBM] [Warning] No further splits with positive gain, best gain: -inf\n",
      "[LightGBM] [Warning] No further splits with positive gain, best gain: -inf\n",
      "[LightGBM] [Warning] No further splits with positive gain, best gain: -inf\n",
      "[LightGBM] [Warning] No further splits with positive gain, best gain: -inf\n",
      "[LightGBM] [Warning] No further splits with positive gain, best gain: -inf\n",
      "[LightGBM] [Warning] No further splits with positive gain, best gain: -inf\n",
      "[LightGBM] [Warning] No further splits with positive gain, best gain: -inf\n",
      "[LightGBM] [Warning] No further splits with positive gain, best gain: -inf\n",
      "[LightGBM] [Warning] No further splits with positive gain, best gain: -inf\n",
      "[LightGBM] [Warning] No further splits with positive gain, best gain: -inf\n",
      "[LightGBM] [Warning] No further splits with positive gain, best gain: -inf\n",
      "[LightGBM] [Warning] No further splits with positive gain, best gain: -inf\n",
      "[LightGBM] [Warning] No further splits with positive gain, best gain: -inf\n",
      "[LightGBM] [Warning] No further splits with positive gain, best gain: -inf\n",
      "[LightGBM] [Warning] No further splits with positive gain, best gain: -inf\n",
      "[LightGBM] [Warning] No further splits with positive gain, best gain: -inf\n",
      "[LightGBM] [Warning] No further splits with positive gain, best gain: -inf\n",
      "[LightGBM] [Warning] No further splits with positive gain, best gain: -inf\n",
      "[LightGBM] [Warning] No further splits with positive gain, best gain: -inf\n",
      "[LightGBM] [Warning] No further splits with positive gain, best gain: -inf\n",
      "[LightGBM] [Warning] No further splits with positive gain, best gain: -inf\n",
      "[LightGBM] [Warning] No further splits with positive gain, best gain: -inf\n",
      "[LightGBM] [Warning] No further splits with positive gain, best gain: -inf\n",
      "[LightGBM] [Warning] No further splits with positive gain, best gain: -inf\n",
      "[LightGBM] [Warning] No further splits with positive gain, best gain: -inf\n",
      "[LightGBM] [Warning] No further splits with positive gain, best gain: -inf\n",
      "[LightGBM] [Warning] No further splits with positive gain, best gain: -inf\n",
      "[LightGBM] [Warning] No further splits with positive gain, best gain: -inf\n",
      "[LightGBM] [Warning] No further splits with positive gain, best gain: -inf\n",
      "[LightGBM] [Warning] No further splits with positive gain, best gain: -inf\n",
      "[LightGBM] [Warning] No further splits with positive gain, best gain: -inf\n",
      "[LightGBM] [Warning] No further splits with positive gain, best gain: -inf\n",
      "[LightGBM] [Warning] No further splits with positive gain, best gain: -inf\n",
      "[LightGBM] [Warning] No further splits with positive gain, best gain: -inf\n",
      "[LightGBM] [Warning] No further splits with positive gain, best gain: -inf\n",
      "[LightGBM] [Warning] No further splits with positive gain, best gain: -inf\n",
      "[LightGBM] [Warning] No further splits with positive gain, best gain: -inf\n",
      "[LightGBM] [Warning] No further splits with positive gain, best gain: -inf\n",
      "[LightGBM] [Warning] No further splits with positive gain, best gain: -inf\n",
      "[LightGBM] [Warning] No further splits with positive gain, best gain: -inf\n",
      "[LightGBM] [Warning] No further splits with positive gain, best gain: -inf\n",
      "[LightGBM] [Warning] No further splits with positive gain, best gain: -inf\n",
      "[200]\tvalid_0's l1: 126956\n",
      "[LightGBM] [Warning] No further splits with positive gain, best gain: -inf\n",
      "[LightGBM] [Warning] No further splits with positive gain, best gain: -inf\n",
      "[LightGBM] [Warning] No further splits with positive gain, best gain: -inf\n",
      "[LightGBM] [Warning] No further splits with positive gain, best gain: -inf\n",
      "[LightGBM] [Warning] No further splits with positive gain, best gain: -inf\n",
      "[LightGBM] [Warning] No further splits with positive gain, best gain: -inf\n",
      "[LightGBM] [Warning] No further splits with positive gain, best gain: -inf\n",
      "[LightGBM] [Warning] No further splits with positive gain, best gain: -inf\n",
      "[LightGBM] [Warning] No further splits with positive gain, best gain: -inf\n",
      "[LightGBM] [Warning] No further splits with positive gain, best gain: -inf\n",
      "[LightGBM] [Warning] No further splits with positive gain, best gain: -inf\n",
      "[LightGBM] [Warning] No further splits with positive gain, best gain: -inf\n",
      "[LightGBM] [Warning] No further splits with positive gain, best gain: -inf\n",
      "[LightGBM] [Warning] No further splits with positive gain, best gain: -inf\n",
      "[LightGBM] [Warning] No further splits with positive gain, best gain: -inf\n",
      "[LightGBM] [Warning] No further splits with positive gain, best gain: -inf\n",
      "[LightGBM] [Warning] No further splits with positive gain, best gain: -inf\n",
      "[LightGBM] [Warning] No further splits with positive gain, best gain: -inf\n",
      "[LightGBM] [Warning] No further splits with positive gain, best gain: -inf\n",
      "[LightGBM] [Warning] No further splits with positive gain, best gain: -inf\n",
      "[LightGBM] [Warning] No further splits with positive gain, best gain: -inf\n",
      "[LightGBM] [Warning] No further splits with positive gain, best gain: -inf\n",
      "[LightGBM] [Warning] No further splits with positive gain, best gain: -inf\n",
      "[LightGBM] [Warning] No further splits with positive gain, best gain: -inf\n",
      "[LightGBM] [Warning] No further splits with positive gain, best gain: -inf\n",
      "[LightGBM] [Warning] No further splits with positive gain, best gain: -inf\n",
      "[LightGBM] [Warning] No further splits with positive gain, best gain: -inf\n",
      "[LightGBM] [Warning] No further splits with positive gain, best gain: -inf\n",
      "[LightGBM] [Warning] No further splits with positive gain, best gain: -inf\n",
      "[LightGBM] [Warning] No further splits with positive gain, best gain: -inf\n",
      "[LightGBM] [Warning] No further splits with positive gain, best gain: -inf\n",
      "[LightGBM] [Warning] No further splits with positive gain, best gain: -inf\n",
      "[LightGBM] [Warning] No further splits with positive gain, best gain: -inf\n",
      "[LightGBM] [Warning] No further splits with positive gain, best gain: -inf\n",
      "[LightGBM] [Warning] No further splits with positive gain, best gain: -inf\n",
      "[LightGBM] [Warning] No further splits with positive gain, best gain: -inf\n",
      "[LightGBM] [Warning] No further splits with positive gain, best gain: -inf\n",
      "[LightGBM] [Warning] No further splits with positive gain, best gain: -inf\n",
      "[LightGBM] [Warning] No further splits with positive gain, best gain: -inf\n",
      "[LightGBM] [Warning] No further splits with positive gain, best gain: -inf\n",
      "[LightGBM] [Warning] No further splits with positive gain, best gain: -inf\n",
      "[LightGBM] [Warning] No further splits with positive gain, best gain: -inf\n",
      "[LightGBM] [Warning] No further splits with positive gain, best gain: -inf\n",
      "[LightGBM] [Warning] No further splits with positive gain, best gain: -inf\n",
      "[LightGBM] [Warning] No further splits with positive gain, best gain: -inf\n",
      "[LightGBM] [Warning] No further splits with positive gain, best gain: -inf\n",
      "[LightGBM] [Warning] No further splits with positive gain, best gain: -inf\n",
      "[LightGBM] [Warning] No further splits with positive gain, best gain: -inf\n",
      "[LightGBM] [Warning] No further splits with positive gain, best gain: -inf\n",
      "[LightGBM] [Warning] No further splits with positive gain, best gain: -inf\n",
      "[250]\tvalid_0's l1: 126217\n",
      "[LightGBM] [Warning] No further splits with positive gain, best gain: -inf\n",
      "[LightGBM] [Warning] No further splits with positive gain, best gain: -inf\n",
      "[LightGBM] [Warning] No further splits with positive gain, best gain: -inf\n",
      "[LightGBM] [Warning] No further splits with positive gain, best gain: -inf\n",
      "[LightGBM] [Warning] No further splits with positive gain, best gain: -inf\n",
      "[LightGBM] [Warning] No further splits with positive gain, best gain: -inf\n",
      "[LightGBM] [Warning] No further splits with positive gain, best gain: -inf\n",
      "[LightGBM] [Warning] No further splits with positive gain, best gain: -inf\n",
      "[LightGBM] [Warning] No further splits with positive gain, best gain: -inf\n",
      "[LightGBM] [Warning] No further splits with positive gain, best gain: -inf\n",
      "[LightGBM] [Warning] No further splits with positive gain, best gain: -inf\n",
      "[LightGBM] [Warning] No further splits with positive gain, best gain: -inf\n",
      "[LightGBM] [Warning] No further splits with positive gain, best gain: -inf\n",
      "[LightGBM] [Warning] No further splits with positive gain, best gain: -inf\n",
      "[LightGBM] [Warning] No further splits with positive gain, best gain: -inf\n",
      "[LightGBM] [Warning] No further splits with positive gain, best gain: -inf\n",
      "[LightGBM] [Warning] No further splits with positive gain, best gain: -inf\n",
      "[LightGBM] [Warning] No further splits with positive gain, best gain: -inf\n",
      "[LightGBM] [Warning] No further splits with positive gain, best gain: -inf\n",
      "[LightGBM] [Warning] No further splits with positive gain, best gain: -inf\n",
      "[LightGBM] [Warning] No further splits with positive gain, best gain: -inf\n",
      "[LightGBM] [Warning] No further splits with positive gain, best gain: -inf\n",
      "[LightGBM] [Warning] No further splits with positive gain, best gain: -inf\n",
      "[LightGBM] [Warning] No further splits with positive gain, best gain: -inf\n",
      "[LightGBM] [Warning] No further splits with positive gain, best gain: -inf\n",
      "[LightGBM] [Warning] No further splits with positive gain, best gain: -inf\n",
      "[LightGBM] [Warning] No further splits with positive gain, best gain: -inf\n",
      "[LightGBM] [Warning] No further splits with positive gain, best gain: -inf\n",
      "[LightGBM] [Warning] No further splits with positive gain, best gain: -inf\n",
      "[LightGBM] [Warning] No further splits with positive gain, best gain: -inf\n",
      "[LightGBM] [Warning] No further splits with positive gain, best gain: -inf\n",
      "[LightGBM] [Warning] No further splits with positive gain, best gain: -inf\n",
      "[LightGBM] [Warning] No further splits with positive gain, best gain: -inf\n",
      "[LightGBM] [Warning] No further splits with positive gain, best gain: -inf\n",
      "[LightGBM] [Warning] No further splits with positive gain, best gain: -inf\n",
      "[LightGBM] [Warning] No further splits with positive gain, best gain: -inf\n",
      "[LightGBM] [Warning] No further splits with positive gain, best gain: -inf\n",
      "[LightGBM] [Warning] No further splits with positive gain, best gain: -inf\n",
      "[LightGBM] [Warning] No further splits with positive gain, best gain: -inf\n",
      "[LightGBM] [Warning] No further splits with positive gain, best gain: -inf\n",
      "[LightGBM] [Warning] No further splits with positive gain, best gain: -inf\n",
      "[LightGBM] [Warning] No further splits with positive gain, best gain: -inf\n",
      "[LightGBM] [Warning] No further splits with positive gain, best gain: -inf\n",
      "[LightGBM] [Warning] No further splits with positive gain, best gain: -inf\n",
      "[LightGBM] [Warning] No further splits with positive gain, best gain: -inf\n",
      "[LightGBM] [Warning] No further splits with positive gain, best gain: -inf\n",
      "[LightGBM] [Warning] No further splits with positive gain, best gain: -inf\n",
      "[LightGBM] [Warning] No further splits with positive gain, best gain: -inf\n",
      "[LightGBM] [Warning] No further splits with positive gain, best gain: -inf\n",
      "[LightGBM] [Warning] No further splits with positive gain, best gain: -inf\n",
      "[300]\tvalid_0's l1: 125623\n",
      "[LightGBM] [Warning] No further splits with positive gain, best gain: -inf\n",
      "[LightGBM] [Warning] No further splits with positive gain, best gain: -inf\n",
      "[LightGBM] [Warning] No further splits with positive gain, best gain: -inf\n",
      "[LightGBM] [Warning] No further splits with positive gain, best gain: -inf\n",
      "[LightGBM] [Warning] No further splits with positive gain, best gain: -inf\n",
      "[LightGBM] [Warning] No further splits with positive gain, best gain: -inf\n",
      "[LightGBM] [Warning] No further splits with positive gain, best gain: -inf\n",
      "[LightGBM] [Warning] No further splits with positive gain, best gain: -inf\n",
      "[LightGBM] [Warning] No further splits with positive gain, best gain: -inf\n",
      "[LightGBM] [Warning] No further splits with positive gain, best gain: -inf\n",
      "[LightGBM] [Warning] No further splits with positive gain, best gain: -inf\n",
      "[LightGBM] [Warning] No further splits with positive gain, best gain: -inf\n",
      "[LightGBM] [Warning] No further splits with positive gain, best gain: -inf\n",
      "[LightGBM] [Warning] No further splits with positive gain, best gain: -inf\n",
      "[LightGBM] [Warning] No further splits with positive gain, best gain: -inf\n",
      "[LightGBM] [Warning] No further splits with positive gain, best gain: -inf\n",
      "[LightGBM] [Warning] No further splits with positive gain, best gain: -inf\n",
      "[LightGBM] [Warning] No further splits with positive gain, best gain: -inf\n",
      "[LightGBM] [Warning] No further splits with positive gain, best gain: -inf\n",
      "[LightGBM] [Warning] No further splits with positive gain, best gain: -inf\n",
      "[LightGBM] [Warning] No further splits with positive gain, best gain: -inf\n",
      "[LightGBM] [Warning] No further splits with positive gain, best gain: -inf\n",
      "[LightGBM] [Warning] No further splits with positive gain, best gain: -inf\n",
      "[LightGBM] [Warning] No further splits with positive gain, best gain: -inf\n",
      "[LightGBM] [Warning] No further splits with positive gain, best gain: -inf\n",
      "[LightGBM] [Warning] No further splits with positive gain, best gain: -inf\n",
      "[LightGBM] [Warning] No further splits with positive gain, best gain: -inf\n",
      "[LightGBM] [Warning] No further splits with positive gain, best gain: -inf\n",
      "[LightGBM] [Warning] No further splits with positive gain, best gain: -inf\n",
      "[LightGBM] [Warning] No further splits with positive gain, best gain: -inf\n",
      "[LightGBM] [Warning] No further splits with positive gain, best gain: -inf\n",
      "[LightGBM] [Warning] No further splits with positive gain, best gain: -inf\n",
      "[LightGBM] [Warning] No further splits with positive gain, best gain: -inf\n",
      "[LightGBM] [Warning] No further splits with positive gain, best gain: -inf\n",
      "[LightGBM] [Warning] No further splits with positive gain, best gain: -inf\n",
      "[LightGBM] [Warning] No further splits with positive gain, best gain: -inf\n",
      "[LightGBM] [Warning] No further splits with positive gain, best gain: -inf\n",
      "[LightGBM] [Warning] No further splits with positive gain, best gain: -inf\n",
      "[LightGBM] [Warning] No further splits with positive gain, best gain: -inf\n",
      "[LightGBM] [Warning] No further splits with positive gain, best gain: -inf\n",
      "[LightGBM] [Warning] No further splits with positive gain, best gain: -inf\n",
      "[LightGBM] [Warning] No further splits with positive gain, best gain: -inf\n",
      "[LightGBM] [Warning] No further splits with positive gain, best gain: -inf\n",
      "[LightGBM] [Warning] No further splits with positive gain, best gain: -inf\n",
      "[LightGBM] [Warning] No further splits with positive gain, best gain: -inf\n",
      "[LightGBM] [Warning] No further splits with positive gain, best gain: -inf\n",
      "[LightGBM] [Warning] No further splits with positive gain, best gain: -inf\n",
      "[LightGBM] [Warning] No further splits with positive gain, best gain: -inf\n",
      "[LightGBM] [Warning] No further splits with positive gain, best gain: -inf\n",
      "[LightGBM] [Warning] No further splits with positive gain, best gain: -inf\n",
      "[350]\tvalid_0's l1: 125151\n",
      "[LightGBM] [Warning] No further splits with positive gain, best gain: -inf\n",
      "[LightGBM] [Warning] No further splits with positive gain, best gain: -inf\n",
      "[LightGBM] [Warning] No further splits with positive gain, best gain: -inf\n",
      "[LightGBM] [Warning] No further splits with positive gain, best gain: -inf\n",
      "[LightGBM] [Warning] No further splits with positive gain, best gain: -inf\n",
      "[LightGBM] [Warning] No further splits with positive gain, best gain: -inf\n",
      "[LightGBM] [Warning] No further splits with positive gain, best gain: -inf\n",
      "[LightGBM] [Warning] No further splits with positive gain, best gain: -inf\n",
      "[LightGBM] [Warning] No further splits with positive gain, best gain: -inf\n",
      "[LightGBM] [Warning] No further splits with positive gain, best gain: -inf\n",
      "[LightGBM] [Warning] No further splits with positive gain, best gain: -inf\n",
      "[LightGBM] [Warning] No further splits with positive gain, best gain: -inf\n",
      "[LightGBM] [Warning] No further splits with positive gain, best gain: -inf\n",
      "[LightGBM] [Warning] No further splits with positive gain, best gain: -inf\n",
      "[LightGBM] [Warning] No further splits with positive gain, best gain: -inf\n",
      "[LightGBM] [Warning] No further splits with positive gain, best gain: -inf\n",
      "[LightGBM] [Warning] No further splits with positive gain, best gain: -inf\n",
      "[LightGBM] [Warning] No further splits with positive gain, best gain: -inf\n",
      "[LightGBM] [Warning] No further splits with positive gain, best gain: -inf\n",
      "[LightGBM] [Warning] No further splits with positive gain, best gain: -inf\n",
      "[LightGBM] [Warning] No further splits with positive gain, best gain: -inf\n",
      "[LightGBM] [Warning] No further splits with positive gain, best gain: -inf\n",
      "[LightGBM] [Warning] No further splits with positive gain, best gain: -inf\n",
      "[LightGBM] [Warning] No further splits with positive gain, best gain: -inf\n",
      "[LightGBM] [Warning] No further splits with positive gain, best gain: -inf\n",
      "[LightGBM] [Warning] No further splits with positive gain, best gain: -inf\n",
      "[LightGBM] [Warning] No further splits with positive gain, best gain: -inf\n",
      "[LightGBM] [Warning] No further splits with positive gain, best gain: -inf\n",
      "[LightGBM] [Warning] No further splits with positive gain, best gain: -inf\n",
      "[LightGBM] [Warning] No further splits with positive gain, best gain: -inf\n",
      "[LightGBM] [Warning] No further splits with positive gain, best gain: -inf\n",
      "[LightGBM] [Warning] No further splits with positive gain, best gain: -inf\n",
      "[LightGBM] [Warning] No further splits with positive gain, best gain: -inf\n",
      "[LightGBM] [Warning] No further splits with positive gain, best gain: -inf\n",
      "[LightGBM] [Warning] No further splits with positive gain, best gain: -inf\n",
      "[LightGBM] [Warning] No further splits with positive gain, best gain: -inf\n",
      "[LightGBM] [Warning] No further splits with positive gain, best gain: -inf\n",
      "[LightGBM] [Warning] No further splits with positive gain, best gain: -inf\n",
      "[LightGBM] [Warning] No further splits with positive gain, best gain: -inf\n",
      "[LightGBM] [Warning] No further splits with positive gain, best gain: -inf\n",
      "[LightGBM] [Warning] No further splits with positive gain, best gain: -inf\n",
      "[LightGBM] [Warning] No further splits with positive gain, best gain: -inf\n",
      "[LightGBM] [Warning] No further splits with positive gain, best gain: -inf\n",
      "[LightGBM] [Warning] No further splits with positive gain, best gain: -inf\n",
      "[LightGBM] [Warning] No further splits with positive gain, best gain: -inf\n",
      "[LightGBM] [Warning] No further splits with positive gain, best gain: -inf\n",
      "[LightGBM] [Warning] No further splits with positive gain, best gain: -inf\n",
      "[LightGBM] [Warning] No further splits with positive gain, best gain: -inf\n",
      "[LightGBM] [Warning] No further splits with positive gain, best gain: -inf\n",
      "[LightGBM] [Warning] No further splits with positive gain, best gain: -inf\n",
      "[400]\tvalid_0's l1: 124828\n",
      "[LightGBM] [Warning] No further splits with positive gain, best gain: -inf\n",
      "[LightGBM] [Warning] No further splits with positive gain, best gain: -inf\n",
      "[LightGBM] [Warning] No further splits with positive gain, best gain: -inf\n",
      "[LightGBM] [Warning] No further splits with positive gain, best gain: -inf\n",
      "[LightGBM] [Warning] No further splits with positive gain, best gain: -inf\n",
      "[LightGBM] [Warning] No further splits with positive gain, best gain: -inf\n",
      "[LightGBM] [Warning] No further splits with positive gain, best gain: -inf\n",
      "[LightGBM] [Warning] No further splits with positive gain, best gain: -inf\n",
      "[LightGBM] [Warning] No further splits with positive gain, best gain: -inf\n",
      "[LightGBM] [Warning] No further splits with positive gain, best gain: -inf\n",
      "[LightGBM] [Warning] No further splits with positive gain, best gain: -inf\n",
      "[LightGBM] [Warning] No further splits with positive gain, best gain: -inf\n",
      "[LightGBM] [Warning] No further splits with positive gain, best gain: -inf\n",
      "[LightGBM] [Warning] No further splits with positive gain, best gain: -inf\n",
      "[LightGBM] [Warning] No further splits with positive gain, best gain: -inf\n",
      "[LightGBM] [Warning] No further splits with positive gain, best gain: -inf\n",
      "[LightGBM] [Warning] No further splits with positive gain, best gain: -inf\n",
      "[LightGBM] [Warning] No further splits with positive gain, best gain: -inf\n",
      "[LightGBM] [Warning] No further splits with positive gain, best gain: -inf\n",
      "[LightGBM] [Warning] No further splits with positive gain, best gain: -inf\n",
      "[LightGBM] [Warning] No further splits with positive gain, best gain: -inf\n",
      "[LightGBM] [Warning] No further splits with positive gain, best gain: -inf\n",
      "[LightGBM] [Warning] No further splits with positive gain, best gain: -inf\n",
      "[LightGBM] [Warning] No further splits with positive gain, best gain: -inf\n",
      "[LightGBM] [Warning] No further splits with positive gain, best gain: -inf\n",
      "[LightGBM] [Warning] No further splits with positive gain, best gain: -inf\n",
      "[LightGBM] [Warning] No further splits with positive gain, best gain: -inf\n",
      "[LightGBM] [Warning] No further splits with positive gain, best gain: -inf\n",
      "[LightGBM] [Warning] No further splits with positive gain, best gain: -inf\n",
      "[LightGBM] [Warning] No further splits with positive gain, best gain: -inf\n",
      "[LightGBM] [Warning] No further splits with positive gain, best gain: -inf\n",
      "[LightGBM] [Warning] No further splits with positive gain, best gain: -inf\n",
      "[LightGBM] [Warning] No further splits with positive gain, best gain: -inf\n",
      "[LightGBM] [Warning] No further splits with positive gain, best gain: -inf\n",
      "[LightGBM] [Warning] No further splits with positive gain, best gain: -inf\n",
      "[LightGBM] [Warning] No further splits with positive gain, best gain: -inf\n",
      "[LightGBM] [Warning] No further splits with positive gain, best gain: -inf\n",
      "[LightGBM] [Warning] No further splits with positive gain, best gain: -inf\n",
      "[LightGBM] [Warning] No further splits with positive gain, best gain: -inf\n",
      "[LightGBM] [Warning] No further splits with positive gain, best gain: -inf\n",
      "[LightGBM] [Warning] No further splits with positive gain, best gain: -inf\n",
      "[LightGBM] [Warning] No further splits with positive gain, best gain: -inf\n",
      "[LightGBM] [Warning] No further splits with positive gain, best gain: -inf\n",
      "[LightGBM] [Warning] No further splits with positive gain, best gain: -inf\n",
      "[LightGBM] [Warning] No further splits with positive gain, best gain: -inf\n",
      "[LightGBM] [Warning] No further splits with positive gain, best gain: -inf\n",
      "[LightGBM] [Warning] No further splits with positive gain, best gain: -inf\n",
      "[LightGBM] [Warning] No further splits with positive gain, best gain: -inf\n",
      "[LightGBM] [Warning] No further splits with positive gain, best gain: -inf\n",
      "[LightGBM] [Warning] No further splits with positive gain, best gain: -inf\n",
      "[450]\tvalid_0's l1: 124614\n",
      "[LightGBM] [Warning] No further splits with positive gain, best gain: -inf\n",
      "[LightGBM] [Warning] No further splits with positive gain, best gain: -inf\n",
      "[LightGBM] [Warning] No further splits with positive gain, best gain: -inf\n",
      "[LightGBM] [Warning] No further splits with positive gain, best gain: -inf\n",
      "[LightGBM] [Warning] No further splits with positive gain, best gain: -inf\n",
      "[LightGBM] [Warning] No further splits with positive gain, best gain: -inf\n",
      "[LightGBM] [Warning] No further splits with positive gain, best gain: -inf\n",
      "[LightGBM] [Warning] No further splits with positive gain, best gain: -inf\n",
      "[LightGBM] [Warning] No further splits with positive gain, best gain: -inf\n",
      "[LightGBM] [Warning] No further splits with positive gain, best gain: -inf\n",
      "[LightGBM] [Warning] No further splits with positive gain, best gain: -inf\n",
      "[LightGBM] [Warning] No further splits with positive gain, best gain: -inf\n",
      "[LightGBM] [Warning] No further splits with positive gain, best gain: -inf\n",
      "[LightGBM] [Warning] No further splits with positive gain, best gain: -inf\n",
      "[LightGBM] [Warning] No further splits with positive gain, best gain: -inf\n",
      "[LightGBM] [Warning] No further splits with positive gain, best gain: -inf\n",
      "[LightGBM] [Warning] No further splits with positive gain, best gain: -inf\n",
      "[LightGBM] [Warning] No further splits with positive gain, best gain: -inf\n",
      "[LightGBM] [Warning] No further splits with positive gain, best gain: -inf\n",
      "[LightGBM] [Warning] No further splits with positive gain, best gain: -inf\n",
      "[LightGBM] [Warning] No further splits with positive gain, best gain: -inf\n",
      "[LightGBM] [Warning] No further splits with positive gain, best gain: -inf\n",
      "[LightGBM] [Warning] No further splits with positive gain, best gain: -inf\n",
      "[LightGBM] [Warning] No further splits with positive gain, best gain: -inf\n",
      "[LightGBM] [Warning] No further splits with positive gain, best gain: -inf\n",
      "[LightGBM] [Warning] No further splits with positive gain, best gain: -inf\n",
      "[LightGBM] [Warning] No further splits with positive gain, best gain: -inf\n",
      "[LightGBM] [Warning] No further splits with positive gain, best gain: -inf\n",
      "[LightGBM] [Warning] No further splits with positive gain, best gain: -inf\n",
      "[LightGBM] [Warning] No further splits with positive gain, best gain: -inf\n",
      "[LightGBM] [Warning] No further splits with positive gain, best gain: -inf\n",
      "[LightGBM] [Warning] No further splits with positive gain, best gain: -inf\n",
      "[LightGBM] [Warning] No further splits with positive gain, best gain: -inf\n",
      "[LightGBM] [Warning] No further splits with positive gain, best gain: -inf\n",
      "[LightGBM] [Warning] No further splits with positive gain, best gain: -inf\n",
      "[LightGBM] [Warning] No further splits with positive gain, best gain: -inf\n",
      "[LightGBM] [Warning] No further splits with positive gain, best gain: -inf\n",
      "[LightGBM] [Warning] No further splits with positive gain, best gain: -inf\n",
      "[LightGBM] [Warning] No further splits with positive gain, best gain: -inf\n",
      "[LightGBM] [Warning] No further splits with positive gain, best gain: -inf\n",
      "[LightGBM] [Warning] No further splits with positive gain, best gain: -inf\n",
      "[LightGBM] [Warning] No further splits with positive gain, best gain: -inf\n",
      "[LightGBM] [Warning] No further splits with positive gain, best gain: -inf\n",
      "[LightGBM] [Warning] No further splits with positive gain, best gain: -inf\n",
      "[LightGBM] [Warning] No further splits with positive gain, best gain: -inf\n",
      "[LightGBM] [Warning] No further splits with positive gain, best gain: -inf\n",
      "[LightGBM] [Warning] No further splits with positive gain, best gain: -inf\n",
      "[LightGBM] [Warning] No further splits with positive gain, best gain: -inf\n",
      "[LightGBM] [Warning] No further splits with positive gain, best gain: -inf\n",
      "[LightGBM] [Warning] No further splits with positive gain, best gain: -inf\n",
      "[500]\tvalid_0's l1: 124377\n",
      "Did not meet early stopping. Best iteration is:\n",
      "[500]\tvalid_0's l1: 124377\n",
      "Done!\n"
     ]
    }
   ],
   "source": [
    "d_train = lgb.Dataset(X_train_town, label=Y_train_town)\n",
    "d_valid = lgb.Dataset(X_valid_town, label=Y_valid_town)\n",
    "\n",
    "params = {}\n",
    "params['learning_rate'] = 0.03\n",
    "params['boosting_type'] = 'gbdt'\n",
    "params['objective'] = 'regression'\n",
    "params['metric'] = 'mae'\n",
    "params['sub_feature'] = 0.5\n",
    "params['num_leaves'] = 60\n",
    "params['min_data'] = 500\n",
    "params['min_hessian'] = 1\n",
    "\n",
    "watchlist = [d_valid]\n",
    "clf_town = lgb.train(params, d_train, 500, watchlist,early_stopping_rounds=10, verbose_eval=50)\n",
    "\n",
    "print('Done!')"
   ]
  },
  {
   "cell_type": "code",
   "execution_count": 184,
   "id": "1ef0cfe2-5e11-4413-9d38-32b51fe384e1",
   "metadata": {
    "tags": []
   },
   "outputs": [
    {
     "name": "stdout",
     "output_type": "stream",
     "text": [
      "Model: <lightgbm.basic.Booster object at 0x7f5994ba5600>\n",
      "MAE: 119311.23305618277, RMSE: 261499.39920471507\n"
     ]
    }
   ],
   "source": [
    "# training set error\n",
    "get_eval_metrics([clf_town], X_train_town, Y_train_town)"
   ]
  },
  {
   "cell_type": "code",
   "execution_count": 185,
   "id": "12fad5a8-3298-4d87-8faf-b2f6f6e3e47b",
   "metadata": {
    "tags": []
   },
   "outputs": [
    {
     "name": "stdout",
     "output_type": "stream",
     "text": [
      "mean log error 0.20656845706021937\n"
     ]
    }
   ],
   "source": [
    "# training log error\n",
    "p_train = clf_town.predict(X_train_town)\n",
    "p_train = replace_negative_with_one(p_train)\n",
    "import math\n",
    "logerror = np.log(p_train) - np.log(Y_train_town)\n",
    "print('mean log error', np.mean(logerror))"
   ]
  },
  {
   "cell_type": "code",
   "execution_count": 186,
   "id": "82050b29-580e-4cab-a35d-55e791398fc2",
   "metadata": {
    "tags": []
   },
   "outputs": [
    {
     "name": "stdout",
     "output_type": "stream",
     "text": [
      "Model: <lightgbm.basic.Booster object at 0x7f5994ba5600>\n",
      "MAE: 121519.20639091653, RMSE: 188367.63307351354\n"
     ]
    }
   ],
   "source": [
    "# testing set error\n",
    "get_eval_metrics([clf_town], X_test_town, Y_test_town)"
   ]
  },
  {
   "cell_type": "code",
   "execution_count": 187,
   "id": "29cb45d1-af49-4589-8a5e-7f7668e753b0",
   "metadata": {
    "tags": []
   },
   "outputs": [
    {
     "name": "stdout",
     "output_type": "stream",
     "text": [
      "mean log error 0.19122900368683035\n"
     ]
    }
   ],
   "source": [
    "# testing log error\n",
    "\n",
    "p_test = clf_town.predict(X_test_town)\n",
    "p_test = replace_negative_with_one(p_test)\n",
    "import math\n",
    "logerror = np.log(p_test) - np.log(Y_test_town)\n",
    "print('mean log error', np.mean(logerror))"
   ]
  },
  {
   "cell_type": "code",
   "execution_count": 188,
   "id": "9b8607c1-4c2a-4329-b266-30537aff209d",
   "metadata": {
    "tags": []
   },
   "outputs": [
    {
     "data": {
      "text/plain": [
       "<AxesSubplot:title={'center':'Feature importance'}, xlabel='Feature importance', ylabel='Features'>"
      ]
     },
     "execution_count": 188,
     "metadata": {},
     "output_type": "execute_result"
    },
    {
     "data": {
      "image/png": "[encoded data removed]",
      "text/plain": [
       "<Figure size 432x288 with 1 Axes>"
      ]
     },
     "metadata": {
      "needs_background": "light"
     },
     "output_type": "display_data"
    }
   ],
   "source": [
    "from lightgbm import plot_importance\n",
    "plot_importance(clf_town, max_num_features = 15)"
   ]
  },
  {
   "cell_type": "markdown",
   "id": "ae519b8b-fd3d-4a66-ab19-800c5997f98a",
   "metadata": {
    "tags": [],
    "user_expressions": []
   },
   "source": [
    "## Mobile Home"
   ]
  },
  {
   "cell_type": "markdown",
   "id": "84d20e63-8100-4caa-96d0-8c0c436e70d4",
   "metadata": {
    "tags": [],
    "user_expressions": []
   },
   "source": [
    "### xgboost"
   ]
  },
  {
   "cell_type": "code",
   "execution_count": 189,
   "id": "4ac76bcb-54ce-40d1-a186-c42ecafb5707",
   "metadata": {
    "tags": []
   },
   "outputs": [],
   "source": [
    "train_mob, valid_mob = train_test_split(train_mob, test_size=0.2)\n",
    "#set validation set for early stopping\n",
    "\n",
    "X_train_mob = train_mob.drop(['price'], axis =1)\n",
    "Y_train_mob= train_mob['price']\n",
    "X_valid_mob = valid_mob.drop(['price'], axis =1)\n",
    "Y_valid_mob = valid_mob['price']"
   ]
  },
  {
   "cell_type": "code",
   "execution_count": 190,
   "id": "eb2f9804-80e7-4fe5-8269-bb6a51d472d7",
   "metadata": {
    "tags": []
   },
   "outputs": [
    {
     "name": "stdout",
     "output_type": "stream",
     "text": [
      "Training ...\n",
      "[21:13:32] WARNING: ../src/objective/regression_obj.cu:213: reg:linear is now deprecated in favor of reg:squarederror.\n",
      "[21:13:32] WARNING: ../src/learner.cc:767: \n",
      "Parameters: { \"silent\" } are not used.\n",
      "\n",
      "[0]\ttrain-mae:42633.79660\tvalid-mae:39759.86007\n",
      "[50]\ttrain-mae:23205.87102\tvalid-mae:21686.33058\n",
      "[68]\ttrain-mae:22801.37102\tvalid-mae:21635.68640\n",
      "Done!\n"
     ]
    }
   ],
   "source": [
    "d_train_mob = xgb.DMatrix(X_train_mob, label=Y_train_mob, enable_categorical=True)\n",
    "d_valid_mob = xgb.DMatrix(X_valid_mob, label=Y_valid_mob, enable_categorical=True)\n",
    "\n",
    "\n",
    "print('Training ...')\n",
    "\n",
    "params = {}\n",
    "params['eta'] = 0.03\n",
    "params['objective'] = 'reg:linear'\n",
    "params['eval_metric'] = 'mae'\n",
    "params['max_depth'] = 4\n",
    "params['silent'] = 1\n",
    "\n",
    "watchlist = [(d_train_mob, 'train'), (d_valid_mob, 'valid')]\n",
    "clf_mob = xgb.train(params, d_train_mob, 10000, watchlist, early_stopping_rounds=10, verbose_eval=50)\n",
    "\n",
    "\n",
    "\n",
    "d_test_mob = xgb.DMatrix(X_test_mob, enable_categorical=True)\n",
    "\n",
    "\n",
    "print('Done!')"
   ]
  },
  {
   "cell_type": "code",
   "execution_count": 191,
   "id": "0a4c9b7c-0458-4685-a2ce-9c99ebb9800c",
   "metadata": {
    "tags": []
   },
   "outputs": [
    {
     "name": "stdout",
     "output_type": "stream",
     "text": [
      "Model: <xgboost.core.Booster object at 0x7f5994a0fc70>\n",
      "MAE: 22801.37109375, RMSE: 55684.890625\n"
     ]
    }
   ],
   "source": [
    "# training set error\n",
    "get_eval_metrics([clf_mob], d_train_mob, Y_train_mob)"
   ]
  },
  {
   "cell_type": "code",
   "execution_count": 194,
   "id": "199051a2-01e0-4021-832b-995baa48e1ef",
   "metadata": {
    "tags": []
   },
   "outputs": [
    {
     "name": "stdout",
     "output_type": "stream",
     "text": [
      "mean log error 0.26760718\n"
     ]
    }
   ],
   "source": [
    "# training set log error\n",
    "\n",
    "d_train = xgb.DMatrix(X_train_mob, enable_categorical=True)\n",
    "p_train = clf_mob.predict(d_train)\n",
    "p_train = replace_negative_with_one(p_train)\n",
    "import math\n",
    "logerror = np.log(p_train) - np.log(Y_train_mob)\n",
    "print('mean log error', np.mean(logerror))"
   ]
  },
  {
   "cell_type": "code",
   "execution_count": 195,
   "id": "0d654746-2cfc-42b8-8619-d573ca8feff7",
   "metadata": {
    "tags": []
   },
   "outputs": [
    {
     "name": "stdout",
     "output_type": "stream",
     "text": [
      "Model: <xgboost.core.Booster object at 0x7f5994a0fc70>\n",
      "MAE: 22409.224609375, RMSE: 50282.3515625\n"
     ]
    }
   ],
   "source": [
    "# testing set error\n",
    "get_eval_metrics([clf_mob], d_test_mob, Y_test_mob)"
   ]
  },
  {
   "cell_type": "code",
   "execution_count": 197,
   "id": "b3d1b032-bbd6-4945-ae20-66d643cad78e",
   "metadata": {
    "tags": []
   },
   "outputs": [
    {
     "name": "stdout",
     "output_type": "stream",
     "text": [
      "mean log error 0.28762963\n"
     ]
    }
   ],
   "source": [
    "# testing set log error\n",
    "\n",
    "d_test = xgb.DMatrix(X_test_mob, enable_categorical=True)\n",
    "p_test = clf_mob.predict(d_test)\n",
    "p_test = replace_negative_with_one(p_test)\n",
    "\n",
    "logerror = np.log(p_test) - np.log(Y_test_mob)\n",
    "print('mean log error', np.mean(logerror))"
   ]
  },
  {
   "cell_type": "code",
   "execution_count": 198,
   "id": "cf2ccf3e-5955-43b5-8b7e-a9829f74b9f0",
   "metadata": {
    "tags": []
   },
   "outputs": [
    {
     "data": {
      "text/plain": [
       "<AxesSubplot:title={'center':'Feature importance'}, xlabel='F score', ylabel='Features'>"
      ]
     },
     "execution_count": 198,
     "metadata": {},
     "output_type": "execute_result"
    },
    {
     "data": {
      "image/png": "[encoded data removed]",
      "text/plain": [
       "<Figure size 432x288 with 1 Axes>"
      ]
     },
     "metadata": {
      "needs_background": "light"
     },
     "output_type": "display_data"
    }
   ],
   "source": [
    "from xgboost import plot_importance\n",
    "plot_importance(clf_mob, max_num_features = 15)"
   ]
  },
  {
   "cell_type": "markdown",
   "id": "47a1dd7f-b9df-41f2-9b41-d76c59874a4b",
   "metadata": {
    "tags": [],
    "user_expressions": []
   },
   "source": [
    "### lightgbm"
   ]
  },
  {
   "cell_type": "code",
   "execution_count": 199,
   "id": "f012aab7-a5c0-4911-b5be-ceedc381b32f",
   "metadata": {},
   "outputs": [
    {
     "name": "stderr",
     "output_type": "stream",
     "text": [
      "/accounts/grad/huz4/.local/lib/python3.10/site-packages/lightgbm/engine.py:181: UserWarning: 'early_stopping_rounds' argument is deprecated and will be removed in a future release of LightGBM. Pass 'early_stopping()' callback via 'callbacks' argument instead.\n",
      "  _log_warning(\"'early_stopping_rounds' argument is deprecated and will be removed in a future release of LightGBM. \"\n",
      "/accounts/grad/huz4/.local/lib/python3.10/site-packages/lightgbm/engine.py:239: UserWarning: 'verbose_eval' argument is deprecated and will be removed in a future release of LightGBM. Pass 'log_evaluation()' callback via 'callbacks' argument instead.\n",
      "  _log_warning(\"'verbose_eval' argument is deprecated and will be removed in a future release of LightGBM. \"\n",
      "/accounts/grad/huz4/.local/lib/python3.10/site-packages/lightgbm/basic.py:1780: UserWarning: Overriding the parameters from Reference Dataset.\n",
      "  _log_warning('Overriding the parameters from Reference Dataset.')\n",
      "/accounts/grad/huz4/.local/lib/python3.10/site-packages/lightgbm/basic.py:1513: UserWarning: categorical_column in param dict is overridden.\n",
      "  _log_warning(f'{cat_alias} in param dict is overridden.')\n"
     ]
    },
    {
     "name": "stdout",
     "output_type": "stream",
     "text": [
      "[LightGBM] [Warning] Auto-choosing row-wise multi-threading, the overhead of testing was 0.000972 seconds.\n",
      "You can set `force_row_wise=true` to remove the overhead.\n",
      "And if memory is not enough, you can set `force_col_wise=true`.\n",
      "[LightGBM] [Info] Total Bins 1113\n",
      "[LightGBM] [Info] Number of data points in the train set: 14769, number of used features: 11\n",
      "[LightGBM] [Info] Start training from score 43941.562597\n",
      "[LightGBM] [Warning] No further splits with positive gain, best gain: -inf\n",
      "Training until validation scores don't improve for 10 rounds\n",
      "[LightGBM] [Warning] No further splits with positive gain, best gain: -inf\n",
      "[LightGBM] [Warning] No further splits with positive gain, best gain: -inf\n",
      "[LightGBM] [Warning] No further splits with positive gain, best gain: -inf\n",
      "[LightGBM] [Warning] No further splits with positive gain, best gain: -inf\n",
      "[LightGBM] [Warning] No further splits with positive gain, best gain: -inf\n",
      "[LightGBM] [Warning] No further splits with positive gain, best gain: -inf\n",
      "[LightGBM] [Warning] No further splits with positive gain, best gain: -inf\n",
      "[LightGBM] [Warning] No further splits with positive gain, best gain: -inf\n",
      "[LightGBM] [Warning] No further splits with positive gain, best gain: -inf\n",
      "[LightGBM] [Warning] No further splits with positive gain, best gain: -inf\n",
      "[LightGBM] [Warning] No further splits with positive gain, best gain: -inf\n",
      "[LightGBM] [Warning] No further splits with positive gain, best gain: -inf\n",
      "[LightGBM] [Warning] No further splits with positive gain, best gain: -inf\n",
      "[LightGBM] [Warning] No further splits with positive gain, best gain: -inf\n",
      "[LightGBM] [Warning] No further splits with positive gain, best gain: -inf\n",
      "[LightGBM] [Warning] No further splits with positive gain, best gain: -inf\n",
      "[LightGBM] [Warning] No further splits with positive gain, best gain: -inf\n",
      "[LightGBM] [Warning] No further splits with positive gain, best gain: -inf\n",
      "[LightGBM] [Warning] No further splits with positive gain, best gain: -inf\n",
      "[LightGBM] [Warning] No further splits with positive gain, best gain: -inf\n",
      "[LightGBM] [Warning] No further splits with positive gain, best gain: -inf\n",
      "[LightGBM] [Warning] No further splits with positive gain, best gain: -inf\n",
      "[LightGBM] [Warning] No further splits with positive gain, best gain: -inf\n",
      "[LightGBM] [Warning] No further splits with positive gain, best gain: -inf\n",
      "[LightGBM] [Warning] No further splits with positive gain, best gain: -inf\n",
      "[LightGBM] [Warning] No further splits with positive gain, best gain: -inf\n",
      "[LightGBM] [Warning] No further splits with positive gain, best gain: -inf\n",
      "[LightGBM] [Warning] No further splits with positive gain, best gain: -inf\n",
      "[LightGBM] [Warning] No further splits with positive gain, best gain: -inf\n",
      "[LightGBM] [Warning] No further splits with positive gain, best gain: -inf\n",
      "[LightGBM] [Warning] No further splits with positive gain, best gain: -inf\n",
      "[LightGBM] [Warning] No further splits with positive gain, best gain: -inf\n",
      "[LightGBM] [Warning] No further splits with positive gain, best gain: -inf\n",
      "[LightGBM] [Warning] No further splits with positive gain, best gain: -inf\n",
      "[LightGBM] [Warning] No further splits with positive gain, best gain: -inf\n",
      "[LightGBM] [Warning] No further splits with positive gain, best gain: -inf\n",
      "[LightGBM] [Warning] No further splits with positive gain, best gain: -inf\n",
      "[LightGBM] [Warning] No further splits with positive gain, best gain: -inf\n",
      "[LightGBM] [Warning] No further splits with positive gain, best gain: -inf\n",
      "[LightGBM] [Warning] No further splits with positive gain, best gain: -inf\n",
      "[LightGBM] [Warning] No further splits with positive gain, best gain: -inf\n",
      "[LightGBM] [Warning] No further splits with positive gain, best gain: -inf\n",
      "[LightGBM] [Warning] No further splits with positive gain, best gain: -inf\n",
      "[LightGBM] [Warning] No further splits with positive gain, best gain: -inf\n",
      "[LightGBM] [Warning] No further splits with positive gain, best gain: -inf\n",
      "[LightGBM] [Warning] No further splits with positive gain, best gain: -inf\n",
      "[LightGBM] [Warning] No further splits with positive gain, best gain: -inf\n",
      "[LightGBM] [Warning] No further splits with positive gain, best gain: -inf\n",
      "[LightGBM] [Warning] No further splits with positive gain, best gain: -inf\n",
      "[50]\tvalid_0's l1: 25195.4\n",
      "[LightGBM] [Warning] No further splits with positive gain, best gain: -inf\n",
      "[LightGBM] [Warning] No further splits with positive gain, best gain: -inf\n",
      "[LightGBM] [Warning] No further splits with positive gain, best gain: -inf\n",
      "[LightGBM] [Warning] No further splits with positive gain, best gain: -inf\n",
      "[LightGBM] [Warning] No further splits with positive gain, best gain: -inf\n",
      "[LightGBM] [Warning] No further splits with positive gain, best gain: -inf\n",
      "[LightGBM] [Warning] No further splits with positive gain, best gain: -inf\n",
      "[LightGBM] [Warning] No further splits with positive gain, best gain: -inf\n",
      "[LightGBM] [Warning] No further splits with positive gain, best gain: -inf\n",
      "[LightGBM] [Warning] No further splits with positive gain, best gain: -inf\n",
      "[LightGBM] [Warning] No further splits with positive gain, best gain: -inf\n",
      "[LightGBM] [Warning] No further splits with positive gain, best gain: -inf\n",
      "[LightGBM] [Warning] No further splits with positive gain, best gain: -inf\n",
      "[LightGBM] [Warning] No further splits with positive gain, best gain: -inf\n",
      "[LightGBM] [Warning] No further splits with positive gain, best gain: -inf\n",
      "[LightGBM] [Warning] No further splits with positive gain, best gain: -inf\n",
      "[LightGBM] [Warning] No further splits with positive gain, best gain: -inf\n",
      "[LightGBM] [Warning] No further splits with positive gain, best gain: -inf\n",
      "[LightGBM] [Warning] No further splits with positive gain, best gain: -inf\n",
      "[LightGBM] [Warning] No further splits with positive gain, best gain: -inf\n",
      "[LightGBM] [Warning] No further splits with positive gain, best gain: -inf\n",
      "[LightGBM] [Warning] No further splits with positive gain, best gain: -inf\n",
      "[LightGBM] [Warning] No further splits with positive gain, best gain: -inf\n",
      "[LightGBM] [Warning] No further splits with positive gain, best gain: -inf\n",
      "[LightGBM] [Warning] No further splits with positive gain, best gain: -inf\n",
      "[LightGBM] [Warning] No further splits with positive gain, best gain: -inf\n",
      "[LightGBM] [Warning] No further splits with positive gain, best gain: -inf\n",
      "[LightGBM] [Warning] No further splits with positive gain, best gain: -inf\n",
      "[LightGBM] [Warning] No further splits with positive gain, best gain: -inf\n",
      "[LightGBM] [Warning] No further splits with positive gain, best gain: -inf\n",
      "[LightGBM] [Warning] No further splits with positive gain, best gain: -inf\n",
      "[LightGBM] [Warning] No further splits with positive gain, best gain: -inf\n",
      "[LightGBM] [Warning] No further splits with positive gain, best gain: -inf\n",
      "[LightGBM] [Warning] No further splits with positive gain, best gain: -inf\n",
      "[LightGBM] [Warning] No further splits with positive gain, best gain: -inf\n",
      "[LightGBM] [Warning] No further splits with positive gain, best gain: -inf\n",
      "[LightGBM] [Warning] No further splits with positive gain, best gain: -inf\n",
      "[LightGBM] [Warning] No further splits with positive gain, best gain: -inf\n",
      "[LightGBM] [Warning] No further splits with positive gain, best gain: -inf\n",
      "[LightGBM] [Warning] No further splits with positive gain, best gain: -inf\n",
      "[LightGBM] [Warning] No further splits with positive gain, best gain: -inf\n",
      "[LightGBM] [Warning] No further splits with positive gain, best gain: -inf\n",
      "[LightGBM] [Warning] No further splits with positive gain, best gain: -inf\n",
      "[LightGBM] [Warning] No further splits with positive gain, best gain: -inf\n",
      "[LightGBM] [Warning] No further splits with positive gain, best gain: -inf\n",
      "[LightGBM] [Warning] No further splits with positive gain, best gain: -inf\n",
      "[LightGBM] [Warning] No further splits with positive gain, best gain: -inf\n",
      "[LightGBM] [Warning] No further splits with positive gain, best gain: -inf\n",
      "[LightGBM] [Warning] No further splits with positive gain, best gain: -inf\n",
      "[LightGBM] [Warning] No further splits with positive gain, best gain: -inf\n",
      "[100]\tvalid_0's l1: 23571.5\n",
      "[LightGBM] [Warning] No further splits with positive gain, best gain: -inf\n",
      "[LightGBM] [Warning] No further splits with positive gain, best gain: -inf\n",
      "[LightGBM] [Warning] No further splits with positive gain, best gain: -inf\n",
      "[LightGBM] [Warning] No further splits with positive gain, best gain: -inf\n",
      "[LightGBM] [Warning] No further splits with positive gain, best gain: -inf\n",
      "[LightGBM] [Warning] No further splits with positive gain, best gain: -inf\n",
      "[LightGBM] [Warning] No further splits with positive gain, best gain: -inf\n",
      "[LightGBM] [Warning] No further splits with positive gain, best gain: -inf\n",
      "[LightGBM] [Warning] No further splits with positive gain, best gain: -inf\n",
      "[LightGBM] [Warning] No further splits with positive gain, best gain: -inf\n",
      "[LightGBM] [Warning] No further splits with positive gain, best gain: -inf\n",
      "[LightGBM] [Warning] No further splits with positive gain, best gain: -inf\n",
      "[LightGBM] [Warning] No further splits with positive gain, best gain: -inf\n",
      "[LightGBM] [Warning] No further splits with positive gain, best gain: -inf\n",
      "[LightGBM] [Warning] No further splits with positive gain, best gain: -inf\n",
      "[LightGBM] [Warning] No further splits with positive gain, best gain: -inf\n",
      "[LightGBM] [Warning] No further splits with positive gain, best gain: -inf\n",
      "[LightGBM] [Warning] No further splits with positive gain, best gain: -inf\n",
      "[LightGBM] [Warning] No further splits with positive gain, best gain: -inf\n",
      "[LightGBM] [Warning] No further splits with positive gain, best gain: -inf\n",
      "[LightGBM] [Warning] No further splits with positive gain, best gain: -inf\n",
      "[LightGBM] [Warning] No further splits with positive gain, best gain: -inf\n",
      "[LightGBM] [Warning] No further splits with positive gain, best gain: -inf\n",
      "[LightGBM] [Warning] No further splits with positive gain, best gain: -inf\n",
      "[LightGBM] [Warning] No further splits with positive gain, best gain: -inf\n",
      "[LightGBM] [Warning] No further splits with positive gain, best gain: -inf\n",
      "[LightGBM] [Warning] No further splits with positive gain, best gain: -inf\n",
      "[LightGBM] [Warning] No further splits with positive gain, best gain: -inf\n",
      "[LightGBM] [Warning] No further splits with positive gain, best gain: -inf\n",
      "[LightGBM] [Warning] No further splits with positive gain, best gain: -inf\n",
      "[LightGBM] [Warning] No further splits with positive gain, best gain: -inf\n",
      "[LightGBM] [Warning] No further splits with positive gain, best gain: -inf\n",
      "[LightGBM] [Warning] No further splits with positive gain, best gain: -inf\n",
      "[LightGBM] [Warning] No further splits with positive gain, best gain: -inf\n",
      "[LightGBM] [Warning] No further splits with positive gain, best gain: -inf\n",
      "[LightGBM] [Warning] No further splits with positive gain, best gain: -inf\n",
      "[LightGBM] [Warning] No further splits with positive gain, best gain: -inf\n",
      "[LightGBM] [Warning] No further splits with positive gain, best gain: -inf\n",
      "[LightGBM] [Warning] No further splits with positive gain, best gain: -inf\n",
      "[LightGBM] [Warning] No further splits with positive gain, best gain: -inf\n",
      "[LightGBM] [Warning] No further splits with positive gain, best gain: -inf\n",
      "[LightGBM] [Warning] No further splits with positive gain, best gain: -inf\n",
      "[LightGBM] [Warning] No further splits with positive gain, best gain: -inf\n",
      "[LightGBM] [Warning] No further splits with positive gain, best gain: -inf\n",
      "[LightGBM] [Warning] No further splits with positive gain, best gain: -inf\n",
      "[LightGBM] [Warning] No further splits with positive gain, best gain: -inf\n",
      "[LightGBM] [Warning] No further splits with positive gain, best gain: -inf\n",
      "[LightGBM] [Warning] No further splits with positive gain, best gain: -inf\n",
      "[LightGBM] [Warning] No further splits with positive gain, best gain: -inf\n",
      "[LightGBM] [Warning] No further splits with positive gain, best gain: -inf\n",
      "[150]\tvalid_0's l1: 22897\n",
      "[LightGBM] [Warning] No further splits with positive gain, best gain: -inf\n",
      "[LightGBM] [Warning] No further splits with positive gain, best gain: -inf\n",
      "[LightGBM] [Warning] No further splits with positive gain, best gain: -inf\n",
      "[LightGBM] [Warning] No further splits with positive gain, best gain: -inf\n",
      "[LightGBM] [Warning] No further splits with positive gain, best gain: -inf\n",
      "[LightGBM] [Warning] No further splits with positive gain, best gain: -inf\n",
      "[LightGBM] [Warning] No further splits with positive gain, best gain: -inf\n",
      "[LightGBM] [Warning] No further splits with positive gain, best gain: -inf\n",
      "[LightGBM] [Warning] No further splits with positive gain, best gain: -inf\n",
      "[LightGBM] [Warning] No further splits with positive gain, best gain: -inf\n",
      "[LightGBM] [Warning] No further splits with positive gain, best gain: -inf\n",
      "[LightGBM] [Warning] No further splits with positive gain, best gain: -inf\n",
      "[LightGBM] [Warning] No further splits with positive gain, best gain: -inf\n",
      "[LightGBM] [Warning] No further splits with positive gain, best gain: -inf\n",
      "[LightGBM] [Warning] No further splits with positive gain, best gain: -inf\n",
      "[LightGBM] [Warning] No further splits with positive gain, best gain: -inf\n",
      "[LightGBM] [Warning] No further splits with positive gain, best gain: -inf\n",
      "[LightGBM] [Warning] No further splits with positive gain, best gain: -inf\n",
      "[LightGBM] [Warning] No further splits with positive gain, best gain: -inf\n",
      "[LightGBM] [Warning] No further splits with positive gain, best gain: -inf\n",
      "[LightGBM] [Warning] No further splits with positive gain, best gain: -inf\n",
      "[LightGBM] [Warning] No further splits with positive gain, best gain: -inf\n",
      "[LightGBM] [Warning] No further splits with positive gain, best gain: -inf\n",
      "[LightGBM] [Warning] No further splits with positive gain, best gain: -inf\n",
      "[LightGBM] [Warning] No further splits with positive gain, best gain: -inf\n",
      "[LightGBM] [Warning] No further splits with positive gain, best gain: -inf\n",
      "[LightGBM] [Warning] No further splits with positive gain, best gain: -inf\n",
      "[LightGBM] [Warning] No further splits with positive gain, best gain: -inf\n",
      "[LightGBM] [Warning] No further splits with positive gain, best gain: -inf\n",
      "[LightGBM] [Warning] No further splits with positive gain, best gain: -inf\n",
      "[LightGBM] [Warning] No further splits with positive gain, best gain: -inf\n",
      "[LightGBM] [Warning] No further splits with positive gain, best gain: -inf\n",
      "[LightGBM] [Warning] No further splits with positive gain, best gain: -inf\n",
      "[LightGBM] [Warning] No further splits with positive gain, best gain: -inf\n",
      "[LightGBM] [Warning] No further splits with positive gain, best gain: -inf\n",
      "[LightGBM] [Warning] No further splits with positive gain, best gain: -inf\n",
      "[LightGBM] [Warning] No further splits with positive gain, best gain: -inf\n",
      "[LightGBM] [Warning] No further splits with positive gain, best gain: -inf\n",
      "[LightGBM] [Warning] No further splits with positive gain, best gain: -inf\n",
      "[LightGBM] [Warning] No further splits with positive gain, best gain: -inf\n",
      "[LightGBM] [Warning] No further splits with positive gain, best gain: -inf\n",
      "[LightGBM] [Warning] No further splits with positive gain, best gain: -inf\n",
      "[LightGBM] [Warning] No further splits with positive gain, best gain: -inf\n",
      "[LightGBM] [Warning] No further splits with positive gain, best gain: -inf\n",
      "[LightGBM] [Warning] No further splits with positive gain, best gain: -inf\n",
      "[LightGBM] [Warning] No further splits with positive gain, best gain: -inf\n",
      "[LightGBM] [Warning] No further splits with positive gain, best gain: -inf\n",
      "[LightGBM] [Warning] No further splits with positive gain, best gain: -inf\n",
      "[LightGBM] [Warning] No further splits with positive gain, best gain: -inf\n",
      "[LightGBM] [Warning] No further splits with positive gain, best gain: -inf\n",
      "[200]\tvalid_0's l1: 22516.2\n",
      "[LightGBM] [Warning] No further splits with positive gain, best gain: -inf\n",
      "[LightGBM] [Warning] No further splits with positive gain, best gain: -inf\n",
      "[LightGBM] [Warning] No further splits with positive gain, best gain: -inf\n",
      "[LightGBM] [Warning] No further splits with positive gain, best gain: -inf\n",
      "[LightGBM] [Warning] No further splits with positive gain, best gain: -inf\n",
      "[LightGBM] [Warning] No further splits with positive gain, best gain: -inf\n",
      "[LightGBM] [Warning] No further splits with positive gain, best gain: -inf\n",
      "[LightGBM] [Warning] No further splits with positive gain, best gain: -inf\n",
      "[LightGBM] [Warning] No further splits with positive gain, best gain: -inf\n",
      "[LightGBM] [Warning] No further splits with positive gain, best gain: -inf\n",
      "[LightGBM] [Warning] No further splits with positive gain, best gain: -inf\n",
      "[LightGBM] [Warning] No further splits with positive gain, best gain: -inf\n",
      "[LightGBM] [Warning] No further splits with positive gain, best gain: -inf\n",
      "[LightGBM] [Warning] No further splits with positive gain, best gain: -inf\n",
      "[LightGBM] [Warning] No further splits with positive gain, best gain: -inf\n",
      "[LightGBM] [Warning] No further splits with positive gain, best gain: -inf\n",
      "[LightGBM] [Warning] No further splits with positive gain, best gain: -inf\n",
      "[LightGBM] [Warning] No further splits with positive gain, best gain: -inf\n",
      "[LightGBM] [Warning] No further splits with positive gain, best gain: -inf\n",
      "[LightGBM] [Warning] No further splits with positive gain, best gain: -inf\n",
      "[LightGBM] [Warning] No further splits with positive gain, best gain: -inf\n",
      "[LightGBM] [Warning] No further splits with positive gain, best gain: -inf\n",
      "[LightGBM] [Warning] No further splits with positive gain, best gain: -inf\n",
      "[LightGBM] [Warning] No further splits with positive gain, best gain: -inf\n",
      "[LightGBM] [Warning] No further splits with positive gain, best gain: -inf\n",
      "[LightGBM] [Warning] No further splits with positive gain, best gain: -inf\n",
      "[LightGBM] [Warning] No further splits with positive gain, best gain: -inf\n",
      "[LightGBM] [Warning] No further splits with positive gain, best gain: -inf\n",
      "[LightGBM] [Warning] No further splits with positive gain, best gain: -inf\n",
      "[LightGBM] [Warning] No further splits with positive gain, best gain: -inf\n",
      "[LightGBM] [Warning] No further splits with positive gain, best gain: -inf\n",
      "[LightGBM] [Warning] No further splits with positive gain, best gain: -inf\n",
      "[LightGBM] [Warning] No further splits with positive gain, best gain: -inf\n",
      "[LightGBM] [Warning] No further splits with positive gain, best gain: -inf\n",
      "[LightGBM] [Warning] No further splits with positive gain, best gain: -inf\n",
      "[LightGBM] [Warning] No further splits with positive gain, best gain: -inf\n",
      "[LightGBM] [Warning] No further splits with positive gain, best gain: -inf\n",
      "[LightGBM] [Warning] No further splits with positive gain, best gain: -inf\n",
      "[LightGBM] [Warning] No further splits with positive gain, best gain: -inf\n",
      "[LightGBM] [Warning] No further splits with positive gain, best gain: -inf\n",
      "[LightGBM] [Warning] No further splits with positive gain, best gain: -inf\n",
      "[LightGBM] [Warning] No further splits with positive gain, best gain: -inf\n",
      "[LightGBM] [Warning] No further splits with positive gain, best gain: -inf\n",
      "[LightGBM] [Warning] No further splits with positive gain, best gain: -inf\n",
      "[LightGBM] [Warning] No further splits with positive gain, best gain: -inf\n",
      "[LightGBM] [Warning] No further splits with positive gain, best gain: -inf\n",
      "[LightGBM] [Warning] No further splits with positive gain, best gain: -inf\n",
      "[LightGBM] [Warning] No further splits with positive gain, best gain: -inf\n",
      "[LightGBM] [Warning] No further splits with positive gain, best gain: -inf\n",
      "[LightGBM] [Warning] No further splits with positive gain, best gain: -inf\n",
      "[250]\tvalid_0's l1: 22294.6\n",
      "[LightGBM] [Warning] No further splits with positive gain, best gain: -inf\n",
      "[LightGBM] [Warning] No further splits with positive gain, best gain: -inf\n",
      "[LightGBM] [Warning] No further splits with positive gain, best gain: -inf\n",
      "[LightGBM] [Warning] No further splits with positive gain, best gain: -inf\n",
      "[LightGBM] [Warning] No further splits with positive gain, best gain: -inf\n",
      "[LightGBM] [Warning] No further splits with positive gain, best gain: -inf\n",
      "[LightGBM] [Warning] No further splits with positive gain, best gain: -inf\n",
      "[LightGBM] [Warning] No further splits with positive gain, best gain: -inf\n",
      "[LightGBM] [Warning] No further splits with positive gain, best gain: -inf\n",
      "[LightGBM] [Warning] No further splits with positive gain, best gain: -inf\n",
      "[LightGBM] [Warning] No further splits with positive gain, best gain: -inf\n",
      "[LightGBM] [Warning] No further splits with positive gain, best gain: -inf\n",
      "[LightGBM] [Warning] No further splits with positive gain, best gain: -inf\n",
      "[LightGBM] [Warning] No further splits with positive gain, best gain: -inf\n",
      "[LightGBM] [Warning] No further splits with positive gain, best gain: -inf\n",
      "[LightGBM] [Warning] No further splits with positive gain, best gain: -inf\n",
      "[LightGBM] [Warning] No further splits with positive gain, best gain: -inf\n",
      "[LightGBM] [Warning] No further splits with positive gain, best gain: -inf\n",
      "[LightGBM] [Warning] No further splits with positive gain, best gain: -inf\n",
      "[LightGBM] [Warning] No further splits with positive gain, best gain: -inf\n",
      "[LightGBM] [Warning] No further splits with positive gain, best gain: -inf\n",
      "[LightGBM] [Warning] No further splits with positive gain, best gain: -inf\n",
      "[LightGBM] [Warning] No further splits with positive gain, best gain: -inf\n",
      "[LightGBM] [Warning] No further splits with positive gain, best gain: -inf\n",
      "[LightGBM] [Warning] No further splits with positive gain, best gain: -inf\n",
      "[LightGBM] [Warning] No further splits with positive gain, best gain: -inf\n",
      "[LightGBM] [Warning] No further splits with positive gain, best gain: -inf\n",
      "[LightGBM] [Warning] No further splits with positive gain, best gain: -inf\n",
      "[LightGBM] [Warning] No further splits with positive gain, best gain: -inf\n",
      "[LightGBM] [Warning] No further splits with positive gain, best gain: -inf\n",
      "[LightGBM] [Warning] No further splits with positive gain, best gain: -inf\n",
      "[LightGBM] [Warning] No further splits with positive gain, best gain: -inf\n",
      "[LightGBM] [Warning] No further splits with positive gain, best gain: -inf\n",
      "[LightGBM] [Warning] No further splits with positive gain, best gain: -inf\n",
      "[LightGBM] [Warning] No further splits with positive gain, best gain: -inf\n",
      "[LightGBM] [Warning] No further splits with positive gain, best gain: -inf\n",
      "[LightGBM] [Warning] No further splits with positive gain, best gain: -inf\n",
      "[LightGBM] [Warning] No further splits with positive gain, best gain: -inf\n",
      "[LightGBM] [Warning] No further splits with positive gain, best gain: -inf\n",
      "[LightGBM] [Warning] No further splits with positive gain, best gain: -inf\n",
      "[LightGBM] [Warning] No further splits with positive gain, best gain: -inf\n",
      "[LightGBM] [Warning] No further splits with positive gain, best gain: -inf\n",
      "[LightGBM] [Warning] No further splits with positive gain, best gain: -inf\n",
      "[LightGBM] [Warning] No further splits with positive gain, best gain: -inf\n",
      "[LightGBM] [Warning] No further splits with positive gain, best gain: -inf\n",
      "[LightGBM] [Warning] No further splits with positive gain, best gain: -inf\n",
      "[LightGBM] [Warning] No further splits with positive gain, best gain: -inf\n",
      "[LightGBM] [Warning] No further splits with positive gain, best gain: -inf\n",
      "[LightGBM] [Warning] No further splits with positive gain, best gain: -inf\n",
      "[LightGBM] [Warning] No further splits with positive gain, best gain: -inf\n",
      "[300]\tvalid_0's l1: 22174.8\n",
      "[LightGBM] [Warning] No further splits with positive gain, best gain: -inf\n",
      "[LightGBM] [Warning] No further splits with positive gain, best gain: -inf\n",
      "[LightGBM] [Warning] No further splits with positive gain, best gain: -inf\n",
      "[LightGBM] [Warning] No further splits with positive gain, best gain: -inf\n",
      "[LightGBM] [Warning] No further splits with positive gain, best gain: -inf\n",
      "[LightGBM] [Warning] No further splits with positive gain, best gain: -inf\n",
      "[LightGBM] [Warning] No further splits with positive gain, best gain: -inf\n",
      "[LightGBM] [Warning] No further splits with positive gain, best gain: -inf\n",
      "[LightGBM] [Warning] No further splits with positive gain, best gain: -inf\n",
      "[LightGBM] [Warning] No further splits with positive gain, best gain: -inf\n",
      "[LightGBM] [Warning] No further splits with positive gain, best gain: -inf\n",
      "[LightGBM] [Warning] No further splits with positive gain, best gain: -inf\n",
      "[LightGBM] [Warning] No further splits with positive gain, best gain: -inf\n",
      "[LightGBM] [Warning] No further splits with positive gain, best gain: -inf\n",
      "[LightGBM] [Warning] No further splits with positive gain, best gain: -inf\n",
      "[LightGBM] [Warning] No further splits with positive gain, best gain: -inf\n",
      "[LightGBM] [Warning] No further splits with positive gain, best gain: -inf\n",
      "[LightGBM] [Warning] No further splits with positive gain, best gain: -inf\n",
      "[LightGBM] [Warning] No further splits with positive gain, best gain: -inf\n",
      "[LightGBM] [Warning] No further splits with positive gain, best gain: -inf\n",
      "[LightGBM] [Warning] No further splits with positive gain, best gain: -inf\n",
      "[LightGBM] [Warning] No further splits with positive gain, best gain: -inf\n",
      "[LightGBM] [Warning] No further splits with positive gain, best gain: -inf\n",
      "[LightGBM] [Warning] No further splits with positive gain, best gain: -inf\n",
      "[LightGBM] [Warning] No further splits with positive gain, best gain: -inf\n",
      "[LightGBM] [Warning] No further splits with positive gain, best gain: -inf\n",
      "[LightGBM] [Warning] No further splits with positive gain, best gain: -inf\n",
      "[LightGBM] [Warning] No further splits with positive gain, best gain: -inf\n",
      "[LightGBM] [Warning] No further splits with positive gain, best gain: -inf\n",
      "[LightGBM] [Warning] No further splits with positive gain, best gain: -inf\n",
      "[LightGBM] [Warning] No further splits with positive gain, best gain: -inf\n",
      "[LightGBM] [Warning] No further splits with positive gain, best gain: -inf\n",
      "[LightGBM] [Warning] No further splits with positive gain, best gain: -inf\n",
      "[LightGBM] [Warning] No further splits with positive gain, best gain: -inf\n",
      "[LightGBM] [Warning] No further splits with positive gain, best gain: -inf\n",
      "[LightGBM] [Warning] No further splits with positive gain, best gain: -inf\n",
      "[LightGBM] [Warning] No further splits with positive gain, best gain: -inf\n",
      "[LightGBM] [Warning] No further splits with positive gain, best gain: -inf\n",
      "[LightGBM] [Warning] No further splits with positive gain, best gain: -inf\n",
      "[LightGBM] [Warning] No further splits with positive gain, best gain: -inf\n",
      "[LightGBM] [Warning] No further splits with positive gain, best gain: -inf\n",
      "[LightGBM] [Warning] No further splits with positive gain, best gain: -inf\n",
      "[LightGBM] [Warning] No further splits with positive gain, best gain: -inf\n",
      "[LightGBM] [Warning] No further splits with positive gain, best gain: -inf\n",
      "[LightGBM] [Warning] No further splits with positive gain, best gain: -inf\n",
      "[LightGBM] [Warning] No further splits with positive gain, best gain: -inf\n",
      "[LightGBM] [Warning] No further splits with positive gain, best gain: -inf\n",
      "[LightGBM] [Warning] No further splits with positive gain, best gain: -inf\n",
      "[LightGBM] [Warning] No further splits with positive gain, best gain: -inf\n",
      "[LightGBM] [Warning] No further splits with positive gain, best gain: -inf\n",
      "[350]\tvalid_0's l1: 22048.6\n",
      "[LightGBM] [Warning] No further splits with positive gain, best gain: -inf\n",
      "[LightGBM] [Warning] No further splits with positive gain, best gain: -inf\n",
      "[LightGBM] [Warning] No further splits with positive gain, best gain: -inf\n",
      "[LightGBM] [Warning] No further splits with positive gain, best gain: -inf\n",
      "[LightGBM] [Warning] No further splits with positive gain, best gain: -inf\n",
      "[LightGBM] [Warning] No further splits with positive gain, best gain: -inf\n",
      "[LightGBM] [Warning] No further splits with positive gain, best gain: -inf\n",
      "[LightGBM] [Warning] No further splits with positive gain, best gain: -inf\n",
      "[LightGBM] [Warning] No further splits with positive gain, best gain: -inf\n",
      "[LightGBM] [Warning] No further splits with positive gain, best gain: -inf\n",
      "[LightGBM] [Warning] No further splits with positive gain, best gain: -inf\n",
      "[LightGBM] [Warning] No further splits with positive gain, best gain: -inf\n",
      "[LightGBM] [Warning] No further splits with positive gain, best gain: -inf\n",
      "[LightGBM] [Warning] No further splits with positive gain, best gain: -inf\n",
      "[LightGBM] [Warning] No further splits with positive gain, best gain: -inf\n",
      "[LightGBM] [Warning] No further splits with positive gain, best gain: -inf\n",
      "[LightGBM] [Warning] No further splits with positive gain, best gain: -inf\n",
      "[LightGBM] [Warning] No further splits with positive gain, best gain: -inf\n",
      "[LightGBM] [Warning] No further splits with positive gain, best gain: -inf\n",
      "[LightGBM] [Warning] No further splits with positive gain, best gain: -inf\n",
      "[LightGBM] [Warning] No further splits with positive gain, best gain: -inf\n",
      "[LightGBM] [Warning] No further splits with positive gain, best gain: -inf\n",
      "[LightGBM] [Warning] No further splits with positive gain, best gain: -inf\n",
      "[LightGBM] [Warning] No further splits with positive gain, best gain: -inf\n",
      "[LightGBM] [Warning] No further splits with positive gain, best gain: -inf\n",
      "[LightGBM] [Warning] No further splits with positive gain, best gain: -inf\n",
      "Early stopping, best iteration is:\n",
      "[366]\tvalid_0's l1: 21995.6\n",
      "Done!\n"
     ]
    }
   ],
   "source": [
    "d_train = lgb.Dataset(X_train_mob, label=Y_train_mob)\n",
    "d_valid = lgb.Dataset(X_valid_mob, label=Y_valid_mob)\n",
    "\n",
    "params = {}\n",
    "params['learning_rate'] = 0.03\n",
    "params['boosting_type'] = 'gbdt'\n",
    "params['objective'] = 'regression'\n",
    "params['metric'] = 'mae'\n",
    "params['sub_feature'] = 0.5\n",
    "params['num_leaves'] = 60\n",
    "params['min_data'] = 500\n",
    "params['min_hessian'] = 1\n",
    "\n",
    "watchlist = [d_valid]\n",
    "clf_mob = lgb.train(params, d_train, 500, watchlist,early_stopping_rounds=10, verbose_eval=50)\n",
    "\n",
    "print('Done!')"
   ]
  },
  {
   "cell_type": "code",
   "execution_count": 200,
   "id": "bd1b39f5-2aa9-4cda-8d98-eabad7871115",
   "metadata": {},
   "outputs": [
    {
     "name": "stdout",
     "output_type": "stream",
     "text": [
      "Model: <lightgbm.basic.Booster object at 0x7f5993786e30>\n",
      "MAE: 23269.330300840003, RMSE: 71871.26855672742\n"
     ]
    }
   ],
   "source": [
    "# training set error\n",
    "get_eval_metrics([clf_mob], X_train_mob, Y_train_mob)"
   ]
  },
  {
   "cell_type": "code",
   "execution_count": 201,
   "id": "d8237be9-f173-44af-a4ea-b1cdb4d33385",
   "metadata": {},
   "outputs": [
    {
     "name": "stdout",
     "output_type": "stream",
     "text": [
      "mean log error 0.3414510335468794\n"
     ]
    }
   ],
   "source": [
    "# training log error\n",
    "p_train = clf_mob.predict(X_train_mob)\n",
    "p_train = replace_negative_with_one(p_train)\n",
    "import math\n",
    "logerror = np.log(p_train) - np.log(Y_train_mob)\n",
    "print('mean log error', np.mean(logerror))"
   ]
  },
  {
   "cell_type": "code",
   "execution_count": 202,
   "id": "17f32ee2-fb12-45ff-86dc-101d9ba93046",
   "metadata": {},
   "outputs": [
    {
     "name": "stdout",
     "output_type": "stream",
     "text": [
      "Model: <lightgbm.basic.Booster object at 0x7f5993786e30>\n",
      "MAE: 22074.87081109835, RMSE: 45081.71992120734\n"
     ]
    }
   ],
   "source": [
    "# testing set error\n",
    "get_eval_metrics([clf_mob], X_test_mob, Y_test_mob)"
   ]
  },
  {
   "cell_type": "code",
   "execution_count": 205,
   "id": "edd2a50c-b81a-4655-b81a-541a5b0a3d83",
   "metadata": {},
   "outputs": [
    {
     "name": "stdout",
     "output_type": "stream",
     "text": [
      "mean log error 0.3507018692892704\n"
     ]
    }
   ],
   "source": [
    "# testing log error\n",
    "\n",
    "p_test = clf_mob.predict(X_test_mob)\n",
    "p_test = replace_negative_with_one(p_test)\n",
    "import math\n",
    "logerror = np.log(p_test) - np.log(Y_test_mob)\n",
    "print('mean log error', np.mean(logerror))"
   ]
  },
  {
   "cell_type": "code",
   "execution_count": 204,
   "id": "ae2bf97e-7c85-4170-8a83-8b2bfef01b59",
   "metadata": {
    "tags": []
   },
   "outputs": [
    {
     "data": {
      "text/plain": [
       "<AxesSubplot:title={'center':'Feature importance'}, xlabel='Feature importance', ylabel='Features'>"
      ]
     },
     "execution_count": 204,
     "metadata": {},
     "output_type": "execute_result"
    },
    {
     "data": {
      "image/png": "[encoded data removed]",
      "text/plain": [
       "<Figure size 432x288 with 1 Axes>"
      ]
     },
     "metadata": {
      "needs_background": "light"
     },
     "output_type": "display_data"
    }
   ],
   "source": [
    "from lightgbm import plot_importance\n",
    "plot_importance(clf_mob, max_num_features = 15)"
   ]
  }
 ],
 "metadata": {
  "kernelspec": {
   "display_name": "Python 3.10.6 64-bit",
   "language": "python",
   "name": "python310664bite1fe2c7cc2224975b4ac93118f172e00"
  },
  "language_info": {
   "codemirror_mode": {
    "name": "ipython",
    "version": 3
   },
   "file_extension": ".py",
   "mimetype": "text/x-python",
   "name": "python",
   "nbconvert_exporter": "python",
   "pygments_lexer": "ipython3",
   "version": "3.10.6"
  }
 },
 "nbformat": 4,
 "nbformat_minor": 5
}
